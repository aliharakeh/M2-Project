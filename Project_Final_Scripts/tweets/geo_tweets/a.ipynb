{
 "cells": [
  {
   "cell_type": "code",
   "execution_count": 1,
   "metadata": {},
   "outputs": [],
   "source": [
    "import pandas as pd"
   ]
  },
  {
   "cell_type": "code",
   "execution_count": 2,
   "metadata": {},
   "outputs": [],
   "source": [
    "df = pd.read_csv('geo_tweets2.csv', header=0)"
   ]
  },
  {
   "cell_type": "code",
   "execution_count": 3,
   "metadata": {},
   "outputs": [
    {
     "data": {
      "text/plain": "          username time                                               text  \\\n0     @melhemErizk   2m  The #Artist Who Escaped New York’s COVID-19 #P...   \n1       @kataeb_Ar   4m          #كورونا.. المغرب يسجل 3387 إصابة خلال يوم   \n2  @Mustaqbalweblb   4m  فرنسا تعلن فرض حالة طوارئ طبية بسبب زيادة تفشي...   \n3     @Marwa_MissG   5m                            Replying to \\n@homedad4   \n4       @Lebanon24   7m  فرنسا تعلن فرض حالة طوارئ طبية بسبب زيادة تفشي...   \n\n                       tags   latitude  longitude location  \n0  ['#Pandemic', '#Artist']  33.894204  35.485805   Beirut  \n1               ['#كورونا']  33.894204  35.485805   Beirut  \n2                        []  33.894204  35.485805   Beirut  \n3                        []  33.894204  35.485805   Beirut  \n4            ['#lebanon24']  33.894204  35.485805   Beirut  ",
      "text/html": "<div>\n<style scoped>\n    .dataframe tbody tr th:only-of-type {\n        vertical-align: middle;\n    }\n\n    .dataframe tbody tr th {\n        vertical-align: top;\n    }\n\n    .dataframe thead th {\n        text-align: right;\n    }\n</style>\n<table border=\"1\" class=\"dataframe\">\n  <thead>\n    <tr style=\"text-align: right;\">\n      <th></th>\n      <th>username</th>\n      <th>time</th>\n      <th>text</th>\n      <th>tags</th>\n      <th>latitude</th>\n      <th>longitude</th>\n      <th>location</th>\n    </tr>\n  </thead>\n  <tbody>\n    <tr>\n      <th>0</th>\n      <td>@melhemErizk</td>\n      <td>2m</td>\n      <td>The #Artist Who Escaped New York’s COVID-19 #P...</td>\n      <td>['#Pandemic', '#Artist']</td>\n      <td>33.894204</td>\n      <td>35.485805</td>\n      <td>Beirut</td>\n    </tr>\n    <tr>\n      <th>1</th>\n      <td>@kataeb_Ar</td>\n      <td>4m</td>\n      <td>#كورونا.. المغرب يسجل 3387 إصابة خلال يوم</td>\n      <td>['#كورونا']</td>\n      <td>33.894204</td>\n      <td>35.485805</td>\n      <td>Beirut</td>\n    </tr>\n    <tr>\n      <th>2</th>\n      <td>@Mustaqbalweblb</td>\n      <td>4m</td>\n      <td>فرنسا تعلن فرض حالة طوارئ طبية بسبب زيادة تفشي...</td>\n      <td>[]</td>\n      <td>33.894204</td>\n      <td>35.485805</td>\n      <td>Beirut</td>\n    </tr>\n    <tr>\n      <th>3</th>\n      <td>@Marwa_MissG</td>\n      <td>5m</td>\n      <td>Replying to \\n@homedad4</td>\n      <td>[]</td>\n      <td>33.894204</td>\n      <td>35.485805</td>\n      <td>Beirut</td>\n    </tr>\n    <tr>\n      <th>4</th>\n      <td>@Lebanon24</td>\n      <td>7m</td>\n      <td>فرنسا تعلن فرض حالة طوارئ طبية بسبب زيادة تفشي...</td>\n      <td>['#lebanon24']</td>\n      <td>33.894204</td>\n      <td>35.485805</td>\n      <td>Beirut</td>\n    </tr>\n  </tbody>\n</table>\n</div>"
     },
     "execution_count": 3,
     "metadata": {},
     "output_type": "execute_result"
    }
   ],
   "source": [
    "df.head()"
   ]
  },
  {
   "cell_type": "code",
   "execution_count": 4,
   "metadata": {},
   "outputs": [
    {
     "data": {
      "text/plain": "'643'"
     },
     "execution_count": 4,
     "metadata": {},
     "output_type": "execute_result"
    }
   ],
   "source": [
    "f'{len(df):,}'"
   ]
  },
  {
   "cell_type": "code",
   "execution_count": 5,
   "metadata": {},
   "outputs": [],
   "source": [
    "g = df.groupby(['latitude', 'longitude', 'location'])"
   ]
  },
  {
   "cell_type": "code",
   "execution_count": 6,
   "metadata": {},
   "outputs": [
    {
     "data": {
      "text/plain": "'1'"
     },
     "execution_count": 6,
     "metadata": {},
     "output_type": "execute_result"
    }
   ],
   "source": [
    "f'{len(g.groups):,}'"
   ]
  },
  {
   "cell_type": "code",
   "execution_count": 7,
   "metadata": {
    "scrolled": true
   },
   "outputs": [
    {
     "data": {
      "text/plain": "    latitude  longitude location  username  time  text  tags\n0  33.894204  35.485805   Beirut       637   637   637   643",
      "text/html": "<div>\n<style scoped>\n    .dataframe tbody tr th:only-of-type {\n        vertical-align: middle;\n    }\n\n    .dataframe tbody tr th {\n        vertical-align: top;\n    }\n\n    .dataframe thead th {\n        text-align: right;\n    }\n</style>\n<table border=\"1\" class=\"dataframe\">\n  <thead>\n    <tr style=\"text-align: right;\">\n      <th></th>\n      <th>latitude</th>\n      <th>longitude</th>\n      <th>location</th>\n      <th>username</th>\n      <th>time</th>\n      <th>text</th>\n      <th>tags</th>\n    </tr>\n  </thead>\n  <tbody>\n    <tr>\n      <th>0</th>\n      <td>33.894204</td>\n      <td>35.485805</td>\n      <td>Beirut</td>\n      <td>637</td>\n      <td>637</td>\n      <td>637</td>\n      <td>643</td>\n    </tr>\n  </tbody>\n</table>\n</div>"
     },
     "execution_count": 7,
     "metadata": {},
     "output_type": "execute_result"
    }
   ],
   "source": [
    "d = g.count().reset_index()\n",
    "d"
   ]
  },
  {
   "cell_type": "code",
   "execution_count": 8,
   "outputs": [
    {
     "data": {
      "text/plain": "1"
     },
     "execution_count": 8,
     "metadata": {},
     "output_type": "execute_result"
    }
   ],
   "source": [
    "df.location.nunique()"
   ],
   "metadata": {
    "collapsed": false,
    "pycharm": {
     "name": "#%%\n"
    }
   }
  },
  {
   "cell_type": "code",
   "execution_count": 11,
   "metadata": {},
   "outputs": [
    {
     "data": {
      "text/plain": "620"
     },
     "execution_count": 11,
     "metadata": {},
     "output_type": "execute_result"
    }
   ],
   "source": [
    "df.text.nunique()"
   ]
  },
  {
   "cell_type": "code",
   "execution_count": 12,
   "metadata": {},
   "outputs": [
    {
     "data": {
      "text/plain": "333"
     },
     "execution_count": 12,
     "metadata": {},
     "output_type": "execute_result"
    }
   ],
   "source": [
    "df.username.nunique()"
   ]
  },
  {
   "cell_type": "code",
   "execution_count": 13,
   "metadata": {},
   "outputs": [
    {
     "data": {
      "text/plain": "'638'"
     },
     "execution_count": 13,
     "metadata": {},
     "output_type": "execute_result"
    }
   ],
   "source": [
    "g1 = df.groupby(['username', 'time', 'text'])\n",
    "f'{len(g1.groups):,}'"
   ]
  },
  {
   "cell_type": "code",
   "execution_count": 16,
   "metadata": {},
   "outputs": [
    {
     "data": {
      "text/plain": "'6'"
     },
     "execution_count": 16,
     "metadata": {},
     "output_type": "execute_result"
    }
   ],
   "source": [
    "null_users = df[df.username.isna()]\n",
    "f'{len(null_users):,}'"
   ]
  },
  {
   "cell_type": "code",
   "execution_count": null,
   "metadata": {},
   "outputs": [],
   "source": [
    "f'{len(df[df.username.isna()]):,}'\n"
   ]
  }
 ],
 "metadata": {
  "kernelspec": {
   "display_name": "Python 3",
   "language": "python",
   "name": "python3"
  },
  "language_info": {
   "codemirror_mode": {
    "name": "ipython",
    "version": 3
   },
   "file_extension": ".py",
   "mimetype": "text/x-python",
   "name": "python",
   "nbconvert_exporter": "python",
   "pygments_lexer": "ipython3",
   "version": "3.7.5"
  }
 },
 "nbformat": 4,
 "nbformat_minor": 1
}