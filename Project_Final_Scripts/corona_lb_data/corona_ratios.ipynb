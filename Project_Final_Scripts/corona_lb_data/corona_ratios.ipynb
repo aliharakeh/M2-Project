{
 "cells": [
  {
   "cell_type": "code",
   "execution_count": 1,
   "metadata": {},
   "outputs": [],
   "source": [
    "import pandas as pd\n",
    "from matplotlib.pyplot import plot, bar"
   ]
  },
  {
   "cell_type": "markdown",
   "metadata": {},
   "source": [
    "# config"
   ]
  },
  {
   "cell_type": "code",
   "execution_count": 2,
   "metadata": {},
   "outputs": [
    {
     "data": {
      "text/plain": "<IPython.core.display.HTML object>",
      "text/html": "<style>.container { width:80% !important; }</style>"
     },
     "metadata": {},
     "output_type": "display_data"
    }
   ],
   "source": [
    "read_from = 'corona_lb_data.csv'\n",
    "save_to = '..\\\\corona_lb_ratios.csv'\n",
    "\n",
    "pd.set_option('display.max_rows', 255)\n",
    "\n",
    "from IPython.core.display import display, HTML\n",
    "display(HTML(\"<style>.container { width:80% !important; }</style>\"))"
   ]
  },
  {
   "cell_type": "markdown",
   "metadata": {},
   "source": [
    "# read corona lb data"
   ]
  },
  {
   "cell_type": "code",
   "execution_count": 3,
   "metadata": {
    "scrolled": true
   },
   "outputs": [
    {
     "data": {
      "text/plain": "       date  year  month  day  new_cases  new_deaths  prev_cases  prev_deaths  \\\n0  2/1/2020  2020      2    1          0           0           0            0   \n1  2/2/2020  2020      2    2          0           0           0            0   \n2  2/3/2020  2020      2    3          0           0           0            0   \n3  2/4/2020  2020      2    4          0           0           0            0   \n4  2/5/2020  2020      2    5          0           0           0            0   \n\n   total_cases  total_deaths  \n0            0             0  \n1            0             0  \n2            0             0  \n3            0             0  \n4            0             0  ",
      "text/html": "<div>\n<style scoped>\n    .dataframe tbody tr th:only-of-type {\n        vertical-align: middle;\n    }\n\n    .dataframe tbody tr th {\n        vertical-align: top;\n    }\n\n    .dataframe thead th {\n        text-align: right;\n    }\n</style>\n<table border=\"1\" class=\"dataframe\">\n  <thead>\n    <tr style=\"text-align: right;\">\n      <th></th>\n      <th>date</th>\n      <th>year</th>\n      <th>month</th>\n      <th>day</th>\n      <th>new_cases</th>\n      <th>new_deaths</th>\n      <th>prev_cases</th>\n      <th>prev_deaths</th>\n      <th>total_cases</th>\n      <th>total_deaths</th>\n    </tr>\n  </thead>\n  <tbody>\n    <tr>\n      <th>0</th>\n      <td>2/1/2020</td>\n      <td>2020</td>\n      <td>2</td>\n      <td>1</td>\n      <td>0</td>\n      <td>0</td>\n      <td>0</td>\n      <td>0</td>\n      <td>0</td>\n      <td>0</td>\n    </tr>\n    <tr>\n      <th>1</th>\n      <td>2/2/2020</td>\n      <td>2020</td>\n      <td>2</td>\n      <td>2</td>\n      <td>0</td>\n      <td>0</td>\n      <td>0</td>\n      <td>0</td>\n      <td>0</td>\n      <td>0</td>\n    </tr>\n    <tr>\n      <th>2</th>\n      <td>2/3/2020</td>\n      <td>2020</td>\n      <td>2</td>\n      <td>3</td>\n      <td>0</td>\n      <td>0</td>\n      <td>0</td>\n      <td>0</td>\n      <td>0</td>\n      <td>0</td>\n    </tr>\n    <tr>\n      <th>3</th>\n      <td>2/4/2020</td>\n      <td>2020</td>\n      <td>2</td>\n      <td>4</td>\n      <td>0</td>\n      <td>0</td>\n      <td>0</td>\n      <td>0</td>\n      <td>0</td>\n      <td>0</td>\n    </tr>\n    <tr>\n      <th>4</th>\n      <td>2/5/2020</td>\n      <td>2020</td>\n      <td>2</td>\n      <td>5</td>\n      <td>0</td>\n      <td>0</td>\n      <td>0</td>\n      <td>0</td>\n      <td>0</td>\n      <td>0</td>\n    </tr>\n  </tbody>\n</table>\n</div>"
     },
     "execution_count": 3,
     "metadata": {},
     "output_type": "execute_result"
    }
   ],
   "source": [
    "corona = pd.read_csv(read_from, header=0)\n",
    "corona.head()"
   ]
  },
  {
   "cell_type": "markdown",
   "metadata": {},
   "source": [
    "# months data"
   ]
  },
  {
   "cell_type": "code",
   "execution_count": 4,
   "metadata": {
    "scrolled": true
   },
   "outputs": [],
   "source": [
    "month_groups = corona.groupby('month')\n",
    "\n",
    "months_data = {}\n",
    "\n",
    "for month, month_data in month_groups:\n",
    "    average_cases = int(month_data.new_cases.mean())\n",
    "    average_death = int(month_data.new_deaths.mean())\n",
    "    \n",
    "    month_cases = int(month_data.new_cases.sum())\n",
    "    month_deaths = int(month_data.new_deaths.sum())\n",
    "    \n",
    "    comulative_cases = int(month_data.total_cases.max())\n",
    "    comulative_deaths = int(month_data.total_deaths.max())\n",
    "    \n",
    "    months_data[month] = {\n",
    "        'average_cases':average_cases,\n",
    "        'average_deaths':average_death,\n",
    "        'month_cases': month_cases,\n",
    "        'month_deaths': month_deaths,\n",
    "        'comulative_cases': comulative_cases,\n",
    "        'comulative_deaths': comulative_deaths,\n",
    "    }"
   ]
  },
  {
   "cell_type": "markdown",
   "metadata": {},
   "source": [
    "# sentiment ratio"
   ]
  },
  {
   "cell_type": "code",
   "execution_count": 5,
   "metadata": {},
   "outputs": [],
   "source": [
    "cases_day_count = deaths_day_count = 0\n",
    "cases_diff_sum = deaths_diff_sum = 0\n",
    "\n",
    "def calculate(row):\n",
    "    global cases_day_count, deaths_day_count, cases_diff_sum, deaths_diff_sum\n",
    "\n",
    "    # ----------------------------------------------------------------------\n",
    "\n",
    "    # method 1 - month average, by overall month data\n",
    "    avg_cases1 = months_data[row.month]['average_cases']\n",
    "    avg_deaths1 = months_data[row.month]['average_deaths']\n",
    "    \n",
    "    cases_ratio1 = row.new_cases / avg_cases1 if avg_cases1 else 0\n",
    "    deaths_ratio1 = row.new_deaths / avg_deaths1 if avg_deaths1 else 0\n",
    "\n",
    "    sentiment_ratio1 = (cases_ratio1 + deaths_ratio1) / 2\n",
    "    \n",
    "    # ----------------------------------------------------------------------\n",
    "\n",
    "    # method 2 - cumulative average, by cumulative cases days data\n",
    "    avg_cases2 = (row.total_cases / cases_day_count) if cases_day_count else 0\n",
    "    avg_deaths2 = (row.total_deaths / deaths_day_count) if deaths_day_count else 0\n",
    "    \n",
    "    if row.new_cases:\n",
    "        cases_day_count += 1\n",
    "       \n",
    "    if row.new_deaths:\n",
    "        deaths_day_count += 1\n",
    "\n",
    "    cases_ratio2 = row.new_cases / avg_cases2 if avg_cases2 else 0\n",
    "    deaths_ratio2 = row.new_deaths / avg_deaths2 if avg_deaths2 else 0\n",
    "\n",
    "    sentiment_ratio2 = (cases_ratio2 + deaths_ratio2) / 2\n",
    "    \n",
    "    # ----------------------------------------------------------------------\n",
    "    \n",
    "    # method 3 - cumulative diff average, by cumulative cases days diff data\n",
    "    cases_diff = row.prev_cases - row.new_cases\n",
    "    deaths_diff = row.prev_deaths - row.new_deaths\n",
    "\n",
    "    avg_cases3 = (cases_diff_sum / cases_day_count) if cases_day_count else 0\n",
    "    avg_deaths3 = (deaths_diff_sum / deaths_day_count) if deaths_day_count else 0\n",
    "    \n",
    "    if row.new_cases:\n",
    "        cases_day_count += 1\n",
    "        cases_diff_sum += abs(row.prev_cases - row.new_cases)\n",
    "        \n",
    "    if row.new_deaths:\n",
    "        deaths_day_count += 1\n",
    "        deaths_diff_sum += abs(row.prev_deaths - row.new_deaths)\n",
    "\n",
    "    cases_ratio3 = cases_diff / avg_cases3 if avg_cases3 else 0\n",
    "    deaths_ratio3 = deaths_diff / avg_deaths3 if avg_deaths3 else 0\n",
    "\n",
    "    sentiment_ratio3 = (cases_ratio3 + deaths_ratio3) / 2\n",
    "\n",
    "    # ----------------------------------------------------------------------\n",
    "        \n",
    "    # method 4 - simple direct ratio\n",
    "    cases_max, cases_min = (row.new_cases, -row.prev_cases) if row.prev_cases < row.new_cases else (row.prev_cases, row.new_cases)\n",
    "    cases_ratio4 = cases_min / cases_max if cases_max else 0\n",
    "    \n",
    "    deaths_max, deaths_min = (row.new_deaths, -row.prev_deaths) if row.prev_deaths < row.new_deaths else (row.prev_deaths, row.new_deaths)\n",
    "    deaths_ratio4 = deaths_min / deaths_max if deaths_max else 0\n",
    "\n",
    "    sentiment_ratio4 = (cases_ratio4 + deaths_ratio4) / 2\n",
    "\n",
    "    # ----------------------------------------------------------------------\n",
    "        \n",
    "    return pd.Series([sentiment_ratio1, sentiment_ratio2, sentiment_ratio3, sentiment_ratio4])\n",
    "\n",
    "corona[['month_avg_ratio', 'cumulative_avg_ratio', 'diff_avg_ratio', 'simple_ratio']] = corona.apply(calculate, axis=1)"
   ]
  },
  {
   "cell_type": "code",
   "execution_count": 6,
   "metadata": {
    "scrolled": true
   },
   "outputs": [
    {
     "data": {
      "text/plain": "         year       month         day    new_cases  new_deaths  prev_cases  \\\ncount   232.0  232.000000  232.000000   232.000000  232.000000  232.000000   \nmean   2020.0    5.353448   15.254310   125.948276    1.228448  121.612069   \nstd       0.0    2.204891    8.732185   211.031987    2.338176  203.055439   \nmin    2020.0    2.000000    1.000000     0.000000    0.000000    0.000000   \n25%    2020.0    3.000000    8.000000     5.750000    0.000000    5.000000   \n50%    2020.0    5.000000   15.000000    18.000000    0.000000   17.500000   \n75%    2020.0    7.000000   23.000000   142.250000    1.250000  134.250000   \nmax    2020.0    9.000000   31.000000  1006.000000   18.000000  779.000000   \n\n       prev_deaths   total_cases  total_deaths  month_avg_ratio  \\\ncount   232.000000    232.000000    232.000000       232.000000   \nmean      1.181034   4081.517241     52.935345         0.624169   \nstd       2.248998   6820.027879     61.742309         0.567001   \nmin       0.000000      0.000000      0.000000         0.000000   \n25%       0.000000    455.000000     21.000000         0.187500   \n50%       0.000000   1165.500000     29.000000         0.529514   \n75%       1.000000   3448.750000     61.000000         0.902144   \nmax      18.000000  29220.000000    285.000000         2.968085   \n\n       cumulative_avg_ratio  diff_avg_ratio  simple_ratio  \ncount            232.000000      232.000000    232.000000  \nmean               3.250038       -0.378591      0.041120  \nstd                3.317380        3.519768      0.374102  \nmin                0.000000      -13.229796     -0.850893  \n25%                0.594364       -1.714506     -0.253224  \n50%                1.802547        0.000000      0.000000  \n75%                5.737733        1.192444      0.329762  \nmax               12.879310        8.351852      0.961623  ",
      "text/html": "<div>\n<style scoped>\n    .dataframe tbody tr th:only-of-type {\n        vertical-align: middle;\n    }\n\n    .dataframe tbody tr th {\n        vertical-align: top;\n    }\n\n    .dataframe thead th {\n        text-align: right;\n    }\n</style>\n<table border=\"1\" class=\"dataframe\">\n  <thead>\n    <tr style=\"text-align: right;\">\n      <th></th>\n      <th>year</th>\n      <th>month</th>\n      <th>day</th>\n      <th>new_cases</th>\n      <th>new_deaths</th>\n      <th>prev_cases</th>\n      <th>prev_deaths</th>\n      <th>total_cases</th>\n      <th>total_deaths</th>\n      <th>month_avg_ratio</th>\n      <th>cumulative_avg_ratio</th>\n      <th>diff_avg_ratio</th>\n      <th>simple_ratio</th>\n    </tr>\n  </thead>\n  <tbody>\n    <tr>\n      <th>count</th>\n      <td>232.0</td>\n      <td>232.000000</td>\n      <td>232.000000</td>\n      <td>232.000000</td>\n      <td>232.000000</td>\n      <td>232.000000</td>\n      <td>232.000000</td>\n      <td>232.000000</td>\n      <td>232.000000</td>\n      <td>232.000000</td>\n      <td>232.000000</td>\n      <td>232.000000</td>\n      <td>232.000000</td>\n    </tr>\n    <tr>\n      <th>mean</th>\n      <td>2020.0</td>\n      <td>5.353448</td>\n      <td>15.254310</td>\n      <td>125.948276</td>\n      <td>1.228448</td>\n      <td>121.612069</td>\n      <td>1.181034</td>\n      <td>4081.517241</td>\n      <td>52.935345</td>\n      <td>0.624169</td>\n      <td>3.250038</td>\n      <td>-0.378591</td>\n      <td>0.041120</td>\n    </tr>\n    <tr>\n      <th>std</th>\n      <td>0.0</td>\n      <td>2.204891</td>\n      <td>8.732185</td>\n      <td>211.031987</td>\n      <td>2.338176</td>\n      <td>203.055439</td>\n      <td>2.248998</td>\n      <td>6820.027879</td>\n      <td>61.742309</td>\n      <td>0.567001</td>\n      <td>3.317380</td>\n      <td>3.519768</td>\n      <td>0.374102</td>\n    </tr>\n    <tr>\n      <th>min</th>\n      <td>2020.0</td>\n      <td>2.000000</td>\n      <td>1.000000</td>\n      <td>0.000000</td>\n      <td>0.000000</td>\n      <td>0.000000</td>\n      <td>0.000000</td>\n      <td>0.000000</td>\n      <td>0.000000</td>\n      <td>0.000000</td>\n      <td>0.000000</td>\n      <td>-13.229796</td>\n      <td>-0.850893</td>\n    </tr>\n    <tr>\n      <th>25%</th>\n      <td>2020.0</td>\n      <td>3.000000</td>\n      <td>8.000000</td>\n      <td>5.750000</td>\n      <td>0.000000</td>\n      <td>5.000000</td>\n      <td>0.000000</td>\n      <td>455.000000</td>\n      <td>21.000000</td>\n      <td>0.187500</td>\n      <td>0.594364</td>\n      <td>-1.714506</td>\n      <td>-0.253224</td>\n    </tr>\n    <tr>\n      <th>50%</th>\n      <td>2020.0</td>\n      <td>5.000000</td>\n      <td>15.000000</td>\n      <td>18.000000</td>\n      <td>0.000000</td>\n      <td>17.500000</td>\n      <td>0.000000</td>\n      <td>1165.500000</td>\n      <td>29.000000</td>\n      <td>0.529514</td>\n      <td>1.802547</td>\n      <td>0.000000</td>\n      <td>0.000000</td>\n    </tr>\n    <tr>\n      <th>75%</th>\n      <td>2020.0</td>\n      <td>7.000000</td>\n      <td>23.000000</td>\n      <td>142.250000</td>\n      <td>1.250000</td>\n      <td>134.250000</td>\n      <td>1.000000</td>\n      <td>3448.750000</td>\n      <td>61.000000</td>\n      <td>0.902144</td>\n      <td>5.737733</td>\n      <td>1.192444</td>\n      <td>0.329762</td>\n    </tr>\n    <tr>\n      <th>max</th>\n      <td>2020.0</td>\n      <td>9.000000</td>\n      <td>31.000000</td>\n      <td>1006.000000</td>\n      <td>18.000000</td>\n      <td>779.000000</td>\n      <td>18.000000</td>\n      <td>29220.000000</td>\n      <td>285.000000</td>\n      <td>2.968085</td>\n      <td>12.879310</td>\n      <td>8.351852</td>\n      <td>0.961623</td>\n    </tr>\n  </tbody>\n</table>\n</div>"
     },
     "execution_count": 6,
     "metadata": {},
     "output_type": "execute_result"
    }
   ],
   "source": [
    "corona.describe()"
   ]
  },
  {
   "cell_type": "markdown",
   "metadata": {},
   "source": [
    "# scale ratios into range [-1, 1] using MinMaxScaler()"
   ]
  },
  {
   "cell_type": "code",
   "execution_count": 7,
   "metadata": {},
   "outputs": [],
   "source": [
    "from sklearn.preprocessing import MinMaxScaler\n",
    "import numpy as np\n",
    "\n",
    "def min_max_scale(df, column_name, scale=(-1, 1)):\n",
    "    _2d_array = np.array(corona[column_name]).reshape(-1, 1)\n",
    "    scaler = MinMaxScaler(scale)\n",
    "    data = scaler.fit_transform(_2d_array)\n",
    "    print('Max:', scaler.data_max_)\n",
    "    print('Min:', scaler.data_min_)\n",
    "    column_data = list(data.reshape(1, -1)[0])\n",
    "    df[column_name] = pd.Series(column_data)"
   ]
  },
  {
   "cell_type": "code",
   "execution_count": 8,
   "metadata": {
    "pycharm": {
     "name": "#%%\n"
    }
   },
   "outputs": [
    {
     "name": "stdout",
     "output_type": "stream",
     "text": [
      "Max: [2.96808511]\n",
      "Min: [0.]\n"
     ]
    }
   ],
   "source": [
    "min_max_scale(corona, 'month_avg_ratio')"
   ]
  },
  {
   "cell_type": "code",
   "execution_count": 9,
   "metadata": {
    "pycharm": {
     "name": "#%%\n"
    }
   },
   "outputs": [
    {
     "name": "stdout",
     "output_type": "stream",
     "text": [
      "Max: [12.87931034]\n",
      "Min: [0.]\n"
     ]
    }
   ],
   "source": [
    "min_max_scale(corona, 'cumulative_avg_ratio')"
   ]
  },
  {
   "cell_type": "code",
   "execution_count": 10,
   "metadata": {
    "pycharm": {
     "name": "#%%\n"
    }
   },
   "outputs": [
    {
     "name": "stdout",
     "output_type": "stream",
     "text": [
      "Max: [8.35185185]\n",
      "Min: [-13.22979597]\n"
     ]
    }
   ],
   "source": [
    "min_max_scale(corona, 'diff_avg_ratio')"
   ]
  },
  {
   "cell_type": "code",
   "execution_count": 11,
   "metadata": {
    "pycharm": {
     "name": "#%%\n"
    },
    "scrolled": true
   },
   "outputs": [
    {
     "name": "stdout",
     "output_type": "stream",
     "text": [
      "Max: [0.96162281]\n",
      "Min: [-0.85089286]\n"
     ]
    }
   ],
   "source": [
    "min_max_scale(corona, 'simple_ratio')"
   ]
  },
  {
   "cell_type": "code",
   "execution_count": 12,
   "metadata": {},
   "outputs": [
    {
     "data": {
      "text/plain": "         year       month         day    new_cases  new_deaths  prev_cases  \\\ncount   232.0  232.000000  232.000000   232.000000  232.000000  232.000000   \nmean   2020.0    5.353448   15.254310   125.948276    1.228448  121.612069   \nstd       0.0    2.204891    8.732185   211.031987    2.338176  203.055439   \nmin    2020.0    2.000000    1.000000     0.000000    0.000000    0.000000   \n25%    2020.0    3.000000    8.000000     5.750000    0.000000    5.000000   \n50%    2020.0    5.000000   15.000000    18.000000    0.000000   17.500000   \n75%    2020.0    7.000000   23.000000   142.250000    1.250000  134.250000   \nmax    2020.0    9.000000   31.000000  1006.000000   18.000000  779.000000   \n\n       prev_deaths   total_cases  total_deaths  month_avg_ratio  \\\ncount   232.000000    232.000000    232.000000       232.000000   \nmean      1.181034   4081.517241     52.935345        -0.579413   \nstd       2.248998   6820.027879     61.742309         0.382065   \nmin       0.000000      0.000000      0.000000        -1.000000   \n25%       0.000000    455.000000     21.000000        -0.873656   \n50%       0.000000   1165.500000     29.000000        -0.643195   \n75%       1.000000   3448.750000     61.000000        -0.392104   \nmax      18.000000  29220.000000    285.000000         1.000000   \n\n       cumulative_avg_ratio  diff_avg_ratio  simple_ratio  \ncount            232.000000      232.000000    232.000000  \nmean              -0.495309        0.190938     -0.015719  \nstd                0.515149        0.326182      0.412798  \nmin               -1.000000       -1.000000     -1.000000  \n25%               -0.907703        0.067137     -0.340509  \n50%               -0.720086        0.226023     -0.061092  \n75%               -0.109000        0.336528      0.302780  \nmax                1.000000        1.000000      1.000000  ",
      "text/html": "<div>\n<style scoped>\n    .dataframe tbody tr th:only-of-type {\n        vertical-align: middle;\n    }\n\n    .dataframe tbody tr th {\n        vertical-align: top;\n    }\n\n    .dataframe thead th {\n        text-align: right;\n    }\n</style>\n<table border=\"1\" class=\"dataframe\">\n  <thead>\n    <tr style=\"text-align: right;\">\n      <th></th>\n      <th>year</th>\n      <th>month</th>\n      <th>day</th>\n      <th>new_cases</th>\n      <th>new_deaths</th>\n      <th>prev_cases</th>\n      <th>prev_deaths</th>\n      <th>total_cases</th>\n      <th>total_deaths</th>\n      <th>month_avg_ratio</th>\n      <th>cumulative_avg_ratio</th>\n      <th>diff_avg_ratio</th>\n      <th>simple_ratio</th>\n    </tr>\n  </thead>\n  <tbody>\n    <tr>\n      <th>count</th>\n      <td>232.0</td>\n      <td>232.000000</td>\n      <td>232.000000</td>\n      <td>232.000000</td>\n      <td>232.000000</td>\n      <td>232.000000</td>\n      <td>232.000000</td>\n      <td>232.000000</td>\n      <td>232.000000</td>\n      <td>232.000000</td>\n      <td>232.000000</td>\n      <td>232.000000</td>\n      <td>232.000000</td>\n    </tr>\n    <tr>\n      <th>mean</th>\n      <td>2020.0</td>\n      <td>5.353448</td>\n      <td>15.254310</td>\n      <td>125.948276</td>\n      <td>1.228448</td>\n      <td>121.612069</td>\n      <td>1.181034</td>\n      <td>4081.517241</td>\n      <td>52.935345</td>\n      <td>-0.579413</td>\n      <td>-0.495309</td>\n      <td>0.190938</td>\n      <td>-0.015719</td>\n    </tr>\n    <tr>\n      <th>std</th>\n      <td>0.0</td>\n      <td>2.204891</td>\n      <td>8.732185</td>\n      <td>211.031987</td>\n      <td>2.338176</td>\n      <td>203.055439</td>\n      <td>2.248998</td>\n      <td>6820.027879</td>\n      <td>61.742309</td>\n      <td>0.382065</td>\n      <td>0.515149</td>\n      <td>0.326182</td>\n      <td>0.412798</td>\n    </tr>\n    <tr>\n      <th>min</th>\n      <td>2020.0</td>\n      <td>2.000000</td>\n      <td>1.000000</td>\n      <td>0.000000</td>\n      <td>0.000000</td>\n      <td>0.000000</td>\n      <td>0.000000</td>\n      <td>0.000000</td>\n      <td>0.000000</td>\n      <td>-1.000000</td>\n      <td>-1.000000</td>\n      <td>-1.000000</td>\n      <td>-1.000000</td>\n    </tr>\n    <tr>\n      <th>25%</th>\n      <td>2020.0</td>\n      <td>3.000000</td>\n      <td>8.000000</td>\n      <td>5.750000</td>\n      <td>0.000000</td>\n      <td>5.000000</td>\n      <td>0.000000</td>\n      <td>455.000000</td>\n      <td>21.000000</td>\n      <td>-0.873656</td>\n      <td>-0.907703</td>\n      <td>0.067137</td>\n      <td>-0.340509</td>\n    </tr>\n    <tr>\n      <th>50%</th>\n      <td>2020.0</td>\n      <td>5.000000</td>\n      <td>15.000000</td>\n      <td>18.000000</td>\n      <td>0.000000</td>\n      <td>17.500000</td>\n      <td>0.000000</td>\n      <td>1165.500000</td>\n      <td>29.000000</td>\n      <td>-0.643195</td>\n      <td>-0.720086</td>\n      <td>0.226023</td>\n      <td>-0.061092</td>\n    </tr>\n    <tr>\n      <th>75%</th>\n      <td>2020.0</td>\n      <td>7.000000</td>\n      <td>23.000000</td>\n      <td>142.250000</td>\n      <td>1.250000</td>\n      <td>134.250000</td>\n      <td>1.000000</td>\n      <td>3448.750000</td>\n      <td>61.000000</td>\n      <td>-0.392104</td>\n      <td>-0.109000</td>\n      <td>0.336528</td>\n      <td>0.302780</td>\n    </tr>\n    <tr>\n      <th>max</th>\n      <td>2020.0</td>\n      <td>9.000000</td>\n      <td>31.000000</td>\n      <td>1006.000000</td>\n      <td>18.000000</td>\n      <td>779.000000</td>\n      <td>18.000000</td>\n      <td>29220.000000</td>\n      <td>285.000000</td>\n      <td>1.000000</td>\n      <td>1.000000</td>\n      <td>1.000000</td>\n      <td>1.000000</td>\n    </tr>\n  </tbody>\n</table>\n</div>"
     },
     "execution_count": 12,
     "metadata": {},
     "output_type": "execute_result"
    }
   ],
   "source": [
    "corona.describe()"
   ]
  },
  {
   "cell_type": "markdown",
   "metadata": {},
   "source": [
    "# save"
   ]
  },
  {
   "cell_type": "code",
   "execution_count": 13,
   "metadata": {},
   "outputs": [],
   "source": [
    "corona.to_csv(save_to, index=False)"
   ]
  }
 ],
 "metadata": {
  "kernelspec": {
   "display_name": "Python 3",
   "language": "python",
   "name": "python3"
  },
  "language_info": {
   "codemirror_mode": {
    "name": "ipython",
    "version": 3
   },
   "file_extension": ".py",
   "mimetype": "text/x-python",
   "name": "python",
   "nbconvert_exporter": "python",
   "pygments_lexer": "ipython3",
   "version": "3.7.5"
  }
 },
 "nbformat": 4,
 "nbformat_minor": 4
}