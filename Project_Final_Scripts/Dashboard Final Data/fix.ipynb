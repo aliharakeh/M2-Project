{
 "cells": [
  {
   "cell_type": "code",
   "execution_count": 17,
   "metadata": {
    "collapsed": true
   },
   "outputs": [],
   "source": [
    "import pandas as pd"
   ]
  },
  {
   "cell_type": "code",
   "execution_count": 18,
   "outputs": [
    {
     "data": {
      "text/plain": "   year  month  KADAA_ID KADAA_AR   KADAA_EN  \\\n0  2020      2     11000    عكّار      Akkar   \n1  2020      2     21000   الهرمل  El Hermel   \n2  2020      2     22000    بعلبك    Baalbek   \n3  2020      2     31000    بيروت     Beirut   \n4  2020      2     41000     زحلة      Zahle   \n\n                                              Topics  \n0                               ['Therapy', '#jobs']  \n1  ['#الكورونا', 'تعليق الطائرات القادمة', '#وزير...  \n2             ['Medical Aid', 'healthcare services']  \n3  ['#كورونا #لبنان', 'refugees', 'وزير الصحة', '...  \n4  ['#كورونا #لبنان_ينتفض #لا_داعي_للهلع', 'first...  ",
      "text/html": "<div>\n<style scoped>\n    .dataframe tbody tr th:only-of-type {\n        vertical-align: middle;\n    }\n\n    .dataframe tbody tr th {\n        vertical-align: top;\n    }\n\n    .dataframe thead th {\n        text-align: right;\n    }\n</style>\n<table border=\"1\" class=\"dataframe\">\n  <thead>\n    <tr style=\"text-align: right;\">\n      <th></th>\n      <th>year</th>\n      <th>month</th>\n      <th>KADAA_ID</th>\n      <th>KADAA_AR</th>\n      <th>KADAA_EN</th>\n      <th>Topics</th>\n    </tr>\n  </thead>\n  <tbody>\n    <tr>\n      <th>0</th>\n      <td>2020</td>\n      <td>2</td>\n      <td>11000</td>\n      <td>عكّار</td>\n      <td>Akkar</td>\n      <td>['Therapy', '#jobs']</td>\n    </tr>\n    <tr>\n      <th>1</th>\n      <td>2020</td>\n      <td>2</td>\n      <td>21000</td>\n      <td>الهرمل</td>\n      <td>El Hermel</td>\n      <td>['#الكورونا', 'تعليق الطائرات القادمة', '#وزير...</td>\n    </tr>\n    <tr>\n      <th>2</th>\n      <td>2020</td>\n      <td>2</td>\n      <td>22000</td>\n      <td>بعلبك</td>\n      <td>Baalbek</td>\n      <td>['Medical Aid', 'healthcare services']</td>\n    </tr>\n    <tr>\n      <th>3</th>\n      <td>2020</td>\n      <td>2</td>\n      <td>31000</td>\n      <td>بيروت</td>\n      <td>Beirut</td>\n      <td>['#كورونا #لبنان', 'refugees', 'وزير الصحة', '...</td>\n    </tr>\n    <tr>\n      <th>4</th>\n      <td>2020</td>\n      <td>2</td>\n      <td>41000</td>\n      <td>زحلة</td>\n      <td>Zahle</td>\n      <td>['#كورونا #لبنان_ينتفض #لا_داعي_للهلع', 'first...</td>\n    </tr>\n  </tbody>\n</table>\n</div>"
     },
     "execution_count": 18,
     "metadata": {},
     "output_type": "execute_result"
    }
   ],
   "source": [
    "df = pd.read_csv('kadaas_topics.csv')\n",
    "df.head()"
   ],
   "metadata": {
    "collapsed": false,
    "pycharm": {
     "name": "#%%\n"
    }
   }
  },
  {
   "cell_type": "code",
   "execution_count": 19,
   "outputs": [],
   "source": [
    "def fix(t):\n",
    "    return t.replace('[', '').replace(']', '').replace('\\'', '').replace(',', ' |')\n",
    "\n",
    "df.Topics = df.Topics.apply(fix)"
   ],
   "metadata": {
    "collapsed": false,
    "pycharm": {
     "name": "#%%\n"
    }
   }
  },
  {
   "cell_type": "code",
   "execution_count": 20,
   "outputs": [],
   "source": [
    "df.to_csv('kadaas_topics.csv', index=False)"
   ],
   "metadata": {
    "collapsed": false,
    "pycharm": {
     "name": "#%%\n"
    }
   }
  },
  {
   "cell_type": "code",
   "execution_count": 20,
   "outputs": [],
   "source": [],
   "metadata": {
    "collapsed": false,
    "pycharm": {
     "name": "#%%\n"
    }
   }
  }
 ],
 "metadata": {
  "kernelspec": {
   "display_name": "Python 3",
   "language": "python",
   "name": "python3"
  },
  "language_info": {
   "codemirror_mode": {
    "name": "ipython",
    "version": 2
   },
   "file_extension": ".py",
   "mimetype": "text/x-python",
   "name": "python",
   "nbconvert_exporter": "python",
   "pygments_lexer": "ipython2",
   "version": "2.7.6"
  }
 },
 "nbformat": 4,
 "nbformat_minor": 0
}