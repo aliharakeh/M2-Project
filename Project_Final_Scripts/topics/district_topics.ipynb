{
 "cells": [
  {
   "cell_type": "markdown",
   "metadata": {},
   "source": [
    "# Imports"
   ]
  },
  {
   "cell_type": "code",
   "execution_count": 71,
   "metadata": {},
   "outputs": [],
   "source": [
    "import pandas as pd\n",
    "from sklearn.feature_extraction.text import TfidfVectorizer\n",
    "import re\n",
    "import json"
   ]
  },
  {
   "cell_type": "markdown",
   "metadata": {},
   "source": [
    "# config"
   ]
  },
  {
   "cell_type": "code",
   "execution_count": 72,
   "metadata": {},
   "outputs": [],
   "source": [
    "needed_months_data = ['08', '09']"
   ]
  },
  {
   "cell_type": "markdown",
   "metadata": {},
   "source": [
    "# Data"
   ]
  },
  {
   "cell_type": "code",
   "execution_count": 73,
   "metadata": {},
   "outputs": [
    {
     "data": {
      "text/plain": "       username        date  \\\n0  Fouad Badaro  2020-09-05   \n1      الكابتين  2020-09-05   \n2   سفير الشمال  2020-09-05   \n3         Jihad  2020-09-05   \n4  Ali H. Merii  2020-09-05   \n\n                                                text  \\\n0  #Corona #COVIDー19 Official Numbers in Lebanon ...   \n1                       #كورونا_لبنان \\n#coronavirus   \n2  إدارة منتجع “البالما” توضح.. ماذا قالت عن إصاب...   \n3  عاجل: وزارة الصحة اللبنانية: 415 إصابة كورونا...   \n4  أخيرا بكرا ٧ ايلول بتخلص التعبئة العامة وبترجع...   \n\n                                                tags  \\\n0  ['#Corona', '#كورونا_لبنان', '#كورونا', '#Stay...   \n1                  ['#كورونا_لبنان', '#coronavirus']   \n2                              ['#لبنان', '#كورونا']   \n3                                  ['#كورونا_لبنان']   \n4                                  ['#كورونا_لبنان']   \n\n                                     translated_text location  latitude  \\\n0  #Corona #COVIDー19 Official Numbers in Lebanon ...    بيروت   33.8719   \n1                     # Corona_Lebanon\\n#coronavirus    بيروت   33.8719   \n2  The management of the \"Palma\" resort explains ...      ارة   33.5403   \n3  Urgent: The Lebanese Ministry of Health: 415 C...    حالات   34.0828   \n4  Finally, the 7 of September gets rid of the ge...  المشحاة   34.0500   \n\n   longitude  KADAA_ID KADAA_AR     KADAA_EN  MOHAFAZA_ID MOHAFAZA_AR  \\\n0    35.5097     31000    بيروت       Beirut            3       بيروت   \n1    35.5097     31000    بيروت       Beirut            3       بيروت   \n2    35.3800     81000     صيدا        Saida            8      الجنوب   \n3    35.6541     56000     جبيل        Jbeil            5   جبل لبنان   \n4    35.7250     55000   كسروان  Kesserouane            5   جبل لبنان   \n\n     MOHAFAZA_EN  \n0         Beirut  \n1         Beirut  \n2          South  \n3  Mount Lebanon  \n4  Mount Lebanon  ",
      "text/html": "<div>\n<style scoped>\n    .dataframe tbody tr th:only-of-type {\n        vertical-align: middle;\n    }\n\n    .dataframe tbody tr th {\n        vertical-align: top;\n    }\n\n    .dataframe thead th {\n        text-align: right;\n    }\n</style>\n<table border=\"1\" class=\"dataframe\">\n  <thead>\n    <tr style=\"text-align: right;\">\n      <th></th>\n      <th>username</th>\n      <th>date</th>\n      <th>text</th>\n      <th>tags</th>\n      <th>translated_text</th>\n      <th>location</th>\n      <th>latitude</th>\n      <th>longitude</th>\n      <th>KADAA_ID</th>\n      <th>KADAA_AR</th>\n      <th>KADAA_EN</th>\n      <th>MOHAFAZA_ID</th>\n      <th>MOHAFAZA_AR</th>\n      <th>MOHAFAZA_EN</th>\n    </tr>\n  </thead>\n  <tbody>\n    <tr>\n      <th>0</th>\n      <td>Fouad Badaro</td>\n      <td>2020-09-05</td>\n      <td>#Corona #COVIDー19 Official Numbers in Lebanon ...</td>\n      <td>['#Corona', '#كورونا_لبنان', '#كورونا', '#Stay...</td>\n      <td>#Corona #COVIDー19 Official Numbers in Lebanon ...</td>\n      <td>بيروت</td>\n      <td>33.8719</td>\n      <td>35.5097</td>\n      <td>31000</td>\n      <td>بيروت</td>\n      <td>Beirut</td>\n      <td>3</td>\n      <td>بيروت</td>\n      <td>Beirut</td>\n    </tr>\n    <tr>\n      <th>1</th>\n      <td>الكابتين</td>\n      <td>2020-09-05</td>\n      <td>#كورونا_لبنان \\n#coronavirus</td>\n      <td>['#كورونا_لبنان', '#coronavirus']</td>\n      <td># Corona_Lebanon\\n#coronavirus</td>\n      <td>بيروت</td>\n      <td>33.8719</td>\n      <td>35.5097</td>\n      <td>31000</td>\n      <td>بيروت</td>\n      <td>Beirut</td>\n      <td>3</td>\n      <td>بيروت</td>\n      <td>Beirut</td>\n    </tr>\n    <tr>\n      <th>2</th>\n      <td>سفير الشمال</td>\n      <td>2020-09-05</td>\n      <td>إدارة منتجع “البالما” توضح.. ماذا قالت عن إصاب...</td>\n      <td>['#لبنان', '#كورونا']</td>\n      <td>The management of the \"Palma\" resort explains ...</td>\n      <td>ارة</td>\n      <td>33.5403</td>\n      <td>35.3800</td>\n      <td>81000</td>\n      <td>صيدا</td>\n      <td>Saida</td>\n      <td>8</td>\n      <td>الجنوب</td>\n      <td>South</td>\n    </tr>\n    <tr>\n      <th>3</th>\n      <td>Jihad</td>\n      <td>2020-09-05</td>\n      <td>عاجل: وزارة الصحة اللبنانية: 415 إصابة كورونا...</td>\n      <td>['#كورونا_لبنان']</td>\n      <td>Urgent: The Lebanese Ministry of Health: 415 C...</td>\n      <td>حالات</td>\n      <td>34.0828</td>\n      <td>35.6541</td>\n      <td>56000</td>\n      <td>جبيل</td>\n      <td>Jbeil</td>\n      <td>5</td>\n      <td>جبل لبنان</td>\n      <td>Mount Lebanon</td>\n    </tr>\n    <tr>\n      <th>4</th>\n      <td>Ali H. Merii</td>\n      <td>2020-09-05</td>\n      <td>أخيرا بكرا ٧ ايلول بتخلص التعبئة العامة وبترجع...</td>\n      <td>['#كورونا_لبنان']</td>\n      <td>Finally, the 7 of September gets rid of the ge...</td>\n      <td>المشحاة</td>\n      <td>34.0500</td>\n      <td>35.7250</td>\n      <td>55000</td>\n      <td>كسروان</td>\n      <td>Kesserouane</td>\n      <td>5</td>\n      <td>جبل لبنان</td>\n      <td>Mount Lebanon</td>\n    </tr>\n  </tbody>\n</table>\n</div>"
     },
     "execution_count": 73,
     "metadata": {},
     "output_type": "execute_result"
    }
   ],
   "source": [
    "df = pd.read_csv('../tweets_data.csv', header=0)\n",
    "df.head()"
   ]
  },
  {
   "cell_type": "code",
   "execution_count": 74,
   "metadata": {},
   "outputs": [],
   "source": [
    "df[['year', 'month', 'day']] = df.date.str.split('-', expand=True)"
   ]
  },
  {
   "cell_type": "markdown",
   "metadata": {},
   "source": [
    "# Functions"
   ]
  },
  {
   "cell_type": "code",
   "execution_count": 75,
   "metadata": {},
   "outputs": [],
   "source": [
    "def tf_idf(data, stopwords=None, max_features=1000, ngram=(2, 3)):\n",
    "    tf_Idf = TfidfVectorizer(stop_words=stopwords, max_features=max_features, ngram_range=ngram)\n",
    "    tf_Idf_fit = tf_Idf.fit_transform(data)\n",
    "    feature_names = tf_Idf.get_feature_names()\n",
    "    \n",
    "    dense = tf_Idf_fit.todense()\n",
    "    denselist = dense.tolist()\n",
    "\n",
    "    tf_idf_table = pd.DataFrame(denselist, columns=feature_names)\n",
    "\n",
    "    tf_idf_result = pd.DataFrame()\n",
    "    tf_idf_result[['topic', 'score']] = tf_idf_table.mean().reset_index()\n",
    "    tf_idf_result = tf_idf_result.sort_values('score', ascending=False).reset_index(drop=True)\n",
    "    return tf_idf_result\n",
    "        \n",
    "not_accepted = re.compile(r'\\w*\\d+\\w*|http|twitter|%|com')  # numeric & non alphanumeric\n",
    "def accepted_word(w):\n",
    "    return len(w) > 2 and re.search(not_accepted, w) is None"
   ]
  },
  {
   "cell_type": "markdown",
   "metadata": {},
   "source": [
    "# Filter Data"
   ]
  },
  {
   "cell_type": "code",
   "execution_count": 76,
   "metadata": {},
   "outputs": [],
   "source": [
    "data = df[df.month.isin(needed_months_data)].text"
   ]
  },
  {
   "cell_type": "code",
   "execution_count": 77,
   "metadata": {},
   "outputs": [],
   "source": [
    "data_removed = data.apply(lambda s: \" \".join([w for w in s.split() if not accepted_word(w)]))\n",
    "stopwords = \" \".join(data_removed).split()\n",
    "\n",
    "stopwords += ['d8', 'd9', '08', '83', '86', 'a7', '84', 'a8', 'b1', '88', 'http', 'https', 'twitter', 'com', '']\n",
    "\n",
    "with open('..\\\\..\\\\stop-words\\\\english.txt', encoding='utf-8') as f:\n",
    "    stopwords += f.read().split('\\n')\n",
    "\n",
    "with open('..\\\\..\\\\stop-words\\\\arabic.txt', encoding='utf-8') as f:\n",
    "    stopwords += f.read().split('\\n')"
   ]
  },
  {
   "cell_type": "code",
   "execution_count": 78,
   "metadata": {},
   "outputs": [
    {
     "data": {
      "text/plain": "26289"
     },
     "execution_count": 78,
     "metadata": {},
     "output_type": "execute_result"
    }
   ],
   "source": [
    "len(stopwords)"
   ]
  },
  {
   "cell_type": "markdown",
   "metadata": {},
   "source": [
    "# get mo7afazat topics"
   ]
  },
  {
   "cell_type": "code",
   "execution_count": 79,
   "metadata": {
    "scrolled": true
   },
   "outputs": [
    {
     "name": "stderr",
     "output_type": "stream",
     "text": [
      "d:\\desktop\\github\\m2-project\\twittervenv\\lib\\site-packages\\sklearn\\feature_extraction\\text.py:386: UserWarning: Your stop_words may be inconsistent with your preprocessing. Tokenizing the stop words generated tokens ['00', '000', '000ll', '00966557166648', '01', '011', '015', '02', '021', '03', '03756', '03766', '038', '04', '042', '045', '048', '05', '050', '053', '06', '062', '07', '074', '09', '0_b3e58e1c40', '0emjpb2', '0l7scc1oxn', '1003712800081778', '100daysofcode', '10154', '103', '104', '10569', '106', '10658', '1084301', '1088061', '1090043', '1095710', '10m', '11158', '11205', '1144', '1149', '115386', '1165034', '11arahbwjbuq3', '11h00', '11m', '12109', '121240', '122965', '12330', '124', '124867', '1255249', '125be277250b', '1260499', '1262074', '126257', '1263', '126823', '127280', '127852', '128', '1282313296696283136', '128335', '1288548070435819523', '1289149896449306625', '1289317261686210568', '1289580494703611904', '1289599081346547712', '1289798056355876864', '1289909198621478913', '1289914184830873602', '1290016491279020032', '1290138449421283328', '1290175598170693632', '1290179606947885057', '1290195190473347073', '1290210804894019584', '1290227340627206144', '1290231188175519745', '1290280036382044168', '1290290694217584645', '1290310095578886152', '1291238630762008576', '1291836685404327936', '1295445677586120704', '12s9fbr0ms1lp', '13003', '1302847', '130349', '130h', '130j', '132244', '133rd', '13409380', '1363450213850694', '1370', '137973', '13809063', '1395302860531', '1395302860713', '1395302861792', '1395302866537', '13990515000769', '13وفاة', '14096', '149', '14e80338ee', '151', '152131781906555', '1523537', '1538med', '158', '1586719126256', '15900', '1597144792294715200', '1597647392', '159f51ayeky2z', '15qizdgwbsv1z', '161', '1611955377122', '16120181', '170', '1716', '174', '17661', '176836', '177234', '178436', '178994', '179266', '179424', '179708', '179834', '17a', '17agustos1999', '17m', '17s', '180', '1827721', '184', '186595', '186825', '187057', '187146', '187672', '187922', '187969', '188242', '188385', '188495', '188816', '188999', '189131', '189276', '189415', '189828', '18c69dtvjk5wc', '190', '190213', '190398', '1914', '1937', '1940621', '195', '196', '1960s', '1975', '1978_facundo', '197hmy91zp3v5', '1982', '19_it', '1bcvbpf6mjtmq', '1d14262d', '1dgossipz', '1f9yl8gp6hbnw', '1glp3zkq6eunm', '1h0zg5g68p0y6', '1h5yniu8he7y2', '1h7g6k3z3jpo2oy', '1io173aeu70n6', '1iygcx0gj87er', '1jtzbaue7o5rx', '1k1qxqmyfapii', '1kurlgi4hpmeu', '1lhgzsrotr1ox', '1m', '1pg62t04fb7ex', '1pwywrdse7zh8', '1re5_tgdvqhfzkcdyqe8k3thktuxxjimr', '1sq3ap9iomwkf', '1sta3uhlre0vx', '1tccahtagmphs', '1tyqi8okbfxhq', '1vbnko6qkjnh6', '1vo03amcrsbku', '1vw4syks6aqve', '1w72', '1wx34kjfk7k0p', '1xb0uzm3nmni1', '20021', '2004', '2005', '2008t', '2010', '2016', '20160567', '20200805', '2020080501338', '202008061080086791', '20200808', '20200810', '20200818', '2020_02_main_lightboxupdate', '2020_رايحه_بينا_فين', '2020memes', '2020worstyear', '208', '208379', '20emergency', '20gt', '20jun18', '20m', '20media', '20picks', '20sample', '2113071', '21197894', '212', '21246428', '212855', '213190', '2133edt', '213643', '213852', '214832', '215793', '215893', '216497', '217058', '217198', '21sttsc', '223', '2279556', '228605', '23717', '23abcnews', '24097', '242', '243', '246', '2464471', '247', '2472c0b0b984', '248', '250', '250841', '250968', '252', '253480', '254205', '254236', '254330', '2547', '254714', '255182', '255217', '255374', '25618', '256335', '256606', '256849', '257597', '257923', '258463', '258654', '258898', '259', '259551', '25m', '260', '263', '267', '268', '27390', '274', '275', '276', '27887281', '28031761', '281', '2834772', '2852466', '28745', '28794672', '28947058', '290', '29239', '29258', '29266', '29272', '29279', '292868', '29330', '29393', '29469', '29558078', '29999', '2b9a50bglz2', '2c479ws', '2c4ktcb', '2c4pyq5', '2ccab845', '2ctbv09', '2dbpqpn', '2dcwp4g', '2deg9va', '2dfba3n', '2dj79jf', '2dkqkvu', '2dq2tlq', '2dqwhmo', '2drlwnu', '2dtrrta', '2dzfzy6', '2e9qiso', '2edyvmc', '2efmbhe', '2f3kza7', '2f9yerw', '2fughr4', '2fyfsyw', '2m', '2nddynamiteteaser', '2pu3im9', '2pulyql', '2pvkyt2', '2pwglfx', '2q6a6je', '2qfpfik', '2qjbuj6', '2tkt0ylzsz', '2xhbq07', '2xsxnln', '2xvkroc', '2xwcsm8', '2yaq9fd', '2ypyfbk', '2z1kf6y', '3011', '3028', '3034a2c3', '3050', '308', '30805394', '30bst', '30c8mo9', '30cbpyk', '30ibpl9', '30kgfaz', '30pm', '30s6zz8', '30vgx0d', '30ykpep', '310', '310154', '31561962', '316385', '316755', '316980', '3171494486230444', '31hxvud', '31i4gr8', '31mvb1e', '31p0oab', '31pnlaj', '31qt2jh', '31u1sbc', '31um5yn', '320', '321dtr7', '32nmuga', '32q7ppc', '32sexzo', '32ycoid', '33212182', '333', '334359', '336971676498558', '337', '339', '3390', '33cxfip', '33i4kmr', '33qndx0', '33rnwjk', '33rxfhb', '33tjtwt', '33xfshw', '33yhpz4', '33zbvcf', '341', '345', '346', '3466518', '347', '34r21ya', '350000', '350280725738806', '356862261', '358rx6i', '362198', '364985', '365', '365031', '365467', '365840', '366', '366031', '367036', '367549', '367811', '367955', '368851', '368854', '369', '369513', '369927', '370157', '370281', '370760', '371', '372', '373', '375', '377', '378', '3839', '3843', '387', '392', '39325', '39rqwau', '3a0q8ux', '3abc3xk', '3agqlkg', '3aiigok', '3am7lxd', '3atfkid', '3ayb', '3b', '3b25cna', '3b2h', '3bdjgpw', '3bms', '3dprint', '3dprinted', '3dprinting', '3dt3', '3fhimcb', '3fink6d', '3fmellv', '3fpcsjr', '3fsxbm1', '3fw47ir', '3fw8rv5', '3g783gl', '3gb93', '3gg5e5r', '3gjhwnt', '3gkeewy', '3goagnw', '3gte5ml', '3gwz3jg', '3gxoqim', '3hacbbr', '3hjnnfc', '3hlhtkw', '3iayu10', '3ixnjzr', '3j6wq48', '3jga5zj', '3jnaxgo', '3jxmf3r', '3k8tlru', '3kgnfj4', '3khkmeo', '3kizjoh', '3klyxqx', '3kwcclc', '3ljtbbt', '3zftnzq19u', '403', '4035', '407', '40christianvc', '411543908', '413', '417391', '419741', '41f7', '420026', '420230', '421324', '421891', '422325', '423', '423524', '423751', '423929', '424', '427', '431', '4333', '437', '442', '4442', '445', '45', '453', '4669', '469942', '470998', '471303', '471573', '471766', '472013', '472334', '472836', '4730', '473594', '486', '49', '490', '4917', '493131', '493776', '494024', '494443', '496', '496785', '4august', '4cc5', '4db2', '4m', '4pm', '4qaboos', '4zahri', '504', '51', '5123', '517', '5197', '520', '52092b0502df4820b025d288a1535426', '5222', '5236', '534', '536', '5400', '544821', '545025', '549', '550005', '550557', '551', '554', '5679851', '5695', '57', '576', '580', '589حالةكورونا', '59119', '5961', '599', '5990', '5_2_5', '5k', '5m', '5million', '5thaugust', '5tons', '5ypdss9k3f8l', '6018tosay', '607', '60k', '61006', '61168', '613', '62026', '62711', '63', '634', '635', '635zlh7c3h', '63605898', '637586', '637612', '650', '6503', '65328', '657', '684', '687', '6939501', '695', '698', '69979', '6bgjrp0', '6f8a30r2ngy', '6pm', '6usj', '6zuuzdygd5', '7027210t', '7047', '7064', '70k', '711', '71346009', '724', '726', '730', '730572', '731205', '732314', '73244', '734362', '736660', '738060', '738398', '739001', '739409', '73_', '741483', '746902599409948', '747447836022091', '750', '750k', '758', '75k', '76095740', '76527', '76601', '76tdp', '7762_', '78865', '789', '79', '794', '795', '797', '7aug20', '7deaf2ef1622', '7fkmbbl', '7mcipb1', '7pm', '80218', '809', '8091', '81', '81388559', '8153054', '8181', '8300', '837', '839', '847', '851', '854', '868', '870', '870916', '872', '8724', '881', '885', '890293', '89320', '894168', '8a', '8b', '8b7e', '8f1nu20xrd', '8jt', '8m', '8t', '8v7c6sr3wvi3', '90', '9001596733929', '90439', '90513', '907', '917', '91708', '928', '937', '9388', '93be', '946', '948', '951', '951450271568221', '952', '956', '9598', '95b', '962c', '963', '971portal', '974', '980', '983', '987737', '988', '990173', '993', '9ccdroxqupk', '9lunugdjxxqrgz9n9', '9m', '9news', '_a105102', '_xbaznks5pm32nd8upxzaivg7wp59lxep_zuff1q18jlwvgepjkgxgo', 'a005', 'a1', 'a3', 'a4', 'a400', 'a400m', 'a5', 'a5326', 'a6', 'a753', 'a8f2caff', 'a9', 'a9_', 'a9__662_', 'a9qmijzhao', 'aaoqtq', 'aawsat', 'ab', 'abdulmoiz1990', 'abhishekjha157', 'abju08', 'abjxex', 'abroad', 'ac', 'across', 'act', 'act4palestine', 'action', 'actionpal', 'actualites', 'ad_1', 'addiyar', 'addressing', 'addustour', 'adeelaofficial', 'adelbazzi0', 'admin', 'administration', 'advanced', 'advancement', 'ae', 'aebu', 'aedrafih1', 'aeftlislvt', 'af', 'afp', 'afrikaindex', 'after_sign_exp', 'ag', 'ah', 'aid', 'aides', 'aidtolebanonwh', 'air101', 'aircraft', 'airlift', 'akdr2', 'akhbar', 'akhbarnaonline', 'akhtaboot', 'al3arab', 'alahdath24', 'alanba', 'alanmar39879671', 'alarabiya', 'alasrmag', 'albustan2', 'aldadpress', 'aleqt', 'alimentaires', 'alintichar', 'aljadeednews', 'aljaras', 'aljoumhouria', 'alkhair', 'almanar', 'almnatiq', 'almon', 'alnafethanews', 'alnajat', 'alnaqabcenterforyouthactivities', 'alquds', 'alre7ab', 'alsaa', 'alsadara', 'alumni', 'amazonaws', 'ambafrance', 'american', 'amman', 'amnesty', 'amp', 'ampproject', 'anera', 'aneras', 'annahar', 'anti', 'aoun', 'ap', 'app', 'appeal', 'appeals', 'apple', 'arab', 'arabic', 'arabqoute', 'arcenciel', 'archive', 'archives', 'aren', 'arm4lbn', 'army', 'arnold', 'arrived', 'arrives', 'arsa', 'artiaq9bhgmejl9lfk50unel200806', 'article', 'article_1907766', 'articlefiles', 'articles', 'ashrafulaid', 'aspx', 'assamehbb', 'assawsana', 'assessment', 'assistance', 'association', 'atfalouna', 'atfl', 'athabat', 'atkgonjgp1', 'aub', 'aub4beirut', 'aub4beirutdisasterresponse', 'aubmccovid', 'aug', 'aug4response', 'august', 'aurait', 'auto', 'autologin', 'aveugles', 'avig5', 'awareness', 'away', 'awnw50b2e9e', 'ayoakinfe', 'azmtayyar', 'b0', 'b12', 'b2', 'b20', 'b3', 'b4', 'b5', 'b6', 'b7', 'b8', 'b9', 'ba', 'ba3d', 'back', 'badr76252989', 'baitulmaal', 'balance', 'bangladesh', 'batch', 'bb', 'bb17toj1', 'bbc', 'bbcr4today', 'bbh2t9guuagr', 'bd7veec', 'bd8l3mr', 'bddy', 'bdjwmd6', 'bec', 'bed', 'beirut', 'beirut_expl_f', 'beirutbizreport', 'beirutcom', 'beirutcommag', 'beirutemergency', 'beitelbaraka', 'benparker140', 'berlin', 'beuylmdyse', 'bfkuwait', 'bfpyyie', 'bgyxg', 'bh36pm', 'bhytes1', 'bhz1i', 'bit', 'blast', 'blast_3454422', 'blasts', 'blog', 'blogdetails', 'blogspot', 'bloomberg', 'boat', 'boeing', 'bombing', 'borgnes', 'brisbanetimes', 'brtf', 'buff', 'bulletins', 'burlington', 'bz', 'bzl89', 'c130', 'c17', 'c1a741cbc0de', 'c276264', 'c293561', 'c8dzlf0r4i', 'c_139237922', 'ca', 'calicali2000', 'californiasunday', 'campa', 'campaign', 'campaignid', 'campaigns', 'can', 'canadahelps', 'caoyi170610', 'capital', 'captainmorgans5', 'care', 'cargolux', 'carla_ak1', 'carrd', 'carries', 'carrying', 'cases', 'catastrophe', 'category', 'catid', 'catrina', 'causes', 'cbc', 'cbsnews', 'cccl', 'cctv', 'cctvplus', 'cd', 'cd01ba', 'cd3soz6bceo', 'cd5t9zejexg', 'cd8ty8epy6v', 'cdb8ft3phbm', 'cdc', 'cddk9ippp7t', 'cdg070ofojl', 'cdggolnbtaj', 'cdggqnabgdz', 'cdgvhfnh4k2', 'cdgy223pdlf', 'cdhgzuuhld2', 'cdinw58dmpj', 'cdjv5xtjmyg', 'cdkhfceazju', 'cdltyryhpg2', 'cdlvjjfp', 'cdmstapfatg', 'cdn', 'cdnysbdpbhp', 'cdo', 'cdoqat7n1tx', 'cdqscafpqgm', 'cdroxzghc76', 'cdvffordedw', 'cdvgefnjgu1', 'cdwcjyqphgu', 'cdym6uzjubk', 'cedpx4ujrtk', 'ceftmcihvwc', 'cej2tpujiygngagvad', 'cejwfzqgwxb', 'cekaihopkju', 'cekfjfxhqnd', 'cemj9bwpsza', 'cemvrqxfvmw', 'centcom', 'center', 'centeraap', 'century', 'ceo', 'cephrpfd8jj', 'cepocanjxk1', 'cesrhr4pk7b', 'cessjtwng29', 'cetqmb4jw2l', 'ceulhlcps3f', 'ceuvj', 'cezqgawmhcu', 'cf', 'cfoi', 'cfq4bpw', 'cgm', 'ch', 'change', 'charbelhage12', 'charity', 'cheri3elfan', 'chicomnews', 'children', 'christianschat', 'christianventurecapital', 'cid', 'cisneros', 'clareta97789912', 'classrooms', 'clients', 'clothing', 'cma', 'cmacgm', 'cmbarabia', 'cmp', 'cn', 'cna', 'cnbc', 'cnn', 'co', 'colleges', 'comment', 'communicable', 'comp', 'compensation', 'complacent', 'components', 'comماكرون', 'conquest1453', 'conta', 'containers', 'content', 'continuing', 'coordinates', 'coping', 'coronanews', 'coronavirus', 'coto29', 'couldn', 'countries', 'covid', 'covid19fablab', 'covid19iniran', 'covid19millionaires', 'covid19millionares', 'covid19tshelp', 'covid2019', 'covid_19', 'covid__19', 'covidlebanon', 'covidー19', 'crises', 'crisis', 'cross', 'crowdfunding', 'ct', 'cultured', 'cutt', 'cv1roxx8892', 'cvaisnxnwn', 'cvumg3chu', 'cy', 'cynthiabeayni2', 'cyprus', 'd9khbhipoj4', 'dahrinoor2', 'damaged', 'dark', 'dashboard', 'data', 'davepa99', 'davoamine2', 'days', 'dd8zr7s', 'ddnews', 'dead', 'deadly', 'death', 'decide', 'declares', 'deeljlt', 'default', 'defense', 'defseca', 'delivers', 'delivery', 'denvoyer', 'des', 'desktop', 'destroyed', 'details', 'devastating', 'devastation', 'development', 'devices', 'dhaka', 'didn', 'die', 'digital52526762', 'dinabaraket3', 'diplomacy140', 'direct', 'directrelief', 'disaster', 'discuss', 'discussions', 'disease', 'diseases', 'dispatches', 'diversitylead', 'dld', 'dle', 'dlvr', 'dm', 'dn', 'dnl5j8yrp8c', 'dnrtjeh', 'doctors', 'doesn', 'doi', 'dollar', 'dom2030', 'dom2030t', 'don', 'donate', 'donate_guest', 'donates', 'donation', 'donations', 'done', 'donors', 'dorsey', 'dovepress', 'dp', 'dphpl2108', 'dpttl2108', 'dqvanea', 'dr', 'dreamer9127', 'drian', 'drive', 'drmikeh49', 'drtvn8m', 'drupal', 'due', 'dw', 'dwiz882', 'dy', 'dynamite100m', 'dynhrnmc4b', 'dzivydksdy', 'e190', 'e4', 'e9', 'ea', 'early', 'earthovershootday2020', 'east', 'easybranches', 'ebom', 'ec72kra', 'ecid', 'ecme30r2wd3', 'ecommerce', 'economic', 'ed', 'edition', 'editors', 'edu', 'ee', 'ef', 'efu5aut', 'egic', 'egyptian', 'egypttoday', 'ekherelakhbar', 'ekwhdnr', 'el_corona_mesh_le3beh', 'elaph', 'election2020', 'electric', 'eliasbejjaninews', 'elie_d7', 'elsiyasa', 'email', 'email_campaign_2019_09_19_12_41_copy_01', 'embracelebanon', 'emd', 'emergency', 'en_direje', 'enferaadkw', 'eng', 'english', 'enjeux_developpement', 'enlbylpwffi', 'entertainment', 'eoglzrgeyj', 'epsycho', 'equipm', 'equipment', 'era', 'es', 'es9fvhv', 'espoir', 'essential', 'eu', 'europa', 'europe', 'european', 'euros', 'events', 'evergreen', 'evkmrfcbxa', 'ewlsbcjxqby', 'exotismes', 'expatimes', 'explosion', 'explosions', 'extrememedicine', 'eywigg', 'f7q4ea0hhk', 'f81ed10a26', 'fa', 'facebook', 'faillat3', 'fal', 'farsnews', 'fauzitaufik8', 'fb', 'fbclid', 'featured', 'fedaykin24', 'fedex', 'feed_id', 'feedproxy', 'ffljogj', 'fhffy', 'field', 'finance4lebanon', 'financial', 'firassabiad', 'first', 'flies', 'fm', 'fna', 'fnwrk', 'focus', 'folderview', 'following', 'fondation', 'food', 'forces', 'foreign', 'form', 'forms', 'fort', 'forthcoming', 'forum', 'forwardedfromsecuredomain', 'foto', 'fox26am', 'fox5dc', 'france', 'france24', 'freeiran2020', 'freighter', 'french', 'frontend', 'ft', 'ftrmpqmgjh', 'fuer', 'full', 'fund', 'funding', 'fundraise', 'fundraising', 'funds', 'fxn', 'gag', 'galeri', 'gallery', 'gasnas2', 'gaza14tahundikepung', 'gbfp50as7sx', 'gbkfqbsr9vq', 'gc', 'gcc', 'gcseresults2020', 'geat50as2sq', 'gefaengnis', 'gemini21blm', 'general', 'get', 'gf', 'gi', 'gid', 'gifted', 'gilbert', 'gilicohen10', 'give', 'given', 'givingloop', 'gl', 'gle', 'global', 'globalgiving', 'globalone', 'gmail', 'goal', 'goal1', 'goal16', 'gofundme', 'goo', 'google', 'gop9t203fke5', 'gov', 'governmentjobs', 'grabclix', 'greece', 'greekreporter', 'group', 'gulf', 'h0tj_pf0', 'h24', 'h2pzsadumj', 'h_88190fbbbfca7c02cd1347bd898e3346', 'haaretzcom', 'habits', 'hadimourad1', 'hadn', 'hajjahnazihacharity', 'hala', 'halla2', 'hamad_hasan20', 'hamad_hassan20', 'hamadhassan20', 'hamiaksoy2', 'hamza_tekin2023', 'hanabaraket', 'happening', 'hariri', 'hasn', 'hassanammar5', 'hassanhusseini2', 'haven', 'hct21', 'headed', 'heads', 'health', 'healthcare', 'healthndevelopment', 'help', 'helplebanon', 'hezbollah', 'hezbollahs', 'hh', 'hhrd', 'high', 'hit', 'hk', 'hm', 'hmak', 'hmvhu', 'hnx18weqt7hw', 'hnxr0oqfbrx55qf', 'home', 'homeforhim', 'honestlyconcerned', 'hospital', 'hospitalized', 'hospitals', 'hours', 'hpicanada', 'hrs', 'hrw', 'ht68s6hifk', 'htm', 'html', 'hu', 'hubs', 'huge', 'humanappeal', 'humanitarian', 'humanitariancoalition', 'humanitarina', 'hz9xr', 'i24news_en', 'i3lam', 'i6', 'iacharity', 'iafc17', 'iafs', 'icu', 'id', 'id0rjuo', 'idrf', 'ifc_mena', 'igshid', 'ii', 'ikaria', 'ilkha', 'ilyasmansuri6', 'images', 'imaneibrahim1', 'imc', 'imchelpbeirut', 'impact', 'impresses', 'inara', 'inbc24plus', 'incb', 'including', 'income', 'index', 'india', 'info', 'infogram', 'information', 'inforumail', 'infusionsoft', 'injured', 'insider', 'instagr', 'instagram', 'int', 'intelligencer', 'intellinews', 'interactive', 'interior', 'international', 'internationalmedicalcorps', 'intersectional', 'interview', 'intl', 'invadersinbeir1', 'io', 'ir', 'ir0nspidey', 'iran', 'irannewsupdate', 'iraq', 'ircs', 'irgc', 'irusa', 'islamic', 'isn', 'israel', 'israeli', 'israelis', 'issues_development', 'item', 'itlbrmvc7g', 'iwar2', 'iwar3bxmuc4zfjhenmakajpjxt0u_jyf9wztd32dihpxm1t_2mewkumlnobay', 'iwar3hszw', 'j082298', 'j9nylyk7mun2', 'jack', 'jadaboud313', 'jaffer1262', 'jahre', 'janoubia', 'japan', 'japantoday', 'jc', 'jean', 'jeank21l', 'jebchit', 'jewishwebsite', 'jhnrq', 'jiji', 'jijicom', 'jimare', 'jkqj6p08hanazr1sv9q0', 'jmdh', 'jns', 'jo', 'jobs', 'joburl', 'johnson', 'join', 'jordan', 'jpost', 'jr', 'js02_hyd', 'jsp', 'jtad30r2uoa', 'july', 'just', 'just_signed', 'justgiving', 'jvj62', 'jwbityhrer4', 'k8_wig', 'k9', 'kazakh', 'kboudargham', 'kc390', 'kechrh', 'keeptalkinggreece', 'kerned', 'kerningcultures', 'kgxb30r2l3m', 'khaberni', 'khabrisala', 'kikisemaan1', 'killed', 'kills', 'kiminonawa818', 'kingmanmarie39', 'kirkland', 'kits', 'klivehub', 'know_h120', 'krcs', 'kredo0', 'ksrelief', 'kulluna_ma3kom', 'kunanews', 'kuwait', 'kuwaittimes', 'kw', 'kz', 'l100', 'l9894', 'lacqua', 'lahsr9', 'lang', 'langid', 'lapresse', 'laquotidienne', 'last', 'latest', 'lauds', 'launched', 'launches', 'launchgood', 'layalzakhour', 'lb', 'lb21', 'lbcgroup', 'lbci_news', 'lbpresidency', 'leaders', 'leb2day', 'lebanese', 'lebanesefoodbank', 'lebanesefreelancers', 'lebaneseredcross', 'lebanon', 'lebanon24', 'lebanon_in_shambles', 'lebanoncrisis', 'lebanondebate', 'lebanonneeds', 'lebanonneedsorg', 'lebanonreliefhopemcf2020', 'lebanons', 'lebdo1', 'lebnenihor1', 'lebtown', 'led', 'let', 'leyyy2118', 'lfmoqje', 'lght', 'liban', 'libguides', 'lienepien1', 'life', 'links', 'linktr', 'list', 'live', 'liveblog', 'liveblog_entry', 'livelove', 'lives', 'livingwithpower', 'ljt2211', 'lkcmlkogxh', 'll', 'lmvsmonde5', 'lnkd', 'load', 'local', 'local_news', 'locale', 'lockdown', 'lollipops', 'loveforlebanon', 'low', 'lubnan', 'lugtt', 'lumvznhoctho', 'ly', 'lyla3wat', 'lz3lcxcnsj', 'm00kht4ar', 'm3kon', 'm_pd', 'ma2loube', 'ma32oul', 'ma3an', 'maankhalil71', 'maca', 'macron', 'mag', 'magdymohamedel2', 'maginternational', 'magnitude', 'maharat', 'mahdialumma', 'mailchi', 'main', 'make', 'manwithaview1', 'map', 'mapas', 'mapkzqbfpg', 'mapnews', 'march', 'mask4all', 'masks', 'massive', 'materials', 'mc_cid', 'mc_eid', 'md', 'meals', 'med', 'media', 'mediacreativity', 'medias', 'medical', 'medicales', 'medicine', 'medics', 'medsci8030032', 'medtwitter', 'meet', 'member', 'merryjane', 'mfa', 'mfc_pref', 'mh', 'mhijazi5', 'mi', 'middle', 'middleeast', 'middleeastmonitor', 'mikosh7s', 'mil', 'military', 'million', 'minister', 'mkpbjnkrq', 'ml', 'mln', 'mmas2ool', 'mmwr', 'moderate', 'mohammed', 'monde', 'month', 'moondoggie38', 'moonofalabama', 'morocco', 'moroccos', 'moroccoworldnews', 'mouwatin2', 'mp', 'mr', 'mrna1273', 'ms', 'msf', 'msn', 'mtv', 'mulhak', 'musicnation', 'muslimaidusa', 'muslimhands', 'mustn', 'mutby', 'myconservativeblog', 'n135dh', 'n635dh', 'n78ptzw', 'n95', 'nabdapp', 'nahar', 'najdeh', 'nakedpolitics', 'nam7_7', 'nanab_2010', 'nanda_3005', 'narasimhan', 'national', 'navalnewscom', 'nbntv', 'nbsp', 'ndtv', 'need', 'needs', 'net', 'new', 'neweurope', 'news', 'news_2020', 'newsazm', 'newsbreak', 'newsdetails', 'newsdrummer', 'newsid', 'newsletter', 'newstext', 'newsweek', 'newswire', 'nf86fn', 'ngo', 'niccwith2ccs', 'nicolasdimitri9', 'nineteenth', 'nirapadnews', 'nis', 'nj', 'nn', 'node', 'non', 'northwest', 'norway', 'nous', 'novartis', 'now', 'np', 'nr', 'nutrition', 'nymag', 'nyti', 'nytimes', 'nz', 'o5331n2', 'oakland', 'ob', 'occupied', 'ocid', 'oddcrimes', 'oddhfis', 'oesterreicher', 'offering', 'offers', 'offrejoie', 'ofzz50arf8x', 'oiatzvxniq', 'oigetit', 'oil', 'old', 'olihealthmagazine', 'omartamo19', 'oncnbctv18', 'one', 'onemaestro1', 'operation', 'opinion', 'orderofmaltalebanon', 'org', 'organic', 'organization', 'othou', 'otjrvgowxc3n', 'ou', 'ouwb', 'ouyx', 'ow', 'p2ketas4cg', 'p4_xou5ftrj7dj_xnzyzgaa5naqbnua8ub7aydxsdmebwmva', 'p54tgjmzkxov', 'p55mnu', 'p_cp', 'pa', 'page', 'page_216095_kazakh', 'pageid', 'pages', 'paintings', 'pakistan', 'palestinercs', 'palestinian', 'palestinians', 'paljournal', 'parentid', 'partners', 'patients', 'pattycia1957', 'pay', 'pbcbmj', 'pcpm', 'pcwf', 'pdf', 'pdns0gi', 'peer', 'pennyappeal', 'pentagon', 'people', 'pepitov20', 'person', 'peterre76976220', 'peterwells79', 'petra_khoury', 'pg', 'pgid', 'philenews', 'photo', 'photos', 'php', 'pic', 'picks', 'pics', 'pid', 'pii', 'pin', 'pixels87275316', 'pl', 'plane', 'planes', 'planko961', 'pledge', 'plehouerou', 'politics', 'pookie1106', 'port', 'portal', 'portiamorris242', 'post', 'post_17', 'post_id', 'posting', 'postpromoterpro', 'posts', 'poverty', 'pow', 'power', 'power4peace', 'pr', 'pr24_pl', 'prc', 'preacher', 'presidency', 'press', 'pressiraq2', 'pressrelease', 'pressroom', 'prevent', 'preview', 'primestarnews', 'product', 'production', 'products', 'projecthope', 'projects', 'protest', 'provides', 'psf', 'psychologist', 'psychtwitter', 'pti', 'public', 'pukmedia', 'punjabtribune', 'pyp7gxzyd', 'q8', 'q8fh5ijxgg', 'qa', 'qatar', 'qatarday', 'qatarliving', 'qcharity', 'qjoek', 'qkgjlgxwlx', 'qr', 'qrcs', 'que', 'r1000', 'r2000', 'r500', 'r5844', 'ra76383', 'ra76841', 'raise', 'rchk4', 'rcrqdr', 'rd1', 'rd2w0n', 'rd7ynh', 'rd9vq9', 'rdffml', 'rdg2nx', 'rdgbvv', 'rdhggl', 'rdnpw4', 'rdtgps', 'rdvtsy', 're7r78da2', 'reachapp', 'ready', 'real', 'realnewsmagazine', 'reason', 'rebuffed', 'rebuilding', 'receives', 'recommendations', 'recovered', 'recovery', 'red', 'redcross', 'redcrossredcrescent', 'refsid', 'refugees', 'regional', 'regions', 'release', 'releases', 'relief', 'reliefweb', 'rendre', 'reponse_conflits', 'report', 'rescue', 'response', 'response_conflict', 'return', 'reut', 'reviewed', 'rf2vh7', 'rfbqlp', 'rfflxy', 'rfg9kf', 'rfi', 'rflbpy', 'rfrpnv', 'rfxwfb', 'rfzxdw', 'rh4n6', 'richardrondn5', 'rise', 'rises', 'rn', 'ro', 'rocks', 'romania', 'rotary2452', 'rotaryd2451', 'rotaryd2452', 'route', 'royal', 'royaraygi', 'rr', 'rr6908a1', 'rrearden626', 'rs', 'rt', 'ru', 'rugar', 'runmotarun', 'rushing', 'russian', 's1054139x20303992', 's2ilrpsozm', 's3', 's_subsrc', 'sa7it', 'sadak2', 'safer99205767', 'saidaalyawm', 'saidagate', 'saidatv', 'salamcharity', 'samer_14_9_1984', 'samer_hayek333', 'sampur', 'sanadhospice', 'sanofi', 'saraelgarawany9', 'sarelwa2et', 'sars_cov_2', 'sarscov2', 'saudinews50', 'savethechildren', 'sawtalfarah', 'sayeraben', 'says', 'sc', 'sc_', 'scavino45', 'school', 'science', 'sciencedirect', 'sciencemag', 'sdg1', 'sdg16', 'se', 'search', 'secure', 'seek', 'senateur61', 'send', 'sending', 'sendpie2senpai', 'sends', 'sent', 'serves', 'services', 'set', 'sex_ar_ly', 'shame', 'shan', 'shar', 'share', 'share_abi', 'share_btn_tw', 'shares', 'sharing', 'sharjah24', 'sheet', 'shefk', 'sheikh', 'ship', 'shocking', 'shorturl', 'shot', 'shouldn', 'show', 'showthread', 'shresthatularam123', 'shrts', 'shtml', 'sicelo_702black', 'sid', 'sie', 'siemens', 'silverbullet', 'silviacuervo1', 'site', 'sktwelfare', 'sl', 'slaves', 'snllhn7i0c', 'snowye29', 'soarbaltimore', 'social', 'socpledgedesktop', 'sola', 'solutions', 'sommes', 'soo', 'source', 'spagenavigator', 'speaking', 'special', 'speedboygamer1', 'spokesman', 'spr', 'sputniknews', 'src', 'st', 'stands', 'starts', 'states', 'static', 'status', 'step', 'stgeorge', 'stgeorgehospital', 'stopcovid19', 'story', 'story_fbid', 'stranglehold', 'stricken', 'student', 'students', 'su', 'subpage', 'subscribers', 'successful', 'suicides', 'sumayyaranderwala', 'supplies', 'supply', 'support', 'supportlrc', 'supports', 'surgeries', 'surgical', 'surveymonkey', 'sweetness', 'system', 'systemic', 'systems', 't1kg50b8zdd', 'ta3a', 'taawon', 'tafassil24', 'tayyar', 'tceluqxttl', 'tdshay3', 'team', 'teamroc', 'teams', 'telegraph', 'territory', 'tfbflgr', 'tfhf3dh', 'the961', 'theaubmcdisasterresponsetotheaugust4beirutexplosion', 'thedailystar', 'theepochtimes', 'theguardian', 'theoshantonas', 'thepeninsulaqatar', 'thewall', 'thewhistler', 'thousands', 'thread1', 'three', 'thursday', 'ticketaid', 'tiffany36507169', 'timesofisrael', 'tina_trumper64', 'tiny', 'tinyurl', 'tmblr', 'tn', 'tnp', 'to989', 'toll', 'tons', 'tourmag', 'tp', 'tr', 'tracking', 'tragedy', 'transfers', 'trapped', 'trauma', 'travel', 'trials', 'trib', 'tribune', 'tribute', 'true', 'trump', 'trump2020', 'trust', 'ts', 'ts8track5_', 'tthepoett', 'turkey', 'turkishpress', 'turned', 'tv', 'tw', 'twaddi3', 'tweetedtimes', 'twinybots', 'two', 'tá', 'uae', 'ubnm', 'udbu50as4oq', 'udnm7sn', 'ugly', 'uk', 'umarcheema1', 'umrelief', 'undp_ayami', 'unemployment', 'uni', 'unicefchief', 'uniindia', 'united', 'unjp50ayvza', 'upaconnect', 'updates', 'upi', 'upon', 'uq', 'uqa96qs6ecyt', 'uqxavf5v68megjcxa', 'urda', 'urgent', 'urqptzlg4g', 'usaid', 'usd100k', 'use', 'used', 'utm_campaign', 'utm_content', 'utm_medium', 'utm_source', 'utm_term', 'utter', 'uzv530r3bvd', 'v4', 'vaccin', 'valley', 'vallsupdate', 'vasant', 've', 'ventilators', 'vh', 'vi', 'victims', 'video', 'videos', 'view', 'visit', 'vm', 'volumes', 'voteblue01', 'vow', 'vwcydveactj5dvj', 'wake', 'wam', 'washington', 'wasn', 'watchourcity', 'water', 'web', 'webnews', 'website', 'webview', 'weedclub', 'week', 'weren', 'westernu', 'wfp', 'whats', 'wi', 'will', 'wire', 'wnzgmkeyhlg', 'won', 'wordpress', 'work', 'workarounds', 'workers', 'world', 'worldhumanitarianday2020', 'worldnews', 'worldsecondsource', 'worldstarsmag', 'wouldn', 'wp', 'wrap', 'ws', 'ws_tw', 'wsartcc3nuk', 'wtkr3', 'wu4h', 'wu9ogg5fmg', 'wvemvf2h8y', 'www', 'wwwsoarusorg', 'x0a_gl49e60', 'x0axq9ybeaw', 'x0ljlkvyhia', 'x0xr1', 'xhne', 'xinhuanet', 'xtcy30r3tyf', 'xy_40oxkhqi', 'xyedtru6_cq', 'xzabag8nu_y', 'xzcnvyrhgls', 'xzgnrgcjfug', 'xzn1k7w_cqq', 'y26dzwjm', 'y2npqvkh', 'y3uapo5f', 'y529sasu', 'y6prefeb', 'ya3neeeeeee', 'yah2naji', 'yardimimiz', 'yasminhamdan9', 'year', 'yenisafak', 'yfykxcw', 'yil3ankom', 'ym2359', 'yo', 'yoseerdwgm', 'youcanhelpcamp1', 'youtu', 'yt38wu', 'yt_syr56', 'yves', 'yy7lg2xy', 'yyd7ss4v', 'z14400228', 'z19213776', 'z21122', 'zahle24', 'zahledarsalem', 'zahrahankir', 'zakat', 'zaman', 'zamaninternational', 'zd4xe', 'ze14u', 'zee5bangla', 'zeinabaj18', 'zfyrtuyk_q2zse00', 'zimmlaw175', 'zpfxs0ga7cujmbp', 'zpr', 'ztbaw42', 'ça', 'мы', 'հասաւ13', 'أحداث_٢٠٢٠', 'إذا', 'اسقاط_القروض_لليوم_617', 'الأعفاء', 'الرعد', 'الزامية', 'الهاتف', 'باحثون_عن_عمل_يستغيثون237', 'بالـ٧٠٠', 'بالمرض', 'بركان', 'بعد_15_عاما', 'بعد_٤_آب', 'تركيا_70_عام_من_التطبيع', 'ت١', 'ثورة_17تشرين', 'حالتان2', 'حسن19', 'سنة1442', 'صقر', 'طفي_تلفونك_12_9', 'عاشوراء_1442', 'عاشوراء_١٤٤٢ه', 'عال6', 'كورونا', 'كوفيد', 'كوفيد19', 'كوفيد_19', 'كوفيد_١٩', 'كوفيد١٩', 'كوڤيد_١٩', 'لبنان', 'محمد_بن_سلمان_35_سنه', 'هديه_العبداللطيف_iphone11', 'وجيه', 'وفيات', 'ووالدته', 'ينتصران', '٠٠٠', '٠٠٠٠١٤', '٠٢١', '٠٦٢', '١٦٠', '١٧١', '١٧٩', '١٩١', '١٩٧٤', '٢٠٠٠', '٢٠٢٢', '٢٢٩٠', '٢٤٨', '٢٤٩٦', '٢٥٥', '٣٧٥', '٤_آب', '٤١٢', '٤٤٤٢', '٤٨٠', '٥١٢٣', '٥٩٢٦٩٩', '٧_اب_يوم_مجيد', '٧٥', '٧٦', '٩مساء'] not in stop_words.\n",
      "  'stop_words.' % sorted(inconsistent))\n"
     ]
    },
    {
     "name": "stdout",
     "output_type": "stream",
     "text": [
      "عكار Topics Done!!\n",
      "عكار Topics Done!!\n",
      "بعلبك - هرمل Topics Done!!\n",
      "بعلبك - هرمل Topics Done!!\n",
      "بيروت Topics Done!!\n",
      "بيروت Topics Done!!\n",
      "البقاع Topics Done!!\n",
      "البقاع Topics Done!!\n",
      "جبل لبنان Topics Done!!\n",
      "جبل لبنان Topics Done!!\n",
      "نبطية Topics Done!!\n",
      "نبطية Topics Done!!\n",
      "الشمال Topics Done!!\n",
      "الشمال Topics Done!!\n",
      "الجنوب Topics Done!!\n",
      "الجنوب Topics Done!!\n"
     ]
    }
   ],
   "source": [
    "mo7afazat = df.groupby(['MOHAFAZA_ID', 'MOHAFAZA_AR', 'MOHAFAZA_EN', 'month'])\n",
    "\n",
    "mo7afazat_topics = {}\n",
    "\n",
    "for g_key, g_data in mo7afazat:\n",
    "    id_, ar, en, m = g_key\n",
    "    if m in needed_months_data:\n",
    "        topics_bigram = tf_idf(g_data.text, stopwords=stopwords, ngram=(2, 2)).topic.loc[:25]\n",
    "        topics_trigram = tf_idf(g_data.text, stopwords=stopwords, ngram=(3, 3)).topic.loc[:25]\n",
    "        \n",
    "        mo7afazat_topics[\"_\".join([str(id_), ar, en, m])] = list(topics_bigram) + list(topics_trigram)\n",
    "        print(ar, 'Topics Done!!')"
   ]
  },
  {
   "cell_type": "code",
   "execution_count": 80,
   "metadata": {},
   "outputs": [],
   "source": [
    "with open('mo7afazat_topics.json', 'w', encoding='utf-8') as f:\n",
    "    f.write(json.dumps(mo7afazat_topics, indent=2, ensure_ascii=False))"
   ]
  },
  {
   "cell_type": "markdown",
   "metadata": {},
   "source": [
    "# get kadaas topics"
   ]
  },
  {
   "cell_type": "code",
   "execution_count": 81,
   "metadata": {
    "scrolled": true
   },
   "outputs": [
    {
     "name": "stdout",
     "output_type": "stream",
     "text": [
      "عكّار Topics Done!!\n",
      "عكّار Topics Done!!\n",
      "الهرمل Topics Done!!\n",
      "الهرمل Topics Done!!\n",
      "بعلبك Topics Done!!\n",
      "بعلبك Topics Done!!\n",
      "بيروت Topics Done!!\n",
      "بيروت Topics Done!!\n",
      "زحلة Topics Done!!\n",
      "زحلة Topics Done!!\n",
      "البقاع الغربي Topics Done!!\n",
      "راشيّا Topics Done!!\n",
      "راشيّا Topics Done!!\n",
      "بعبدا Topics Done!!\n",
      "بعبدا Topics Done!!\n",
      "المتن Topics Done!!\n",
      "المتن Topics Done!!\n",
      "الشّوف Topics Done!!\n",
      "الشّوف Topics Done!!\n",
      "عاليه Topics Done!!\n",
      "عاليه Topics Done!!\n",
      "كسروان Topics Done!!\n",
      "كسروان Topics Done!!\n",
      "جبيل Topics Done!!\n",
      "جبيل Topics Done!!\n",
      "النبطيّة Topics Done!!\n",
      "النبطيّة Topics Done!!\n",
      "بنت جبيل Topics Done!!\n",
      "بنت جبيل Topics Done!!\n",
      "مرجعيون Topics Done!!\n",
      "مرجعيون Topics Done!!\n",
      "حاصبيّا Topics Done!!\n",
      "حاصبيّا Topics Done!!\n",
      "طرابلس Topics Done!!\n",
      "طرابلس Topics Done!!\n",
      "الكورة Topics Done!!\n",
      "الكورة Topics Done!!\n",
      "زغرتا Topics Done!!\n",
      "زغرتا Topics Done!!\n",
      "البترون Topics Done!!\n",
      "البترون Topics Done!!\n",
      "بشرّي Topics Done!!\n",
      "بشرّي Topics Done!!\n",
      "المنية-الضنّية Topics Done!!\n",
      "المنية-الضنّية Topics Done!!\n",
      "صيدا Topics Done!!\n",
      "صيدا Topics Done!!\n",
      "جزّين Topics Done!!\n",
      "جزّين Topics Done!!\n",
      "صور Topics Done!!\n",
      "صور Topics Done!!\n"
     ]
    }
   ],
   "source": [
    "kadaas = df.groupby(['KADAA_ID', 'KADAA_AR', 'KADAA_EN', 'month'])\n",
    "\n",
    "kadaas_topics = {}\n",
    "\n",
    "for g_key, g_data in kadaas:\n",
    "    id_, ar, en, m = g_key\n",
    "    if m in needed_months_data:\n",
    "        topics_bigram = tf_idf(g_data.text, stopwords=stopwords, ngram=(2, 2)).topic.loc[:25]\n",
    "        topics_trigram = tf_idf(g_data.text, stopwords=stopwords, ngram=(3, 3)).topic.loc[:25]\n",
    "\n",
    "        kadaas_topics[\"_\".join([str(id_), ar, en, m])] = list(topics_bigram) + list(topics_trigram)\n",
    "        print(ar, 'Topics Done!!')"
   ]
  },
  {
   "cell_type": "code",
   "execution_count": 82,
   "metadata": {},
   "outputs": [],
   "source": [
    "with open('kadaas_topics.json', 'w', encoding='utf-8') as f:\n",
    "    f.write(json.dumps(kadaas_topics, indent=2, ensure_ascii=False))"
   ]
  }
 ],
 "metadata": {
  "kernelspec": {
   "display_name": "Python 3",
   "language": "python",
   "name": "python3"
  },
  "language_info": {
   "codemirror_mode": {
    "name": "ipython",
    "version": 3
   },
   "file_extension": ".py",
   "mimetype": "text/x-python",
   "name": "python",
   "nbconvert_exporter": "python",
   "pygments_lexer": "ipython3",
   "version": "3.7.5"
  }
 },
 "nbformat": 4,
 "nbformat_minor": 1
}