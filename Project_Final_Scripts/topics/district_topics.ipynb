{
 "cells": [
  {
   "cell_type": "markdown",
   "metadata": {},
   "source": [
    "# Imports"
   ]
  },
  {
   "cell_type": "code",
   "execution_count": null,
   "metadata": {},
   "outputs": [],
   "source": [
    "import pandas as pd\n",
    "from sklearn.feature_extraction.text import TfidfVectorizer\n",
    "import re"
   ]
  },
  {
   "cell_type": "markdown",
   "metadata": {},
   "source": [
    "# config"
   ]
  },
  {
   "cell_type": "code",
   "execution_count": null,
   "metadata": {},
   "outputs": [],
   "source": [
    "months_data_needed = ['08', '09']"
   ]
  },
  {
   "cell_type": "markdown",
   "metadata": {},
   "source": [
    "# Data"
   ]
  },
  {
   "cell_type": "code",
   "execution_count": null,
   "metadata": {},
   "outputs": [],
   "source": [
    "df = pd.read_csv('../tweets.csv', header=0)"
   ]
  },
  {
   "cell_type": "markdown",
   "metadata": {},
   "source": [
    "# Functions"
   ]
  },
  {
   "cell_type": "code",
   "execution_count": null,
   "metadata": {},
   "outputs": [],
   "source": [
    "def tf_idf(data, stopwords=None, max_features=1000, ngram=(2, 3)):\n",
    "    tf_Idf = TfidfVectorizer(stop_words=stopwords, max_features=max_features, ngram_range=ngram)\n",
    "    tf_Idf_fit = tf_Idf.fit_transform(data)\n",
    "    feature_names = tf_Idf.get_feature_names()\n",
    "    \n",
    "    dense = tf_Idf_fit.todense()\n",
    "    denselist = dense.tolist()\n",
    "\n",
    "    tf_idf_table = pd.DataFrame(denselist, columns=feature_names)\n",
    "\n",
    "    tf_idf_result = pd.DataFrame()\n",
    "    tf_idf_result[['topic', 'score']] = tf_idf_table.mean().reset_index()\n",
    "    tf_idf_result = tf_idf_result.sort_values('score', ascending=False).reset_index(drop=True)\n",
    "    return tf_idf_result\n",
    "        \n",
    "numeric = re.compile(r'\\w*\\d+\\w*')\n",
    "def accepted_word(w):\n",
    "    return len(w) > 2 and re.search(numeric, w) is None"
   ]
  },
  {
   "cell_type": "markdown",
   "metadata": {},
   "source": [
    "# Filter Data"
   ]
  },
  {
   "cell_type": "code",
   "execution_count": null,
   "metadata": {},
   "outputs": [],
   "source": [
    "data = df.text"
   ]
  },
  {
   "cell_type": "code",
   "execution_count": null,
   "metadata": {},
   "outputs": [],
   "source": [
    "data_removed = data.apply(lambda s: \" \".join([w for w in s.split() if not accepted_word(w)]))\n",
    "stopwords = \" \".join(data_removed).split()"
   ]
  },
  {
   "cell_type": "code",
   "execution_count": null,
   "metadata": {},
   "outputs": [],
   "source": [
    "len(stopwords)"
   ]
  },
  {
   "cell_type": "markdown",
   "metadata": {},
   "source": [
    "# get topics"
   ]
  },
  {
   "cell_type": "code",
   "execution_count": null,
   "metadata": {},
   "outputs": [],
   "source": [
    "mo7afazat = df.groupby(['MOHAFAZA_AR', 'month'])\n",
    "for m_key, m_data in mo7afazat:\n",
    "    if m_key[0] in months_data_needed:\n",
    "        topics = tf_idf(m_data.text, stopwords=stopwords, ngram=(2, 3))\n",
    "        file = m_key[0] + '_' + m_key[1] + '.csv'\n",
    "        topics.to_csv(file, index=False)\n",
    "        print('[Saved Data]:', file)"
   ]
  },
  {
   "cell_type": "code",
   "execution_count": null,
   "metadata": {
    "scrolled": true
   },
   "outputs": [],
   "source": [
    "kadaas = df.groupby(['KADAA_AR', 'month'])\n",
    "for k_key, k_data in kadaas:\n",
    "    if k_key[0] in months_data_needed:\n",
    "        topics = tf_idf(k_data.text, stopwords=stopwords, ngram=(2, 3))\n",
    "        file = k_key[0] + '_' + k_key[1] + '.csv'\n",
    "        topics.to_csv(file, index=False)\n",
    "        print('[Saved Data]:', file)"
   ]
  },
  {
   "cell_type": "code",
   "execution_count": null,
   "metadata": {},
   "outputs": [],
   "source": []
  }
 ],
 "metadata": {
  "kernelspec": {
   "display_name": "Python 3",
   "language": "python",
   "name": "python3"
  },
  "language_info": {
   "codemirror_mode": {
    "name": "ipython",
    "version": 3
   },
   "file_extension": ".py",
   "mimetype": "text/x-python",
   "name": "python",
   "nbconvert_exporter": "python",
   "pygments_lexer": "ipython3",
   "version": "3.7.5"
  }
 },
 "nbformat": 4,
 "nbformat_minor": 1
}
