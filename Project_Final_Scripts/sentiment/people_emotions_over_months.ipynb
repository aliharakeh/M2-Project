{
 "cells": [
  {
   "cell_type": "markdown",
   "metadata": {},
   "source": [
    "# Imports"
   ]
  },
  {
   "cell_type": "code",
   "execution_count": 1,
   "metadata": {},
   "outputs": [],
   "source": [
    "import string\n",
    "from collections import Counter\n",
    "import matplotlib.pyplot as plt\n",
    "import pandas as pd\n",
    "from nltk.stem import WordNetLemmatizer\n",
    "from nltk.tokenize import word_tokenize"
   ]
  },
  {
   "cell_type": "markdown",
   "metadata": {},
   "source": [
    "# config"
   ]
  },
  {
   "cell_type": "code",
   "execution_count": 10,
   "metadata": {},
   "outputs": [
    {
     "data": {
      "text/html": [
       "<style>.container { width:80% !important; }</style>"
      ],
      "text/plain": [
       "<IPython.core.display.HTML object>"
      ]
     },
     "metadata": {},
     "output_type": "display_data"
    }
   ],
   "source": [
    "from IPython.core.display import display, HTML\n",
    "display(HTML(\"<style>.container { width:80% !important; }</style>\"))"
   ]
  },
  {
   "cell_type": "markdown",
   "metadata": {},
   "source": [
    "# load data"
   ]
  },
  {
   "cell_type": "code",
   "execution_count": 4,
   "metadata": {},
   "outputs": [
    {
     "data": {
      "text/html": [
       "<div>\n",
       "<style scoped>\n",
       "    .dataframe tbody tr th:only-of-type {\n",
       "        vertical-align: middle;\n",
       "    }\n",
       "\n",
       "    .dataframe tbody tr th {\n",
       "        vertical-align: top;\n",
       "    }\n",
       "\n",
       "    .dataframe thead th {\n",
       "        text-align: right;\n",
       "    }\n",
       "</style>\n",
       "<table border=\"1\" class=\"dataframe\">\n",
       "  <thead>\n",
       "    <tr style=\"text-align: right;\">\n",
       "      <th></th>\n",
       "      <th>English</th>\n",
       "      <th>Positive</th>\n",
       "      <th>Negative</th>\n",
       "      <th>Anger</th>\n",
       "      <th>Anticipation</th>\n",
       "      <th>Disgust</th>\n",
       "      <th>Fear</th>\n",
       "      <th>Joy</th>\n",
       "      <th>Sadness</th>\n",
       "      <th>Surprise</th>\n",
       "      <th>Trust</th>\n",
       "    </tr>\n",
       "  </thead>\n",
       "  <tbody>\n",
       "    <tr>\n",
       "      <th>0</th>\n",
       "      <td>aback</td>\n",
       "      <td>0</td>\n",
       "      <td>0</td>\n",
       "      <td>0</td>\n",
       "      <td>0</td>\n",
       "      <td>0</td>\n",
       "      <td>0</td>\n",
       "      <td>0</td>\n",
       "      <td>0</td>\n",
       "      <td>0</td>\n",
       "      <td>0</td>\n",
       "    </tr>\n",
       "    <tr>\n",
       "      <th>1</th>\n",
       "      <td>abacus</td>\n",
       "      <td>0</td>\n",
       "      <td>0</td>\n",
       "      <td>0</td>\n",
       "      <td>0</td>\n",
       "      <td>0</td>\n",
       "      <td>0</td>\n",
       "      <td>0</td>\n",
       "      <td>0</td>\n",
       "      <td>0</td>\n",
       "      <td>1</td>\n",
       "    </tr>\n",
       "    <tr>\n",
       "      <th>2</th>\n",
       "      <td>abandon</td>\n",
       "      <td>0</td>\n",
       "      <td>1</td>\n",
       "      <td>0</td>\n",
       "      <td>0</td>\n",
       "      <td>0</td>\n",
       "      <td>1</td>\n",
       "      <td>0</td>\n",
       "      <td>1</td>\n",
       "      <td>0</td>\n",
       "      <td>0</td>\n",
       "    </tr>\n",
       "    <tr>\n",
       "      <th>3</th>\n",
       "      <td>abandoned</td>\n",
       "      <td>0</td>\n",
       "      <td>1</td>\n",
       "      <td>1</td>\n",
       "      <td>0</td>\n",
       "      <td>0</td>\n",
       "      <td>1</td>\n",
       "      <td>0</td>\n",
       "      <td>1</td>\n",
       "      <td>0</td>\n",
       "      <td>0</td>\n",
       "    </tr>\n",
       "    <tr>\n",
       "      <th>4</th>\n",
       "      <td>abandonment</td>\n",
       "      <td>0</td>\n",
       "      <td>1</td>\n",
       "      <td>1</td>\n",
       "      <td>0</td>\n",
       "      <td>0</td>\n",
       "      <td>1</td>\n",
       "      <td>0</td>\n",
       "      <td>1</td>\n",
       "      <td>1</td>\n",
       "      <td>0</td>\n",
       "    </tr>\n",
       "  </tbody>\n",
       "</table>\n",
       "</div>"
      ],
      "text/plain": [
       "       English  Positive  Negative  Anger  Anticipation  Disgust  Fear  Joy  \\\n",
       "0        aback         0         0      0             0        0     0    0   \n",
       "1       abacus         0         0      0             0        0     0    0   \n",
       "2      abandon         0         1      0             0        0     1    0   \n",
       "3    abandoned         0         1      1             0        0     1    0   \n",
       "4  abandonment         0         1      1             0        0     1    0   \n",
       "\n",
       "   Sadness  Surprise  Trust  \n",
       "0        0         0      0  \n",
       "1        0         0      1  \n",
       "2        1         0      0  \n",
       "3        1         0      0  \n",
       "4        1         1      0  "
      ]
     },
     "execution_count": 4,
     "metadata": {},
     "output_type": "execute_result"
    }
   ],
   "source": [
    "emotions_csv = pd.read_csv('NRC-Emotion-Lexicon-v0.92-English.csv', header=0)\n",
    "emotions_csv.head()"
   ]
  },
  {
   "cell_type": "markdown",
   "metadata": {},
   "source": [
    "# load emotions into memory while ranking them (prefer negative over positive)"
   ]
  },
  {
   "cell_type": "code",
   "execution_count": 5,
   "metadata": {},
   "outputs": [],
   "source": [
    "all_emotions = {\n",
    "    'Anger': (1, 'negative'), \n",
    "    'Fear': (2, 'negative'),  \n",
    "    'Disgust': (3, 'negative'), \n",
    "    'Sadness': (4, 'negative'),  \n",
    "    'Surprise': (5, 'negative'),  \n",
    "    'Anticipation': (6, 'positive'),  \n",
    "    'Joy': (7, 'positive'),   \n",
    "    'Trust': (8, 'positive'), \n",
    "}\n",
    "\n",
    "pos_emotions = {\n",
    "    'Anticipation': (1, 'positive'),  \n",
    "    'Joy': (2, 'positive'),   \n",
    "    'Trust': (3, 'positive')\n",
    "}\n",
    "\n",
    "neg_emotions = {\n",
    "    'Anger': (1, 'negative'), \n",
    "    'Fear': (2, 'negative'),  \n",
    "    'Disgust': (3, 'negative'), \n",
    "    'Sadness': (4, 'negative'),  \n",
    "    'Surprise': (5, 'negative'),  \n",
    "}\n",
    "\n",
    "\n",
    "def get_emotions_list(row):    \n",
    "#     if row.Positive and not row.Negative:\n",
    "#         return pos_emotions\n",
    "    \n",
    "#     if not row.Positive and row.Negative:\n",
    "#         return neg_emotions\n",
    "    \n",
    "    return all_emotions\n",
    "\n",
    "def get_emotion_data(row):\n",
    "    context = None\n",
    "    \n",
    "    emotions = get_emotions_list(row)\n",
    "    \n",
    "    for col, val in row.iteritems():\n",
    "        \n",
    "        # check emotion columns with value == 1\n",
    "        if col in emotions and val == 1:\n",
    "            \n",
    "            # first time\n",
    "            if context is None:\n",
    "                context = (col, emotions[col])\n",
    "                \n",
    "            # prefer low rank context over high ones (i.e. prefer negative over positive)\n",
    "            else:\n",
    "                if emotions[col][0] < emotions[context[0]][0]:\n",
    "                    context = (col, emotions[col])\n",
    "                    \n",
    "    # return the emotion text\n",
    "    if context is not None:\n",
    "        return context[0], context[1][1]\n",
    "    return 'other', 'other'"
   ]
  },
  {
   "cell_type": "code",
   "execution_count": 6,
   "metadata": {},
   "outputs": [
    {
     "name": "stdout",
     "output_type": "stream",
     "text": [
      "13922 word(s)\n"
     ]
    }
   ],
   "source": [
    "emotions_dict = {}\n",
    "for index, row in emotions_csv.iterrows():\n",
    "    # lemmatize\n",
    "    word = WordNetLemmatizer().lemmatize(str(row.English))\n",
    "    context, category = get_emotion_data(row)\n",
    "    emotions_dict[word] = {\n",
    "        'context': context,\n",
    "        'category': category\n",
    "    }\n",
    "\n",
    "print(len(emotions_dict), 'word(s)')"
   ]
  },
  {
   "cell_type": "markdown",
   "metadata": {},
   "source": [
    "# load stopwords"
   ]
  },
  {
   "cell_type": "code",
   "execution_count": 7,
   "metadata": {},
   "outputs": [],
   "source": [
    "stop_words = [\"i\", \"me\", \"my\", \"myself\", \"we\", \"our\", \"ours\", \"ourselves\", \"you\", \"your\", \"yours\", \"yourself\",\n",
    "              \"yourselves\", \"he\", \"him\", \"his\", \"himself\", \"she\", \"her\", \"hers\", \"herself\", \"it\", \"its\", \"itself\",\n",
    "              \"they\", \"them\", \"their\", \"theirs\", \"themselves\", \"what\", \"which\", \"who\", \"whom\", \"this\", \"that\", \"these\",\n",
    "              \"those\", \"am\", \"is\", \"are\", \"was\", \"were\", \"be\", \"been\", \"being\", \"have\", \"has\", \"had\", \"having\", \"do\",\n",
    "              \"does\", \"did\", \"doing\", \"a\", \"an\", \"the\", \"and\", \"but\", \"if\", \"or\", \"because\", \"as\", \"until\", \"while\",\n",
    "              \"of\", \"at\", \"by\", \"for\", \"with\", \"about\", \"against\", \"between\", \"into\", \"through\", \"during\", \"before\",\n",
    "              \"after\", \"above\", \"below\", \"to\", \"from\", \"up\", \"down\", \"in\", \"out\", \"on\", \"off\", \"over\", \"under\", \"again\",\n",
    "              \"further\", \"then\", \"once\", \"here\", \"there\", \"when\", \"where\", \"why\", \"how\", \"all\", \"any\", \"both\", \"each\",\n",
    "              \"few\", \"more\", \"most\", \"other\", \"some\", \"such\", \"no\", \"nor\", \"not\", \"only\", \"own\", \"same\", \"so\", \"than\",\n",
    "              \"too\", \"very\", \"s\", \"t\", \"can\", \"will\", \"just\", \"don\", \"should\", \"now\"]"
   ]
  },
  {
   "cell_type": "markdown",
   "metadata": {},
   "source": [
    "# load tweets data"
   ]
  },
  {
   "cell_type": "code",
   "execution_count": 8,
   "metadata": {},
   "outputs": [],
   "source": [
    "df = pd.read_csv('..\\\\tweets_sentiment.csv', header=0)"
   ]
  },
  {
   "cell_type": "markdown",
   "metadata": {},
   "source": [
    "# analyse emotions\n",
    "- clean text from punctuations\n",
    "- remove stopwords\n",
    "- return each word to its original form (lemmatization)\n",
    "- `finally`, check text for any emotion reference word"
   ]
  },
  {
   "cell_type": "code",
   "execution_count": 9,
   "metadata": {},
   "outputs": [],
   "source": [
    "def get_emotions(tweet):\n",
    "    # clean string\n",
    "    tweet = str(tweet)\n",
    "    tweet = tweet.lower()\n",
    "    tweet = tweet.translate(str.maketrans('', '', string.punctuation))\n",
    "\n",
    "    # get words\n",
    "    tokenized_words = word_tokenize(tweet, \"english\")\n",
    "\n",
    "    # remove stopwords\n",
    "    final_words = []\n",
    "    for word in tokenized_words:\n",
    "        if word not in stop_words:\n",
    "            final_words.append(word)\n",
    "\n",
    "    # lemmatize words\n",
    "    lemma_words = []\n",
    "    for word in final_words:\n",
    "        word = WordNetLemmatizer().lemmatize(word)\n",
    "        lemma_words.append(word)\n",
    "\n",
    "    # check emotion\n",
    "    emotion = ['other', 'other']\n",
    "    for word in lemma_words:\n",
    "        if word in emotions_dict:\n",
    "            if emotions_dict[word]['context']:\n",
    "                emotion = [emotions_dict[word]['context'], emotions_dict[word]['category']]\n",
    "            break\n",
    "\n",
    "    # return emotion data\n",
    "    return pd.Series(emotion)"
   ]
  },
  {
   "cell_type": "code",
   "execution_count": 10,
   "metadata": {},
   "outputs": [],
   "source": [
    "df[['emotion', 'emotion_category']] = df.translated_text.apply(get_emotions)"
   ]
  },
  {
   "cell_type": "markdown",
   "metadata": {},
   "source": [
    "# check data"
   ]
  },
  {
   "cell_type": "code",
   "execution_count": 11,
   "metadata": {
    "pycharm": {
     "name": "#%%\n"
    }
   },
   "outputs": [
    {
     "data": {
      "text/html": [
       "<div>\n",
       "<style scoped>\n",
       "    .dataframe tbody tr th:only-of-type {\n",
       "        vertical-align: middle;\n",
       "    }\n",
       "\n",
       "    .dataframe tbody tr th {\n",
       "        vertical-align: top;\n",
       "    }\n",
       "\n",
       "    .dataframe thead th {\n",
       "        text-align: right;\n",
       "    }\n",
       "</style>\n",
       "<table border=\"1\" class=\"dataframe\">\n",
       "  <thead>\n",
       "    <tr style=\"text-align: right;\">\n",
       "      <th></th>\n",
       "      <th>translated_text</th>\n",
       "      <th>emotion</th>\n",
       "      <th>emotion_category</th>\n",
       "    </tr>\n",
       "  </thead>\n",
       "  <tbody>\n",
       "    <tr>\n",
       "      <th>0</th>\n",
       "      <td>#Corona #COVIDー19 Official Numbers in Lebanon ...</td>\n",
       "      <td>other</td>\n",
       "      <td>other</td>\n",
       "    </tr>\n",
       "    <tr>\n",
       "      <th>1</th>\n",
       "      <td># Corona_Lebanon\\n#coronavirus</td>\n",
       "      <td>other</td>\n",
       "      <td>other</td>\n",
       "    </tr>\n",
       "    <tr>\n",
       "      <th>2</th>\n",
       "      <td>The management of the \"Palma\" resort explains ...</td>\n",
       "      <td>Trust</td>\n",
       "      <td>positive</td>\n",
       "    </tr>\n",
       "    <tr>\n",
       "      <th>3</th>\n",
       "      <td>Urgent: The Lebanese Ministry of Health: 415 C...</td>\n",
       "      <td>Fear</td>\n",
       "      <td>negative</td>\n",
       "    </tr>\n",
       "    <tr>\n",
       "      <th>4</th>\n",
       "      <td>Finally, the 7 of September gets rid of the ge...</td>\n",
       "      <td>Disgust</td>\n",
       "      <td>negative</td>\n",
       "    </tr>\n",
       "  </tbody>\n",
       "</table>\n",
       "</div>"
      ],
      "text/plain": [
       "                                     translated_text  emotion emotion_category\n",
       "0  #Corona #COVIDー19 Official Numbers in Lebanon ...    other            other\n",
       "1                     # Corona_Lebanon\\n#coronavirus    other            other\n",
       "2  The management of the \"Palma\" resort explains ...    Trust         positive\n",
       "3  Urgent: The Lebanese Ministry of Health: 415 C...     Fear         negative\n",
       "4  Finally, the 7 of September gets rid of the ge...  Disgust         negative"
      ]
     },
     "execution_count": 11,
     "metadata": {},
     "output_type": "execute_result"
    }
   ],
   "source": [
    "df[['translated_text', 'emotion', 'emotion_category']].head()"
   ]
  },
  {
   "cell_type": "code",
   "execution_count": 15,
   "metadata": {},
   "outputs": [],
   "source": [
    "df.to_csv('..\\\\tweets_emotions.csv', index=False)"
   ]
  },
  {
   "cell_type": "code",
   "execution_count": 3,
   "metadata": {},
   "outputs": [],
   "source": [
    "df = pd.read_csv('..\\\\tweets_emotions.csv', header=0)"
   ]
  },
  {
   "cell_type": "markdown",
   "metadata": {},
   "source": [
    "# functions to group data and visualize it"
   ]
  },
  {
   "cell_type": "code",
   "execution_count": 4,
   "metadata": {
    "pycharm": {
     "name": "#%%\n"
    },
    "scrolled": true
   },
   "outputs": [
    {
     "data": {
      "text/plain": [
       "{2: {'Anger': 112,\n",
       "  'Anticipation': 172,\n",
       "  'Disgust': 33,\n",
       "  'Fear': 434,\n",
       "  'Joy': 70,\n",
       "  'Sadness': 55,\n",
       "  'Surprise': 42,\n",
       "  'Trust': 246},\n",
       " 3: {'Anger': 828,\n",
       "  'Anticipation': 897,\n",
       "  'Disgust': 126,\n",
       "  'Fear': 1557,\n",
       "  'Joy': 451,\n",
       "  'Sadness': 236,\n",
       "  'Surprise': 309,\n",
       "  'Trust': 1077},\n",
       " 4: {'Anger': 519,\n",
       "  'Anticipation': 594,\n",
       "  'Disgust': 84,\n",
       "  'Fear': 1108,\n",
       "  'Joy': 367,\n",
       "  'Sadness': 168,\n",
       "  'Surprise': 139,\n",
       "  'Trust': 625},\n",
       " 5: {'Anger': 332,\n",
       "  'Anticipation': 471,\n",
       "  'Disgust': 50,\n",
       "  'Fear': 883,\n",
       "  'Joy': 302,\n",
       "  'Sadness': 182,\n",
       "  'Surprise': 127,\n",
       "  'Trust': 426},\n",
       " 6: {'Anger': 110,\n",
       "  'Anticipation': 205,\n",
       "  'Disgust': 29,\n",
       "  'Fear': 417,\n",
       "  'Joy': 153,\n",
       "  'Sadness': 54,\n",
       "  'Surprise': 34,\n",
       "  'Trust': 171},\n",
       " 7: {'Anger': 123,\n",
       "  'Anticipation': 237,\n",
       "  'Disgust': 31,\n",
       "  'Fear': 537,\n",
       "  'Joy': 104,\n",
       "  'Sadness': 61,\n",
       "  'Surprise': 47,\n",
       "  'Trust': 184},\n",
       " 8: {'Anger': 216,\n",
       "  'Anticipation': 242,\n",
       "  'Disgust': 25,\n",
       "  'Fear': 758,\n",
       "  'Joy': 173,\n",
       "  'Sadness': 66,\n",
       "  'Surprise': 87,\n",
       "  'Trust': 356},\n",
       " 9: {'Anger': 36,\n",
       "  'Anticipation': 48,\n",
       "  'Disgust': 6,\n",
       "  'Fear': 98,\n",
       "  'Joy': 45,\n",
       "  'Sadness': 11,\n",
       "  'Surprise': 13,\n",
       "  'Trust': 41}}"
      ]
     },
     "execution_count": 4,
     "metadata": {},
     "output_type": "execute_result"
    }
   ],
   "source": [
    "month_data = df[df.emotion != 'other'].groupby('month')\n",
    "months = {}\n",
    "for m, data in month_data:\n",
    "    months[m] = {}\n",
    "    emotions = data.groupby('emotion').count().reset_index()[['emotion', 'text']]\n",
    "    emotions = emotions.rename(columns={emotions.columns[1]: 'count_'})\n",
    "    for index, row in emotions.iterrows():\n",
    "        months[m][row.emotion] = row.count_\n",
    "months"
   ]
  },
  {
   "cell_type": "code",
   "execution_count": 5,
   "metadata": {},
   "outputs": [],
   "source": [
    "labels = [str(m) for m in months.keys()]\n",
    "\n",
    "legends = ['Anger', 'Fear', 'Disgust', 'Sadness', 'Surprise', 'Anticipation', 'Joy', 'Trust']\n",
    "values = {}\n",
    "for v in months.values():\n",
    "    for k, v1 in v.items():\n",
    "        if k not in values:\n",
    "            values[k] = []\n",
    "        values[k].append(v1)"
   ]
  },
  {
   "cell_type": "code",
   "execution_count": 11,
   "metadata": {},
   "outputs": [
    {
     "data": {
      "text/plain": [
       "<matplotlib.legend.Legend at 0x205f0116d48>"
      ]
     },
     "execution_count": 11,
     "metadata": {},
     "output_type": "execute_result"
    },
    {
     "data": {
      "image/png": "[encoded data removed]",
      "text/plain": [
       "<Figure size 1440x504 with 1 Axes>"
      ]
     },
     "metadata": {
      "needs_background": "light"
     },
     "output_type": "display_data"
    }
   ],
   "source": [
    "import numpy as np\n",
    "\n",
    "def get_bottom(emotions):\n",
    "    res = None\n",
    "    for k, v in values.items():\n",
    "        if k in emotions:\n",
    "            if res is None:\n",
    "                res = np.array(v)\n",
    "            else:\n",
    "                res += np.array(v)\n",
    "    return res\n",
    "            \n",
    "plt.figure(figsize=(20, 7))\n",
    "plt.bar(labels, values['Anger'], label='Anger', color='red')\n",
    "plt.bar(labels, values['Fear'], label='Fear', bottom=get_bottom(['Anger']), color='green')\n",
    "plt.bar(labels, values['Disgust'], label='Disgust', bottom=get_bottom(['Anger', 'Fear']), color='purple')\n",
    "plt.bar(labels, values['Sadness'], label='Sadness', bottom=get_bottom(['Anger', 'Fear', 'Disgust']), color='b')\n",
    "plt.bar(labels, values['Surprise'], label='Surprise', bottom=get_bottom(['Anger','Fear', 'Disgust' ,'Sadness']), color='cyan')\n",
    "plt.bar(labels, values['Anticipation'], label='Anticipation', bottom=get_bottom(['Anger', 'Fear', 'Disgust', 'Sadness', 'Surprise']), color='orange')\n",
    "plt.bar(labels, values['Joy'], label='Joy', bottom=get_bottom(['Anger', 'Fear', 'Disgust', 'Sadness', 'Surprise', 'Anticipation']), color='yellow')\n",
    "plt.bar(labels, values['Trust'], label='Trust', bottom=get_bottom(['Anger', 'Fear', 'Disgust', 'Sadness', 'Surprise', 'Anticipation', 'Joy']), color='yellowgreen')\n",
    "plt.xlabel('month')\n",
    "plt.ylabel('tweets')\n",
    "plt.legend()"
   ]
  },
  {
   "cell_type": "markdown",
   "metadata": {},
   "source": [
    "- `Joy` is opposite `Sadness`.\n",
    "\n",
    "\n",
    "- `Fear` is opposite `Anger`.\n",
    "\n",
    "\n",
    "- `Anticipation` is the opposite `Surprise`.\n",
    "\n",
    "\n",
    "- `Disgust` is the opposite of `Rrust`."
   ]
  },
  {
   "cell_type": "code",
   "execution_count": null,
   "metadata": {},
   "outputs": [],
   "source": []
  }
 ],
 "metadata": {
  "kernelspec": {
   "display_name": "Python 3",
   "language": "python",
   "name": "python3"
  },
  "language_info": {
   "codemirror_mode": {
    "name": "ipython",
    "version": 3
   },
   "file_extension": ".py",
   "mimetype": "text/x-python",
   "name": "python",
   "nbconvert_exporter": "python",
   "pygments_lexer": "ipython3",
   "version": "3.7.5"
  }
 },
 "nbformat": 4,
 "nbformat_minor": 1
}
