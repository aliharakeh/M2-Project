{
 "cells": [
  {
   "cell_type": "code",
   "execution_count": 1,
   "outputs": [],
   "source": [
    "import pandas as pd\n",
    "from matplotlib.pyplot import plot\n",
    "from textblob import TextBlob"
   ],
   "metadata": {
    "collapsed": false,
    "pycharm": {
     "name": "#%%\n"
    }
   }
  },
  {
   "cell_type": "markdown",
   "source": [
    "# config"
   ],
   "metadata": {
    "collapsed": false
   }
  },
  {
   "cell_type": "code",
   "execution_count": 2,
   "outputs": [
    {
     "data": {
      "text/plain": "<IPython.core.display.HTML object>",
      "text/html": "<style>.container { width:80% !important; }</style>"
     },
     "metadata": {},
     "output_type": "display_data"
    }
   ],
   "source": [
    "cases_data = 'corona_lb_data.csv'\n",
    "tweets_data = '..\\\\tweets_data.csv'\n",
    "save_to = '..\\\\tweets_sentiment.csv'\n",
    "\n",
    "\n",
    "pd.set_option('display.max_rows', 255)\n",
    "\n",
    "from IPython.core.display import display, HTML\n",
    "display(HTML(\"<style>.container { width:80% !important; }</style>\"))"
   ],
   "metadata": {
    "collapsed": false,
    "pycharm": {
     "name": "#%%\n"
    }
   }
  },
  {
   "cell_type": "markdown",
   "source": [
    "# load tweets"
   ],
   "metadata": {
    "collapsed": false
   }
  },
  {
   "cell_type": "code",
   "execution_count": 3,
   "outputs": [
    {
     "data": {
      "text/plain": "       username        date  \\\n0  Fouad Badaro  2020-09-05   \n1      الكابتين  2020-09-05   \n2   سفير الشمال  2020-09-05   \n3         Jihad  2020-09-05   \n4  Ali H. Merii  2020-09-05   \n\n                                                text  \\\n0  #Corona #COVIDー19 Official Numbers in Lebanon ...   \n1                       #كورونا_لبنان \\n#coronavirus   \n2  إدارة منتجع “البالما” توضح.. ماذا قالت عن إصاب...   \n3  عاجل: وزارة الصحة اللبنانية: 415 إصابة كورونا...   \n4  أخيرا بكرا ٧ ايلول بتخلص التعبئة العامة وبترجع...   \n\n                                                tags  \\\n0  ['#Corona', '#كورونا_لبنان', '#كورونا', '#Stay...   \n1                  ['#كورونا_لبنان', '#coronavirus']   \n2                              ['#لبنان', '#كورونا']   \n3                                  ['#كورونا_لبنان']   \n4                                  ['#كورونا_لبنان']   \n\n                                     translated_text location  latitude  \\\n0  #Corona #COVIDー19 Official Numbers in Lebanon ...    بيروت   33.8719   \n1                     # Corona_Lebanon\\n#coronavirus    بيروت   33.8719   \n2  The management of the \"Palma\" resort explains ...      ارة   33.5403   \n3  Urgent: The Lebanese Ministry of Health: 415 C...    حالات   34.0828   \n4  Finally, the 7 of September gets rid of the ge...  المشحاة   34.0500   \n\n   longitude  KADAA_ID KADAA_AR     KADAA_EN  MOHAFAZA_ID MOHAFAZA_AR  \\\n0    35.5097     31000    بيروت       Beirut            3       بيروت   \n1    35.5097     31000    بيروت       Beirut            3       بيروت   \n2    35.3800     81000     صيدا        Saida            8      الجنوب   \n3    35.6541     56000     جبيل        Jbeil            5   جبل لبنان   \n4    35.7250     55000   كسروان  Kesserouane            5   جبل لبنان   \n\n     MOHAFAZA_EN  \n0         Beirut  \n1         Beirut  \n2          South  \n3  Mount Lebanon  \n4  Mount Lebanon  ",
      "text/html": "<div>\n<style scoped>\n    .dataframe tbody tr th:only-of-type {\n        vertical-align: middle;\n    }\n\n    .dataframe tbody tr th {\n        vertical-align: top;\n    }\n\n    .dataframe thead th {\n        text-align: right;\n    }\n</style>\n<table border=\"1\" class=\"dataframe\">\n  <thead>\n    <tr style=\"text-align: right;\">\n      <th></th>\n      <th>username</th>\n      <th>date</th>\n      <th>text</th>\n      <th>tags</th>\n      <th>translated_text</th>\n      <th>location</th>\n      <th>latitude</th>\n      <th>longitude</th>\n      <th>KADAA_ID</th>\n      <th>KADAA_AR</th>\n      <th>KADAA_EN</th>\n      <th>MOHAFAZA_ID</th>\n      <th>MOHAFAZA_AR</th>\n      <th>MOHAFAZA_EN</th>\n    </tr>\n  </thead>\n  <tbody>\n    <tr>\n      <th>0</th>\n      <td>Fouad Badaro</td>\n      <td>2020-09-05</td>\n      <td>#Corona #COVIDー19 Official Numbers in Lebanon ...</td>\n      <td>['#Corona', '#كورونا_لبنان', '#كورونا', '#Stay...</td>\n      <td>#Corona #COVIDー19 Official Numbers in Lebanon ...</td>\n      <td>بيروت</td>\n      <td>33.8719</td>\n      <td>35.5097</td>\n      <td>31000</td>\n      <td>بيروت</td>\n      <td>Beirut</td>\n      <td>3</td>\n      <td>بيروت</td>\n      <td>Beirut</td>\n    </tr>\n    <tr>\n      <th>1</th>\n      <td>الكابتين</td>\n      <td>2020-09-05</td>\n      <td>#كورونا_لبنان \\n#coronavirus</td>\n      <td>['#كورونا_لبنان', '#coronavirus']</td>\n      <td># Corona_Lebanon\\n#coronavirus</td>\n      <td>بيروت</td>\n      <td>33.8719</td>\n      <td>35.5097</td>\n      <td>31000</td>\n      <td>بيروت</td>\n      <td>Beirut</td>\n      <td>3</td>\n      <td>بيروت</td>\n      <td>Beirut</td>\n    </tr>\n    <tr>\n      <th>2</th>\n      <td>سفير الشمال</td>\n      <td>2020-09-05</td>\n      <td>إدارة منتجع “البالما” توضح.. ماذا قالت عن إصاب...</td>\n      <td>['#لبنان', '#كورونا']</td>\n      <td>The management of the \"Palma\" resort explains ...</td>\n      <td>ارة</td>\n      <td>33.5403</td>\n      <td>35.3800</td>\n      <td>81000</td>\n      <td>صيدا</td>\n      <td>Saida</td>\n      <td>8</td>\n      <td>الجنوب</td>\n      <td>South</td>\n    </tr>\n    <tr>\n      <th>3</th>\n      <td>Jihad</td>\n      <td>2020-09-05</td>\n      <td>عاجل: وزارة الصحة اللبنانية: 415 إصابة كورونا...</td>\n      <td>['#كورونا_لبنان']</td>\n      <td>Urgent: The Lebanese Ministry of Health: 415 C...</td>\n      <td>حالات</td>\n      <td>34.0828</td>\n      <td>35.6541</td>\n      <td>56000</td>\n      <td>جبيل</td>\n      <td>Jbeil</td>\n      <td>5</td>\n      <td>جبل لبنان</td>\n      <td>Mount Lebanon</td>\n    </tr>\n    <tr>\n      <th>4</th>\n      <td>Ali H. Merii</td>\n      <td>2020-09-05</td>\n      <td>أخيرا بكرا ٧ ايلول بتخلص التعبئة العامة وبترجع...</td>\n      <td>['#كورونا_لبنان']</td>\n      <td>Finally, the 7 of September gets rid of the ge...</td>\n      <td>المشحاة</td>\n      <td>34.0500</td>\n      <td>35.7250</td>\n      <td>55000</td>\n      <td>كسروان</td>\n      <td>Kesserouane</td>\n      <td>5</td>\n      <td>جبل لبنان</td>\n      <td>Mount Lebanon</td>\n    </tr>\n  </tbody>\n</table>\n</div>"
     },
     "execution_count": 3,
     "metadata": {},
     "output_type": "execute_result"
    }
   ],
   "source": [
    "tweets = pd.read_csv(tweets_data, header=0)\n",
    "tweets.head()"
   ],
   "metadata": {
    "collapsed": false,
    "pycharm": {
     "name": "#%%\n"
    }
   }
  },
  {
   "cell_type": "markdown",
   "source": [
    "# split date"
   ],
   "metadata": {
    "collapsed": false
   }
  },
  {
   "cell_type": "code",
   "execution_count": 4,
   "outputs": [],
   "source": [
    "tweets[['year', 'month', 'day']] = tweets.date.str.split('-', expand=True)"
   ],
   "metadata": {
    "collapsed": false,
    "pycharm": {
     "name": "#%%\n"
    }
   }
  },
  {
   "cell_type": "markdown",
   "source": [
    "# get sentiment"
   ],
   "metadata": {
    "collapsed": false
   }
  },
  {
   "cell_type": "code",
   "execution_count": 5,
   "outputs": [],
   "source": [
    "def get_sentiments(row):\n",
    "    text_sentiment = TextBlob(row.translated_text).sentiment.polarity\n",
    "    \n",
    "    sentiment_label = 'Neutral'\n",
    "    if text_sentiment > 0:\n",
    "        sentiment_label = 'Positive'\n",
    "    elif text_sentiment < 0:\n",
    "        sentiment_label = 'Negative'\n",
    "    \n",
    "    return pd.Series([text_sentiment, sentiment_label])"
   ],
   "metadata": {
    "collapsed": false,
    "pycharm": {
     "name": "#%%\n"
    }
   }
  },
  {
   "cell_type": "code",
   "execution_count": 6,
   "outputs": [],
   "source": [
    "tweets[['sentiment', 'sentiment_label']] = tweets.apply(get_sentiments, axis=1)"
   ],
   "metadata": {
    "collapsed": false,
    "pycharm": {
     "name": "#%%\n"
    }
   }
  },
  {
   "cell_type": "markdown",
   "source": [
    "# save"
   ],
   "metadata": {
    "collapsed": false
   }
  },
  {
   "cell_type": "code",
   "execution_count": 7,
   "outputs": [],
   "source": [
    "tweets.to_csv(save_to, index=False)"
   ],
   "metadata": {
    "collapsed": false,
    "pycharm": {
     "name": "#%%\n"
    }
   }
  },
  {
   "cell_type": "markdown",
   "source": [
    "# statistics"
   ],
   "metadata": {
    "collapsed": false
   }
  },
  {
   "cell_type": "code",
   "execution_count": 8,
   "outputs": [
    {
     "data": {
      "text/plain": "    month day  sentiment\n0      02  01   0.100376\n1      02  02   0.083802\n2      02  03   0.084910\n3      02  04   0.057694\n4      02  05   0.074575\n5      02  06   0.052919\n6      02  07   0.042819\n7      02  08   0.013471\n8      02  09   0.096655\n9      02  10   0.036529\n10     02  11   0.050318\n11     02  12   0.099062\n12     02  13   0.090988\n13     02  14   0.151533\n14     02  15   0.089381\n15     02  16   0.053788\n16     02  17   0.031751\n17     02  18   0.049042\n18     02  19   0.020740\n19     02  20   0.064463\n20     02  21   0.042136\n21     02  22   0.065249\n22     02  23   0.047887\n23     02  24   0.120734\n24     02  25   0.039978\n25     02  26   0.069075\n26     02  27   0.051022\n27     02  28   0.097669\n28     02  29   0.049649\n29     03  01   0.101626\n30     03  02   0.386556\n31     03  03   0.065523\n32     03  04   0.063238\n33     03  05   0.033453\n34     03  06   0.066227\n35     03  07   0.029409\n36     03  08   0.085200\n37     03  09   0.079994\n38     03  10   0.076612\n39     03  11   0.031926\n40     03  12   0.050867\n41     03  13   0.054466\n42     03  14   0.078648\n43     03  15   0.078944\n44     03  16   0.097650\n45     03  17   0.076173\n46     03  18   0.086110\n47     03  19   0.074522\n48     03  20   0.082513\n49     03  21   0.048732\n50     03  22   0.060926\n51     03  23   0.083232\n52     03  24   0.075027\n53     03  25   0.077860\n54     03  26   0.071152\n55     03  27   0.065265\n56     03  28   0.063840\n57     03  29   0.069021\n58     03  30   0.089819\n59     03  31   0.075010\n60     04  01   0.059533\n61     04  02   0.032678\n62     04  03   0.053083\n63     04  04   0.066758\n64     04  05   0.074887\n65     04  06   0.093718\n66     04  07   0.077688\n67     04  08   0.082803\n68     04  09   0.092202\n69     04  10   0.112139\n70     04  11   0.074608\n71     04  12   0.096105\n72     04  13   0.090323\n73     04  14   0.062525\n74     04  15   0.074094\n75     04  16   0.061849\n76     04  17   0.085122\n77     04  18   0.051943\n78     04  19   0.068256\n79     04  20   0.068994\n80     04  21   0.047008\n81     04  22   0.109664\n82     04  23   0.062170\n83     04  24   0.037791\n84     04  25   0.076974\n85     04  26   0.098792\n86     04  27   0.062627\n87     04  28   0.053734\n88     04  29   0.008441\n89     04  30   0.085108\n90     05  01   0.096116\n91     05  02   0.065662\n92     05  03   0.073501\n93     05  04   0.101291\n94     05  05   0.091992\n95     05  06   0.046628\n96     05  07   0.055578\n97     05  08   0.048195\n98     05  09   0.025984\n99     05  10   0.040323\n100    05  11   0.034980\n101    05  12   0.092151\n102    05  13   0.091799\n103    05  14   0.076536\n104    05  15   0.089623\n105    05  16   0.091910\n106    05  17   0.037059\n107    05  18   0.081625\n108    05  19   0.090693\n109    05  20   0.081700\n110    05  21   0.051819\n111    05  22   0.031546\n112    05  23   0.096921\n113    05  24   0.122458\n114    05  25   0.045960\n115    05  26   0.075844\n116    05  27   0.098930\n117    05  28   0.037827\n118    05  29   0.082459\n119    05  30   0.065861\n120    05  31   0.055654\n121    06  01   0.062580\n122    06  02   0.043968\n123    06  03   0.056685\n124    06  04   0.078888\n125    06  05   0.026876\n126    06  06   0.055910\n127    06  07   0.034720\n128    06  08   0.047255\n129    06  09   0.055605\n130    06  10   0.078707\n131    06  11   0.081109\n132    06  12   0.055105\n133    06  13   0.092216\n134    06  14   0.055915\n135    06  15   0.100884\n136    06  16   0.021690\n137    06  17   0.105259\n138    06  18   0.039279\n139    06  19   0.048582\n140    06  20   0.073533\n141    06  21   0.063217\n142    06  22   0.079772\n143    06  23   0.085584\n144    06  24   0.090005\n145    06  25   0.063805\n146    06  26   0.097470\n147    06  27   0.088254\n148    06  28   0.070547\n149    06  29   0.028565\n150    06  30   0.056926\n151    07  01   0.021221\n152    07  02   0.092339\n153    07  03   0.101268\n154    07  04   0.024105\n155    07  05   0.104751\n156    07  06   0.102793\n157    07  07   0.016046\n158    07  08   0.084953\n159    07  09   0.024256\n160    07  10   0.075997\n161    07  11   0.089191\n162    07  12   0.092964\n163    07  13   0.092419\n164    07  14   0.053571\n165    07  15   0.084075\n166    07  16   0.112711\n167    07  17   0.008151\n168    07  18   0.105423\n169    07  19   0.090489\n170    07  20   0.063101\n171    07  21   0.030893\n172    07  22   0.039435\n173    07  23   0.071775\n174    07  24   0.049352\n175    07  25   0.049972\n176    07  26   0.022877\n177    07  27   0.064994\n178    07  28   0.073016\n179    07  29   0.029279\n180    07  30   0.037157\n181    07  31   0.033410\n182    08  01   0.059541\n183    08  02   0.029746\n184    08  03   0.033778\n185    08  04   0.049713\n186    08  05   0.018925\n187    08  06   0.034026\n188    08  07   0.019125\n189    08  08   0.065623\n190    08  09   0.021116\n191    08  10   0.058133\n192    08  11   0.049764\n193    08  12   0.079263\n194    08  13   0.082278\n195    08  14  -0.005725\n196    08  15   0.032260\n197    08  16   0.054189\n198    08  17   0.046881\n199    08  18   0.024284\n200    08  19   0.051969\n201    08  20   0.043045\n202    08  21   0.047607\n203    08  22   0.015114\n204    08  23   0.032432\n205    08  24   0.051546\n206    08  25   0.062742\n207    08  26   0.038217\n208    08  27   0.056440\n209    08  28   0.099921\n210    08  29   0.052413\n211    08  30   0.056021\n212    08  31   0.055815\n213    09  01   0.088005\n214    09  02   0.096420\n215    09  03   0.032110\n216    09  04   0.048264\n217    09  05   0.070424",
      "text/html": "<div>\n<style scoped>\n    .dataframe tbody tr th:only-of-type {\n        vertical-align: middle;\n    }\n\n    .dataframe tbody tr th {\n        vertical-align: top;\n    }\n\n    .dataframe thead th {\n        text-align: right;\n    }\n</style>\n<table border=\"1\" class=\"dataframe\">\n  <thead>\n    <tr style=\"text-align: right;\">\n      <th></th>\n      <th>month</th>\n      <th>day</th>\n      <th>sentiment</th>\n    </tr>\n  </thead>\n  <tbody>\n    <tr>\n      <th>0</th>\n      <td>02</td>\n      <td>01</td>\n      <td>0.100376</td>\n    </tr>\n    <tr>\n      <th>1</th>\n      <td>02</td>\n      <td>02</td>\n      <td>0.083802</td>\n    </tr>\n    <tr>\n      <th>2</th>\n      <td>02</td>\n      <td>03</td>\n      <td>0.084910</td>\n    </tr>\n    <tr>\n      <th>3</th>\n      <td>02</td>\n      <td>04</td>\n      <td>0.057694</td>\n    </tr>\n    <tr>\n      <th>4</th>\n      <td>02</td>\n      <td>05</td>\n      <td>0.074575</td>\n    </tr>\n    <tr>\n      <th>5</th>\n      <td>02</td>\n      <td>06</td>\n      <td>0.052919</td>\n    </tr>\n    <tr>\n      <th>6</th>\n      <td>02</td>\n      <td>07</td>\n      <td>0.042819</td>\n    </tr>\n    <tr>\n      <th>7</th>\n      <td>02</td>\n      <td>08</td>\n      <td>0.013471</td>\n    </tr>\n    <tr>\n      <th>8</th>\n      <td>02</td>\n      <td>09</td>\n      <td>0.096655</td>\n    </tr>\n    <tr>\n      <th>9</th>\n      <td>02</td>\n      <td>10</td>\n      <td>0.036529</td>\n    </tr>\n    <tr>\n      <th>10</th>\n      <td>02</td>\n      <td>11</td>\n      <td>0.050318</td>\n    </tr>\n    <tr>\n      <th>11</th>\n      <td>02</td>\n      <td>12</td>\n      <td>0.099062</td>\n    </tr>\n    <tr>\n      <th>12</th>\n      <td>02</td>\n      <td>13</td>\n      <td>0.090988</td>\n    </tr>\n    <tr>\n      <th>13</th>\n      <td>02</td>\n      <td>14</td>\n      <td>0.151533</td>\n    </tr>\n    <tr>\n      <th>14</th>\n      <td>02</td>\n      <td>15</td>\n      <td>0.089381</td>\n    </tr>\n    <tr>\n      <th>15</th>\n      <td>02</td>\n      <td>16</td>\n      <td>0.053788</td>\n    </tr>\n    <tr>\n      <th>16</th>\n      <td>02</td>\n      <td>17</td>\n      <td>0.031751</td>\n    </tr>\n    <tr>\n      <th>17</th>\n      <td>02</td>\n      <td>18</td>\n      <td>0.049042</td>\n    </tr>\n    <tr>\n      <th>18</th>\n      <td>02</td>\n      <td>19</td>\n      <td>0.020740</td>\n    </tr>\n    <tr>\n      <th>19</th>\n      <td>02</td>\n      <td>20</td>\n      <td>0.064463</td>\n    </tr>\n    <tr>\n      <th>20</th>\n      <td>02</td>\n      <td>21</td>\n      <td>0.042136</td>\n    </tr>\n    <tr>\n      <th>21</th>\n      <td>02</td>\n      <td>22</td>\n      <td>0.065249</td>\n    </tr>\n    <tr>\n      <th>22</th>\n      <td>02</td>\n      <td>23</td>\n      <td>0.047887</td>\n    </tr>\n    <tr>\n      <th>23</th>\n      <td>02</td>\n      <td>24</td>\n      <td>0.120734</td>\n    </tr>\n    <tr>\n      <th>24</th>\n      <td>02</td>\n      <td>25</td>\n      <td>0.039978</td>\n    </tr>\n    <tr>\n      <th>25</th>\n      <td>02</td>\n      <td>26</td>\n      <td>0.069075</td>\n    </tr>\n    <tr>\n      <th>26</th>\n      <td>02</td>\n      <td>27</td>\n      <td>0.051022</td>\n    </tr>\n    <tr>\n      <th>27</th>\n      <td>02</td>\n      <td>28</td>\n      <td>0.097669</td>\n    </tr>\n    <tr>\n      <th>28</th>\n      <td>02</td>\n      <td>29</td>\n      <td>0.049649</td>\n    </tr>\n    <tr>\n      <th>29</th>\n      <td>03</td>\n      <td>01</td>\n      <td>0.101626</td>\n    </tr>\n    <tr>\n      <th>30</th>\n      <td>03</td>\n      <td>02</td>\n      <td>0.386556</td>\n    </tr>\n    <tr>\n      <th>31</th>\n      <td>03</td>\n      <td>03</td>\n      <td>0.065523</td>\n    </tr>\n    <tr>\n      <th>32</th>\n      <td>03</td>\n      <td>04</td>\n      <td>0.063238</td>\n    </tr>\n    <tr>\n      <th>33</th>\n      <td>03</td>\n      <td>05</td>\n      <td>0.033453</td>\n    </tr>\n    <tr>\n      <th>34</th>\n      <td>03</td>\n      <td>06</td>\n      <td>0.066227</td>\n    </tr>\n    <tr>\n      <th>35</th>\n      <td>03</td>\n      <td>07</td>\n      <td>0.029409</td>\n    </tr>\n    <tr>\n      <th>36</th>\n      <td>03</td>\n      <td>08</td>\n      <td>0.085200</td>\n    </tr>\n    <tr>\n      <th>37</th>\n      <td>03</td>\n      <td>09</td>\n      <td>0.079994</td>\n    </tr>\n    <tr>\n      <th>38</th>\n      <td>03</td>\n      <td>10</td>\n      <td>0.076612</td>\n    </tr>\n    <tr>\n      <th>39</th>\n      <td>03</td>\n      <td>11</td>\n      <td>0.031926</td>\n    </tr>\n    <tr>\n      <th>40</th>\n      <td>03</td>\n      <td>12</td>\n      <td>0.050867</td>\n    </tr>\n    <tr>\n      <th>41</th>\n      <td>03</td>\n      <td>13</td>\n      <td>0.054466</td>\n    </tr>\n    <tr>\n      <th>42</th>\n      <td>03</td>\n      <td>14</td>\n      <td>0.078648</td>\n    </tr>\n    <tr>\n      <th>43</th>\n      <td>03</td>\n      <td>15</td>\n      <td>0.078944</td>\n    </tr>\n    <tr>\n      <th>44</th>\n      <td>03</td>\n      <td>16</td>\n      <td>0.097650</td>\n    </tr>\n    <tr>\n      <th>45</th>\n      <td>03</td>\n      <td>17</td>\n      <td>0.076173</td>\n    </tr>\n    <tr>\n      <th>46</th>\n      <td>03</td>\n      <td>18</td>\n      <td>0.086110</td>\n    </tr>\n    <tr>\n      <th>47</th>\n      <td>03</td>\n      <td>19</td>\n      <td>0.074522</td>\n    </tr>\n    <tr>\n      <th>48</th>\n      <td>03</td>\n      <td>20</td>\n      <td>0.082513</td>\n    </tr>\n    <tr>\n      <th>49</th>\n      <td>03</td>\n      <td>21</td>\n      <td>0.048732</td>\n    </tr>\n    <tr>\n      <th>50</th>\n      <td>03</td>\n      <td>22</td>\n      <td>0.060926</td>\n    </tr>\n    <tr>\n      <th>51</th>\n      <td>03</td>\n      <td>23</td>\n      <td>0.083232</td>\n    </tr>\n    <tr>\n      <th>52</th>\n      <td>03</td>\n      <td>24</td>\n      <td>0.075027</td>\n    </tr>\n    <tr>\n      <th>53</th>\n      <td>03</td>\n      <td>25</td>\n      <td>0.077860</td>\n    </tr>\n    <tr>\n      <th>54</th>\n      <td>03</td>\n      <td>26</td>\n      <td>0.071152</td>\n    </tr>\n    <tr>\n      <th>55</th>\n      <td>03</td>\n      <td>27</td>\n      <td>0.065265</td>\n    </tr>\n    <tr>\n      <th>56</th>\n      <td>03</td>\n      <td>28</td>\n      <td>0.063840</td>\n    </tr>\n    <tr>\n      <th>57</th>\n      <td>03</td>\n      <td>29</td>\n      <td>0.069021</td>\n    </tr>\n    <tr>\n      <th>58</th>\n      <td>03</td>\n      <td>30</td>\n      <td>0.089819</td>\n    </tr>\n    <tr>\n      <th>59</th>\n      <td>03</td>\n      <td>31</td>\n      <td>0.075010</td>\n    </tr>\n    <tr>\n      <th>60</th>\n      <td>04</td>\n      <td>01</td>\n      <td>0.059533</td>\n    </tr>\n    <tr>\n      <th>61</th>\n      <td>04</td>\n      <td>02</td>\n      <td>0.032678</td>\n    </tr>\n    <tr>\n      <th>62</th>\n      <td>04</td>\n      <td>03</td>\n      <td>0.053083</td>\n    </tr>\n    <tr>\n      <th>63</th>\n      <td>04</td>\n      <td>04</td>\n      <td>0.066758</td>\n    </tr>\n    <tr>\n      <th>64</th>\n      <td>04</td>\n      <td>05</td>\n      <td>0.074887</td>\n    </tr>\n    <tr>\n      <th>65</th>\n      <td>04</td>\n      <td>06</td>\n      <td>0.093718</td>\n    </tr>\n    <tr>\n      <th>66</th>\n      <td>04</td>\n      <td>07</td>\n      <td>0.077688</td>\n    </tr>\n    <tr>\n      <th>67</th>\n      <td>04</td>\n      <td>08</td>\n      <td>0.082803</td>\n    </tr>\n    <tr>\n      <th>68</th>\n      <td>04</td>\n      <td>09</td>\n      <td>0.092202</td>\n    </tr>\n    <tr>\n      <th>69</th>\n      <td>04</td>\n      <td>10</td>\n      <td>0.112139</td>\n    </tr>\n    <tr>\n      <th>70</th>\n      <td>04</td>\n      <td>11</td>\n      <td>0.074608</td>\n    </tr>\n    <tr>\n      <th>71</th>\n      <td>04</td>\n      <td>12</td>\n      <td>0.096105</td>\n    </tr>\n    <tr>\n      <th>72</th>\n      <td>04</td>\n      <td>13</td>\n      <td>0.090323</td>\n    </tr>\n    <tr>\n      <th>73</th>\n      <td>04</td>\n      <td>14</td>\n      <td>0.062525</td>\n    </tr>\n    <tr>\n      <th>74</th>\n      <td>04</td>\n      <td>15</td>\n      <td>0.074094</td>\n    </tr>\n    <tr>\n      <th>75</th>\n      <td>04</td>\n      <td>16</td>\n      <td>0.061849</td>\n    </tr>\n    <tr>\n      <th>76</th>\n      <td>04</td>\n      <td>17</td>\n      <td>0.085122</td>\n    </tr>\n    <tr>\n      <th>77</th>\n      <td>04</td>\n      <td>18</td>\n      <td>0.051943</td>\n    </tr>\n    <tr>\n      <th>78</th>\n      <td>04</td>\n      <td>19</td>\n      <td>0.068256</td>\n    </tr>\n    <tr>\n      <th>79</th>\n      <td>04</td>\n      <td>20</td>\n      <td>0.068994</td>\n    </tr>\n    <tr>\n      <th>80</th>\n      <td>04</td>\n      <td>21</td>\n      <td>0.047008</td>\n    </tr>\n    <tr>\n      <th>81</th>\n      <td>04</td>\n      <td>22</td>\n      <td>0.109664</td>\n    </tr>\n    <tr>\n      <th>82</th>\n      <td>04</td>\n      <td>23</td>\n      <td>0.062170</td>\n    </tr>\n    <tr>\n      <th>83</th>\n      <td>04</td>\n      <td>24</td>\n      <td>0.037791</td>\n    </tr>\n    <tr>\n      <th>84</th>\n      <td>04</td>\n      <td>25</td>\n      <td>0.076974</td>\n    </tr>\n    <tr>\n      <th>85</th>\n      <td>04</td>\n      <td>26</td>\n      <td>0.098792</td>\n    </tr>\n    <tr>\n      <th>86</th>\n      <td>04</td>\n      <td>27</td>\n      <td>0.062627</td>\n    </tr>\n    <tr>\n      <th>87</th>\n      <td>04</td>\n      <td>28</td>\n      <td>0.053734</td>\n    </tr>\n    <tr>\n      <th>88</th>\n      <td>04</td>\n      <td>29</td>\n      <td>0.008441</td>\n    </tr>\n    <tr>\n      <th>89</th>\n      <td>04</td>\n      <td>30</td>\n      <td>0.085108</td>\n    </tr>\n    <tr>\n      <th>90</th>\n      <td>05</td>\n      <td>01</td>\n      <td>0.096116</td>\n    </tr>\n    <tr>\n      <th>91</th>\n      <td>05</td>\n      <td>02</td>\n      <td>0.065662</td>\n    </tr>\n    <tr>\n      <th>92</th>\n      <td>05</td>\n      <td>03</td>\n      <td>0.073501</td>\n    </tr>\n    <tr>\n      <th>93</th>\n      <td>05</td>\n      <td>04</td>\n      <td>0.101291</td>\n    </tr>\n    <tr>\n      <th>94</th>\n      <td>05</td>\n      <td>05</td>\n      <td>0.091992</td>\n    </tr>\n    <tr>\n      <th>95</th>\n      <td>05</td>\n      <td>06</td>\n      <td>0.046628</td>\n    </tr>\n    <tr>\n      <th>96</th>\n      <td>05</td>\n      <td>07</td>\n      <td>0.055578</td>\n    </tr>\n    <tr>\n      <th>97</th>\n      <td>05</td>\n      <td>08</td>\n      <td>0.048195</td>\n    </tr>\n    <tr>\n      <th>98</th>\n      <td>05</td>\n      <td>09</td>\n      <td>0.025984</td>\n    </tr>\n    <tr>\n      <th>99</th>\n      <td>05</td>\n      <td>10</td>\n      <td>0.040323</td>\n    </tr>\n    <tr>\n      <th>100</th>\n      <td>05</td>\n      <td>11</td>\n      <td>0.034980</td>\n    </tr>\n    <tr>\n      <th>101</th>\n      <td>05</td>\n      <td>12</td>\n      <td>0.092151</td>\n    </tr>\n    <tr>\n      <th>102</th>\n      <td>05</td>\n      <td>13</td>\n      <td>0.091799</td>\n    </tr>\n    <tr>\n      <th>103</th>\n      <td>05</td>\n      <td>14</td>\n      <td>0.076536</td>\n    </tr>\n    <tr>\n      <th>104</th>\n      <td>05</td>\n      <td>15</td>\n      <td>0.089623</td>\n    </tr>\n    <tr>\n      <th>105</th>\n      <td>05</td>\n      <td>16</td>\n      <td>0.091910</td>\n    </tr>\n    <tr>\n      <th>106</th>\n      <td>05</td>\n      <td>17</td>\n      <td>0.037059</td>\n    </tr>\n    <tr>\n      <th>107</th>\n      <td>05</td>\n      <td>18</td>\n      <td>0.081625</td>\n    </tr>\n    <tr>\n      <th>108</th>\n      <td>05</td>\n      <td>19</td>\n      <td>0.090693</td>\n    </tr>\n    <tr>\n      <th>109</th>\n      <td>05</td>\n      <td>20</td>\n      <td>0.081700</td>\n    </tr>\n    <tr>\n      <th>110</th>\n      <td>05</td>\n      <td>21</td>\n      <td>0.051819</td>\n    </tr>\n    <tr>\n      <th>111</th>\n      <td>05</td>\n      <td>22</td>\n      <td>0.031546</td>\n    </tr>\n    <tr>\n      <th>112</th>\n      <td>05</td>\n      <td>23</td>\n      <td>0.096921</td>\n    </tr>\n    <tr>\n      <th>113</th>\n      <td>05</td>\n      <td>24</td>\n      <td>0.122458</td>\n    </tr>\n    <tr>\n      <th>114</th>\n      <td>05</td>\n      <td>25</td>\n      <td>0.045960</td>\n    </tr>\n    <tr>\n      <th>115</th>\n      <td>05</td>\n      <td>26</td>\n      <td>0.075844</td>\n    </tr>\n    <tr>\n      <th>116</th>\n      <td>05</td>\n      <td>27</td>\n      <td>0.098930</td>\n    </tr>\n    <tr>\n      <th>117</th>\n      <td>05</td>\n      <td>28</td>\n      <td>0.037827</td>\n    </tr>\n    <tr>\n      <th>118</th>\n      <td>05</td>\n      <td>29</td>\n      <td>0.082459</td>\n    </tr>\n    <tr>\n      <th>119</th>\n      <td>05</td>\n      <td>30</td>\n      <td>0.065861</td>\n    </tr>\n    <tr>\n      <th>120</th>\n      <td>05</td>\n      <td>31</td>\n      <td>0.055654</td>\n    </tr>\n    <tr>\n      <th>121</th>\n      <td>06</td>\n      <td>01</td>\n      <td>0.062580</td>\n    </tr>\n    <tr>\n      <th>122</th>\n      <td>06</td>\n      <td>02</td>\n      <td>0.043968</td>\n    </tr>\n    <tr>\n      <th>123</th>\n      <td>06</td>\n      <td>03</td>\n      <td>0.056685</td>\n    </tr>\n    <tr>\n      <th>124</th>\n      <td>06</td>\n      <td>04</td>\n      <td>0.078888</td>\n    </tr>\n    <tr>\n      <th>125</th>\n      <td>06</td>\n      <td>05</td>\n      <td>0.026876</td>\n    </tr>\n    <tr>\n      <th>126</th>\n      <td>06</td>\n      <td>06</td>\n      <td>0.055910</td>\n    </tr>\n    <tr>\n      <th>127</th>\n      <td>06</td>\n      <td>07</td>\n      <td>0.034720</td>\n    </tr>\n    <tr>\n      <th>128</th>\n      <td>06</td>\n      <td>08</td>\n      <td>0.047255</td>\n    </tr>\n    <tr>\n      <th>129</th>\n      <td>06</td>\n      <td>09</td>\n      <td>0.055605</td>\n    </tr>\n    <tr>\n      <th>130</th>\n      <td>06</td>\n      <td>10</td>\n      <td>0.078707</td>\n    </tr>\n    <tr>\n      <th>131</th>\n      <td>06</td>\n      <td>11</td>\n      <td>0.081109</td>\n    </tr>\n    <tr>\n      <th>132</th>\n      <td>06</td>\n      <td>12</td>\n      <td>0.055105</td>\n    </tr>\n    <tr>\n      <th>133</th>\n      <td>06</td>\n      <td>13</td>\n      <td>0.092216</td>\n    </tr>\n    <tr>\n      <th>134</th>\n      <td>06</td>\n      <td>14</td>\n      <td>0.055915</td>\n    </tr>\n    <tr>\n      <th>135</th>\n      <td>06</td>\n      <td>15</td>\n      <td>0.100884</td>\n    </tr>\n    <tr>\n      <th>136</th>\n      <td>06</td>\n      <td>16</td>\n      <td>0.021690</td>\n    </tr>\n    <tr>\n      <th>137</th>\n      <td>06</td>\n      <td>17</td>\n      <td>0.105259</td>\n    </tr>\n    <tr>\n      <th>138</th>\n      <td>06</td>\n      <td>18</td>\n      <td>0.039279</td>\n    </tr>\n    <tr>\n      <th>139</th>\n      <td>06</td>\n      <td>19</td>\n      <td>0.048582</td>\n    </tr>\n    <tr>\n      <th>140</th>\n      <td>06</td>\n      <td>20</td>\n      <td>0.073533</td>\n    </tr>\n    <tr>\n      <th>141</th>\n      <td>06</td>\n      <td>21</td>\n      <td>0.063217</td>\n    </tr>\n    <tr>\n      <th>142</th>\n      <td>06</td>\n      <td>22</td>\n      <td>0.079772</td>\n    </tr>\n    <tr>\n      <th>143</th>\n      <td>06</td>\n      <td>23</td>\n      <td>0.085584</td>\n    </tr>\n    <tr>\n      <th>144</th>\n      <td>06</td>\n      <td>24</td>\n      <td>0.090005</td>\n    </tr>\n    <tr>\n      <th>145</th>\n      <td>06</td>\n      <td>25</td>\n      <td>0.063805</td>\n    </tr>\n    <tr>\n      <th>146</th>\n      <td>06</td>\n      <td>26</td>\n      <td>0.097470</td>\n    </tr>\n    <tr>\n      <th>147</th>\n      <td>06</td>\n      <td>27</td>\n      <td>0.088254</td>\n    </tr>\n    <tr>\n      <th>148</th>\n      <td>06</td>\n      <td>28</td>\n      <td>0.070547</td>\n    </tr>\n    <tr>\n      <th>149</th>\n      <td>06</td>\n      <td>29</td>\n      <td>0.028565</td>\n    </tr>\n    <tr>\n      <th>150</th>\n      <td>06</td>\n      <td>30</td>\n      <td>0.056926</td>\n    </tr>\n    <tr>\n      <th>151</th>\n      <td>07</td>\n      <td>01</td>\n      <td>0.021221</td>\n    </tr>\n    <tr>\n      <th>152</th>\n      <td>07</td>\n      <td>02</td>\n      <td>0.092339</td>\n    </tr>\n    <tr>\n      <th>153</th>\n      <td>07</td>\n      <td>03</td>\n      <td>0.101268</td>\n    </tr>\n    <tr>\n      <th>154</th>\n      <td>07</td>\n      <td>04</td>\n      <td>0.024105</td>\n    </tr>\n    <tr>\n      <th>155</th>\n      <td>07</td>\n      <td>05</td>\n      <td>0.104751</td>\n    </tr>\n    <tr>\n      <th>156</th>\n      <td>07</td>\n      <td>06</td>\n      <td>0.102793</td>\n    </tr>\n    <tr>\n      <th>157</th>\n      <td>07</td>\n      <td>07</td>\n      <td>0.016046</td>\n    </tr>\n    <tr>\n      <th>158</th>\n      <td>07</td>\n      <td>08</td>\n      <td>0.084953</td>\n    </tr>\n    <tr>\n      <th>159</th>\n      <td>07</td>\n      <td>09</td>\n      <td>0.024256</td>\n    </tr>\n    <tr>\n      <th>160</th>\n      <td>07</td>\n      <td>10</td>\n      <td>0.075997</td>\n    </tr>\n    <tr>\n      <th>161</th>\n      <td>07</td>\n      <td>11</td>\n      <td>0.089191</td>\n    </tr>\n    <tr>\n      <th>162</th>\n      <td>07</td>\n      <td>12</td>\n      <td>0.092964</td>\n    </tr>\n    <tr>\n      <th>163</th>\n      <td>07</td>\n      <td>13</td>\n      <td>0.092419</td>\n    </tr>\n    <tr>\n      <th>164</th>\n      <td>07</td>\n      <td>14</td>\n      <td>0.053571</td>\n    </tr>\n    <tr>\n      <th>165</th>\n      <td>07</td>\n      <td>15</td>\n      <td>0.084075</td>\n    </tr>\n    <tr>\n      <th>166</th>\n      <td>07</td>\n      <td>16</td>\n      <td>0.112711</td>\n    </tr>\n    <tr>\n      <th>167</th>\n      <td>07</td>\n      <td>17</td>\n      <td>0.008151</td>\n    </tr>\n    <tr>\n      <th>168</th>\n      <td>07</td>\n      <td>18</td>\n      <td>0.105423</td>\n    </tr>\n    <tr>\n      <th>169</th>\n      <td>07</td>\n      <td>19</td>\n      <td>0.090489</td>\n    </tr>\n    <tr>\n      <th>170</th>\n      <td>07</td>\n      <td>20</td>\n      <td>0.063101</td>\n    </tr>\n    <tr>\n      <th>171</th>\n      <td>07</td>\n      <td>21</td>\n      <td>0.030893</td>\n    </tr>\n    <tr>\n      <th>172</th>\n      <td>07</td>\n      <td>22</td>\n      <td>0.039435</td>\n    </tr>\n    <tr>\n      <th>173</th>\n      <td>07</td>\n      <td>23</td>\n      <td>0.071775</td>\n    </tr>\n    <tr>\n      <th>174</th>\n      <td>07</td>\n      <td>24</td>\n      <td>0.049352</td>\n    </tr>\n    <tr>\n      <th>175</th>\n      <td>07</td>\n      <td>25</td>\n      <td>0.049972</td>\n    </tr>\n    <tr>\n      <th>176</th>\n      <td>07</td>\n      <td>26</td>\n      <td>0.022877</td>\n    </tr>\n    <tr>\n      <th>177</th>\n      <td>07</td>\n      <td>27</td>\n      <td>0.064994</td>\n    </tr>\n    <tr>\n      <th>178</th>\n      <td>07</td>\n      <td>28</td>\n      <td>0.073016</td>\n    </tr>\n    <tr>\n      <th>179</th>\n      <td>07</td>\n      <td>29</td>\n      <td>0.029279</td>\n    </tr>\n    <tr>\n      <th>180</th>\n      <td>07</td>\n      <td>30</td>\n      <td>0.037157</td>\n    </tr>\n    <tr>\n      <th>181</th>\n      <td>07</td>\n      <td>31</td>\n      <td>0.033410</td>\n    </tr>\n    <tr>\n      <th>182</th>\n      <td>08</td>\n      <td>01</td>\n      <td>0.059541</td>\n    </tr>\n    <tr>\n      <th>183</th>\n      <td>08</td>\n      <td>02</td>\n      <td>0.029746</td>\n    </tr>\n    <tr>\n      <th>184</th>\n      <td>08</td>\n      <td>03</td>\n      <td>0.033778</td>\n    </tr>\n    <tr>\n      <th>185</th>\n      <td>08</td>\n      <td>04</td>\n      <td>0.049713</td>\n    </tr>\n    <tr>\n      <th>186</th>\n      <td>08</td>\n      <td>05</td>\n      <td>0.018925</td>\n    </tr>\n    <tr>\n      <th>187</th>\n      <td>08</td>\n      <td>06</td>\n      <td>0.034026</td>\n    </tr>\n    <tr>\n      <th>188</th>\n      <td>08</td>\n      <td>07</td>\n      <td>0.019125</td>\n    </tr>\n    <tr>\n      <th>189</th>\n      <td>08</td>\n      <td>08</td>\n      <td>0.065623</td>\n    </tr>\n    <tr>\n      <th>190</th>\n      <td>08</td>\n      <td>09</td>\n      <td>0.021116</td>\n    </tr>\n    <tr>\n      <th>191</th>\n      <td>08</td>\n      <td>10</td>\n      <td>0.058133</td>\n    </tr>\n    <tr>\n      <th>192</th>\n      <td>08</td>\n      <td>11</td>\n      <td>0.049764</td>\n    </tr>\n    <tr>\n      <th>193</th>\n      <td>08</td>\n      <td>12</td>\n      <td>0.079263</td>\n    </tr>\n    <tr>\n      <th>194</th>\n      <td>08</td>\n      <td>13</td>\n      <td>0.082278</td>\n    </tr>\n    <tr>\n      <th>195</th>\n      <td>08</td>\n      <td>14</td>\n      <td>-0.005725</td>\n    </tr>\n    <tr>\n      <th>196</th>\n      <td>08</td>\n      <td>15</td>\n      <td>0.032260</td>\n    </tr>\n    <tr>\n      <th>197</th>\n      <td>08</td>\n      <td>16</td>\n      <td>0.054189</td>\n    </tr>\n    <tr>\n      <th>198</th>\n      <td>08</td>\n      <td>17</td>\n      <td>0.046881</td>\n    </tr>\n    <tr>\n      <th>199</th>\n      <td>08</td>\n      <td>18</td>\n      <td>0.024284</td>\n    </tr>\n    <tr>\n      <th>200</th>\n      <td>08</td>\n      <td>19</td>\n      <td>0.051969</td>\n    </tr>\n    <tr>\n      <th>201</th>\n      <td>08</td>\n      <td>20</td>\n      <td>0.043045</td>\n    </tr>\n    <tr>\n      <th>202</th>\n      <td>08</td>\n      <td>21</td>\n      <td>0.047607</td>\n    </tr>\n    <tr>\n      <th>203</th>\n      <td>08</td>\n      <td>22</td>\n      <td>0.015114</td>\n    </tr>\n    <tr>\n      <th>204</th>\n      <td>08</td>\n      <td>23</td>\n      <td>0.032432</td>\n    </tr>\n    <tr>\n      <th>205</th>\n      <td>08</td>\n      <td>24</td>\n      <td>0.051546</td>\n    </tr>\n    <tr>\n      <th>206</th>\n      <td>08</td>\n      <td>25</td>\n      <td>0.062742</td>\n    </tr>\n    <tr>\n      <th>207</th>\n      <td>08</td>\n      <td>26</td>\n      <td>0.038217</td>\n    </tr>\n    <tr>\n      <th>208</th>\n      <td>08</td>\n      <td>27</td>\n      <td>0.056440</td>\n    </tr>\n    <tr>\n      <th>209</th>\n      <td>08</td>\n      <td>28</td>\n      <td>0.099921</td>\n    </tr>\n    <tr>\n      <th>210</th>\n      <td>08</td>\n      <td>29</td>\n      <td>0.052413</td>\n    </tr>\n    <tr>\n      <th>211</th>\n      <td>08</td>\n      <td>30</td>\n      <td>0.056021</td>\n    </tr>\n    <tr>\n      <th>212</th>\n      <td>08</td>\n      <td>31</td>\n      <td>0.055815</td>\n    </tr>\n    <tr>\n      <th>213</th>\n      <td>09</td>\n      <td>01</td>\n      <td>0.088005</td>\n    </tr>\n    <tr>\n      <th>214</th>\n      <td>09</td>\n      <td>02</td>\n      <td>0.096420</td>\n    </tr>\n    <tr>\n      <th>215</th>\n      <td>09</td>\n      <td>03</td>\n      <td>0.032110</td>\n    </tr>\n    <tr>\n      <th>216</th>\n      <td>09</td>\n      <td>04</td>\n      <td>0.048264</td>\n    </tr>\n    <tr>\n      <th>217</th>\n      <td>09</td>\n      <td>05</td>\n      <td>0.070424</td>\n    </tr>\n  </tbody>\n</table>\n</div>"
     },
     "execution_count": 8,
     "metadata": {},
     "output_type": "execute_result"
    }
   ],
   "source": [
    "config = {\n",
    "    'month': 'first',\n",
    "    'day': 'first',\n",
    "    'sentiment': 'mean'\n",
    "}\n",
    "days = tweets.groupby(['month', 'day']).agg(config).reset_index(drop=True)\n",
    "days"
   ],
   "metadata": {
    "collapsed": false,
    "pycharm": {
     "name": "#%%\n"
    }
   }
  },
  {
   "cell_type": "code",
   "execution_count": 9,
   "outputs": [],
   "source": [
    "X = range(len(days))\n",
    "sentiment = days.sentiment\n",
    "Zero = [0 for x in X]"
   ],
   "metadata": {
    "collapsed": false,
    "pycharm": {
     "name": "#%%\n"
    }
   }
  },
  {
   "cell_type": "code",
   "execution_count": 10,
   "outputs": [
    {
     "data": {
      "text/plain": "[<matplotlib.lines.Line2D at 0x1a743650bc8>,\n <matplotlib.lines.Line2D at 0x1a743863f08>]"
     },
     "execution_count": 10,
     "metadata": {},
     "output_type": "execute_result"
    },
    {
     "data": {
      "text/plain": "<Figure size 432x288 with 1 Axes>",
      "image/png": "[encoded data removed]"
     },
     "metadata": {
      "needs_background": "light"
     },
     "output_type": "display_data"
    }
   ],
   "source": [
    "plot(X, sentiment, 'b', X, Zero, 'black')"
   ],
   "metadata": {
    "collapsed": false,
    "pycharm": {
     "name": "#%%\n"
    }
   }
  },
  {
   "cell_type": "markdown",
   "source": [
    "# months statistics"
   ],
   "metadata": {
    "collapsed": false
   }
  },
  {
   "cell_type": "code",
   "execution_count": 11,
   "outputs": [
    {
     "data": {
      "text/plain": "  month day  sentiment\n0    02  29   0.062686\n1    03  31   0.079293\n2    04  30   0.071298\n3    05  31   0.062952\n4    06  30   0.063733\n5    07  31   0.059132\n6    08  31   0.040589\n7    09  05   0.067839",
      "text/html": "<div>\n<style scoped>\n    .dataframe tbody tr th:only-of-type {\n        vertical-align: middle;\n    }\n\n    .dataframe tbody tr th {\n        vertical-align: top;\n    }\n\n    .dataframe thead th {\n        text-align: right;\n    }\n</style>\n<table border=\"1\" class=\"dataframe\">\n  <thead>\n    <tr style=\"text-align: right;\">\n      <th></th>\n      <th>month</th>\n      <th>day</th>\n      <th>sentiment</th>\n    </tr>\n  </thead>\n  <tbody>\n    <tr>\n      <th>0</th>\n      <td>02</td>\n      <td>29</td>\n      <td>0.062686</td>\n    </tr>\n    <tr>\n      <th>1</th>\n      <td>03</td>\n      <td>31</td>\n      <td>0.079293</td>\n    </tr>\n    <tr>\n      <th>2</th>\n      <td>04</td>\n      <td>30</td>\n      <td>0.071298</td>\n    </tr>\n    <tr>\n      <th>3</th>\n      <td>05</td>\n      <td>31</td>\n      <td>0.062952</td>\n    </tr>\n    <tr>\n      <th>4</th>\n      <td>06</td>\n      <td>30</td>\n      <td>0.063733</td>\n    </tr>\n    <tr>\n      <th>5</th>\n      <td>07</td>\n      <td>31</td>\n      <td>0.059132</td>\n    </tr>\n    <tr>\n      <th>6</th>\n      <td>08</td>\n      <td>31</td>\n      <td>0.040589</td>\n    </tr>\n    <tr>\n      <th>7</th>\n      <td>09</td>\n      <td>05</td>\n      <td>0.067839</td>\n    </tr>\n  </tbody>\n</table>\n</div>"
     },
     "execution_count": 11,
     "metadata": {},
     "output_type": "execute_result"
    }
   ],
   "source": [
    "config = {\n",
    "    'month': 'first',\n",
    "    'day': 'first',\n",
    "    'sentiment': 'mean'\n",
    "}\n",
    "months = tweets.groupby('month').agg(config).reset_index(drop=True)\n",
    "months"
   ],
   "metadata": {
    "collapsed": false,
    "pycharm": {
     "name": "#%%\n"
    }
   }
  },
  {
   "cell_type": "code",
   "execution_count": 12,
   "outputs": [],
   "source": [
    "X = months.month\n",
    "sentiment = months.sentiment\n",
    "Zero = [0 for x in range(len(months.month))]"
   ],
   "metadata": {
    "collapsed": false,
    "pycharm": {
     "name": "#%%\n"
    }
   }
  },
  {
   "cell_type": "code",
   "execution_count": 13,
   "outputs": [
    {
     "data": {
      "text/plain": "[<matplotlib.lines.Line2D at 0x1a7435938c8>,\n <matplotlib.lines.Line2D at 0x1a7435610c8>]"
     },
     "execution_count": 13,
     "metadata": {},
     "output_type": "execute_result"
    },
    {
     "data": {
      "text/plain": "<Figure size 432x288 with 1 Axes>",
      "image/png": "[encoded data removed]"
     },
     "metadata": {
      "needs_background": "light"
     },
     "output_type": "display_data"
    }
   ],
   "source": [
    "plot(X, sentiment, 'b', X, Zero, 'black')"
   ],
   "metadata": {
    "collapsed": false,
    "pycharm": {
     "name": "#%%\n"
    }
   }
  },
  {
   "cell_type": "markdown",
   "source": [
    "# Observations\n",
    "\n",
    "- The people sentiment curve.\n",
    "- It visualize the change in people sentiment/view on corona over time.\n",
    "- Useful for checking the people care about corona. \n",
    "- `y increase == people are more neutral or positve == they either don't care anymore or the situation is getting better`\n"
   ],
   "metadata": {
    "collapsed": false
   }
  },
  {
   "cell_type": "code",
   "execution_count": 13,
   "outputs": [],
   "source": [],
   "metadata": {
    "collapsed": false,
    "pycharm": {
     "name": "#%%\n"
    }
   }
  }
 ],
 "metadata": {
  "kernelspec": {
   "display_name": "Python 3",
   "language": "python",
   "name": "python3"
  },
  "language_info": {
   "codemirror_mode": {
    "name": "ipython",
    "version": 3
   },
   "file_extension": ".py",
   "mimetype": "text/x-python",
   "name": "python",
   "nbconvert_exporter": "python",
   "pygments_lexer": "ipython3",
   "version": "3.7.5"
  }
 },
 "nbformat": 4,
 "nbformat_minor": 4
}