{
 "cells": [
  {
   "cell_type": "code",
   "execution_count": 19,
   "metadata": {
    "pycharm": {
     "name": "#%%\n"
    }
   },
   "outputs": [],
   "source": [
    "import pandas as pd\n",
    "import matplotlib.pyplot as plt\n",
    "from textblob import TextBlob\n",
    "import flair"
   ]
  },
  {
   "cell_type": "markdown",
   "metadata": {},
   "source": [
    "# config"
   ]
  },
  {
   "cell_type": "code",
   "execution_count": 20,
   "metadata": {
    "pycharm": {
     "name": "#%%\n"
    }
   },
   "outputs": [
    {
     "data": {
      "text/html": [
       "<style>.container { width:80% !important; }</style>"
      ],
      "text/plain": [
       "<IPython.core.display.HTML object>"
      ]
     },
     "metadata": {},
     "output_type": "display_data"
    }
   ],
   "source": [
    "cases_data = 'corona_lb_data.csv'\n",
    "tweets_data = '..\\\\tweets_data.csv'\n",
    "save_to = '..\\\\tweets_sentiment.csv'\n",
    "\n",
    "\n",
    "pd.set_option('display.max_rows', 255)\n",
    "\n",
    "from IPython.core.display import display, HTML\n",
    "display(HTML(\"<style>.container { width:80% !important; }</style>\"))"
   ]
  },
  {
   "cell_type": "markdown",
   "metadata": {},
   "source": [
    "# load tweets"
   ]
  },
  {
   "cell_type": "code",
   "execution_count": 21,
   "metadata": {
    "pycharm": {
     "name": "#%%\n"
    }
   },
   "outputs": [
    {
     "data": {
      "text/html": [
       "<div>\n",
       "<style scoped>\n",
       "    .dataframe tbody tr th:only-of-type {\n",
       "        vertical-align: middle;\n",
       "    }\n",
       "\n",
       "    .dataframe tbody tr th {\n",
       "        vertical-align: top;\n",
       "    }\n",
       "\n",
       "    .dataframe thead th {\n",
       "        text-align: right;\n",
       "    }\n",
       "</style>\n",
       "<table border=\"1\" class=\"dataframe\">\n",
       "  <thead>\n",
       "    <tr style=\"text-align: right;\">\n",
       "      <th></th>\n",
       "      <th>username</th>\n",
       "      <th>time</th>\n",
       "      <th>text</th>\n",
       "      <th>tags</th>\n",
       "      <th>translated_text</th>\n",
       "      <th>location</th>\n",
       "      <th>latitude</th>\n",
       "      <th>longitude</th>\n",
       "      <th>KADAA_ID</th>\n",
       "      <th>KADAA_AR</th>\n",
       "      <th>KADAA_EN</th>\n",
       "      <th>MOHAFAZA_ID</th>\n",
       "      <th>MOHAFAZA_AR</th>\n",
       "      <th>MOHAFAZA_EN</th>\n",
       "    </tr>\n",
       "  </thead>\n",
       "  <tbody>\n",
       "    <tr>\n",
       "      <th>0</th>\n",
       "      <td>Fouad Badaro</td>\n",
       "      <td>2020-09-05</td>\n",
       "      <td>#Corona #COVIDー19 Official Numbers in Lebanon ...</td>\n",
       "      <td>['#Corona', '#كورونا_لبنان', '#كورونا', '#Stay...</td>\n",
       "      <td>#Corona #COVIDー19 Official Numbers in Lebanon ...</td>\n",
       "      <td>بيروت</td>\n",
       "      <td>33.8719</td>\n",
       "      <td>35.5097</td>\n",
       "      <td>31000</td>\n",
       "      <td>بيروت</td>\n",
       "      <td>Beirut</td>\n",
       "      <td>3</td>\n",
       "      <td>بيروت</td>\n",
       "      <td>Beirut</td>\n",
       "    </tr>\n",
       "    <tr>\n",
       "      <th>1</th>\n",
       "      <td>الكابتين</td>\n",
       "      <td>2020-09-05</td>\n",
       "      <td>#كورونا_لبنان \\n#coronavirus</td>\n",
       "      <td>['#كورونا_لبنان', '#coronavirus']</td>\n",
       "      <td># Corona_Lebanon\\n#coronavirus</td>\n",
       "      <td>بيروت</td>\n",
       "      <td>33.8719</td>\n",
       "      <td>35.5097</td>\n",
       "      <td>31000</td>\n",
       "      <td>بيروت</td>\n",
       "      <td>Beirut</td>\n",
       "      <td>3</td>\n",
       "      <td>بيروت</td>\n",
       "      <td>Beirut</td>\n",
       "    </tr>\n",
       "    <tr>\n",
       "      <th>2</th>\n",
       "      <td>سفير الشمال</td>\n",
       "      <td>2020-09-05</td>\n",
       "      <td>إدارة منتجع “البالما” توضح.. ماذا قالت عن إصاب...</td>\n",
       "      <td>['#لبنان', '#كورونا']</td>\n",
       "      <td>The management of the \"Palma\" resort explains ...</td>\n",
       "      <td>ارة</td>\n",
       "      <td>33.5403</td>\n",
       "      <td>35.3800</td>\n",
       "      <td>81000</td>\n",
       "      <td>صيدا</td>\n",
       "      <td>Saida</td>\n",
       "      <td>8</td>\n",
       "      <td>الجنوب</td>\n",
       "      <td>South</td>\n",
       "    </tr>\n",
       "    <tr>\n",
       "      <th>3</th>\n",
       "      <td>Jihad</td>\n",
       "      <td>2020-09-05</td>\n",
       "      <td>عاجل: وزارة الصحة اللبنانية: 415 إصابة كورونا...</td>\n",
       "      <td>['#كورونا_لبنان']</td>\n",
       "      <td>Urgent: The Lebanese Ministry of Health: 415 C...</td>\n",
       "      <td>حالات</td>\n",
       "      <td>34.0828</td>\n",
       "      <td>35.6541</td>\n",
       "      <td>56000</td>\n",
       "      <td>جبيل</td>\n",
       "      <td>Jbeil</td>\n",
       "      <td>5</td>\n",
       "      <td>جبل لبنان</td>\n",
       "      <td>Mount Lebanon</td>\n",
       "    </tr>\n",
       "    <tr>\n",
       "      <th>4</th>\n",
       "      <td>Ali H. Merii</td>\n",
       "      <td>2020-09-05</td>\n",
       "      <td>أخيرا بكرا ٧ ايلول بتخلص التعبئة العامة وبترجع...</td>\n",
       "      <td>['#كورونا_لبنان']</td>\n",
       "      <td>Finally, the 7 of September gets rid of the ge...</td>\n",
       "      <td>المشحاة</td>\n",
       "      <td>34.0500</td>\n",
       "      <td>35.7250</td>\n",
       "      <td>55000</td>\n",
       "      <td>كسروان</td>\n",
       "      <td>Kesserouane</td>\n",
       "      <td>5</td>\n",
       "      <td>جبل لبنان</td>\n",
       "      <td>Mount Lebanon</td>\n",
       "    </tr>\n",
       "  </tbody>\n",
       "</table>\n",
       "</div>"
      ],
      "text/plain": [
       "       username        time  \\\n",
       "0  Fouad Badaro  2020-09-05   \n",
       "1      الكابتين  2020-09-05   \n",
       "2   سفير الشمال  2020-09-05   \n",
       "3         Jihad  2020-09-05   \n",
       "4  Ali H. Merii  2020-09-05   \n",
       "\n",
       "                                                text  \\\n",
       "0  #Corona #COVIDー19 Official Numbers in Lebanon ...   \n",
       "1                       #كورونا_لبنان \\n#coronavirus   \n",
       "2  إدارة منتجع “البالما” توضح.. ماذا قالت عن إصاب...   \n",
       "3  عاجل: وزارة الصحة اللبنانية: 415 إصابة كورونا...   \n",
       "4  أخيرا بكرا ٧ ايلول بتخلص التعبئة العامة وبترجع...   \n",
       "\n",
       "                                                tags  \\\n",
       "0  ['#Corona', '#كورونا_لبنان', '#كورونا', '#Stay...   \n",
       "1                  ['#كورونا_لبنان', '#coronavirus']   \n",
       "2                              ['#لبنان', '#كورونا']   \n",
       "3                                  ['#كورونا_لبنان']   \n",
       "4                                  ['#كورونا_لبنان']   \n",
       "\n",
       "                                     translated_text location  latitude  \\\n",
       "0  #Corona #COVIDー19 Official Numbers in Lebanon ...    بيروت   33.8719   \n",
       "1                     # Corona_Lebanon\\n#coronavirus    بيروت   33.8719   \n",
       "2  The management of the \"Palma\" resort explains ...      ارة   33.5403   \n",
       "3  Urgent: The Lebanese Ministry of Health: 415 C...    حالات   34.0828   \n",
       "4  Finally, the 7 of September gets rid of the ge...  المشحاة   34.0500   \n",
       "\n",
       "   longitude  KADAA_ID KADAA_AR     KADAA_EN  MOHAFAZA_ID MOHAFAZA_AR  \\\n",
       "0    35.5097     31000    بيروت       Beirut            3       بيروت   \n",
       "1    35.5097     31000    بيروت       Beirut            3       بيروت   \n",
       "2    35.3800     81000     صيدا        Saida            8      الجنوب   \n",
       "3    35.6541     56000     جبيل        Jbeil            5   جبل لبنان   \n",
       "4    35.7250     55000   كسروان  Kesserouane            5   جبل لبنان   \n",
       "\n",
       "     MOHAFAZA_EN  \n",
       "0         Beirut  \n",
       "1         Beirut  \n",
       "2          South  \n",
       "3  Mount Lebanon  \n",
       "4  Mount Lebanon  "
      ]
     },
     "execution_count": 21,
     "metadata": {},
     "output_type": "execute_result"
    }
   ],
   "source": [
    "tweets = pd.read_csv(tweets_data, header=0)\n",
    "tweets.head()"
   ]
  },
  {
   "cell_type": "markdown",
   "metadata": {},
   "source": [
    "# split date"
   ]
  },
  {
   "cell_type": "code",
   "execution_count": 22,
   "metadata": {
    "pycharm": {
     "name": "#%%\n"
    }
   },
   "outputs": [],
   "source": [
    "tweets[['year', 'month', 'day']] = tweets.time.str.split('-', expand=True)"
   ]
  },
  {
   "cell_type": "markdown",
   "metadata": {},
   "source": [
    "# get sentiment"
   ]
  },
  {
   "cell_type": "code",
   "execution_count": 23,
   "metadata": {
    "pycharm": {
     "name": "#%%\n"
    }
   },
   "outputs": [],
   "source": [
    "def get_sentiments(row):\n",
    "    text_sentiment = TextBlob(row.translated_text).sentiment.polarity\n",
    "    \n",
    "    sentiment_label = 'Neutral'\n",
    "    if text_sentiment > 0:\n",
    "        sentiment_label = 'Positive'\n",
    "    elif text_sentiment < 0:\n",
    "        sentiment_label = 'Negative'\n",
    "    \n",
    "    return pd.Series([text_sentiment, sentiment_label])"
   ]
  },
  {
   "cell_type": "code",
   "execution_count": 24,
   "metadata": {
    "pycharm": {
     "name": "#%%\n"
    }
   },
   "outputs": [],
   "source": [
    "tweets[['sentiment', 'sentiment_label']] = tweets.apply(get_sentiments, axis=1)"
   ]
  },
  {
   "cell_type": "code",
   "execution_count": 25,
   "metadata": {},
   "outputs": [
    {
     "data": {
      "text/html": [
       "<div>\n",
       "<style scoped>\n",
       "    .dataframe tbody tr th:only-of-type {\n",
       "        vertical-align: middle;\n",
       "    }\n",
       "\n",
       "    .dataframe tbody tr th {\n",
       "        vertical-align: top;\n",
       "    }\n",
       "\n",
       "    .dataframe thead th {\n",
       "        text-align: right;\n",
       "    }\n",
       "</style>\n",
       "<table border=\"1\" class=\"dataframe\">\n",
       "  <thead>\n",
       "    <tr style=\"text-align: right;\">\n",
       "      <th></th>\n",
       "      <th>sentiment_label</th>\n",
       "      <th>count_</th>\n",
       "    </tr>\n",
       "  </thead>\n",
       "  <tbody>\n",
       "    <tr>\n",
       "      <th>0</th>\n",
       "      <td>Negative</td>\n",
       "      <td>8638</td>\n",
       "    </tr>\n",
       "    <tr>\n",
       "      <th>1</th>\n",
       "      <td>Neutral</td>\n",
       "      <td>21565</td>\n",
       "    </tr>\n",
       "    <tr>\n",
       "      <th>2</th>\n",
       "      <td>Positive</td>\n",
       "      <td>20685</td>\n",
       "    </tr>\n",
       "  </tbody>\n",
       "</table>\n",
       "</div>"
      ],
      "text/plain": [
       "  sentiment_label  count_\n",
       "0        Negative    8638\n",
       "1         Neutral   21565\n",
       "2        Positive   20685"
      ]
     },
     "execution_count": 25,
     "metadata": {},
     "output_type": "execute_result"
    }
   ],
   "source": [
    "sentiment = tweets.groupby('sentiment_label')['text'].count().reset_index().rename(columns={'text': 'count_'})\n",
    "sentiment"
   ]
  },
  {
   "cell_type": "code",
   "execution_count": 26,
   "metadata": {},
   "outputs": [
    {
     "name": "stdout",
     "output_type": "stream",
     "text": [
      "2020-10-01 17:30:30,125 loading file C:\\Users\\Ali\\.flair\\models\\sentiment-en-mix-distillbert_3.1.pt\n"
     ]
    }
   ],
   "source": [
    "flair_sentiment = flair.models.TextClassifier.load('en-sentiment')\n",
    "\n",
    "def get_flair_sentiment(text):\n",
    "    s = flair.data.Sentence(text)\n",
    "    flair_sentiment.predict(s)\n",
    "    sentiment = s.labels[0]\n",
    "    return pd.Series([sentiment.score, sentiment.value])"
   ]
  },
  {
   "cell_type": "code",
   "execution_count": 27,
   "metadata": {},
   "outputs": [],
   "source": [
    "tweets[['sentiment2', 'sentiment_label2']] = tweets.translated_text.apply(get_flair_sentiment)"
   ]
  },
  {
   "cell_type": "code",
   "execution_count": 28,
   "metadata": {},
   "outputs": [
    {
     "data": {
      "text/html": [
       "<div>\n",
       "<style scoped>\n",
       "    .dataframe tbody tr th:only-of-type {\n",
       "        vertical-align: middle;\n",
       "    }\n",
       "\n",
       "    .dataframe tbody tr th {\n",
       "        vertical-align: top;\n",
       "    }\n",
       "\n",
       "    .dataframe thead th {\n",
       "        text-align: right;\n",
       "    }\n",
       "</style>\n",
       "<table border=\"1\" class=\"dataframe\">\n",
       "  <thead>\n",
       "    <tr style=\"text-align: right;\">\n",
       "      <th></th>\n",
       "      <th>sentiment_label2</th>\n",
       "      <th>count_</th>\n",
       "    </tr>\n",
       "  </thead>\n",
       "  <tbody>\n",
       "    <tr>\n",
       "      <th>0</th>\n",
       "      <td>NEGATIVE</td>\n",
       "      <td>27987</td>\n",
       "    </tr>\n",
       "    <tr>\n",
       "      <th>1</th>\n",
       "      <td>POSITIVE</td>\n",
       "      <td>22901</td>\n",
       "    </tr>\n",
       "  </tbody>\n",
       "</table>\n",
       "</div>"
      ],
      "text/plain": [
       "  sentiment_label2  count_\n",
       "0         NEGATIVE   27987\n",
       "1         POSITIVE   22901"
      ]
     },
     "execution_count": 28,
     "metadata": {},
     "output_type": "execute_result"
    }
   ],
   "source": [
    "sentiment2 = tweets.groupby('sentiment_label2')['text'].count().reset_index().rename(columns={'text': 'count_'})\n",
    "sentiment2"
   ]
  },
  {
   "cell_type": "code",
   "execution_count": 32,
   "metadata": {},
   "outputs": [
    {
     "data": {
      "image/png": "[encoded data removed]",
      "text/plain": [
       "<Figure size 432x288 with 2 Axes>"
      ]
     },
     "metadata": {},
     "output_type": "display_data"
    }
   ],
   "source": [
    "f, (ax1, ax2) = plt.subplots(1, 2)\n",
    "\n",
    "ax1.pie(sentiment.count_.values.tolist(), labels=sentiment.sentiment_label.values.tolist())\n",
    "\n",
    "ax2.pie(sentiment2.count_.values.tolist(), labels=sentiment2.sentiment_label2.values.tolist())"
   ]
  },
  {
   "cell_type": "markdown",
   "metadata": {},
   "source": [
    "# save"
   ]
  },
  {
   "cell_type": "code",
   "execution_count": 33,
   "metadata": {
    "pycharm": {
     "name": "#%%\n"
    }
   },
   "outputs": [],
   "source": [
    "tweets.to_csv(save_to, index=False)"
   ]
  }
 ],
 "metadata": {
  "kernelspec": {
   "display_name": "Python 3",
   "language": "python",
   "name": "python3"
  },
  "language_info": {
   "codemirror_mode": {
    "name": "ipython",
    "version": 3
   },
   "file_extension": ".py",
   "mimetype": "text/x-python",
   "name": "python",
   "nbconvert_exporter": "python",
   "pygments_lexer": "ipython3",
   "version": "3.7.5"
  }
 },
 "nbformat": 4,
 "nbformat_minor": 4
}
