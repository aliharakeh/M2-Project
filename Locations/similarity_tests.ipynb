{
 "cells": [
  {
   "cell_type": "code",
   "execution_count": 10,
   "metadata": {},
   "outputs": [],
   "source": [
    "import jellyfish"
   ]
  },
  {
   "cell_type": "markdown",
   "metadata": {},
   "source": [
    "# 1. Phonetic Encoding (English Characters Only)\n",
    "These algorithms convert a string to a normalized phonetic encoding, converting a word to a representation of its pronunciation. Each takes a single string and returns a coded representation."
   ]
  },
  {
   "cell_type": "markdown",
   "metadata": {},
   "source": [
    "## 1.1. American Soundex\n",
    "Soundex is an algorithm to convert a word (typically a name) to a four digit code in the form ‘A123’ where ‘A’ is the first letter of the name and the digits represent similar sounds.\n",
    "\n",
    "For example `soundex('Ann') == soundex('Anne') == 'A500'` and `soundex('Rupert') == soundex('Robert') == 'R163'`.\n",
    "\n",
    "https://en.wikipedia.org/wiki/Soundex"
   ]
  },
  {
   "cell_type": "code",
   "execution_count": 11,
   "metadata": {},
   "outputs": [
    {
     "data": {
      "text/plain": [
       "'J412'"
      ]
     },
     "execution_count": 11,
     "metadata": {},
     "output_type": "execute_result"
    }
   ],
   "source": [
    "jellyfish.soundex(u'Jellyfish')"
   ]
  },
  {
   "cell_type": "markdown",
   "metadata": {},
   "source": [
    "## 1.2. Metaphone\n",
    "The metaphone algorithm was designed as an improvement on Soundex. It transforms a word into a string consisting of ‘0BFHJKLMNPRSTWXY’ where ‘0’ is pronounced ‘th’ and ‘X’ is a ‘[sc]h’ sound.\n",
    "\n",
    "For example `metaphone('Klumpz') == metaphone('Clumps') == 'KLMPS'`.\n",
    "\n",
    "https://en.wikipedia.org/wiki/Metaphone"
   ]
  },
  {
   "cell_type": "code",
   "execution_count": 12,
   "metadata": {},
   "outputs": [
    {
     "data": {
      "text/plain": [
       "'JLFX'"
      ]
     },
     "execution_count": 12,
     "metadata": {},
     "output_type": "execute_result"
    }
   ],
   "source": [
    "jellyfish.metaphone(u'Jellyfish')"
   ]
  },
  {
   "cell_type": "markdown",
   "metadata": {},
   "source": [
    "## 1.3. NYSIIS\n",
    "The NYSIIS algorithm is an algorithm developed by the New York State Identification and Intelligence System. It transforms a word into a phonetic code. Like soundex and metaphone it is primarily intended for use on names (as they would be pronounced in English).\n",
    "\n",
    "For example `nysiis('John') == nysiis('Jan') == JAN`.\n",
    "\n",
    "https://en.wikipedia.org/wiki/New_York_State_Identification_and_Intelligence_System"
   ]
  },
  {
   "cell_type": "code",
   "execution_count": 13,
   "metadata": {},
   "outputs": [
    {
     "data": {
      "text/plain": [
       "'JALYF'"
      ]
     },
     "execution_count": 13,
     "metadata": {},
     "output_type": "execute_result"
    }
   ],
   "source": [
    "jellyfish.nysiis(u'Jellyfish')"
   ]
  },
  {
   "cell_type": "markdown",
   "metadata": {},
   "source": [
    "## 1.4. Match Rating Approach (codex)\n",
    "The Match rating approach algorithm is an algorithm for determining whether or not two names are pronounced similarly. The algorithm consists of an encoding function (similar to soundex or nysiis) which is implemented here as well as `match_rating_comparison()` which does the actual comparison.\n",
    "\n",
    "https://en.wikipedia.org/wiki/Match_rating_approach"
   ]
  },
  {
   "cell_type": "code",
   "execution_count": 14,
   "metadata": {},
   "outputs": [
    {
     "data": {
      "text/plain": [
       "'JLYFSH'"
      ]
     },
     "execution_count": 14,
     "metadata": {},
     "output_type": "execute_result"
    }
   ],
   "source": [
    "jellyfish.match_rating_codex(u'Jellyfish')"
   ]
  },
  {
   "cell_type": "markdown",
   "metadata": {},
   "source": [
    "-----"
   ]
  },
  {
   "cell_type": "markdown",
   "metadata": {},
   "source": [
    "# 2. String Comparison\n",
    "These methods are all measures of the difference (aka edit distance) between two strings."
   ]
  },
  {
   "cell_type": "markdown",
   "metadata": {},
   "source": [
    "## 2.1. Levenshtein Distance\n",
    "Levenshtein distance represents the number of insertions, deletions, and substitutions required to change one word to another.\n",
    "\n",
    "For example: `levenshtein_distance('berne', 'born') == 2` representing the transformation of the first e to o and the deletion of the second e.\n",
    "\n",
    "https://en.wikipedia.org/wiki/Levenshtein_distance"
   ]
  },
  {
   "cell_type": "code",
   "execution_count": 15,
   "metadata": {},
   "outputs": [
    {
     "name": "stdout",
     "output_type": "stream",
     "text": [
      "2 edit(s)\n"
     ]
    }
   ],
   "source": [
    "distance = jellyfish.levenshtein_distance(u'jellyfish', u'smellyfish')\n",
    "print(distance, 'edit(s)')"
   ]
  },
  {
   "cell_type": "markdown",
   "metadata": {},
   "source": [
    "## 2.2. Damerau-Levenshtein Distance\n",
    "A modification of Levenshtein distance, Damerau-Levenshtein distance counts transpositions (such as ifsh for fish) as a single edit.\n",
    "\n",
    "Where `levenshtein_distance('fish', 'ifsh') == 2` as it would require a deletion and an insertion, though `damerau_levenshtein_distance('fish', 'ifsh') == 1` as this counts as a transposition.\n",
    "\n",
    "https://en.wikipedia.org/wiki/Damerau%E2%80%93Levenshtein_distance"
   ]
  },
  {
   "cell_type": "code",
   "execution_count": 16,
   "metadata": {},
   "outputs": [
    {
     "name": "stdout",
     "output_type": "stream",
     "text": [
      "1 edit(s)\n"
     ]
    }
   ],
   "source": [
    "distance = jellyfish.damerau_levenshtein_distance(u'jellyfish', u'jellyfihs')\n",
    "print(distance, 'edit(s)')"
   ]
  },
  {
   "cell_type": "markdown",
   "metadata": {},
   "source": [
    "## 2.3. Hamming Distance\n",
    "Hamming distance is the measure of the number of characters that differ between two strings.\n",
    "\n",
    "Typically Hamming distance is undefined when strings are of different length, but this implementation considers extra characters as differing. For example `hamming_distance('abc', 'abcd') == 1`.\n",
    "\n",
    "https://en.wikipedia.org/wiki/Hamming_distance"
   ]
  },
  {
   "cell_type": "code",
   "execution_count": 17,
   "metadata": {},
   "outputs": [
    {
     "name": "stdout",
     "output_type": "stream",
     "text": [
      "9 different character(s)\n"
     ]
    }
   ],
   "source": [
    "distance = jellyfish.hamming_distance(u'jellyfish', u'smellyfish')\n",
    "print(distance, 'different character(s)')"
   ]
  }
 ],
 "metadata": {
  "kernelspec": {
   "display_name": "Python 3",
   "language": "python",
   "name": "python3"
  },
  "language_info": {
   "codemirror_mode": {
    "name": "ipython",
    "version": 3
   },
   "file_extension": ".py",
   "mimetype": "text/x-python",
   "name": "python",
   "nbconvert_exporter": "python",
   "pygments_lexer": "ipython3",
   "version": "3.7.5"
  }
 },
 "nbformat": 4,
 "nbformat_minor": 4
}
