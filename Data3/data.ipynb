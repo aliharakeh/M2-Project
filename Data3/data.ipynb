{
 "cells": [
  {
   "cell_type": "code",
   "execution_count": 3,
   "metadata": {
    "collapsed": true
   },
   "outputs": [],
   "source": [
    "import pandas as pd\n",
    "from Text_Mining.info_extraction import InfoExtraction"
   ]
  },
  {
   "cell_type": "code",
   "execution_count": 8,
   "outputs": [
    {
     "name": "stderr",
     "output_type": "stream",
     "text": [
      "d:\\desktop\\github\\m2-project\\twittervenv\\lib\\site-packages\\IPython\\core\\interactiveshell.py:3072: DtypeWarning: Columns (9) have mixed types.Specify dtype option on import or set low_memory=False.\n",
      "  interactivity=interactivity, compiler=compiler, result=result)\n"
     ]
    }
   ],
   "source": [
    "df = pd.read_csv('tweets.csv', header=0)\n",
    "df = df[['tweet', 'username']]\n",
    "info = InfoExtraction(df, 'tweet')"
   ],
   "metadata": {
    "collapsed": false,
    "pycharm": {
     "name": "#%%\n"
    }
   }
  },
  {
   "cell_type": "code",
   "execution_count": 9,
   "outputs": [
    {
     "data": {
      "text/plain": "                                               tweet        username\n0                                2 days break Corona       maroungh1\n1                  I don’t think its a corona matter      karampeter\n2  So the minister of health went on to brag abou...     assafnicole\n3  Lhamdela kelshi tamem... corona w kaza 😂😂 i wi...  nabillllllll75\n4  Aywaa a7la chi...\\nBa3d l corona khalas fi naz...         perejad",
      "text/html": "<div>\n<style scoped>\n    .dataframe tbody tr th:only-of-type {\n        vertical-align: middle;\n    }\n\n    .dataframe tbody tr th {\n        vertical-align: top;\n    }\n\n    .dataframe thead th {\n        text-align: right;\n    }\n</style>\n<table border=\"1\" class=\"dataframe\">\n  <thead>\n    <tr style=\"text-align: right;\">\n      <th></th>\n      <th>tweet</th>\n      <th>username</th>\n    </tr>\n  </thead>\n  <tbody>\n    <tr>\n      <th>0</th>\n      <td>2 days break Corona</td>\n      <td>maroungh1</td>\n    </tr>\n    <tr>\n      <th>1</th>\n      <td>I don’t think its a corona matter</td>\n      <td>karampeter</td>\n    </tr>\n    <tr>\n      <th>2</th>\n      <td>So the minister of health went on to brag abou...</td>\n      <td>assafnicole</td>\n    </tr>\n    <tr>\n      <th>3</th>\n      <td>Lhamdela kelshi tamem... corona w kaza 😂😂 i wi...</td>\n      <td>nabillllllll75</td>\n    </tr>\n    <tr>\n      <th>4</th>\n      <td>Aywaa a7la chi...\\nBa3d l corona khalas fi naz...</td>\n      <td>perejad</td>\n    </tr>\n  </tbody>\n</table>\n</div>"
     },
     "execution_count": 9,
     "metadata": {},
     "output_type": "execute_result"
    }
   ],
   "source": [
    "df.head()"
   ],
   "metadata": {
    "collapsed": false,
    "pycharm": {
     "name": "#%%\n"
    }
   }
  },
  {
   "cell_type": "code",
   "execution_count": 10,
   "outputs": [
    {
     "data": {
      "text/plain": "                                               tweet        username lang\n0                                2 days break Corona       maroungh1   en\n1                  I don’t think its a corona matter      karampeter   en\n2  So the minister of health went on to brag abou...     assafnicole   en\n3  Lhamdela kelshi tamem... corona w kaza 😂😂 i wi...  nabillllllll75   en\n4  Aywaa a7la chi...\\nBa3d l corona khalas fi naz...         perejad   ar",
      "text/html": "<div>\n<style scoped>\n    .dataframe tbody tr th:only-of-type {\n        vertical-align: middle;\n    }\n\n    .dataframe tbody tr th {\n        vertical-align: top;\n    }\n\n    .dataframe thead th {\n        text-align: right;\n    }\n</style>\n<table border=\"1\" class=\"dataframe\">\n  <thead>\n    <tr style=\"text-align: right;\">\n      <th></th>\n      <th>tweet</th>\n      <th>username</th>\n      <th>lang</th>\n    </tr>\n  </thead>\n  <tbody>\n    <tr>\n      <th>0</th>\n      <td>2 days break Corona</td>\n      <td>maroungh1</td>\n      <td>en</td>\n    </tr>\n    <tr>\n      <th>1</th>\n      <td>I don’t think its a corona matter</td>\n      <td>karampeter</td>\n      <td>en</td>\n    </tr>\n    <tr>\n      <th>2</th>\n      <td>So the minister of health went on to brag abou...</td>\n      <td>assafnicole</td>\n      <td>en</td>\n    </tr>\n    <tr>\n      <th>3</th>\n      <td>Lhamdela kelshi tamem... corona w kaza 😂😂 i wi...</td>\n      <td>nabillllllll75</td>\n      <td>en</td>\n    </tr>\n    <tr>\n      <th>4</th>\n      <td>Aywaa a7la chi...\\nBa3d l corona khalas fi naz...</td>\n      <td>perejad</td>\n      <td>ar</td>\n    </tr>\n  </tbody>\n</table>\n</div>"
     },
     "execution_count": 10,
     "metadata": {},
     "output_type": "execute_result"
    }
   ],
   "source": [
    "from LebaneseTranslation.translate import LanguageUtil\n",
    "lang = LanguageUtil()\n",
    "df['lang'] = df['tweet'].apply(lang.detect_language)\n",
    "df.head()"
   ],
   "metadata": {
    "collapsed": false,
    "pycharm": {
     "name": "#%%\n"
    }
   }
  },
  {
   "cell_type": "code",
   "execution_count": 11,
   "outputs": [],
   "source": [
    "df.to_csv('tweets_v2.csv')"
   ],
   "metadata": {
    "collapsed": false,
    "pycharm": {
     "name": "#%%\n"
    }
   }
  },
  {
   "cell_type": "code",
   "execution_count": 35,
   "outputs": [
    {
     "data": {
      "text/plain": "                                               tweet        username lang\n0                                 2 days break orona       maroungh1   en\n1                     dont think its a corona matter      karampeter   en\n2  o the minister of health went on to brag about...     assafnicole   en\n3  hamdela kelshi tamem corona w kaza  i will com...  nabillllllll75   en\n4  ywaa a7la chi\\na3d l corona khalas fi nazle kh...         perejad   ar",
      "text/html": "<div>\n<style scoped>\n    .dataframe tbody tr th:only-of-type {\n        vertical-align: middle;\n    }\n\n    .dataframe tbody tr th {\n        vertical-align: top;\n    }\n\n    .dataframe thead th {\n        text-align: right;\n    }\n</style>\n<table border=\"1\" class=\"dataframe\">\n  <thead>\n    <tr style=\"text-align: right;\">\n      <th></th>\n      <th>tweet</th>\n      <th>username</th>\n      <th>lang</th>\n    </tr>\n  </thead>\n  <tbody>\n    <tr>\n      <th>0</th>\n      <td>2 days break orona</td>\n      <td>maroungh1</td>\n      <td>en</td>\n    </tr>\n    <tr>\n      <th>1</th>\n      <td>dont think its a corona matter</td>\n      <td>karampeter</td>\n      <td>en</td>\n    </tr>\n    <tr>\n      <th>2</th>\n      <td>o the minister of health went on to brag about...</td>\n      <td>assafnicole</td>\n      <td>en</td>\n    </tr>\n    <tr>\n      <th>3</th>\n      <td>hamdela kelshi tamem corona w kaza  i will com...</td>\n      <td>nabillllllll75</td>\n      <td>en</td>\n    </tr>\n    <tr>\n      <th>4</th>\n      <td>ywaa a7la chi\\na3d l corona khalas fi nazle kh...</td>\n      <td>perejad</td>\n      <td>ar</td>\n    </tr>\n  </tbody>\n</table>\n</div>"
     },
     "execution_count": 35,
     "metadata": {},
     "output_type": "execute_result"
    }
   ],
   "source": [
    "import re\n",
    "ARABIC_REGEX = '[\\u0621-\\u064A]+'\n",
    "SPACES = ' \\t\\n'\n",
    "AR_LETTERS = 'ابتثجحخدذرزسشصضطظعغفقكلمنهويء'\n",
    "EN_LETTERS = 'abcdefghijklmnopqrstuvwxyz'\n",
    "LB_LETTERS = EN_LETTERS + '23578' + SPACES\n",
    "def remove_non_letters(string):\n",
    "    letters_only = []\n",
    "    for char in string:\n",
    "        if char in LB_LETTERS:\n",
    "            letters_only.append(char)\n",
    "    return ''.join(letters_only)\n",
    "df_2 = df.copy()\n",
    "# df_2['is_lb'] = df_2['tweet'].apply(lambda x: re.search(ARABIC_REGEX, x) is None)\n",
    "df_2['tweet'] = df['tweet'].apply(remove_non_letters)\n",
    "df_2.head()"
   ],
   "metadata": {
    "collapsed": false,
    "pycharm": {
     "name": "#%%\n"
    }
   }
  },
  {
   "cell_type": "code",
   "execution_count": 36,
   "outputs": [],
   "source": [
    "df_2.to_csv('tweets_v3.csv')"
   ],
   "metadata": {
    "collapsed": false,
    "pycharm": {
     "name": "#%%\n"
    }
   }
  },
  {
   "cell_type": "code",
   "execution_count": null,
   "outputs": [],
   "source": [
    "\n"
   ],
   "metadata": {
    "collapsed": false,
    "pycharm": {
     "name": "#%%\n"
    }
   }
  }
 ],
 "metadata": {
  "kernelspec": {
   "display_name": "Python 3",
   "language": "python",
   "name": "python3"
  },
  "language_info": {
   "codemirror_mode": {
    "name": "ipython",
    "version": 2
   },
   "file_extension": ".py",
   "mimetype": "text/x-python",
   "name": "python",
   "nbconvert_exporter": "python",
   "pygments_lexer": "ipython2",
   "version": "2.7.6"
  }
 },
 "nbformat": 4,
 "nbformat_minor": 0
}