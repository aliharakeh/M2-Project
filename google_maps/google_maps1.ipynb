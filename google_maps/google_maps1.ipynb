{
 "cells": [
  {
   "cell_type": "code",
   "execution_count": 44,
   "metadata": {},
   "outputs": [],
   "source": [
    "import requests\n",
    "import json\n",
    "import re"
   ]
  },
  {
   "cell_type": "code",
   "execution_count": 13,
   "metadata": {},
   "outputs": [],
   "source": [
    "url = \"https://www.google.com/search?tbm=map&authuser=0&hl=en&gl=lb&pb=!4m12!1m3!1d64653.2798905912!2d35.469177051551384!3d33.88928457259864!2m3!1f0!2f0!3f0!3m2!1i1065!2i937!4f13.1!7i20!10b1!12m8!1m1!18b1!2m3!5m1!6e2!20e3!10b1!16b1!19m4!2m3!1i360!2i120!4i8!20m57!2m2!1i203!2i100!3m2!2i4!5b1!6m6!1m2!1i86!2i86!1m2!1i408!2i240!7m42!1m3!1e1!2b0!3e3!1m3!1e2!2b1!3e2!1m3!1e2!2b0!3e3!1m3!1e3!2b0!3e3!1m3!1e8!2b0!3e3!1m3!1e3!2b1!3e2!1m3!1e9!2b1!3e2!1m3!1e10!2b0!3e3!1m3!1e10!2b1!3e2!1m3!1e10!2b0!3e4!2b1!4b1!9b0!22m6!1slqhjX4S1M4a6ggfF66XoBg%3A2!2zMWk6Myx0OjExODg3LGU6MixwOmxxaGpYNFMxTTRhNmdnZkY2NlhvQmc6Mg!7e81!12e3!17slqhjX4S1M4a6ggfF66XoBg%3A145!18e15!24m53!1m13!13m6!2b1!3b1!4b1!6i1!8b1!9b1!18m5!3b1!4b1!5b1!6b1!9b1!2b1!5m5!2b1!3b1!5b1!6b1!7b1!10m1!8e3!14m1!3b1!17b1!20m4!1e3!1e6!1e14!1e15!21e2!24b1!25b1!26b1!29b1!30m1!2b1!36b1!43b1!52b1!54m1!1b1!55b1!56m2!1b1!3b1!65m5!3m4!1m3!1m2!1i224!2i298!26m4!2m3!1i80!2i92!4i8!30m28!1m6!1m2!1i0!2i0!2m2!1i458!2i937!1m6!1m2!1i1015!2i0!2m2!1i1065!2i937!1m6!1m2!1i0!2i0!2m2!1i1065!2i20!1m6!1m2!1i0!2i917!2m2!1i1065!2i937!34m14!2b1!3b1!4b1!6b1!8m4!1b1!3b1!4b1!6b1!9b1!12b1!14b1!20b1!23b1!37m1!1e81!42b1!47m0!49m1!3b1!50m4!2e2!3m2!1b1!3b1!65m0&q=shwyfat&gs_l=maps.12...0.0.3.13014.0.0.0.0.0.0.0.0..0.0....0...1ac..64.maps..0.0.0....0.&tch=1&ech=2&psi=lqhjX4S1M4a6ggfF66XoBg.1600366747200.1\""
   ]
  },
  {
   "cell_type": "code",
   "execution_count": 14,
   "metadata": {},
   "outputs": [],
   "source": [
    "payload = {}\n",
    "headers= {}\n",
    "\n",
    "response = requests.request(\"GET\", url, headers=headers, data = payload)"
   ]
  },
  {
   "cell_type": "code",
   "execution_count": 15,
   "metadata": {},
   "outputs": [],
   "source": [
    "text = response.text.encode('utf8')"
   ]
  },
  {
   "cell_type": "code",
   "execution_count": 16,
   "metadata": {},
   "outputs": [
    {
     "data": {
      "text/plain": [
       "b'{\"c\":0,\"d\":\")]}\\'\\\\n[[\\\\\"shwayfat\\\\\",[[null,null,null,null,null,null,null,null,\\\\\"7LFjX-uFCpGflwSgiojQAQ\\\\\",\\\\\"0ahUKEwjrq4fN7_DrAhWRz4UKHSAFAhoQmBkIAigA\\\\\",null,null,null,[\\\\\"\\\\\\\\u003cb\\\\\\\\u003e\\\\\\\\u003ci\\\\\\\\u003eshwyfat\\\\\\\\u003c\\\\/i\\\\\\\\u003e\\\\\\\\u003c\\\\/b\\\\\\\\u003e\\\\\",\\\\\"\\\\\\\\u003cb\\\\\\\\u003e\\\\\\\\u003ci\\\\\\\\u003eshwayfat\\\\\\\\u003c\\\\/i\\\\\\\\u003e\\\\\\\\u003c\\\\/b\\\\\\\\u003e\\\\\",[[\\\\\"shwyfat\\\\\",\\\\\"shwayfat\\\\\"]\\\\n]\\\\n,null,null,1,null,\\\\\"0ahUKEwjrq4fN7_DrAhWRz4UKHSAFAhoQvAUIAygA\\\\\",[null,\\\\\"\\\\\\\\u003cb\\\\\\\\u003e\\\\\\\\u003ci\\\\\\\\u003eshwyfat\\\\\\\\u003c\\\\/i\\\\\\\\u003e\\\\\\\\u003c\\\\/b\\\\\\\\u003e\\\\\"]\\\\n,[null,\\\\\"\\\\\\\\u003cb\\\\\\\\u003e\\\\\\\\u003ci\\\\\\\\u003eshwayfat\\\\\\\\u003c\\\\/i\\\\\\\\u003e\\\\\\\\u003c\\\\/b\\\\\\\\u003e\\\\\"]\\\\n]\\\\n]\\\\n,[null,null,null,null,null,null,null,null,\\\\\"7LFjX-uFCpGflwSgiojQAQ\\\\\",\\\\\"0ahUKEwjrq4fN7_DrAhWRz4UKHSAFAhoQmBkIBCgB\\\\\",null,null,null,null,[\\\\\"7LFjX-uFCpGflwSgiojQAQ\\\\\",\\\\\"0ahUKEwjrq4fN7_DrAhWRz4UKHSAFAhoQ8BcIBSgAMAA\\\\\",null,null,null,null,null,null,null,[null,null,33.8095311,35.5198113]\\\\n,\\\\\"0x151f19aafb7cf2d7:0xcf88762c7c287baa\\\\\",\\\\\"Chouaifet El Aamroussieh\\\\\",null,null,null,null,null,1,\\\\\"Chouaifet El Aamroussieh\\\\\",null,null,null,null,null,null,[null,null,null,null,null,null,null,null,null,null,null,null,null,null,null,null,null,null,[[[1]\\\\n,\\\\\"Favorites\\\\\",null,1,null,null,null,null,null,null,null,\\\\\"0ahUKEwjrq4fN7_DrAhWRz4UKHSAFAhoQwaQDCAsoADAA\\\\\"]\\\\n,[[2]\\\\n,\\\\\"Want to go\\\\\",null,1,null,null,null,null,null,null,null,\\\\\"0ahUKEwjrq4fN7_DrAhWRz4UKHSAFAhoQwaQDCAwoATAA\\\\\"]\\\\n,[[4]\\\\n,\\\\\"Starred places\\\\\",null,1,null,null,null,null,null,null,null,\\\\\"0ahUKEwjrq4fN7_DrAhWRz4UKHSAFAhoQwaQDCA0oAjAA\\\\\"]\\\\n]\\\\n,null,null,null,\\\\\"0ahUKEwjrq4fN7_DrAhWRz4UKHSAFAhoQ0JcGCAooBDAA\\\\\"]\\\\n,null,null,null,null,\\\\\"Asia\\\\/Beirut\\\\\",null,null,null,null,null,null,[[[\\\\\"AF1QipOzEQ4aW5rsdNR1wafilWM8wzpVLVfRAfhpvCpG\\\\\",10,12,\\\\\"\\\\\",null,147.96614,[\\\\\"https:\\\\/\\\\/lh5.googleusercontent.com\\\\/p\\\\/AF1QipOzEQ4aW5rsdNR1wafilWM8wzpVLVfRAfhpvCpG\\\\\\\\u003dw122-h92-k-no\\\\\",\\\\\"34+ Photos\\\\\",[2576,1932]\\\\n,[80,92]\\\\n]\\\\n,null,[[3.0,35.51981126922114,33.80953107898592]\\\\n,[0.0,90.0]\\\\n,[2576,1932]\\\\n,75.0]\\\\n,\\\\\"7LFjX-uFCpGflwSgiojQAQ\\\\\",\\\\\"0ahUKEwjrq4fN7_DrAhWRz4UKHSAFAhoQzCcIDygAMAA\\\\\",null,null,null,null,[[[\\\\\"0x151f19aafb7cf2d7:0xcf88762c7c287baa\\\\\"]\\\\n]\\\\n]\\\\n,null,null,[[null,[\\\\\"\\\\/\\\\/maps.google.com\\\\/maps\\\\/contrib\\\\/109770468913719645900\\\\\",\\\\\"Ibrahim Ali\\\\\",null,\\\\\"0ahUKEwjrq4fN7_DrAhWRz4UKHSAFAhoQyycIESgAMAA\\\\\"]\\\\n,\\\\\"0ahUKEwjrq4fN7_DrAhWRz4UKHSAFAhoQyicIECgAMAA\\\\\"]\\\\n]\\\\n,null,\\\\\"Photo\\\\\",[null,[10,\\\\\"AF1QipOzEQ4aW5rsdNR1wafilWM8wzpVLVfRAfhpvCpG\\\\\"]\\\\n,[10,3,[1932,2576]\\\\n]\\\\n,null,[null,[[[\\\\\"Ibrahim Ali\\\\\"]\\\\n,\\\\\"\\\\/\\\\/maps.google.com\\\\/maps\\\\/contrib\\\\/109770468913719645900\\\\\",null,null,null,\\\\\"109770468913719645900\\\\\"]\\\\n]\\\\n,null,[[null,\\\\\"\\\\/\\\\/picasaweb.google.com\\\\/\\\\\"]\\\\n]\\\\n]\\\\n,[[[2]\\\\n,[[null,null,33.80953107898592,35.51981126922114]\\\\n]\\\\n]\\\\n]\\\\n,[2,null,null,[2]\\\\n,2,[null,null,\\\\\"photos:gmm_android\\\\\",[6,7,4,1,3]\\\\n]\\\\n]\\\\n]\\\\n,1,null,null,null,null,null,null,[\\\\\"1521963421228921559\\\\\",\\\\\"-3492411577592153174\\\\\"]\\\\n,null,\\\\\"uAHmybVBRs0\\\\\"]\\\\n]\\\\n,34,null,\\\\\"7LFjX-uFCpGflwSgiojQAQ\\\\\",null,\\\\\"EvgDKYQi49-NlUMIDwAAAAEAAAMAAAAAAAAAAAAAAAAAAAAAAAAAAAAAAAAAAAAAAAAAAAAAAAAAAIAAAAAAAAAAAAAAAAAAAAAAAAAAAAAAAAAAAAAAAAAAAAAAAAAAAAAAAAAAAAAAAAAAAAAAAAAAAAAAAAAAAAAAAAAAAAAAAAAAAAAAAAAAAAAAAAAAAAAAAAAAAAAAAAAAAAAAAAAAAAAAAAAAABAAAAAAAAAAAAAAAAAAAAAAAAAAAAAAAAAAAAAAAAAAAAAAAAAAAAAAAAAAAAAAAAAAAAAAAAAAAAAAAAAAAAAAAAAAAAAAAAAAAAAAAAAAAAAAAAAAAAAAAAAAAAAAAAAAAAAAAAAAAAAAAAAAAAAAAAAAAAAAAAAAAAAAAAAAAAAAAAAAAAAAAAAAAAAAAAAAAAAAAAAAAAQAAAAAAAAAAAAAAAAAIAAAAAAAAACAAAAAAAAAAAAAAAAAAIAAAAAgAAAAAAAAAAAAAAAAAgAAAAAAAQAAAAAAAAAAAAAAAAAAAAAAAAAAAAAAAAAAAAAAAAAAAAAAAAAAAAAAAAAAAAAAAAAAAAAAAAAAAAAAAAAAAEAAAAAAAAAAAAAAAAAAAAIAAAAAAAAAAAAAAAAAAAAAAAAAAAAAAAAAAAAAAAIAAAAAAAAAAAAAAAAAAAAAGARCVCmEIuPfjZVD6AEAACAAAAADAAAAAAAAAACAAAAAAAAAAAAAAIAAgDAAAAAAAAIAAAAAAABAAAAAJAAAAAAAAAAAAAACAAAAAQIAAAAAAAAAAAAAAA\\\\\",null,null,[[[1,34]\\\\n]\\\\n,0,null,0,34]\\\\n]\\\\n,null,null,null,null,null,null,[null,null,[[\\\\\"Choueifat is one of the biggest and most important cities in southeast of Beirut in Lebanon. The town is a Druze enclave that lies on the eastern side of Beirut\\'s airport.\\\\\"]\\\\n,[null,[\\\\\"\\\\/url?q\\\\\\\\u003dhttps:\\\\/\\\\/en.wikipedia.org\\\\/wiki\\\\/Choueifat\\\\\\\\u0026sa\\\\\\\\u003dU\\\\\\\\u0026ved\\\\\\\\u003d0ahUKEwjrq4fN7_DrAhWRz4UKHSAFAhoQ4lkIGSgAMAA\\\\\\\\u0026usg\\\\\\\\u003dAOvVaw0oAaZMZeVLGqtHfpaBpBLC\\\\\",\\\\\"Wikipedia\\\\\",null,\\\\\"0ahUKEwjrq4fN7_DrAhWRz4UKHSAFAhoQ4lkIGSgAMAA\\\\\"]\\\\n]\\\\n]\\\\n]\\\\n,null,null,null,null,null,null,null,null,null,null,null,null,null,null,null,null,null,null,null,null,null,null,0,null,[\\\\\"\\\\/\\\\/ssl.gstatic.com\\\\/onebox\\\\/weather\\\\/32\\\\/sunny_s_cloudy.png\\\\\",\\\\\"Clear with periodic clouds\\\\\",\\\\\"28\\xc2\\xb0C\\\\\",\\\\\"82\\xc2\\xb0F\\\\\",1]\\\\n,null,null,[[[\\\\\"AF1QipOzEQ4aW5rsdNR1wafilWM8wzpVLVfRAfhpvCpG\\\\\",10,12,\\\\\"\\\\\",null,147.96614,[\\\\\"https:\\\\/\\\\/lh5.googleusercontent.com\\\\/p\\\\/AF1QipOzEQ4aW5rsdNR1wafilWM8wzpVLVfRAfhpvCpG\\\\\\\\u003dw114-h86-k-no\\\\\",\\\\\"Chouaifet El Aamroussieh\\\\\",[2576,1932]\\\\n,[86,86]\\\\n]\\\\n,null,[[3.0,35.51981126922114,33.80953107898592]\\\\n,[0.0,90.0]\\\\n,[2576,1932]\\\\n,75.0]\\\\n,\\\\\"7LFjX-uFCpGflwSgiojQAQ\\\\\",\\\\\"0ahUKEwjrq4fN7_DrAhWRz4UKHSAFAhoQzCcIEigGMAA\\\\\",null,null,null,null,[[[\\\\\"0x151f19aafb7cf2d7:0xcf88762c7c287baa\\\\\"]\\\\n]\\\\n]\\\\n,null,null,[[null,[\\\\\"\\\\/\\\\/maps.google.com\\\\/maps\\\\/contrib\\\\/109770468913719645900\\\\\",\\\\\"Ibrahim Ali\\\\\",null,\\\\\"0ahUKEwjrq4fN7_DrAhWRz4UKHSAFAhoQyycIFCgAMAA\\\\\"]\\\\n,\\\\\"0ahUKEwjrq4fN7_DrAhWRz4UKHSAFAhoQyicIEygAMAA\\\\\"]\\\\n]\\\\n,null,\\\\\"Photo\\\\\",[null,[10,\\\\\"AF1QipOzEQ4aW5rsdNR1wafilWM8wzpVLVfRAfhpvCpG\\\\\"]\\\\n,[10,3,[1932,2576]\\\\n]\\\\n,null,[null,[[[\\\\\"Ibrahim Ali\\\\\"]\\\\n,\\\\\"\\\\/\\\\/maps.google.com\\\\/maps\\\\/contrib\\\\/109770468913719645900\\\\\",null,null,null,\\\\\"109770468913719645900\\\\\"]\\\\n]\\\\n,null,[[null,\\\\\"\\\\/\\\\/picasaweb.google.com\\\\/\\\\\"]\\\\n]\\\\n]\\\\n,[[[2]\\\\n,[[null,null,33.80953107898592,35.51981126922114]\\\\n]\\\\n]\\\\n]\\\\n,[2,null,null,[2]\\\\n,2,[null,null,\\\\\"photos:gmm_android\\\\\",[6,7,4,1,3]\\\\n]\\\\n]\\\\n]\\\\n,1,null,null,null,null,null,null,[\\\\\"1521963421228921559\\\\\",\\\\\"-3492411577592153174\\\\\"]\\\\n,null,\\\\\"uAHmybVBRs0\\\\\"]\\\\n,[\\\\\"AF1QipOzEQ4aW5rsdNR1wafilWM8wzpVLVfRAfhpvCpG\\\\\",10,12,\\\\\"\\\\\",null,147.96614,[\\\\\"https:\\\\/\\\\/lh5.googleusercontent.com\\\\/p\\\\/AF1QipOzEQ4aW5rsdNR1wafilWM8wzpVLVfRAfhpvCpG\\\\\\\\u003dw408-h306-k-no\\\\\",\\\\\"Chouaifet El Aamroussieh\\\\\",[2576,1932]\\\\n,[408,240]\\\\n]\\\\n,null,[[3.0,35.51981126922114,33.80953107898592]\\\\n,[0.0,90.0]\\\\n,[2576,1932]\\\\n,75.0]\\\\n,\\\\\"7LFjX-uFCpGflwSgiojQAQ\\\\\",\\\\\"0ahUKEwjrq4fN7_DrAhWRz4UKHSAFAhoQzCcIFSgHMAA\\\\\",null,null,null,null,[[[\\\\\"0x151f19aafb7cf2d7:0xcf88762c7c287baa\\\\\"]\\\\n]\\\\n]\\\\n,null,null,[[null,[\\\\\"\\\\/\\\\/maps.google.com\\\\/maps\\\\/contrib\\\\/109770468913719645900\\\\\",\\\\\"Ibrahim Ali\\\\\",null,\\\\\"0ahUKEwjrq4fN7_DrAhWRz4UKHSAFAhoQyycIFygAMAA\\\\\"]\\\\n,\\\\\"0ahUKEwjrq4fN7_DrAhWRz4UKHSAFAhoQyicIFigAMAA\\\\\"]\\\\n]\\\\n,null,\\\\\"Photo\\\\\",[null,[10,\\\\\"AF1QipOzEQ4aW5rsdNR1wafilWM8wzpVLVfRAfhpvCpG\\\\\"]\\\\n,[10,3,[1932,2576]\\\\n]\\\\n,null,[null,[[[\\\\\"Ibrahim Ali\\\\\"]\\\\n,\\\\\"\\\\/\\\\/maps.google.com\\\\/maps\\\\/contrib\\\\/109770468913719645900\\\\\",null,null,null,\\\\\"109770468913719645900\\\\\"]\\\\n]\\\\n,null,[[null,\\\\\"\\\\/\\\\/picasaweb.google.com\\\\/\\\\\"]\\\\n]\\\\n]\\\\n,[[[2]\\\\n,[[null,null,33.80953107898592,35.51981126922114]\\\\n]\\\\n]\\\\n]\\\\n,[2,null,null,[2]\\\\n,2,[null,null,\\\\\"photos:gmm_android\\\\\",[6,7,4,1,3]\\\\n]\\\\n]\\\\n]\\\\n,1,null,null,null,null,null,null,[\\\\\"1521963421228921559\\\\\",\\\\\"-3492411577592153174\\\\\"]\\\\n,null,\\\\\"uAHmybVBRs0\\\\\"]\\\\n]\\\\n]\\\\n,null,null,null,null,null,\\\\\"ChIJ1_J8-6oZHxURqnsofCx2iM8\\\\\",1,null,null,[null,null,null,\\\\\"Chouaifet El Aamroussieh\\\\\"]\\\\n,null,null,null,null,null,[null,null,null,\\\\\"Chouaifet El Aamroussieh\\\\\",[null,null,188,187,null,186]\\\\n]\\\\n,\\\\\"\\\\/m\\\\/08j6_z\\\\\",null,null,null,null,1,null,null,null,null,null,null,\\\\\"\\xd8\\xb4\\xd9\\x88\\xd9\\x8a\\xd9\\x81\\xd8\\xa7\\xd8\\xaa \\xd8\\xa7\\xd9\\x84\\xd8\\xb9\\xd9\\x85\\xd8\\xb1\\xd9\\x88\\xd8\\xb3\\xd9\\x8a\\xd8\\xa9\\\\\",null,null,null,null,null,\\\\\"English\\\\\",\\\\\"Arabic\\\\\",null,\\\\\"en\\\\\",\\\\\"ar\\\\\",null,null,null,null,null,null,null,null,null,null,null,null,null,null,null,null,[1]\\\\n,null,0,null,null,null,null,null,null,null,null,null,null,null,null,null,null,null,[0]\\\\n,null,null,null,[null,null,1]\\\\n,null,null,null,null,null,null,null,null,null,null,null,null,null,null,null,\\\\\"Chouaifet El Aamroussieh\\\\\",null,null,null,null,[[[\\\\\"CgIgAQ\\\\\\\\u003d\\\\\\\\u003d\\\\\",\\\\\"0ahUKEwjrq4fN7_DrAhWRz4UKHSAFAhoQhbADCBooCTAA\\\\\",\\\\\"All\\\\\",[[\\\\\"-9iEbAuqojPk\\\\/WmG8kaqm_TI\\\\/AAAAAAAACH0\\\\/7D55QblvZ6QRio1xOvzQpzjhglAEGQRigCLIBGAYYCw\\\\\",4,12,null,null,744.6571,[\\\\\"\\\\/\\\\/lh3.googleusercontent.com\\\\/-9iEbAuqojPk\\\\/WmG8kaqm_TI\\\\/AAAAAAAACH0\\\\/7D55QblvZ6QRio1xOvzQpzjhglAEGQRigCLIBGAYYCw\\\\/w397-h298-k-no\\\\/\\\\\",\\\\\"\\\\\",[2576,1932]\\\\n,[203,100]\\\\n]\\\\n,null,[[3.0,35.51981126922114,33.80953107898592]\\\\n,[0.0,90.0]\\\\n,[2576,1932]\\\\n,75.0]\\\\n,\\\\\"7LFjX-uFCpGflwSgiojQAQ\\\\\",\\\\\"0ahUKEwjrq4fN7_DrAhWRz4UKHSAFAhoQzCcIGygAMAA\\\\\",null,null,null,null,null,null,null,null,null,null,[null,[3,\\\\\"-9iEbAuqojPk\\\\/WmG8kaqm_TI\\\\/AAAAAAAACH0\\\\/7D55QblvZ6QRio1xOvzQpzjhglAEGQRigCLIBGAYYCw\\\\\"]\\\\n,[3,3,[1932,2576]\\\\n]\\\\n,null,null,[[[2]\\\\n,[[null,null,33.80953107898592,35.51981126922114]\\\\n]\\\\n]\\\\n]\\\\n,[2,null,null,[2]\\\\n,2,[null,null,\\\\\"photos:gmm_android\\\\\",[6,7,4,1,3]\\\\n]\\\\n]\\\\n]\\\\n,1,null,null,null,null,null,null,[\\\\\"1521963421228921559\\\\\",\\\\\"-3492411577592153174\\\\\"]\\\\n,null,\\\\\"uAHmybVBRs0\\\\\"]\\\\n]\\\\n,null,null,null,null,null,null,0,1]\\\\n]\\\\n]\\\\n,null,null,[\\\\\"https:\\\\/\\\\/www.google.com\\\\/search?q\\\\\\\\u003dlocal+guide+program\\\\\\\\u0026ibp\\\\\\\\u003dgwp;0,26,OjcKNSIxQ2hvdWFpZmV0IEVsIEFhbXJvdXNzaWVoIENob3VhaWZldCBFbCBBYW1yb3Vzc2llaCgC\\\\\\\\u0026pcl\\\\\\\\u003dlp\\\\\"]\\\\n,null,null,null,null,null,null,null,null,[[[7,[[\\\\\"Chouaifet El Aamroussieh\\\\\"]\\\\n]\\\\n]\\\\n,[2,[[\\\\\"Chouaifet El Aamroussieh\\\\\"]\\\\n]\\\\n]\\\\n,[4,[[\\\\\"Chouaifet El Aamroussieh\\\\\"]\\\\n]\\\\n]\\\\n]\\\\n,[null,null,null,\\\\\"Chouaifet El Aamroussieh\\\\\",null,null,\\\\\"LB\\\\\"]\\\\n]\\\\n]\\\\n]\\\\n,[null,null,null,null,null,null,null,null,\\\\\"7LFjX-uFCpGflwSgiojQAQ\\\\\",\\\\\"0ahUKEwjrq4fN7_DrAhWRz4UKHSAFAhoQmBkIHCgC\\\\\",null,null,null,null,[\\\\\"7LFjX-uFCpGflwSgiojQAQ\\\\\",\\\\\"0ahUKEwjrq4fN7_DrAhWRz4UKHSAFAhoQ8BcIHSgAMAE\\\\\",null,null,[null,null,null,[\\\\\"https:\\\\/\\\\/www.google.com\\\\/search?q\\\\\\\\u003dSahret+ech+Chouaifat\\\\\\\\u0026ludocid\\\\\\\\u003d1464603195130395398#lrd\\\\\\\\u003d0x151f19a0dee8d0f5:0x145350d89ea63b06,1\\\\\",\\\\\"4 reviews\\\\\",null,\\\\\"0ahUKEwjrq4fN7_DrAhWRz4UKHSAFAhoQ6W4IISgAMAE\\\\\"]\\\\n,null,null,null,3.0,4]\\\\n,null,null,null,null,[null,null,33.8147222,35.5044444]\\\\n,\\\\\"0x151f19a0dee8d0f5:0x145350d89ea63b06\\\\\",\\\\\"Sahret ech Chouaifat\\\\\",null,[\\\\\"Agricultural\\\\\"]\\\\n,null,null,null,null,\\\\\"Sahret ech Chouaifat\\\\\",null,null,null,null,null,null,[null,null,null,null,null,null,null,null,null,null,null,null,null,null,null,null,null,null,[[[1]\\\\n,\\\\\"Favorites\\\\\",null,1,null,null,null,null,null,null,null,\\\\\"0ahUKEwjrq4fN7_DrAhWRz4UKHSAFAhoQwaQDCCMoADAB\\\\\"]\\\\n,[[2]\\\\n,\\\\\"Want to go\\\\\",null,1,null,null,null,null,null,null,null,\\\\\"0ahUKEwjrq4fN7_DrAhWRz4UKHSAFAhoQwaQDCCQoATAB\\\\\"]\\\\n,[[4]\\\\n,\\\\\"Starred places\\\\\",null,1,null,null,null,null,null,null,null,\\\\\"0ahUKEwjrq4fN7_DrAhWRz4UKHSAFAhoQwaQDCCUoAjAB\\\\\"]\\\\n]\\\\n,null,null,null,\\\\\"0ahUKEwjrq4fN7_DrAhWRz4UKHSAFAhoQ0JcGCCIoAzAB\\\\\"]\\\\n,null,null,null,null,\\\\\"Asia\\\\/Beirut\\\\\",null,null,null,null,null,null,[null,null,null,\\\\\"7LFjX-uFCpGflwSgiojQAQ\\\\\"]\\\\n,null,null,null,null,null,null,null,null,null,null,null,null,null,null,[null,null,null,[1,1,0,1,1]\\\\n,null,null,null,null,null,[\\\\\"Rate and review\\\\\",\\\\\"Share your experience to help others\\\\\",null,1,\\\\\"Share details of your own experience at this place\\\\\",\\\\\"https:\\\\/\\\\/lh3.googleusercontent.com\\\\/a\\\\/default-user\\\\\\\\u003ds40-cc\\\\\",\\\\\"A Google User\\\\\"]\\\\n,null,null,null,null,null,0]\\\\n,null,null,null,null,null,null,null,null,1,null,null,null,null,null,1,null,null,null,null,null,null,null,null,[[\\\\\"agricultural\\\\\"]\\\\n]\\\\n,null,\\\\\"ChIJ9dDo3qAZHxURBjumnthQUxQ\\\\\",null,null,null,null,null,null,null,null,null,[null,null,null,\\\\\"Sahret ech Chouaifat\\\\\",[null,null,188,187,null,186]\\\\n]\\\\n,\\\\\"\\\\/g\\\\/12ls_2szs\\\\\",null,null,null,null,null,null,null,null,null,null,null,null,null,null,null,null,null,\\\\\"English\\\\\",null,null,\\\\\"en\\\\\",null,null,null,null,null,null,null,null,null,null,null,null,null,null,null,null,null,null,null,0,null,null,null,null,null,null,null,null,null,null,null,null,null,null,null,[0]\\\\n,null,null,null,[null,null,1]\\\\n,null,null,null,null,null,null,null,null,null,null,null,null,null,null,null,null,null,null,null,null,null,null,null,[\\\\\"https:\\\\/\\\\/www.google.com\\\\/search?q\\\\\\\\u003dlocal+guide+program\\\\\\\\u0026ibp\\\\\\\\u003dgwp;0,26,OhoKGCIUU2FocmV0IGVjaCBDaG91YWlmYXQoAg\\\\\\\\u0026pcl\\\\\\\\u003dlp\\\\\"]\\\\n,null,null,null,null,null,null,null,null,[[[7,[[\\\\\"Sahret ech Chouaifat\\\\\"]\\\\n]\\\\n]\\\\n,[2,[[\\\\\"Sahret ech Chouaifat\\\\\"]\\\\n]\\\\n]\\\\n]\\\\n,[null,null,null,null,null,null,\\\\\"LB\\\\\"]\\\\n]\\\\n]\\\\n]\\\\n]\\\\n,null,1,null,[\\\\\"1600369132636\\\\\",[[\\\\\"Asia\\\\/Beirut\\\\\",[\\\\\"EET\\\\\",\\\\\"Eastern European Time\\\\\",\\\\\"EEST\\\\\",\\\\\"Eastern European Summer Time\\\\\"]\\\\n,120,[440398,60,445437,0,449134,60,454341,0,457870,60,463077,0,466606,60,471813,0,475510,60,480549,0,484246,60]\\\\n]\\\\n]\\\\n]\\\\n,null,null,null,null,null,0]\\\\n,[[32355.838096958832,35.49457534991942,33.81216026408782]\\\\n,[0.0,0.0,0.0]\\\\n,[1065,937]\\\\n,13.1]\\\\n,null,null,null,null,null,\\\\\"7LFjX-uFCpGflwSgiojQAQ\\\\\",null,[[[5]\\\\n,[6]\\\\n,[9]\\\\n,[10]\\\\n]\\\\n]\\\\n,[[[\\\\\"m\\\\\",[14,9801,6549]\\\\n,13,[524085740,524085740,524131060,524244796,524245840,524245864,524245864,524245864,524245912,524245912,524245912,524245912,524245876,524085740,524085740,524131060,524131060,524245840,524245864,524245888,524245888,524245912,524245912,524245912,524245876,524245876,524085740,524085740,524131060,524131060,524245840,524245864,524245888,524245888,524245912,524245912,524245912,524245840,524245840,524085740,524085740,524131060,524131060,524245840,524245840,524245888,524245888,524245888,524245840,524245840,524245840,524245840,524085740,524085740,524131060,524131060,524245840,524245840,524245840,524245840,524245840,524245840,524245840,524245840,524245840,524085740,524085740,524131060,524131060,524245840,524245840,524245840,524245840,524245840,524245840,524245840,524245840,524245840,524085740,524085740,524148058,524148058,524245840,524245912,524245912,524245912,524245888,524245840,524245840,524245840,524245840,524085740,524085740,524148058,524244832,524245840,524245912,524245912,524245912,524245888,524245816,524245840,524245840,524245840,524085740,524085740,524148058,524245840,524245840,524245912,524245912,524245912,524245888,524245612,524245612,524245192,524244796,524131060,524131060,524131060,524245840,524245840,524245840,524245120,524245492,524245529,524245529,524245529,524245192,524244796,524131060,524131060,524178371,524245840,524245840,524245840,524245120,524245840,524245840,524245840,524245168,524245144,524245144,524131060,524242924,524244796,524244916,524244916,524244916,524244976,524245840,524245840,524245840,524245840,524245840,524245529]\\\\n]\\\\n,[\\\\\"m\\\\\",[13,4900,3274]\\\\n,7,[524233408,524244796,524245840,524245888,524245912,524245912,524245912,524233408,524244796,524245840,524245888,524245912,524245912,524245912,524233408,524233408,524245840,524245888,524245912,524245912,524245912,524233408,524244832,524245840,524245888,524245888,524245888,524245840,524233408,524245840,524245840,524245888,524245888,524245888,524245840,524242924,524245840,524245840,524245888,524245888,524245888,524245840,524243728,524245840,524245840,524245840,524245840,524245840,524245840]\\\\n]\\\\n,[\\\\\"m\\\\\",[15,19608,13104]\\\\n,14,[524131060,524131060,524131060,524206066,524245840,524245840,524245840,524245840,524245840,524245840,524245840,524245840,524245840,524245840,524131060,524131060,524131060,524206066,524245840,524245840,524245840,524245840,524245840,524245840,524245840,524245840,524245840,524245840,524131060,524131060,524131060,524131060,524245840,524245840,524245840,524245840,524245840,524245840,524245840,524245840,524245840,524245840,524131060,524131060,524131060,524131060,524245840,524245840,524245840,524245912,524245912,524245912,524245840,524245840,524245840,524245840,524131060,524131060,524131060,524131060,524245840,524245840,524245840,524245912,524245912,524245912,524245840,524245840,524245840,524245840,524131060,524131060,524131060,524131060,524245144,524245840,524245840,524245912,524245912,524245912,524245840,524245840,524245840,524245840,524131060,524131060,524131060,524131060,524245144,524245144,524245840,524245840,524245840,524245840,524245840,524245816,524245816,524245840,524148058,524148058,524148058,524131060,524245840,524245912,524245912,524245912,524245912,524245888,524245840,524245816,524245816,524245612,524148058,524148058,524148058,524244796,524245840,524245912,524245912,524245912,524245912,524245912,524245912,524245216,524245612,524245612,524148058,524148058,524148058,524244892,524245840,524245912,524245912,524245912,524245912,524245912,524245912,524245529,524245612,524245612,524148058,524148058,524245529,524245529,524245529,524245912,524245912,524245912,524245912,524245912,524245912,524245529,524245529,524245529,524131060,524176000,524245529,524245529,524245529,524245120,524245120,524244796,524244796,524244796,524245600,524245600,524245600,524245529]\\\\n]\\\\n]\\\\n]\\\\n,null,null,null,null,null,[[[2,\\\\\"spotlight\\\\\",null,null,null,null,null,[null,null,null,null,null,null,null,null,null,null,1,[null,null,[[null,null,\\\\\"0x151f19aafb7cf2d7:0xcf88762c7c287baa\\\\\"]\\\\n,[null,null,\\\\\"0x151f19a0dee8d0f5:0x145350d89ea63b06\\\\\"]\\\\n]\\\\n,null,null,null,null,null,null,0]\\\\n,[null,\\\\\"a\\\\\",null,null,null,null,null,null,null,null,null,null,null,null,null,null,null,[null,null,null,null,0,0,null,null,1,null,null,1,null,null,null,0]\\\\n,null,null,null,[null,null,null,null,null,2,3,2]\\\\n]\\\\n,null,null,null,null,null,[12,14,29,30,70]\\\\n,[6]\\\\n]\\\\n]\\\\n]\\\\n,[[52]\\\\n]\\\\n]\\\\n,null,null,null,null,null,null,null,null,null,null,[2]\\\\n,null,null,null,null,null,null,null,\\\\\"Q2dBd0Fn\\\\\",null,[2]\\\\n,0]\\\\n\",\"e\":\"7LFjX-uFCpGflwSgiojQAQ\",\"p\":true,\"u\":\"https:\\\\/\\\\/www.google.com\\\\/search?tbm=map\\\\u0026authuser=0\\\\u0026hl=en\\\\u0026gl=lb\\\\u0026pb=!4m12!1m3!1d64653.2798905912!2d35.469177051551384!3d33.88928457259864!2m3!1f0!2f0!3f0!3m2!1i1065!2i937!4f13.1!7i20!10b1!12m8!1m1!18b1!2m3!5m1!6e2!20e3!10b1!16b1!19m4!2m3!1i360!2i120!4i8!20m57!2m2!1i203!2i100!3m2!2i4!5b1!6m6!1m2!1i86!2i86!1m2!1i408!2i240!7m42!1m3!1e1!2b0!3e3!1m3!1e2!2b1!3e2!1m3!1e2!2b0!3e3!1m3!1e3!2b0!3e3!1m3!1e8!2b0!3e3!1m3!1e3!2b1!3e2!1m3!1e9!2b1!3e2!1m3!1e10!2b0!3e3!1m3!1e10!2b1!3e2!1m3!1e10!2b0!3e4!2b1!4b1!9b0!22m6!1slqhjX4S1M4a6ggfF66XoBg%3A2!2zMWk6Myx0OjExODg3LGU6MixwOmxxaGpYNFMxTTRhNmdnZkY2NlhvQmc6Mg!7e81!12e3!17slqhjX4S1M4a6ggfF66XoBg%3A145!18e15!24m53!1m13!13m6!2b1!3b1!4b1!6i1!8b1!9b1!18m5!3b1!4b1!5b1!6b1!9b1!2b1!5m5!2b1!3b1!5b1!6b1!7b1!10m1!8e3!14m1!3b1!17b1!20m4!1e3!1e6!1e14!1e15!21e2!24b1!25b1!26b1!29b1!30m1!2b1!36b1!43b1!52b1!54m1!1b1!55b1!56m2!1b1!3b1!65m5!3m4!1m3!1m2!1i224!2i298!26m4!2m3!1i80!2i92!4i8!30m28!1m6!1m2!1i0!2i0!2m2!1i458!2i937!1m6!1m2!1i1015!2i0!2m2!1i1065!2i937!1m6!1m2!1i0!2i0!2m2!1i1065!2i20!1m6!1m2!1i0!2i917!2m2!1i1065!2i937!34m14!2b1!3b1!4b1!6b1!8m4!1b1!3b1!4b1!6b1!9b1!12b1!14b1!20b1!23b1!37m1!1e81!42b1!47m0!49m1!3b1!50m4!2e2!3m2!1b1!3b1!65m0\\\\u0026q=shwyfat\\\\u0026gs_l=maps.12...0.0.3.13014.0.0.0.0.0.0.0.0..0.0....0...1ac..64.maps..0.0.0....0.\\\\u0026tch=1\\\\u0026ech=2\\\\u0026psi=lqhjX4S1M4a6ggfF66XoBg.1600366747200.1\"}/*\"\"*/'"
      ]
     },
     "execution_count": 16,
     "metadata": {},
     "output_type": "execute_result"
    }
   ],
   "source": [
    "text"
   ]
  },
  {
   "cell_type": "code",
   "execution_count": 17,
   "metadata": {},
   "outputs": [
    {
     "data": {
      "text/plain": [
       "bytes"
      ]
     },
     "execution_count": 17,
     "metadata": {},
     "output_type": "execute_result"
    }
   ],
   "source": [
    "type(text)"
   ]
  },
  {
   "cell_type": "code",
   "execution_count": 19,
   "metadata": {},
   "outputs": [],
   "source": [
    "text = str(text)"
   ]
  },
  {
   "cell_type": "code",
   "execution_count": 20,
   "metadata": {
    "scrolled": true
   },
   "outputs": [
    {
     "data": {
      "text/plain": [
       "str"
      ]
     },
     "execution_count": 20,
     "metadata": {},
     "output_type": "execute_result"
    }
   ],
   "source": [
    "type(text)"
   ]
  },
  {
   "cell_type": "code",
   "execution_count": 49,
   "metadata": {},
   "outputs": [],
   "source": [
    "PROBLEM_CHARS = r'[\\[=\\+/&<>;:!\\\\|*^\\'\"\\?%$@)(_\\.\\t\\r\\n0-9-—\\]]'"
   ]
  },
  {
   "cell_type": "code",
   "execution_count": 66,
   "metadata": {},
   "outputs": [],
   "source": [
    "filter_ = re.compile(rf'{PROBLEM_CHARS}|null,|\\w*\\d+\\w*')"
   ]
  },
  {
   "cell_type": "code",
   "execution_count": 67,
   "metadata": {},
   "outputs": [
    {
     "data": {
      "text/plain": [
       "'shwayfat,LFjXuFCpGflwSgiojQAQib,ib,shwyfat,shwayfatnnibn,ibnnn,LFjXuFCpGflwSgiojQAQLFjXuFCpGflwSgiojQAQnChouaifet El AamroussiehChouaifet El Aamroussieh,n,Favoritesn,n,Want to gon,n,Starred placesnn,n,AsiaBeiruthttpsgoogleusercontentcompkno, Photosnnnnnn,n,LFjXuFCpGflwSgiojQAQnnn,mapsgooglecommapscontrib,Ibrahim Ali,n,nn,Photonnn,Ibrahim Alin,mapsgooglecommapscontrib,nn,picasawebgooglecomnnn,nnnnnnphotosgmmandroidnnnnn,nnLFjXuFCpGflwSgiojQAQnnnn,Choueifat is one of the biggest and most important cities in southeast of Beirut in Lebanon The town is a Druze enclave that lies on the eastern side of Beiruts airportn,urlqenwikipediaorgwikiChoueifat,Wikipedia,nnnnsslgstaticcomoneboxweathersunnyscloudypng,Clear with periodic cloudsnhttpsgoogleusercontentcompkno,Chouaifet El Aamroussiehnnnnnn,n,LFjXuFCpGflwSgiojQAQnnn,mapsgooglecommapscontrib,Ibrahim Ali,n,nn,Photonnn,Ibrahim Alin,mapsgooglecommapscontrib,nn,picasawebgooglecomnnn,nnnnnnphotosgmmandroidnnnnn,nhttpsgoogleusercontentcompkno,Chouaifet El Aamroussiehnnnnnn,n,LFjXuFCpGflwSgiojQAQnnn,mapsgooglecommapscontrib,Ibrahim Ali,n,nn,Photonnn,Ibrahim Alin,mapsgooglecommapscontrib,nn,picasawebgooglecomnnn,nnnnnnphotosgmmandroidnnnnn,nnnChouaifet El Aamroussiehn,Chouaifet El Aamroussiehnn,mxaa ,English,Arabic,en,ar,nn,n,Chouaifet El Aamroussieh,CgIgAQAll,iEbAuqojPkgoogleusercontentcomiEbAuqojPkknonnnnnn,n,LFjXuFCpGflwSgiojQAQiEbAuqojPknnn,nnnnnnphotosgmmandroidnnnnn,nnnnn,httpswwwgooglecomsearchqguideprogramnChouaifet El AamroussiehnnnChouaifet El AamroussiehnnnChouaifet El Aamroussiehnnnn,Chouaifet El Aamroussieh,LBnnnn,LFjXuFCpGflwSgiojQAQLFjXuFCpGflwSgiojQAQhttpswwwgooglecomsearchqechChouaifat#lrd reviews,nnnSahret ech Chouaifat,Agriculturaln,Sahret ech Chouaifat,n,Favoritesn,n,Want to gon,n,Starred placesnn,n,AsiaBeirut,LFjXuFCpGflwSgiojQAQnn,Rate and review,Share your experience to help othersShare details of your own experience at this place,httpsgoogleusercontentcomadefaultusercc,A Google Usern,nagriculturalnnSahret ech Chouaifatnn,g,English,enn,n,httpswwwgooglecomsearchqguideprogramnSahret ech ChouaifatnnnSahret ech Chouaifatnnnn,LBnnnnnAsiaBeirut,EET,Eastern European Time,EEST,Eastern European Summer Timennnnn,nnnn,n,LFjXuFCpGflwSgiojQAQ,n,n,n,nnn,mnnn,mnnn,mnnnnnspotlightn,nn,n,annnn,nnnn,nnn,nn,n,eLFjXuFCpGflwSgiojQAQ,ptrue,uhttpswwwgooglecomsearchtbmmapenlbshwyfatmapsacmaps}'"
      ]
     },
     "execution_count": 67,
     "metadata": {},
     "output_type": "execute_result"
    }
   ],
   "source": [
    "filtered = re.sub(filter_, '', text[22:])\n",
    "filtered = re.sub(',{2,}', '', filtered)\n",
    "filtered"
   ]
  },
  {
   "cell_type": "code",
   "execution_count": 70,
   "metadata": {},
   "outputs": [
    {
     "data": {
      "text/plain": [
       "{' Photosnnnnnn',\n",
       " 'A Google Usern',\n",
       " 'Agriculturaln',\n",
       " 'Arabic',\n",
       " 'AsiaBeirut',\n",
       " 'AsiaBeiruthttpsgoogleusercontentcompkno',\n",
       " 'CgIgAQAll',\n",
       " 'Chouaifet El Aamroussieh',\n",
       " 'Chouaifet El Aamroussiehnn',\n",
       " 'Chouaifet El Aamroussiehnnnnnn',\n",
       " 'Choueifat is one of the biggest and most important cities in southeast of Beirut in Lebanon The town is a Druze enclave that lies on the eastern side of Beiruts airportn',\n",
       " 'Clear with periodic cloudsnhttpsgoogleusercontentcompkno',\n",
       " 'EEST',\n",
       " 'EET',\n",
       " 'Eastern European Summer Timennnnn',\n",
       " 'Eastern European Time',\n",
       " 'English',\n",
       " 'Favoritesn',\n",
       " 'Ibrahim Ali',\n",
       " 'Ibrahim Alin',\n",
       " 'LBnnnn',\n",
       " 'LBnnnnnAsiaBeirut',\n",
       " 'LFjXuFCpGflwSgiojQAQ',\n",
       " 'LFjXuFCpGflwSgiojQAQLFjXuFCpGflwSgiojQAQhttpswwwgooglecomsearchqechChouaifat#lrd reviews',\n",
       " 'LFjXuFCpGflwSgiojQAQLFjXuFCpGflwSgiojQAQnChouaifet El AamroussiehChouaifet El Aamroussieh',\n",
       " 'LFjXuFCpGflwSgiojQAQiEbAuqojPknnn',\n",
       " 'LFjXuFCpGflwSgiojQAQib',\n",
       " 'LFjXuFCpGflwSgiojQAQnn',\n",
       " 'LFjXuFCpGflwSgiojQAQnnn',\n",
       " 'Photonnn',\n",
       " 'Rate and review',\n",
       " 'Sahret ech Chouaifat',\n",
       " 'Share your experience to help othersShare details of your own experience at this place',\n",
       " 'Starred placesnn',\n",
       " 'Want to gon',\n",
       " 'Wikipedia',\n",
       " 'annnn',\n",
       " 'ar',\n",
       " 'eLFjXuFCpGflwSgiojQAQ',\n",
       " 'en',\n",
       " 'enn',\n",
       " 'g',\n",
       " 'httpsgoogleusercontentcomadefaultusercc',\n",
       " 'httpswwwgooglecomsearchqguideprogramnChouaifet El AamroussiehnnnChouaifet El AamroussiehnnnChouaifet El Aamroussiehnnnn',\n",
       " 'httpswwwgooglecomsearchqguideprogramnSahret ech ChouaifatnnnSahret ech Chouaifatnnnn',\n",
       " 'iEbAuqojPkgoogleusercontentcomiEbAuqojPkknonnnnnn',\n",
       " 'ib',\n",
       " 'ibnnn',\n",
       " 'mapsgooglecommapscontrib',\n",
       " 'mnnn',\n",
       " 'mnnnnnspotlightn',\n",
       " 'mxaa ',\n",
       " 'n',\n",
       " 'nagriculturalnnSahret ech Chouaifatnn',\n",
       " 'nhttpsgoogleusercontentcompkno',\n",
       " 'nn',\n",
       " 'nnLFjXuFCpGflwSgiojQAQnnnn',\n",
       " 'nnn',\n",
       " 'nnnChouaifet El Aamroussiehn',\n",
       " 'nnnSahret ech Chouaifat',\n",
       " 'nnnn',\n",
       " 'nnnnn',\n",
       " 'nnnnnnphotosgmmandroidnnnnn',\n",
       " 'nnnnsslgstaticcomoneboxweathersunnyscloudypng',\n",
       " 'picasawebgooglecomnnn',\n",
       " 'ptrue',\n",
       " 'shwayfat',\n",
       " 'shwayfatnnibn',\n",
       " 'shwyfat',\n",
       " 'uhttpswwwgooglecomsearchtbmmapenlbshwyfatmapsacmaps}',\n",
       " 'urlqenwikipediaorgwikiChoueifat'}"
      ]
     },
     "execution_count": 70,
     "metadata": {},
     "output_type": "execute_result"
    }
   ],
   "source": [
    "set(filtered.split(','))"
   ]
  },
  {
   "cell_type": "code",
   "execution_count": null,
   "metadata": {},
   "outputs": [],
   "source": []
  }
 ],
 "metadata": {
  "kernelspec": {
   "display_name": "Python 3",
   "language": "python",
   "name": "python3"
  },
  "language_info": {
   "codemirror_mode": {
    "name": "ipython",
    "version": 3
   },
   "file_extension": ".py",
   "mimetype": "text/x-python",
   "name": "python",
   "nbconvert_exporter": "python",
   "pygments_lexer": "ipython3",
   "version": "3.7.5"
  }
 },
 "nbformat": 4,
 "nbformat_minor": 1
}
