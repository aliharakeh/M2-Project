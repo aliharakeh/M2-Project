{
 "cells": [
  {
   "cell_type": "code",
   "execution_count": 288,
   "metadata": {},
   "outputs": [],
   "source": [
    "import requests\n",
    "import json\n",
    "import re"
   ]
  },
  {
   "cell_type": "code",
   "execution_count": 289,
   "metadata": {},
   "outputs": [],
   "source": [
    "# query='beyrout'  # 'shwayfat' or 'Chouaifet El Aamroussieh'"
   ]
  },
  {
   "cell_type": "code",
   "execution_count": 290,
   "metadata": {},
   "outputs": [],
   "source": [
    "# url = f\"https://www.google.com/search?tbm=map&authuser=0&hl=en&gl=lb&pb=!4m12!1m3!1d64653.2798905912!2d35.469177051551384!3d33.88928457259864!2m3!1f0!2f0!3f0!3m2!1i1065!2i937!4f13.1!7i20!10b1!12m8!1m1!18b1!2m3!5m1!6e2!20e3!10b1!16b1!19m4!2m3!1i360!2i120!4i8!20m57!2m2!1i203!2i100!3m2!2i4!5b1!6m6!1m2!1i86!2i86!1m2!1i408!2i240!7m42!1m3!1e1!2b0!3e3!1m3!1e2!2b1!3e2!1m3!1e2!2b0!3e3!1m3!1e3!2b0!3e3!1m3!1e8!2b0!3e3!1m3!1e3!2b1!3e2!1m3!1e9!2b1!3e2!1m3!1e10!2b0!3e3!1m3!1e10!2b1!3e2!1m3!1e10!2b0!3e4!2b1!4b1!9b0!22m6!1slqhjX4S1M4a6ggfF66XoBg%3A2!2zMWk6Myx0OjExODg3LGU6MixwOmxxaGpYNFMxTTRhNmdnZkY2NlhvQmc6Mg!7e81!12e3!17slqhjX4S1M4a6ggfF66XoBg%3A145!18e15!24m53!1m13!13m6!2b1!3b1!4b1!6i1!8b1!9b1!18m5!3b1!4b1!5b1!6b1!9b1!2b1!5m5!2b1!3b1!5b1!6b1!7b1!10m1!8e3!14m1!3b1!17b1!20m4!1e3!1e6!1e14!1e15!21e2!24b1!25b1!26b1!29b1!30m1!2b1!36b1!43b1!52b1!54m1!1b1!55b1!56m2!1b1!3b1!65m5!3m4!1m3!1m2!1i224!2i298!26m4!2m3!1i80!2i92!4i8!30m28!1m6!1m2!1i0!2i0!2m2!1i458!2i937!1m6!1m2!1i1015!2i0!2m2!1i1065!2i937!1m6!1m2!1i0!2i0!2m2!1i1065!2i20!1m6!1m2!1i0!2i917!2m2!1i1065!2i937!34m14!2b1!3b1!4b1!6b1!8m4!1b1!3b1!4b1!6b1!9b1!12b1!14b1!20b1!23b1!37m1!1e81!42b1!47m0!49m1!3b1!50m4!2e2!3m2!1b1!3b1!65m0&q={query}&gs_l=maps.12...0.0.3.13014.0.0.0.0.0.0.0.0..0.0....0...1ac..64.maps..0.0.0....0.&tch=1&ech=2&psi=lqhjX4S1M4a6ggfF66XoBg.1600366747200.1\""
   ]
  },
  {
   "cell_type": "code",
   "execution_count": 291,
   "metadata": {},
   "outputs": [],
   "source": [
    "# payload = {}\n",
    "# headers= {}\n",
    "\n",
    "# response = requests.request(\"GET\", url, headers=headers, data = payload)"
   ]
  },
  {
   "cell_type": "code",
   "execution_count": 292,
   "metadata": {},
   "outputs": [],
   "source": [
    "# text = response.text.encode('utf8')"
   ]
  },
  {
   "cell_type": "code",
   "execution_count": 293,
   "metadata": {
    "scrolled": true
   },
   "outputs": [],
   "source": [
    "# text"
   ]
  },
  {
   "cell_type": "code",
   "execution_count": 294,
   "metadata": {},
   "outputs": [],
   "source": [
    "def get_response_as_dict(text):\n",
    "    res = ( \\\n",
    "        text[:-6] \\\n",
    "        .replace(b'null', b'\"\"') \\\n",
    "        .replace(b'\\\\n', b'') \\\n",
    "        .replace(b\"\\''\", b'') \\\n",
    "        .replace(b\")]}'\", b'') \\\n",
    "        .replace(b'\\\\\"', b'\"') \\\n",
    "        .replace(b'\"[', b'[') \\\n",
    "        .replace(b'\\\\', b'') \\\n",
    "        .replace(b']\"', b']') \\\n",
    "    )\n",
    "    return json.loads(res)"
   ]
  },
  {
   "cell_type": "code",
   "execution_count": 295,
   "metadata": {},
   "outputs": [],
   "source": [
    "p = re.compile(r'^[a-zA-Z\\s]{4,}$|^\\d+\\.\\d{7,}$')\n",
    "\n",
    "def recursive_save(data, d):\n",
    "    if isinstance(d, list):\n",
    "        for x in d:\n",
    "            if x:\n",
    "                if isinstance(x, list):\n",
    "                    recursive_save(data, x)\n",
    "                else:\n",
    "                    if x and re.search(p, str(x)):\n",
    "                        data.append(str(x))\n",
    "    else:\n",
    "        if d and re.search(p, str(d)) is None:\n",
    "            data.append(str(d))"
   ]
  },
  {
   "cell_type": "code",
   "execution_count": 296,
   "metadata": {
    "scrolled": true
   },
   "outputs": [],
   "source": [
    "def get_location(query):\n",
    "    url = f\"https://www.google.com/search?tbm=map&authuser=0&hl=en&gl=lb&pb=!4m12!1m3!1d64653.2798905912!2d35.469177051551384!3d33.88928457259864!2m3!1f0!2f0!3f0!3m2!1i1065!2i937!4f13.1!7i20!10b1!12m8!1m1!18b1!2m3!5m1!6e2!20e3!10b1!16b1!19m4!2m3!1i360!2i120!4i8!20m57!2m2!1i203!2i100!3m2!2i4!5b1!6m6!1m2!1i86!2i86!1m2!1i408!2i240!7m42!1m3!1e1!2b0!3e3!1m3!1e2!2b1!3e2!1m3!1e2!2b0!3e3!1m3!1e3!2b0!3e3!1m3!1e8!2b0!3e3!1m3!1e3!2b1!3e2!1m3!1e9!2b1!3e2!1m3!1e10!2b0!3e3!1m3!1e10!2b1!3e2!1m3!1e10!2b0!3e4!2b1!4b1!9b0!22m6!1slqhjX4S1M4a6ggfF66XoBg%3A2!2zMWk6Myx0OjExODg3LGU6MixwOmxxaGpYNFMxTTRhNmdnZkY2NlhvQmc6Mg!7e81!12e3!17slqhjX4S1M4a6ggfF66XoBg%3A145!18e15!24m53!1m13!13m6!2b1!3b1!4b1!6i1!8b1!9b1!18m5!3b1!4b1!5b1!6b1!9b1!2b1!5m5!2b1!3b1!5b1!6b1!7b1!10m1!8e3!14m1!3b1!17b1!20m4!1e3!1e6!1e14!1e15!21e2!24b1!25b1!26b1!29b1!30m1!2b1!36b1!43b1!52b1!54m1!1b1!55b1!56m2!1b1!3b1!65m5!3m4!1m3!1m2!1i224!2i298!26m4!2m3!1i80!2i92!4i8!30m28!1m6!1m2!1i0!2i0!2m2!1i458!2i937!1m6!1m2!1i1015!2i0!2m2!1i1065!2i937!1m6!1m2!1i0!2i0!2m2!1i1065!2i20!1m6!1m2!1i0!2i917!2m2!1i1065!2i937!34m14!2b1!3b1!4b1!6b1!8m4!1b1!3b1!4b1!6b1!9b1!12b1!14b1!20b1!23b1!37m1!1e81!42b1!47m0!49m1!3b1!50m4!2e2!3m2!1b1!3b1!65m0&q={query}&gs_l=maps.12...0.0.3.13014.0.0.0.0.0.0.0.0..0.0....0...1ac..64.maps..0.0.0....0.&tch=1&ech=2&psi=lqhjX4S1M4a6ggfF66XoBg.1600366747200.1\"\n",
    "    payload = {}\n",
    "    headers= {}\n",
    "\n",
    "    response = requests.request(\"GET\", url, headers=headers, data = payload)\n",
    "    text = response.text.encode('utf8')\n",
    "    \n",
    "    response_json = get_response_as_dict(text)\n",
    "    \n",
    "    data = []\n",
    "    recursive_save(data, response_json['d'])\n",
    "\n",
    "    res = \"|\".join(data).split('Favorites')[0].split('|')\n",
    "    \n",
    "    final_res = []\n",
    "    if query in res:\n",
    "        for index, x in enumerate(res):\n",
    "            if '.' in x:\n",
    "                final_res = [\n",
    "                    res[index],\n",
    "                    res[index + 1],\n",
    "                    res[index + 2]\n",
    "                ]\n",
    "                break\n",
    "        return final_res\n",
    "    \n",
    "    return None"
   ]
  },
  {
   "cell_type": "code",
   "execution_count": 297,
   "metadata": {},
   "outputs": [
    {
     "name": "stdout",
     "output_type": "stream",
     "text": [
      "['shwayfat', 'shwyfat', 'shwayfat', '33.8095311', '35.5198113', 'Chouaifet El Aamroussieh', 'Chouaifet El Aamroussieh', '']\n"
     ]
    },
    {
     "data": {
      "text/plain": [
       "['33.8095311', '35.5198113', 'Chouaifet El Aamroussieh']"
      ]
     },
     "execution_count": 297,
     "metadata": {},
     "output_type": "execute_result"
    }
   ],
   "source": [
    "get_location('shwyfat')"
   ]
  },
  {
   "cell_type": "code",
   "execution_count": null,
   "metadata": {},
   "outputs": [],
   "source": []
  }
 ],
 "metadata": {
  "kernelspec": {
   "display_name": "Python 3",
   "language": "python",
   "name": "python3"
  },
  "language_info": {
   "codemirror_mode": {
    "name": "ipython",
    "version": 3
   },
   "file_extension": ".py",
   "mimetype": "text/x-python",
   "name": "python",
   "nbconvert_exporter": "python",
   "pygments_lexer": "ipython3",
   "version": "3.7.5"
  }
 },
 "nbformat": 4,
 "nbformat_minor": 1
}
