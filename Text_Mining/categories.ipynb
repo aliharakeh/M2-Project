{
 "cells": [
  {
   "cell_type": "code",
   "execution_count": 1,
   "metadata": {},
   "outputs": [
    {
     "name": "stderr",
     "output_type": "stream",
     "text": [
      "d:\\desktop\\github\\m2-project\\twittervenv\\lib\\site-packages\\sklearn\\utils\\deprecation.py:143: FutureWarning: The sklearn.datasets.samples_generator module is  deprecated in version 0.22 and will be removed in version 0.24. The corresponding classes / functions should instead be imported from sklearn.datasets. Anything that cannot be imported from sklearn.datasets is now part of the private API.\n",
      "  warnings.warn(message, FutureWarning)\n"
     ]
    }
   ],
   "source": [
    "import pandas as pd\n",
    "import matplotlib.pyplot as plt\n",
    "import seaborn as sns; sns.set() \n",
    "from sklearn.datasets.samples_generator import make_blobs\n",
    "%matplotlib inline"
   ]
  },
  {
   "cell_type": "code",
   "execution_count": 2,
   "metadata": {},
   "outputs": [],
   "source": [
    "df = pd.read_csv('all.csv', header=0)"
   ]
  },
  {
   "cell_type": "code",
   "execution_count": 5,
   "metadata": {},
   "outputs": [],
   "source": [
    "from sklearn.feature_extraction.text import TfidfVectorizer\n",
    "from sklearn.cluster import KMeans"
   ]
  },
  {
   "cell_type": "code",
   "execution_count": 28,
   "metadata": {},
   "outputs": [],
   "source": [
    "vectorizer = TfidfVectorizer(max_df=0.5, max_features=len(df.columns), min_df=2, stop_words='english', use_idf=True)"
   ]
  },
  {
   "cell_type": "code",
   "execution_count": 29,
   "metadata": {},
   "outputs": [],
   "source": [
    "X = vectorizer.fit_transform(df.text)"
   ]
  },
  {
   "cell_type": "code",
   "execution_count": 30,
   "metadata": {},
   "outputs": [
    {
     "data": {
      "text/plain": [
       "<51683x16 sparse matrix of type '<class 'numpy.float64'>'\n",
       "\twith 143917 stored elements in Compressed Sparse Row format>"
      ]
     },
     "execution_count": 30,
     "metadata": {},
     "output_type": "execute_result"
    }
   ],
   "source": [
    "X"
   ]
  },
  {
   "cell_type": "code",
   "execution_count": 35,
   "metadata": {},
   "outputs": [],
   "source": [
    "K = 4\n",
    "km = KMeans(n_clusters=K, init='k-means++', max_iter=100, n_init=1, verbose=True)"
   ]
  },
  {
   "cell_type": "code",
   "execution_count": 36,
   "metadata": {},
   "outputs": [
    {
     "name": "stdout",
     "output_type": "stream",
     "text": [
      "Initialization complete\n",
      "Iteration 0, inertia 40506.47218120042\n",
      "Iteration 1, inertia 29699.86884733076\n",
      "Iteration 2, inertia 27972.928990911252\n",
      "Iteration 3, inertia 27574.022614435755\n",
      "Iteration 4, inertia 27532.68160015229\n",
      "Iteration 5, inertia 27521.727876391906\n",
      "Iteration 6, inertia 27518.086504585666\n",
      "Iteration 7, inertia 27515.74498053862\n",
      "Iteration 8, inertia 27514.429192053958\n",
      "Iteration 9, inertia 27514.180944157004\n",
      "Iteration 10, inertia 27514.053118978863\n",
      "Iteration 11, inertia 27513.768295335736\n",
      "Converged at iteration 11: center shift 4.392589089710315e-06 within tolerance 4.905331742909397e-06.\n"
     ]
    },
    {
     "data": {
      "text/plain": [
       "KMeans(max_iter=100, n_clusters=4, n_init=1, verbose=True)"
      ]
     },
     "execution_count": 36,
     "metadata": {},
     "output_type": "execute_result"
    }
   ],
   "source": [
    "km.fit(X)"
   ]
  },
  {
   "cell_type": "code",
   "execution_count": 37,
   "metadata": {},
   "outputs": [
    {
     "data": {
      "text/plain": [
       "{0, 1, 2, 3}"
      ]
     },
     "execution_count": 37,
     "metadata": {},
     "output_type": "execute_result"
    }
   ],
   "source": [
    "set(km.labels_)"
   ]
  },
  {
   "cell_type": "code",
   "execution_count": 38,
   "metadata": {},
   "outputs": [
    {
     "name": "stdout",
     "output_type": "stream",
     "text": [
      "Cluster 0: كورونا لبنان في كورونا_لبنان خليك_بالبيت على من com https twitter\n",
      "Cluster 1: medical lebanon http https com healthcare twitter لبنان كورونا_لبنان في\n",
      "Cluster 2: من ما في كورونا كورونا_لبنان على لبنان خليك_بالبيت twitter com\n",
      "Cluster 3: كورونا_لبنان healthcare lebanon com twitter http https pic خليك_بالبيت كورونا\n"
     ]
    }
   ],
   "source": [
    "order_centroids = km.cluster_centers_.argsort()[:, ::-1]\n",
    "\n",
    "terms = vectorizer.get_feature_names()\n",
    "for i in range(K):\n",
    "    print(\"Cluster %d:\" % i, end='')\n",
    "    for ind in order_centroids[i, :10]:\n",
    "        print(' %s' % terms[ind], end='')\n",
    "    print()"
   ]
  },
  {
   "cell_type": "code",
   "execution_count": 40,
   "metadata": {},
   "outputs": [
    {
     "name": "stdout",
     "output_type": "stream",
     "text": [
      "[ البقاع ]\n",
      "Cluster 0: كورونا لبنان في ما على كورونا_لبنان https medical من lebanon\n",
      "Cluster 1: كورونا_لبنان من في ما كورونا على لبنان medical http com\n",
      "Cluster 2: pic com خليك_بالبيت twitter medical http healthcare كورونا كورونا_لبنان لبنان\n",
      "Cluster 3: من healthcare كورونا في على لبنان كورونا_لبنان ما http medical\n",
      "-----------------------------------\n",
      "[ الجنوب ]\n",
      "Cluster 0: http medical https com pic healthcare lebanon خليك_بالبيت twitter لبنان\n",
      "Cluster 1: كورونا لبنان من في على ما com خليك_بالبيت كورونا_لبنان lebanon\n",
      "Cluster 2: كورونا_لبنان من ما كورونا في لبنان على medical com lebanon\n",
      "Cluster 3: twitter medical https lebanon com healthcare pic خليك_بالبيت لبنان كورونا_لبنان\n",
      "-----------------------------------\n",
      "[ الشمال ]\n",
      "Cluster 0: من في على كورونا_لبنان كورونا ما لبنان خليك_بالبيت com https\n",
      "Cluster 1: pic كورونا_لبنان twitter medical http lebanon https healthcare com كورونا\n",
      "Cluster 2: com خليك_بالبيت https كورونا في لبنان من http كورونا_لبنان ما\n",
      "Cluster 3: كورونا لبنان ما في كورونا_لبنان على من https com http\n",
      "-----------------------------------\n",
      "[ بعلبك - هرمل ]\n",
      "Cluster 0: http https pic com lebanon medical خليك_بالبيت healthcare في من\n",
      "Cluster 1: medical https lebanon com pic healthcare http خليك_بالبيت كورونا_لبنان لبنان\n",
      "Cluster 2: كورونا_لبنان كورونا من لبنان في على ما healthcare lebanon com\n",
      "Cluster 3: com خليك_بالبيت lebanon twitter pic medical healthcare كورونا في من\n",
      "-----------------------------------\n",
      "[ بيروت ]\n",
      "Cluster 0: كورونا_لبنان على com ما healthcare خليك_بالبيت من medical كورونا http\n",
      "Cluster 1: twitter pic lebanon com medical http على ما healthcare https\n",
      "Cluster 2: لبنان في كورونا_لبنان ما من كورونا healthcare medical pic http\n",
      "Cluster 3: https pic lebanon com medical twitter http على healthcare خليك_بالبيت\n",
      "-----------------------------------\n",
      "[ جبل لبنان ]\n",
      "Cluster 0: http https com healthcare lebanon كورونا في خليك_بالبيت لبنان medical\n",
      "Cluster 1: من في كورونا خليك_بالبيت لبنان pic ما على medical كورونا_لبنان\n",
      "Cluster 2: في لبنان خليك_بالبيت com lebanon healthcare ما pic medical على\n",
      "Cluster 3: كورونا medical ما خليك_بالبيت في pic لبنان twitter على كورونا_لبنان\n",
      "-----------------------------------\n",
      "[ عكار ]\n",
      "Cluster 0: لبنان healthcare https من كورونا ما lebanon http كورونا_لبنان pic\n",
      "Cluster 1: كورونا_لبنان ما من كورونا healthcare لبنان http https com medical\n",
      "Cluster 2: pic lebanon healthcare medical twitter com http https خليك_بالبيت ما\n",
      "Cluster 3: https lebanon medical com خليك_بالبيت على twitter في http healthcare\n",
      "-----------------------------------\n",
      "[ نبطية ]\n",
      "Cluster 0: كورونا_لبنان كورونا خليك_بالبيت لبنان ما com على lebanon medical في\n",
      "Cluster 1: http healthcare medical twitter https com lebanon لبنان كورونا كورونا_لبنان\n",
      "Cluster 2: من في كورونا كورونا_لبنان لبنان ما على خليك_بالبيت com lebanon\n",
      "Cluster 3: pic medical https twitter lebanon com http healthcare ما من\n",
      "-----------------------------------\n"
     ]
    }
   ],
   "source": [
    "def cluster(df, verbose=False):\n",
    "    \n",
    "    # vectorise text data\n",
    "    vectorizer = TfidfVectorizer(max_df=0.5, max_features=len(df.columns), min_df=2, stop_words='english', use_idf=True)\n",
    "    X = vectorizer.fit_transform(df.text)\n",
    "    \n",
    "    # clustering\n",
    "    K = 4\n",
    "    km = KMeans(n_clusters=K, init='k-means++', max_iter=100, n_init=1, verbose=verbose)\n",
    "    km.fit(X)\n",
    "    \n",
    "    # handle results\n",
    "    order_centroids = km.cluster_centers_.argsort()[:, ::-1]\n",
    "    for i in range(K):\n",
    "        print(\"Cluster %d:\" % i, end='')\n",
    "        for ind in order_centroids[i, :10]:\n",
    "            print(' %s' % terms[ind], end='')\n",
    "        print()\n",
    "    \n",
    "\n",
    "mo7afazat = df.groupby('MOHAFAZA_AR')\n",
    "for n, g in mo7afazat:\n",
    "    print(f'[ {n} ]')\n",
    "    cluster(g)\n",
    "    print('-----------------------------------')\n",
    "    "
   ]
  },
  {
   "cell_type": "code",
   "execution_count": 47,
   "metadata": {},
   "outputs": [
    {
     "name": "stdout",
     "output_type": "stream",
     "text": [
      "Cluster 0: com https healthcare twitter لبنان كورونا lebanon خليك_بالبيت في كورونا_لبنان\n",
      "Cluster 1: healthcare com medical pic خليك_بالبيت في كورونا على كورونا_لبنان ما\n",
      "Cluster 2: http healthcare com https في twitter كورونا_لبنان lebanon لبنان ما\n",
      "Cluster 3: com lebanon لبنان http على medical في ما خليك_بالبيت pic\n"
     ]
    }
   ],
   "source": [
    "from sklearn.pipeline import make_pipeline\n",
    "from sklearn.preprocessing import Normalizer\n",
    "from sklearn.decomposition import TruncatedSVD\n",
    "\n",
    "def cluster_with_lsa(df, verbose=False):\n",
    "    \n",
    "    features = len(df.columns)\n",
    "    \n",
    "    # vectorise text data\n",
    "    vectorizer = TfidfVectorizer(max_df=0.5, max_features=features, min_df=2, stop_words='english', use_idf=True)\n",
    "    X = vectorizer.fit_transform(df.text)\n",
    "    \n",
    "    # LSA\n",
    "    svd = TruncatedSVD(features - 1)\n",
    "    normalizer = Normalizer(copy=False)\n",
    "    lsa = make_pipeline(svd, normalizer)\n",
    "    X = lsa.fit_transform(X)\n",
    "    \n",
    "    # clustering\n",
    "    K = 4\n",
    "    km = KMeans(n_clusters=K, init='k-means++', max_iter=100, n_init=1, verbose=verbose)\n",
    "    km.fit(X)\n",
    "    \n",
    "    # handle results\n",
    "    order_centroids = km.cluster_centers_.argsort()[:, ::-1]\n",
    "    for i in range(K):\n",
    "        print(\"Cluster %d:\" % i, end='')\n",
    "        for ind in order_centroids[i, :10]:\n",
    "            print(' %s' % terms[ind], end='')\n",
    "        print()\n",
    "        \n",
    "cluster_with_lsa(df)"
   ]
  },
  {
   "cell_type": "code",
   "execution_count": 48,
   "metadata": {},
   "outputs": [
    {
     "name": "stdout",
     "output_type": "stream",
     "text": [
      "[ البقاع ]\n",
      "Cluster 0: com twitter على lebanon في https medical pic كورونا كورونا_لبنان\n",
      "Cluster 1: com http healthcare كورونا_لبنان كورونا pic لبنان twitter ما lebanon\n",
      "Cluster 2: healthcare https com medical في http خليك_بالبيت pic على ما\n",
      "Cluster 3: com https خليك_بالبيت medical كورونا في لبنان ما كورونا_لبنان lebanon\n",
      "-----------------------------------\n",
      "[ الجنوب ]\n",
      "Cluster 0: healthcare https com lebanon في pic على ما خليك_بالبيت لبنان\n",
      "Cluster 1: http com لبنان على https كورونا_لبنان في healthcare twitter medical\n",
      "Cluster 2: healthcare lebanon com كورونا في twitter ما لبنان medical http\n",
      "Cluster 3: com medical pic على lebanon كورونا_لبنان في twitter خليك_بالبيت ما\n",
      "-----------------------------------\n",
      "[ الشمال ]\n",
      "Cluster 0: com healthcare خليك_بالبيت pic لبنان lebanon twitter كورونا_لبنان medical في\n",
      "Cluster 1: com http https medical كورونا_لبنان في على لبنان ما خليك_بالبيت\n",
      "Cluster 2: https healthcare com lebanon على http medical كورونا pic ما\n",
      "Cluster 3: http healthcare com في medical على twitter خليك_بالبيت ما pic\n",
      "-----------------------------------\n",
      "[ بعلبك - هرمل ]\n",
      "Cluster 0: healthcare com في pic خليك_بالبيت ما كورونا_لبنان على لبنان lebanon\n",
      "Cluster 1: com http medical lebanon كورونا في على خليك_بالبيت كورونا_لبنان pic\n",
      "Cluster 2: http healthcare lebanon com كورونا خليك_بالبيت pic كورونا_لبنان twitter في\n",
      "Cluster 3: https healthcare http com medical في كورونا_لبنان pic لبنان على\n",
      "-----------------------------------\n",
      "[ بيروت ]\n",
      "Cluster 0: http healthcare com https كورونا medical على ما lebanon twitter\n",
      "Cluster 1: com lebanon http لبنان twitter في ما pic كورونا_لبنان medical\n",
      "Cluster 2: https healthcare com medical pic كورونا_لبنان لبنان كورونا twitter في\n",
      "Cluster 3: healthcare com twitter pic خليك_بالبيت في lebanon على كورونا_لبنان ما\n",
      "-----------------------------------\n",
      "[ جبل لبنان ]\n",
      "Cluster 0: lebanon com https healthcare twitter في كورونا كورونا_لبنان لبنان pic\n",
      "Cluster 1: com كورونا_لبنان ما خليك_بالبيت كورونا medical twitter على في لبنان\n",
      "Cluster 2: healthcare com http medical على كورونا_لبنان لبنان كورونا خليك_بالبيت في\n",
      "Cluster 3: com http twitter كورونا خليك_بالبيت لبنان ما على في كورونا_لبنان\n",
      "-----------------------------------\n",
      "[ عكار ]\n",
      "Cluster 0: http healthcare com medical على twitter في لبنان ما كورونا_لبنان\n",
      "Cluster 1: com pic medical lebanon http ما لبنان كورونا_لبنان في twitter\n",
      "Cluster 2: healthcare com https كورونا في كورونا_لبنان على خليك_بالبيت twitter medical\n",
      "Cluster 3: http https lebanon healthcare com pic twitter خليك_بالبيت كورونا لبنان\n",
      "-----------------------------------\n",
      "[ نبطية ]\n",
      "Cluster 0: com http https على كورونا في خليك_بالبيت twitter لبنان medical\n",
      "Cluster 1: com pic twitter خليك_بالبيت لبنان medical في ما كورونا_لبنان lebanon\n",
      "Cluster 2: healthcare com twitter ما medical https كورونا على في http\n",
      "Cluster 3: lebanon healthcare com https خليك_بالبيت في ما كورونا لبنان كورونا_لبنان\n",
      "-----------------------------------\n"
     ]
    }
   ],
   "source": [
    "mo7afazat = df.groupby('MOHAFAZA_AR')\n",
    "for n, g in mo7afazat:\n",
    "    print(f'[ {n} ]')\n",
    "    cluster_with_lsa(g)\n",
    "    print('-----------------------------------')"
   ]
  },
  {
   "cell_type": "code",
   "execution_count": null,
   "metadata": {},
   "outputs": [],
   "source": []
  }
 ],
 "metadata": {
  "kernelspec": {
   "display_name": "Python 3",
   "language": "python",
   "name": "python3"
  },
  "language_info": {
   "codemirror_mode": {
    "name": "ipython",
    "version": 3
   },
   "file_extension": ".py",
   "mimetype": "text/x-python",
   "name": "python",
   "nbconvert_exporter": "python",
   "pygments_lexer": "ipython3",
   "version": "3.7.5"
  }
 },
 "nbformat": 4,
 "nbformat_minor": 4
}
