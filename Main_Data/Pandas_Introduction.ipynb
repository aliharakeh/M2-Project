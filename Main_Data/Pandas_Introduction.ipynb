{
 "cells": [
  {
   "cell_type": "markdown",
   "metadata": {},
   "source": [
    "# Imports"
   ]
  },
  {
   "cell_type": "code",
   "execution_count": 1,
   "metadata": {},
   "outputs": [],
   "source": [
    "import pandas as pd\n",
    "import numpy as np"
   ]
  },
  {
   "cell_type": "markdown",
   "metadata": {},
   "source": [
    "# 1 - Reading and Exploring Data"
   ]
  },
  {
   "cell_type": "markdown",
   "metadata": {},
   "source": [
    "## Read Data\n",
    "- header=0: the row index where the column names are\n",
    "- sep=',': the column separator\n",
    "- encoding='utf-8': specify the encoding of the read csv file "
   ]
  },
  {
   "cell_type": "code",
   "execution_count": 2,
   "metadata": {},
   "outputs": [],
   "source": [
    "dataFrame = pd.read_csv('all.csv', header=0)"
   ]
  },
  {
   "cell_type": "markdown",
   "metadata": {},
   "source": [
    "## Check data"
   ]
  },
  {
   "cell_type": "code",
   "execution_count": 3,
   "metadata": {
    "scrolled": true
   },
   "outputs": [
    {
     "data": {
      "text/html": [
       "<div>\n",
       "<style scoped>\n",
       "    .dataframe tbody tr th:only-of-type {\n",
       "        vertical-align: middle;\n",
       "    }\n",
       "\n",
       "    .dataframe tbody tr th {\n",
       "        vertical-align: top;\n",
       "    }\n",
       "\n",
       "    .dataframe thead th {\n",
       "        text-align: right;\n",
       "    }\n",
       "</style>\n",
       "<table border=\"1\" class=\"dataframe\">\n",
       "  <thead>\n",
       "    <tr style=\"text-align: right;\">\n",
       "      <th></th>\n",
       "      <th>username</th>\n",
       "      <th>date</th>\n",
       "      <th>text</th>\n",
       "      <th>tags</th>\n",
       "      <th>translated_text</th>\n",
       "      <th>sentiment</th>\n",
       "      <th>location</th>\n",
       "      <th>lat</th>\n",
       "      <th>long</th>\n",
       "      <th>sentiment_label</th>\n",
       "      <th>KADAA_ID</th>\n",
       "      <th>KADAA_AR</th>\n",
       "      <th>KADAA_EN</th>\n",
       "      <th>MOHAFAZA_ID</th>\n",
       "      <th>MOHAFAZA_AR</th>\n",
       "      <th>MOHAFAZA_EN</th>\n",
       "    </tr>\n",
       "  </thead>\n",
       "  <tbody>\n",
       "    <tr>\n",
       "      <th>0</th>\n",
       "      <td>Lebanon 24</td>\n",
       "      <td>2020-07-12</td>\n",
       "      <td>#كورونا يتلف رئة \"أبو عزرائيل\" (صورة) #العراق#...</td>\n",
       "      <td>#كورونا;#العراق;#lebanon24</td>\n",
       "      <td>Corona damages the lung of \"Abu Azrael\" (photo...</td>\n",
       "      <td>0.000000</td>\n",
       "      <td>صور</td>\n",
       "      <td>33.2733</td>\n",
       "      <td>35.1939</td>\n",
       "      <td>Neutral</td>\n",
       "      <td>83000</td>\n",
       "      <td>صور</td>\n",
       "      <td>Sour</td>\n",
       "      <td>8</td>\n",
       "      <td>الجنوب</td>\n",
       "      <td>South</td>\n",
       "    </tr>\n",
       "    <tr>\n",
       "      <th>1</th>\n",
       "      <td>Sana</td>\n",
       "      <td>2020-07-12</td>\n",
       "      <td>حضرة اساتذة القانون بالجامعة اللبنانية المحترم...</td>\n",
       "      <td>#كورونا;#امتحانات_الموت</td>\n",
       "      <td>Honorable professors of law at the Lebanese Un...</td>\n",
       "      <td>0.325000</td>\n",
       "      <td>العربانية</td>\n",
       "      <td>33.8772</td>\n",
       "      <td>35.6786</td>\n",
       "      <td>Positive</td>\n",
       "      <td>51000</td>\n",
       "      <td>بعبدا</td>\n",
       "      <td>Baabda</td>\n",
       "      <td>5</td>\n",
       "      <td>جبل لبنان</td>\n",
       "      <td>Mount Lebanon</td>\n",
       "    </tr>\n",
       "    <tr>\n",
       "      <th>2</th>\n",
       "      <td>Jaras Scoop FM</td>\n",
       "      <td>2020-07-12</td>\n",
       "      <td>كشفت \"رابطة طلاب الجامعة اللبنانية\" عبر تويتر ...</td>\n",
       "      <td>#كورونا</td>\n",
       "      <td>The \"Lebanese University Students Association\"...</td>\n",
       "      <td>-0.300000</td>\n",
       "      <td>طلصا</td>\n",
       "      <td>33.4833</td>\n",
       "      <td>35.3471</td>\n",
       "      <td>Negative</td>\n",
       "      <td>81000</td>\n",
       "      <td>صيدا</td>\n",
       "      <td>Saida</td>\n",
       "      <td>8</td>\n",
       "      <td>الجنوب</td>\n",
       "      <td>South</td>\n",
       "    </tr>\n",
       "    <tr>\n",
       "      <th>3</th>\n",
       "      <td>Lebanon Debate</td>\n",
       "      <td>2020-07-12</td>\n",
       "      <td>حالة \"#كورونا\" جديدة في الجامعة اللبنانية - ال...</td>\n",
       "      <td>#كورونا</td>\n",
       "      <td>New \"# Corona\" case at the Lebanese University...</td>\n",
       "      <td>0.136364</td>\n",
       "      <td>حاقل</td>\n",
       "      <td>34.1705</td>\n",
       "      <td>35.7501</td>\n",
       "      <td>Positive</td>\n",
       "      <td>56000</td>\n",
       "      <td>جبيل</td>\n",
       "      <td>Jbeil</td>\n",
       "      <td>5</td>\n",
       "      <td>جبل لبنان</td>\n",
       "      <td>Mount Lebanon</td>\n",
       "    </tr>\n",
       "    <tr>\n",
       "      <th>4</th>\n",
       "      <td>عاجل - قناة فلسطين اليوم</td>\n",
       "      <td>2020-07-12</td>\n",
       "      <td>#عاجلمدير مكتب إعلام الأسرى ناهد الفاخوري: حذر...</td>\n",
       "      <td>#كورونا;#عاجل</td>\n",
       "      <td>#UrgentThe director of the Prisoners' Informat...</td>\n",
       "      <td>-0.283333</td>\n",
       "      <td>مكاتبة</td>\n",
       "      <td>33.5628</td>\n",
       "      <td>35.3789</td>\n",
       "      <td>Negative</td>\n",
       "      <td>81000</td>\n",
       "      <td>صيدا</td>\n",
       "      <td>Saida</td>\n",
       "      <td>8</td>\n",
       "      <td>الجنوب</td>\n",
       "      <td>South</td>\n",
       "    </tr>\n",
       "    <tr>\n",
       "      <th>5</th>\n",
       "      <td>قناة فلسطين اليوم</td>\n",
       "      <td>2020-07-12</td>\n",
       "      <td>#عاجلمدير مكتب إعلام الأسرى ناهد الفاخوري: حذر...</td>\n",
       "      <td>#كورونا;#عاجل</td>\n",
       "      <td>#UrgentThe director of the Prisoners' Informat...</td>\n",
       "      <td>-0.283333</td>\n",
       "      <td>مكاتبة</td>\n",
       "      <td>33.5628</td>\n",
       "      <td>35.3789</td>\n",
       "      <td>Negative</td>\n",
       "      <td>81000</td>\n",
       "      <td>صيدا</td>\n",
       "      <td>Saida</td>\n",
       "      <td>8</td>\n",
       "      <td>الجنوب</td>\n",
       "      <td>South</td>\n",
       "    </tr>\n",
       "  </tbody>\n",
       "</table>\n",
       "</div>"
      ],
      "text/plain": [
       "                   username        date  \\\n",
       "0                Lebanon 24  2020-07-12   \n",
       "1                      Sana  2020-07-12   \n",
       "2            Jaras Scoop FM  2020-07-12   \n",
       "3            Lebanon Debate  2020-07-12   \n",
       "4  عاجل - قناة فلسطين اليوم  2020-07-12   \n",
       "5         قناة فلسطين اليوم  2020-07-12   \n",
       "\n",
       "                                                text  \\\n",
       "0  #كورونا يتلف رئة \"أبو عزرائيل\" (صورة) #العراق#...   \n",
       "1  حضرة اساتذة القانون بالجامعة اللبنانية المحترم...   \n",
       "2  كشفت \"رابطة طلاب الجامعة اللبنانية\" عبر تويتر ...   \n",
       "3  حالة \"#كورونا\" جديدة في الجامعة اللبنانية - ال...   \n",
       "4  #عاجلمدير مكتب إعلام الأسرى ناهد الفاخوري: حذر...   \n",
       "5  #عاجلمدير مكتب إعلام الأسرى ناهد الفاخوري: حذر...   \n",
       "\n",
       "                         tags  \\\n",
       "0  #كورونا;#العراق;#lebanon24   \n",
       "1     #كورونا;#امتحانات_الموت   \n",
       "2                     #كورونا   \n",
       "3                     #كورونا   \n",
       "4               #كورونا;#عاجل   \n",
       "5               #كورونا;#عاجل   \n",
       "\n",
       "                                     translated_text  sentiment   location  \\\n",
       "0  Corona damages the lung of \"Abu Azrael\" (photo...   0.000000        صور   \n",
       "1  Honorable professors of law at the Lebanese Un...   0.325000  العربانية   \n",
       "2  The \"Lebanese University Students Association\"...  -0.300000       طلصا   \n",
       "3  New \"# Corona\" case at the Lebanese University...   0.136364       حاقل   \n",
       "4  #UrgentThe director of the Prisoners' Informat...  -0.283333     مكاتبة   \n",
       "5  #UrgentThe director of the Prisoners' Informat...  -0.283333     مكاتبة   \n",
       "\n",
       "       lat     long sentiment_label  KADAA_ID KADAA_AR KADAA_EN  MOHAFAZA_ID  \\\n",
       "0  33.2733  35.1939         Neutral     83000      صور     Sour            8   \n",
       "1  33.8772  35.6786        Positive     51000    بعبدا   Baabda            5   \n",
       "2  33.4833  35.3471        Negative     81000     صيدا    Saida            8   \n",
       "3  34.1705  35.7501        Positive     56000     جبيل    Jbeil            5   \n",
       "4  33.5628  35.3789        Negative     81000     صيدا    Saida            8   \n",
       "5  33.5628  35.3789        Negative     81000     صيدا    Saida            8   \n",
       "\n",
       "  MOHAFAZA_AR    MOHAFAZA_EN  \n",
       "0      الجنوب          South  \n",
       "1   جبل لبنان  Mount Lebanon  \n",
       "2      الجنوب          South  \n",
       "3   جبل لبنان  Mount Lebanon  \n",
       "4      الجنوب          South  \n",
       "5      الجنوب          South  "
      ]
     },
     "execution_count": 3,
     "metadata": {},
     "output_type": "execute_result"
    }
   ],
   "source": [
    "dataFrame.head(6) # no argument ==> first 5 rows (default)"
   ]
  },
  {
   "cell_type": "code",
   "execution_count": 4,
   "metadata": {},
   "outputs": [
    {
     "data": {
      "text/html": [
       "<div>\n",
       "<style scoped>\n",
       "    .dataframe tbody tr th:only-of-type {\n",
       "        vertical-align: middle;\n",
       "    }\n",
       "\n",
       "    .dataframe tbody tr th {\n",
       "        vertical-align: top;\n",
       "    }\n",
       "\n",
       "    .dataframe thead th {\n",
       "        text-align: right;\n",
       "    }\n",
       "</style>\n",
       "<table border=\"1\" class=\"dataframe\">\n",
       "  <thead>\n",
       "    <tr style=\"text-align: right;\">\n",
       "      <th></th>\n",
       "      <th>username</th>\n",
       "      <th>date</th>\n",
       "      <th>text</th>\n",
       "      <th>tags</th>\n",
       "      <th>translated_text</th>\n",
       "      <th>sentiment</th>\n",
       "      <th>location</th>\n",
       "      <th>lat</th>\n",
       "      <th>long</th>\n",
       "      <th>sentiment_label</th>\n",
       "      <th>KADAA_ID</th>\n",
       "      <th>KADAA_AR</th>\n",
       "      <th>KADAA_EN</th>\n",
       "      <th>MOHAFAZA_ID</th>\n",
       "      <th>MOHAFAZA_AR</th>\n",
       "      <th>MOHAFAZA_EN</th>\n",
       "    </tr>\n",
       "  </thead>\n",
       "  <tbody>\n",
       "    <tr>\n",
       "      <th>51678</th>\n",
       "      <td>lamsalebanon</td>\n",
       "      <td>2020-01-08</td>\n",
       "      <td>Take home message from #hcsmdxb19 :social medi...</td>\n",
       "      <td>#hcsmdxb19;#medtwitter;#bloggers;#some</td>\n",
       "      <td>Take home message from #hcsmdxb19 :social medi...</td>\n",
       "      <td>0.016667</td>\n",
       "      <td>بيروت</td>\n",
       "      <td>33.8719</td>\n",
       "      <td>35.5097</td>\n",
       "      <td>Positive</td>\n",
       "      <td>31000</td>\n",
       "      <td>بيروت</td>\n",
       "      <td>Beirut</td>\n",
       "      <td>3</td>\n",
       "      <td>بيروت</td>\n",
       "      <td>Beirut</td>\n",
       "    </tr>\n",
       "    <tr>\n",
       "      <th>51679</th>\n",
       "      <td>cristinesalloum</td>\n",
       "      <td>2020-01-07</td>\n",
       "      <td>A call for adoption\\nGender : Male Husky\\nAge ...</td>\n",
       "      <td>NaN</td>\n",
       "      <td>A call for adoption\\nGender : Male Husky\\nAge ...</td>\n",
       "      <td>0.280000</td>\n",
       "      <td>بيروت</td>\n",
       "      <td>33.8719</td>\n",
       "      <td>35.5097</td>\n",
       "      <td>Positive</td>\n",
       "      <td>31000</td>\n",
       "      <td>بيروت</td>\n",
       "      <td>Beirut</td>\n",
       "      <td>3</td>\n",
       "      <td>بيروت</td>\n",
       "      <td>Beirut</td>\n",
       "    </tr>\n",
       "    <tr>\n",
       "      <th>51680</th>\n",
       "      <td>alihashem_tv</td>\n",
       "      <td>2020-01-04</td>\n",
       "      <td>An official statement by the #PMU denied repor...</td>\n",
       "      <td>#pmu</td>\n",
       "      <td>An official statement by the #PMU denied repor...</td>\n",
       "      <td>-0.100000</td>\n",
       "      <td>بيروت</td>\n",
       "      <td>33.8719</td>\n",
       "      <td>35.5097</td>\n",
       "      <td>Negative</td>\n",
       "      <td>31000</td>\n",
       "      <td>بيروت</td>\n",
       "      <td>Beirut</td>\n",
       "      <td>3</td>\n",
       "      <td>بيروت</td>\n",
       "      <td>Beirut</td>\n",
       "    </tr>\n",
       "    <tr>\n",
       "      <th>51681</th>\n",
       "      <td>mariosemaan</td>\n",
       "      <td>2020-01-03</td>\n",
       "      <td>W by3mlo medical treatment kamen 😁</td>\n",
       "      <td>NaN</td>\n",
       "      <td>W by3mlo medical treatment kamen 😁</td>\n",
       "      <td>0.000000</td>\n",
       "      <td>بيروت</td>\n",
       "      <td>33.8719</td>\n",
       "      <td>35.5097</td>\n",
       "      <td>Neutral</td>\n",
       "      <td>31000</td>\n",
       "      <td>بيروت</td>\n",
       "      <td>Beirut</td>\n",
       "      <td>3</td>\n",
       "      <td>بيروت</td>\n",
       "      <td>Beirut</td>\n",
       "    </tr>\n",
       "    <tr>\n",
       "      <th>51682</th>\n",
       "      <td>aklfahed</td>\n",
       "      <td>2020-01-01</td>\n",
       "      <td>Nice reflections on medical innovation in the ...</td>\n",
       "      <td>NaN</td>\n",
       "      <td>Nice reflections on medical innovation in the ...</td>\n",
       "      <td>0.350521</td>\n",
       "      <td>دير زنون</td>\n",
       "      <td>33.7569</td>\n",
       "      <td>35.9117</td>\n",
       "      <td>Positive</td>\n",
       "      <td>41000</td>\n",
       "      <td>زحلة</td>\n",
       "      <td>Zahle</td>\n",
       "      <td>4</td>\n",
       "      <td>البقاع</td>\n",
       "      <td>Bekaa</td>\n",
       "    </tr>\n",
       "  </tbody>\n",
       "</table>\n",
       "</div>"
      ],
      "text/plain": [
       "              username        date  \\\n",
       "51678     lamsalebanon  2020-01-08   \n",
       "51679  cristinesalloum  2020-01-07   \n",
       "51680     alihashem_tv  2020-01-04   \n",
       "51681      mariosemaan  2020-01-03   \n",
       "51682         aklfahed  2020-01-01   \n",
       "\n",
       "                                                    text  \\\n",
       "51678  Take home message from #hcsmdxb19 :social medi...   \n",
       "51679  A call for adoption\\nGender : Male Husky\\nAge ...   \n",
       "51680  An official statement by the #PMU denied repor...   \n",
       "51681                 W by3mlo medical treatment kamen 😁   \n",
       "51682  Nice reflections on medical innovation in the ...   \n",
       "\n",
       "                                         tags  \\\n",
       "51678  #hcsmdxb19;#medtwitter;#bloggers;#some   \n",
       "51679                                     NaN   \n",
       "51680                                    #pmu   \n",
       "51681                                     NaN   \n",
       "51682                                     NaN   \n",
       "\n",
       "                                         translated_text  sentiment  location  \\\n",
       "51678  Take home message from #hcsmdxb19 :social medi...   0.016667     بيروت   \n",
       "51679  A call for adoption\\nGender : Male Husky\\nAge ...   0.280000     بيروت   \n",
       "51680  An official statement by the #PMU denied repor...  -0.100000     بيروت   \n",
       "51681                 W by3mlo medical treatment kamen 😁   0.000000     بيروت   \n",
       "51682  Nice reflections on medical innovation in the ...   0.350521  دير زنون   \n",
       "\n",
       "           lat     long sentiment_label  KADAA_ID KADAA_AR KADAA_EN  \\\n",
       "51678  33.8719  35.5097        Positive     31000    بيروت   Beirut   \n",
       "51679  33.8719  35.5097        Positive     31000    بيروت   Beirut   \n",
       "51680  33.8719  35.5097        Negative     31000    بيروت   Beirut   \n",
       "51681  33.8719  35.5097         Neutral     31000    بيروت   Beirut   \n",
       "51682  33.7569  35.9117        Positive     41000     زحلة    Zahle   \n",
       "\n",
       "       MOHAFAZA_ID MOHAFAZA_AR MOHAFAZA_EN  \n",
       "51678            3       بيروت      Beirut  \n",
       "51679            3       بيروت      Beirut  \n",
       "51680            3       بيروت      Beirut  \n",
       "51681            3       بيروت      Beirut  \n",
       "51682            4      البقاع       Bekaa  "
      ]
     },
     "execution_count": 4,
     "metadata": {},
     "output_type": "execute_result"
    }
   ],
   "source": [
    "dataFrame.tail() # default is last 5 rows"
   ]
  },
  {
   "cell_type": "markdown",
   "metadata": {},
   "source": [
    "\n",
    "## Data summary\n",
    "For Number Fields only"
   ]
  },
  {
   "cell_type": "code",
   "execution_count": 5,
   "metadata": {},
   "outputs": [
    {
     "data": {
      "text/html": [
       "<div>\n",
       "<style scoped>\n",
       "    .dataframe tbody tr th:only-of-type {\n",
       "        vertical-align: middle;\n",
       "    }\n",
       "\n",
       "    .dataframe tbody tr th {\n",
       "        vertical-align: top;\n",
       "    }\n",
       "\n",
       "    .dataframe thead th {\n",
       "        text-align: right;\n",
       "    }\n",
       "</style>\n",
       "<table border=\"1\" class=\"dataframe\">\n",
       "  <thead>\n",
       "    <tr style=\"text-align: right;\">\n",
       "      <th></th>\n",
       "      <th>sentiment</th>\n",
       "      <th>lat</th>\n",
       "      <th>long</th>\n",
       "      <th>KADAA_ID</th>\n",
       "      <th>MOHAFAZA_ID</th>\n",
       "    </tr>\n",
       "  </thead>\n",
       "  <tbody>\n",
       "    <tr>\n",
       "      <th>count</th>\n",
       "      <td>51683.000000</td>\n",
       "      <td>51683.000000</td>\n",
       "      <td>51683.000000</td>\n",
       "      <td>51683.000000</td>\n",
       "      <td>51683.000000</td>\n",
       "    </tr>\n",
       "    <tr>\n",
       "      <th>mean</th>\n",
       "      <td>0.072543</td>\n",
       "      <td>33.966874</td>\n",
       "      <td>35.700444</td>\n",
       "      <td>48524.234274</td>\n",
       "      <td>4.609330</td>\n",
       "    </tr>\n",
       "    <tr>\n",
       "      <th>std</th>\n",
       "      <td>0.230166</td>\n",
       "      <td>0.337758</td>\n",
       "      <td>0.262359</td>\n",
       "      <td>21301.191715</td>\n",
       "      <td>2.047589</td>\n",
       "    </tr>\n",
       "    <tr>\n",
       "      <th>min</th>\n",
       "      <td>-1.000000</td>\n",
       "      <td>33.080300</td>\n",
       "      <td>35.125600</td>\n",
       "      <td>11000.000000</td>\n",
       "      <td>1.000000</td>\n",
       "    </tr>\n",
       "    <tr>\n",
       "      <th>25%</th>\n",
       "      <td>0.000000</td>\n",
       "      <td>33.853300</td>\n",
       "      <td>35.509700</td>\n",
       "      <td>31000.000000</td>\n",
       "      <td>3.000000</td>\n",
       "    </tr>\n",
       "    <tr>\n",
       "      <th>50%</th>\n",
       "      <td>0.000000</td>\n",
       "      <td>33.871900</td>\n",
       "      <td>35.618300</td>\n",
       "      <td>52000.000000</td>\n",
       "      <td>5.000000</td>\n",
       "    </tr>\n",
       "    <tr>\n",
       "      <th>75%</th>\n",
       "      <td>0.136364</td>\n",
       "      <td>34.200800</td>\n",
       "      <td>35.788600</td>\n",
       "      <td>71000.000000</td>\n",
       "      <td>7.000000</td>\n",
       "    </tr>\n",
       "    <tr>\n",
       "      <th>max</th>\n",
       "      <td>1.000000</td>\n",
       "      <td>34.653900</td>\n",
       "      <td>36.514200</td>\n",
       "      <td>83000.000000</td>\n",
       "      <td>8.000000</td>\n",
       "    </tr>\n",
       "  </tbody>\n",
       "</table>\n",
       "</div>"
      ],
      "text/plain": [
       "          sentiment           lat          long      KADAA_ID   MOHAFAZA_ID\n",
       "count  51683.000000  51683.000000  51683.000000  51683.000000  51683.000000\n",
       "mean       0.072543     33.966874     35.700444  48524.234274      4.609330\n",
       "std        0.230166      0.337758      0.262359  21301.191715      2.047589\n",
       "min       -1.000000     33.080300     35.125600  11000.000000      1.000000\n",
       "25%        0.000000     33.853300     35.509700  31000.000000      3.000000\n",
       "50%        0.000000     33.871900     35.618300  52000.000000      5.000000\n",
       "75%        0.136364     34.200800     35.788600  71000.000000      7.000000\n",
       "max        1.000000     34.653900     36.514200  83000.000000      8.000000"
      ]
     },
     "execution_count": 5,
     "metadata": {},
     "output_type": "execute_result"
    }
   ],
   "source": [
    "dataFrame.describe()"
   ]
  },
  {
   "cell_type": "markdown",
   "metadata": {},
   "source": [
    "\n",
    "## DataFrame Properties\n"
   ]
  },
  {
   "cell_type": "code",
   "execution_count": 6,
   "metadata": {},
   "outputs": [
    {
     "data": {
      "text/plain": [
       "Index(['username', 'date', 'text', 'tags', 'translated_text', 'sentiment',\n",
       "       'location', 'lat', 'long', 'sentiment_label', 'KADAA_ID', 'KADAA_AR',\n",
       "       'KADAA_EN', 'MOHAFAZA_ID', 'MOHAFAZA_AR', 'MOHAFAZA_EN'],\n",
       "      dtype='object')"
      ]
     },
     "execution_count": 6,
     "metadata": {},
     "output_type": "execute_result"
    }
   ],
   "source": [
    "dataFrame.columns"
   ]
  },
  {
   "cell_type": "code",
   "execution_count": 7,
   "metadata": {},
   "outputs": [
    {
     "data": {
      "text/plain": [
       "'username'"
      ]
     },
     "execution_count": 7,
     "metadata": {},
     "output_type": "execute_result"
    }
   ],
   "source": [
    "dataFrame.columns[0]"
   ]
  },
  {
   "cell_type": "code",
   "execution_count": 8,
   "metadata": {},
   "outputs": [
    {
     "data": {
      "text/plain": [
       "RangeIndex(start=0, stop=51683, step=1)"
      ]
     },
     "execution_count": 8,
     "metadata": {},
     "output_type": "execute_result"
    }
   ],
   "source": [
    "dataFrame.index"
   ]
  },
  {
   "cell_type": "code",
   "execution_count": 9,
   "metadata": {},
   "outputs": [
    {
     "data": {
      "text/plain": [
       "100"
      ]
     },
     "execution_count": 9,
     "metadata": {},
     "output_type": "execute_result"
    }
   ],
   "source": [
    "dataFrame.index[100]"
   ]
  },
  {
   "cell_type": "code",
   "execution_count": 10,
   "metadata": {},
   "outputs": [
    {
     "data": {
      "text/plain": [
       "(51683, 16)"
      ]
     },
     "execution_count": 10,
     "metadata": {},
     "output_type": "execute_result"
    }
   ],
   "source": [
    "dataFrame.shape # (number of rows, number of columns)"
   ]
  },
  {
   "cell_type": "code",
   "execution_count": 11,
   "metadata": {},
   "outputs": [
    {
     "name": "stdout",
     "output_type": "stream",
     "text": [
      "<class 'pandas.core.frame.DataFrame'>\n",
      "RangeIndex: 51683 entries, 0 to 51682\n",
      "Data columns (total 16 columns):\n",
      " #   Column           Non-Null Count  Dtype  \n",
      "---  ------           --------------  -----  \n",
      " 0   username         51683 non-null  object \n",
      " 1   date             51683 non-null  object \n",
      " 2   text             51683 non-null  object \n",
      " 3   tags             46282 non-null  object \n",
      " 4   translated_text  51683 non-null  object \n",
      " 5   sentiment        51683 non-null  float64\n",
      " 6   location         51683 non-null  object \n",
      " 7   lat              51683 non-null  float64\n",
      " 8   long             51683 non-null  float64\n",
      " 9   sentiment_label  51683 non-null  object \n",
      " 10  KADAA_ID         51683 non-null  int64  \n",
      " 11  KADAA_AR         51683 non-null  object \n",
      " 12  KADAA_EN         51683 non-null  object \n",
      " 13  MOHAFAZA_ID      51683 non-null  int64  \n",
      " 14  MOHAFAZA_AR      51683 non-null  object \n",
      " 15  MOHAFAZA_EN      51683 non-null  object \n",
      "dtypes: float64(3), int64(2), object(11)\n",
      "memory usage: 6.3+ MB\n"
     ]
    }
   ],
   "source": [
    "dataFrame.info()"
   ]
  },
  {
   "cell_type": "code",
   "execution_count": 12,
   "metadata": {},
   "outputs": [
    {
     "data": {
      "text/plain": [
       "username            object\n",
       "date                object\n",
       "text                object\n",
       "tags                object\n",
       "translated_text     object\n",
       "sentiment          float64\n",
       "location            object\n",
       "lat                float64\n",
       "long               float64\n",
       "sentiment_label     object\n",
       "KADAA_ID             int64\n",
       "KADAA_AR            object\n",
       "KADAA_EN            object\n",
       "MOHAFAZA_ID          int64\n",
       "MOHAFAZA_AR         object\n",
       "MOHAFAZA_EN         object\n",
       "dtype: object"
      ]
     },
     "execution_count": 12,
     "metadata": {},
     "output_type": "execute_result"
    }
   ],
   "source": [
    "dataFrame.dtypes"
   ]
  },
  {
   "cell_type": "markdown",
   "metadata": {},
   "source": [
    "## Accessing Data"
   ]
  },
  {
   "cell_type": "code",
   "execution_count": 13,
   "metadata": {},
   "outputs": [
    {
     "data": {
      "text/plain": [
       "0                  Lebanon 24\n",
       "1                        Sana\n",
       "2              Jaras Scoop FM\n",
       "3              Lebanon Debate\n",
       "4    عاجل - قناة فلسطين اليوم\n",
       "Name: username, dtype: object"
      ]
     },
     "execution_count": 13,
     "metadata": {},
     "output_type": "execute_result"
    }
   ],
   "source": [
    "dataFrame.username[:5] # column `username` as a Series"
   ]
  },
  {
   "cell_type": "code",
   "execution_count": 14,
   "metadata": {},
   "outputs": [
    {
     "data": {
      "text/plain": [
       "0                  Lebanon 24\n",
       "1                        Sana\n",
       "2              Jaras Scoop FM\n",
       "3              Lebanon Debate\n",
       "4    عاجل - قناة فلسطين اليوم\n",
       "Name: username, dtype: object"
      ]
     },
     "execution_count": 14,
     "metadata": {},
     "output_type": "execute_result"
    }
   ],
   "source": [
    "dataFrame['username'][:5] # another syntax"
   ]
  },
  {
   "cell_type": "code",
   "execution_count": 15,
   "metadata": {},
   "outputs": [
    {
     "data": {
      "text/plain": [
       "array(['Lebanon 24', 'Sana', 'Jaras Scoop FM', 'Lebanon Debate',\n",
       "       'عاجل - قناة فلسطين اليوم'], dtype=object)"
      ]
     },
     "execution_count": 15,
     "metadata": {},
     "output_type": "execute_result"
    }
   ],
   "source": [
    "dataFrame.username.values[:5] # column `username` as am Array/List"
   ]
  },
  {
   "cell_type": "markdown",
   "metadata": {},
   "source": [
    "# 2 - Column Operations "
   ]
  },
  {
   "cell_type": "code",
   "execution_count": 16,
   "metadata": {},
   "outputs": [
    {
     "data": {
      "text/plain": [
       "0                    #كورونا;#العراق;#lebanon24\n",
       "1                       #كورونا;#امتحانات_الموت\n",
       "2                                       #كورونا\n",
       "3                                       #كورونا\n",
       "4                                 #كورونا;#عاجل\n",
       "                          ...                  \n",
       "51678    #hcsmdxb19;#medtwitter;#bloggers;#some\n",
       "51679                                       NaN\n",
       "51680                                      #pmu\n",
       "51681                                       NaN\n",
       "51682                                       NaN\n",
       "Name: tags, Length: 51683, dtype: object"
      ]
     },
     "execution_count": 16,
     "metadata": {},
     "output_type": "execute_result"
    }
   ],
   "source": [
    "dataFrame.tags"
   ]
  },
  {
   "cell_type": "markdown",
   "metadata": {},
   "source": [
    "## Str Operations"
   ]
  },
  {
   "cell_type": "code",
   "execution_count": 17,
   "metadata": {},
   "outputs": [
    {
     "data": {
      "text/plain": [
       "0                     [#كورونا, #العراق, #lebanon24]\n",
       "1                         [#كورونا, #امتحانات_الموت]\n",
       "2                                          [#كورونا]\n",
       "3                                          [#كورونا]\n",
       "4                                   [#كورونا, #عاجل]\n",
       "                            ...                     \n",
       "51678    [#hcsmdxb19, #medtwitter, #bloggers, #some]\n",
       "51679                                            NaN\n",
       "51680                                         [#pmu]\n",
       "51681                                            NaN\n",
       "51682                                            NaN\n",
       "Name: tags, Length: 51683, dtype: object"
      ]
     },
     "execution_count": 17,
     "metadata": {},
     "output_type": "execute_result"
    }
   ],
   "source": [
    "dataFrame.tags.str.split(';')"
   ]
  },
  {
   "cell_type": "code",
   "execution_count": 18,
   "metadata": {},
   "outputs": [
    {
     "data": {
      "text/plain": [
       "0                      lebanon 24\n",
       "1                            sana\n",
       "2                  jaras scoop fm\n",
       "3                  lebanon debate\n",
       "4        عاجل - قناة فلسطين اليوم\n",
       "                   ...           \n",
       "51678                lamsalebanon\n",
       "51679             cristinesalloum\n",
       "51680                alihashem_tv\n",
       "51681                 mariosemaan\n",
       "51682                    aklfahed\n",
       "Name: username, Length: 51683, dtype: object"
      ]
     },
     "execution_count": 18,
     "metadata": {},
     "output_type": "execute_result"
    }
   ],
   "source": [
    "dataFrame.username.str.lower()"
   ]
  },
  {
   "cell_type": "markdown",
   "metadata": {},
   "source": [
    "## Functions\n",
    "These are just some examples. There are way more functions that can be used."
   ]
  },
  {
   "cell_type": "markdown",
   "metadata": {},
   "source": [
    "### Mean()"
   ]
  },
  {
   "cell_type": "code",
   "execution_count": 19,
   "metadata": {},
   "outputs": [
    {
     "data": {
      "text/plain": [
       "0.07254290273184945"
      ]
     },
     "execution_count": 19,
     "metadata": {},
     "output_type": "execute_result"
    }
   ],
   "source": [
    "dataFrame.sentiment.mean()"
   ]
  },
  {
   "cell_type": "markdown",
   "metadata": {},
   "source": [
    "### Unique()"
   ]
  },
  {
   "cell_type": "code",
   "execution_count": 20,
   "metadata": {},
   "outputs": [
    {
     "data": {
      "text/plain": [
       "array(['Lebanon 24', 'Sana', 'Jaras Scoop FM', ..., 'boutaridana',\n",
       "       'mariosemaan', 'aklfahed'], dtype=object)"
      ]
     },
     "execution_count": 20,
     "metadata": {},
     "output_type": "execute_result"
    }
   ],
   "source": [
    "dataFrame.username.unique()"
   ]
  },
  {
   "cell_type": "code",
   "execution_count": 21,
   "metadata": {},
   "outputs": [
    {
     "data": {
      "text/plain": [
       "15648"
      ]
     },
     "execution_count": 21,
     "metadata": {},
     "output_type": "execute_result"
    }
   ],
   "source": [
    "dataFrame.username.nunique() # unique count"
   ]
  },
  {
   "cell_type": "markdown",
   "metadata": {},
   "source": [
    "### Apply()"
   ]
  },
  {
   "cell_type": "code",
   "execution_count": 22,
   "metadata": {},
   "outputs": [
    {
     "data": {
      "text/plain": [
       "0         Neutral\n",
       "1        Positive\n",
       "2        Negative\n",
       "3        Positive\n",
       "4        Negative\n",
       "           ...   \n",
       "51678    Positive\n",
       "51679    Positive\n",
       "51680    Negative\n",
       "51681     Neutral\n",
       "51682    Positive\n",
       "Name: sentiment, Length: 51683, dtype: object"
      ]
     },
     "execution_count": 22,
     "metadata": {},
     "output_type": "execute_result"
    }
   ],
   "source": [
    "dataFrame.sentiment.apply(lambda s: 'Positive' if s > 0 else 'Neutral' if s == 0 else 'Negative')"
   ]
  },
  {
   "cell_type": "markdown",
   "metadata": {},
   "source": [
    "# 3 - Slicing and Subsetting"
   ]
  },
  {
   "cell_type": "markdown",
   "metadata": {},
   "source": [
    "## Series"
   ]
  },
  {
   "cell_type": "code",
   "execution_count": 23,
   "metadata": {},
   "outputs": [
    {
     "data": {
      "text/plain": [
       "pandas.core.series.Series"
      ]
     },
     "execution_count": 23,
     "metadata": {},
     "output_type": "execute_result"
    }
   ],
   "source": [
    "usernames = dataFrame['username']\n",
    "type(usernames)"
   ]
  },
  {
   "cell_type": "code",
   "execution_count": 24,
   "metadata": {},
   "outputs": [
    {
     "data": {
      "text/plain": [
       "'Lebanon 24'"
      ]
     },
     "execution_count": 24,
     "metadata": {},
     "output_type": "execute_result"
    }
   ],
   "source": [
    "usernames[0]"
   ]
  },
  {
   "cell_type": "code",
   "execution_count": 25,
   "metadata": {},
   "outputs": [
    {
     "ename": "KeyError",
     "evalue": "-1",
     "output_type": "error",
     "traceback": [
      "\u001b[1;31m---------------------------------------------------------------------------\u001b[0m",
      "\u001b[1;31mKeyError\u001b[0m                                  Traceback (most recent call last)",
      "\u001b[1;32m<ipython-input-25-25a8ffaecdf5>\u001b[0m in \u001b[0;36m<module>\u001b[1;34m\u001b[0m\n\u001b[1;32m----> 1\u001b[1;33m \u001b[0musernames\u001b[0m\u001b[1;33m[\u001b[0m\u001b[1;33m-\u001b[0m\u001b[1;36m1\u001b[0m\u001b[1;33m]\u001b[0m \u001b[1;31m# doesn't work with negative indexing\u001b[0m\u001b[1;33m\u001b[0m\u001b[1;33m\u001b[0m\u001b[0m\n\u001b[0m",
      "\u001b[1;32md:\\desktop\\github\\m2-project\\twittervenv\\lib\\site-packages\\pandas\\core\\series.py\u001b[0m in \u001b[0;36m__getitem__\u001b[1;34m(self, key)\u001b[0m\n\u001b[0;32m    869\u001b[0m         \u001b[0mkey\u001b[0m \u001b[1;33m=\u001b[0m \u001b[0mcom\u001b[0m\u001b[1;33m.\u001b[0m\u001b[0mapply_if_callable\u001b[0m\u001b[1;33m(\u001b[0m\u001b[0mkey\u001b[0m\u001b[1;33m,\u001b[0m \u001b[0mself\u001b[0m\u001b[1;33m)\u001b[0m\u001b[1;33m\u001b[0m\u001b[1;33m\u001b[0m\u001b[0m\n\u001b[0;32m    870\u001b[0m         \u001b[1;32mtry\u001b[0m\u001b[1;33m:\u001b[0m\u001b[1;33m\u001b[0m\u001b[1;33m\u001b[0m\u001b[0m\n\u001b[1;32m--> 871\u001b[1;33m             \u001b[0mresult\u001b[0m \u001b[1;33m=\u001b[0m \u001b[0mself\u001b[0m\u001b[1;33m.\u001b[0m\u001b[0mindex\u001b[0m\u001b[1;33m.\u001b[0m\u001b[0mget_value\u001b[0m\u001b[1;33m(\u001b[0m\u001b[0mself\u001b[0m\u001b[1;33m,\u001b[0m \u001b[0mkey\u001b[0m\u001b[1;33m)\u001b[0m\u001b[1;33m\u001b[0m\u001b[1;33m\u001b[0m\u001b[0m\n\u001b[0m\u001b[0;32m    872\u001b[0m \u001b[1;33m\u001b[0m\u001b[0m\n\u001b[0;32m    873\u001b[0m             \u001b[1;32mif\u001b[0m \u001b[1;32mnot\u001b[0m \u001b[0mis_scalar\u001b[0m\u001b[1;33m(\u001b[0m\u001b[0mresult\u001b[0m\u001b[1;33m)\u001b[0m\u001b[1;33m:\u001b[0m\u001b[1;33m\u001b[0m\u001b[1;33m\u001b[0m\u001b[0m\n",
      "\u001b[1;32md:\\desktop\\github\\m2-project\\twittervenv\\lib\\site-packages\\pandas\\core\\indexes\\base.py\u001b[0m in \u001b[0;36mget_value\u001b[1;34m(self, series, key)\u001b[0m\n\u001b[0;32m   4403\u001b[0m         \u001b[0mk\u001b[0m \u001b[1;33m=\u001b[0m \u001b[0mself\u001b[0m\u001b[1;33m.\u001b[0m\u001b[0m_convert_scalar_indexer\u001b[0m\u001b[1;33m(\u001b[0m\u001b[0mk\u001b[0m\u001b[1;33m,\u001b[0m \u001b[0mkind\u001b[0m\u001b[1;33m=\u001b[0m\u001b[1;34m\"getitem\"\u001b[0m\u001b[1;33m)\u001b[0m\u001b[1;33m\u001b[0m\u001b[1;33m\u001b[0m\u001b[0m\n\u001b[0;32m   4404\u001b[0m         \u001b[1;32mtry\u001b[0m\u001b[1;33m:\u001b[0m\u001b[1;33m\u001b[0m\u001b[1;33m\u001b[0m\u001b[0m\n\u001b[1;32m-> 4405\u001b[1;33m             \u001b[1;32mreturn\u001b[0m \u001b[0mself\u001b[0m\u001b[1;33m.\u001b[0m\u001b[0m_engine\u001b[0m\u001b[1;33m.\u001b[0m\u001b[0mget_value\u001b[0m\u001b[1;33m(\u001b[0m\u001b[0ms\u001b[0m\u001b[1;33m,\u001b[0m \u001b[0mk\u001b[0m\u001b[1;33m,\u001b[0m \u001b[0mtz\u001b[0m\u001b[1;33m=\u001b[0m\u001b[0mgetattr\u001b[0m\u001b[1;33m(\u001b[0m\u001b[0mseries\u001b[0m\u001b[1;33m.\u001b[0m\u001b[0mdtype\u001b[0m\u001b[1;33m,\u001b[0m \u001b[1;34m\"tz\"\u001b[0m\u001b[1;33m,\u001b[0m \u001b[1;32mNone\u001b[0m\u001b[1;33m)\u001b[0m\u001b[1;33m)\u001b[0m\u001b[1;33m\u001b[0m\u001b[1;33m\u001b[0m\u001b[0m\n\u001b[0m\u001b[0;32m   4406\u001b[0m         \u001b[1;32mexcept\u001b[0m \u001b[0mKeyError\u001b[0m \u001b[1;32mas\u001b[0m \u001b[0me1\u001b[0m\u001b[1;33m:\u001b[0m\u001b[1;33m\u001b[0m\u001b[1;33m\u001b[0m\u001b[0m\n\u001b[0;32m   4407\u001b[0m             \u001b[1;32mif\u001b[0m \u001b[0mlen\u001b[0m\u001b[1;33m(\u001b[0m\u001b[0mself\u001b[0m\u001b[1;33m)\u001b[0m \u001b[1;33m>\u001b[0m \u001b[1;36m0\u001b[0m \u001b[1;32mand\u001b[0m \u001b[1;33m(\u001b[0m\u001b[0mself\u001b[0m\u001b[1;33m.\u001b[0m\u001b[0mholds_integer\u001b[0m\u001b[1;33m(\u001b[0m\u001b[1;33m)\u001b[0m \u001b[1;32mor\u001b[0m \u001b[0mself\u001b[0m\u001b[1;33m.\u001b[0m\u001b[0mis_boolean\u001b[0m\u001b[1;33m(\u001b[0m\u001b[1;33m)\u001b[0m\u001b[1;33m)\u001b[0m\u001b[1;33m:\u001b[0m\u001b[1;33m\u001b[0m\u001b[1;33m\u001b[0m\u001b[0m\n",
      "\u001b[1;32mpandas\\_libs\\index.pyx\u001b[0m in \u001b[0;36mpandas._libs.index.IndexEngine.get_value\u001b[1;34m()\u001b[0m\n",
      "\u001b[1;32mpandas\\_libs\\index.pyx\u001b[0m in \u001b[0;36mpandas._libs.index.IndexEngine.get_value\u001b[1;34m()\u001b[0m\n",
      "\u001b[1;32mpandas\\_libs\\index.pyx\u001b[0m in \u001b[0;36mpandas._libs.index.IndexEngine.get_loc\u001b[1;34m()\u001b[0m\n",
      "\u001b[1;32mpandas\\_libs\\hashtable_class_helper.pxi\u001b[0m in \u001b[0;36mpandas._libs.hashtable.Int64HashTable.get_item\u001b[1;34m()\u001b[0m\n",
      "\u001b[1;32mpandas\\_libs\\hashtable_class_helper.pxi\u001b[0m in \u001b[0;36mpandas._libs.hashtable.Int64HashTable.get_item\u001b[1;34m()\u001b[0m\n",
      "\u001b[1;31mKeyError\u001b[0m: -1"
     ]
    }
   ],
   "source": [
    "usernames[-1] # doesn't work with negative indexing"
   ]
  },
  {
   "cell_type": "markdown",
   "metadata": {},
   "source": [
    "## DataFrame"
   ]
  },
  {
   "cell_type": "code",
   "execution_count": 26,
   "metadata": {},
   "outputs": [
    {
     "data": {
      "text/plain": [
       "pandas.core.frame.DataFrame"
      ]
     },
     "execution_count": 26,
     "metadata": {},
     "output_type": "execute_result"
    }
   ],
   "source": [
    "usernames = dataFrame[['username']] # double braces to get a dataframe\n",
    "type(usernames)"
   ]
  },
  {
   "cell_type": "code",
   "execution_count": 27,
   "metadata": {},
   "outputs": [
    {
     "data": {
      "text/html": [
       "<div>\n",
       "<style scoped>\n",
       "    .dataframe tbody tr th:only-of-type {\n",
       "        vertical-align: middle;\n",
       "    }\n",
       "\n",
       "    .dataframe tbody tr th {\n",
       "        vertical-align: top;\n",
       "    }\n",
       "\n",
       "    .dataframe thead th {\n",
       "        text-align: right;\n",
       "    }\n",
       "</style>\n",
       "<table border=\"1\" class=\"dataframe\">\n",
       "  <thead>\n",
       "    <tr style=\"text-align: right;\">\n",
       "      <th></th>\n",
       "      <th>username</th>\n",
       "    </tr>\n",
       "  </thead>\n",
       "  <tbody>\n",
       "    <tr>\n",
       "      <th>0</th>\n",
       "      <td>Lebanon 24</td>\n",
       "    </tr>\n",
       "    <tr>\n",
       "      <th>1</th>\n",
       "      <td>Sana</td>\n",
       "    </tr>\n",
       "    <tr>\n",
       "      <th>2</th>\n",
       "      <td>Jaras Scoop FM</td>\n",
       "    </tr>\n",
       "    <tr>\n",
       "      <th>3</th>\n",
       "      <td>Lebanon Debate</td>\n",
       "    </tr>\n",
       "    <tr>\n",
       "      <th>4</th>\n",
       "      <td>عاجل - قناة فلسطين اليوم</td>\n",
       "    </tr>\n",
       "  </tbody>\n",
       "</table>\n",
       "</div>"
      ],
      "text/plain": [
       "                   username\n",
       "0                Lebanon 24\n",
       "1                      Sana\n",
       "2            Jaras Scoop FM\n",
       "3            Lebanon Debate\n",
       "4  عاجل - قناة فلسطين اليوم"
      ]
     },
     "execution_count": 27,
     "metadata": {},
     "output_type": "execute_result"
    }
   ],
   "source": [
    "usernames.head()"
   ]
  },
  {
   "cell_type": "code",
   "execution_count": 28,
   "metadata": {},
   "outputs": [
    {
     "ename": "KeyError",
     "evalue": "0",
     "output_type": "error",
     "traceback": [
      "\u001b[1;31m---------------------------------------------------------------------------\u001b[0m",
      "\u001b[1;31mKeyError\u001b[0m                                  Traceback (most recent call last)",
      "\u001b[1;32md:\\desktop\\github\\m2-project\\twittervenv\\lib\\site-packages\\pandas\\core\\indexes\\base.py\u001b[0m in \u001b[0;36mget_loc\u001b[1;34m(self, key, method, tolerance)\u001b[0m\n\u001b[0;32m   2645\u001b[0m             \u001b[1;32mtry\u001b[0m\u001b[1;33m:\u001b[0m\u001b[1;33m\u001b[0m\u001b[1;33m\u001b[0m\u001b[0m\n\u001b[1;32m-> 2646\u001b[1;33m                 \u001b[1;32mreturn\u001b[0m \u001b[0mself\u001b[0m\u001b[1;33m.\u001b[0m\u001b[0m_engine\u001b[0m\u001b[1;33m.\u001b[0m\u001b[0mget_loc\u001b[0m\u001b[1;33m(\u001b[0m\u001b[0mkey\u001b[0m\u001b[1;33m)\u001b[0m\u001b[1;33m\u001b[0m\u001b[1;33m\u001b[0m\u001b[0m\n\u001b[0m\u001b[0;32m   2647\u001b[0m             \u001b[1;32mexcept\u001b[0m \u001b[0mKeyError\u001b[0m\u001b[1;33m:\u001b[0m\u001b[1;33m\u001b[0m\u001b[1;33m\u001b[0m\u001b[0m\n",
      "\u001b[1;32mpandas\\_libs\\index.pyx\u001b[0m in \u001b[0;36mpandas._libs.index.IndexEngine.get_loc\u001b[1;34m()\u001b[0m\n",
      "\u001b[1;32mpandas\\_libs\\index.pyx\u001b[0m in \u001b[0;36mpandas._libs.index.IndexEngine.get_loc\u001b[1;34m()\u001b[0m\n",
      "\u001b[1;32mpandas\\_libs\\hashtable_class_helper.pxi\u001b[0m in \u001b[0;36mpandas._libs.hashtable.PyObjectHashTable.get_item\u001b[1;34m()\u001b[0m\n",
      "\u001b[1;32mpandas\\_libs\\hashtable_class_helper.pxi\u001b[0m in \u001b[0;36mpandas._libs.hashtable.PyObjectHashTable.get_item\u001b[1;34m()\u001b[0m\n",
      "\u001b[1;31mKeyError\u001b[0m: 0",
      "\nDuring handling of the above exception, another exception occurred:\n",
      "\u001b[1;31mKeyError\u001b[0m                                  Traceback (most recent call last)",
      "\u001b[1;32m<ipython-input-28-5b87a66fd2d5>\u001b[0m in \u001b[0;36m<module>\u001b[1;34m\u001b[0m\n\u001b[1;32m----> 1\u001b[1;33m \u001b[0musernames\u001b[0m\u001b[1;33m[\u001b[0m\u001b[1;36m0\u001b[0m\u001b[1;33m]\u001b[0m \u001b[1;31m# doesn't work with normal indexing\u001b[0m\u001b[1;33m\u001b[0m\u001b[1;33m\u001b[0m\u001b[0m\n\u001b[0m",
      "\u001b[1;32md:\\desktop\\github\\m2-project\\twittervenv\\lib\\site-packages\\pandas\\core\\frame.py\u001b[0m in \u001b[0;36m__getitem__\u001b[1;34m(self, key)\u001b[0m\n\u001b[0;32m   2798\u001b[0m             \u001b[1;32mif\u001b[0m \u001b[0mself\u001b[0m\u001b[1;33m.\u001b[0m\u001b[0mcolumns\u001b[0m\u001b[1;33m.\u001b[0m\u001b[0mnlevels\u001b[0m \u001b[1;33m>\u001b[0m \u001b[1;36m1\u001b[0m\u001b[1;33m:\u001b[0m\u001b[1;33m\u001b[0m\u001b[1;33m\u001b[0m\u001b[0m\n\u001b[0;32m   2799\u001b[0m                 \u001b[1;32mreturn\u001b[0m \u001b[0mself\u001b[0m\u001b[1;33m.\u001b[0m\u001b[0m_getitem_multilevel\u001b[0m\u001b[1;33m(\u001b[0m\u001b[0mkey\u001b[0m\u001b[1;33m)\u001b[0m\u001b[1;33m\u001b[0m\u001b[1;33m\u001b[0m\u001b[0m\n\u001b[1;32m-> 2800\u001b[1;33m             \u001b[0mindexer\u001b[0m \u001b[1;33m=\u001b[0m \u001b[0mself\u001b[0m\u001b[1;33m.\u001b[0m\u001b[0mcolumns\u001b[0m\u001b[1;33m.\u001b[0m\u001b[0mget_loc\u001b[0m\u001b[1;33m(\u001b[0m\u001b[0mkey\u001b[0m\u001b[1;33m)\u001b[0m\u001b[1;33m\u001b[0m\u001b[1;33m\u001b[0m\u001b[0m\n\u001b[0m\u001b[0;32m   2801\u001b[0m             \u001b[1;32mif\u001b[0m \u001b[0mis_integer\u001b[0m\u001b[1;33m(\u001b[0m\u001b[0mindexer\u001b[0m\u001b[1;33m)\u001b[0m\u001b[1;33m:\u001b[0m\u001b[1;33m\u001b[0m\u001b[1;33m\u001b[0m\u001b[0m\n\u001b[0;32m   2802\u001b[0m                 \u001b[0mindexer\u001b[0m \u001b[1;33m=\u001b[0m \u001b[1;33m[\u001b[0m\u001b[0mindexer\u001b[0m\u001b[1;33m]\u001b[0m\u001b[1;33m\u001b[0m\u001b[1;33m\u001b[0m\u001b[0m\n",
      "\u001b[1;32md:\\desktop\\github\\m2-project\\twittervenv\\lib\\site-packages\\pandas\\core\\indexes\\base.py\u001b[0m in \u001b[0;36mget_loc\u001b[1;34m(self, key, method, tolerance)\u001b[0m\n\u001b[0;32m   2646\u001b[0m                 \u001b[1;32mreturn\u001b[0m \u001b[0mself\u001b[0m\u001b[1;33m.\u001b[0m\u001b[0m_engine\u001b[0m\u001b[1;33m.\u001b[0m\u001b[0mget_loc\u001b[0m\u001b[1;33m(\u001b[0m\u001b[0mkey\u001b[0m\u001b[1;33m)\u001b[0m\u001b[1;33m\u001b[0m\u001b[1;33m\u001b[0m\u001b[0m\n\u001b[0;32m   2647\u001b[0m             \u001b[1;32mexcept\u001b[0m \u001b[0mKeyError\u001b[0m\u001b[1;33m:\u001b[0m\u001b[1;33m\u001b[0m\u001b[1;33m\u001b[0m\u001b[0m\n\u001b[1;32m-> 2648\u001b[1;33m                 \u001b[1;32mreturn\u001b[0m \u001b[0mself\u001b[0m\u001b[1;33m.\u001b[0m\u001b[0m_engine\u001b[0m\u001b[1;33m.\u001b[0m\u001b[0mget_loc\u001b[0m\u001b[1;33m(\u001b[0m\u001b[0mself\u001b[0m\u001b[1;33m.\u001b[0m\u001b[0m_maybe_cast_indexer\u001b[0m\u001b[1;33m(\u001b[0m\u001b[0mkey\u001b[0m\u001b[1;33m)\u001b[0m\u001b[1;33m)\u001b[0m\u001b[1;33m\u001b[0m\u001b[1;33m\u001b[0m\u001b[0m\n\u001b[0m\u001b[0;32m   2649\u001b[0m         \u001b[0mindexer\u001b[0m \u001b[1;33m=\u001b[0m \u001b[0mself\u001b[0m\u001b[1;33m.\u001b[0m\u001b[0mget_indexer\u001b[0m\u001b[1;33m(\u001b[0m\u001b[1;33m[\u001b[0m\u001b[0mkey\u001b[0m\u001b[1;33m]\u001b[0m\u001b[1;33m,\u001b[0m \u001b[0mmethod\u001b[0m\u001b[1;33m=\u001b[0m\u001b[0mmethod\u001b[0m\u001b[1;33m,\u001b[0m \u001b[0mtolerance\u001b[0m\u001b[1;33m=\u001b[0m\u001b[0mtolerance\u001b[0m\u001b[1;33m)\u001b[0m\u001b[1;33m\u001b[0m\u001b[1;33m\u001b[0m\u001b[0m\n\u001b[0;32m   2650\u001b[0m         \u001b[1;32mif\u001b[0m \u001b[0mindexer\u001b[0m\u001b[1;33m.\u001b[0m\u001b[0mndim\u001b[0m \u001b[1;33m>\u001b[0m \u001b[1;36m1\u001b[0m \u001b[1;32mor\u001b[0m \u001b[0mindexer\u001b[0m\u001b[1;33m.\u001b[0m\u001b[0msize\u001b[0m \u001b[1;33m>\u001b[0m \u001b[1;36m1\u001b[0m\u001b[1;33m:\u001b[0m\u001b[1;33m\u001b[0m\u001b[1;33m\u001b[0m\u001b[0m\n",
      "\u001b[1;32mpandas\\_libs\\index.pyx\u001b[0m in \u001b[0;36mpandas._libs.index.IndexEngine.get_loc\u001b[1;34m()\u001b[0m\n",
      "\u001b[1;32mpandas\\_libs\\index.pyx\u001b[0m in \u001b[0;36mpandas._libs.index.IndexEngine.get_loc\u001b[1;34m()\u001b[0m\n",
      "\u001b[1;32mpandas\\_libs\\hashtable_class_helper.pxi\u001b[0m in \u001b[0;36mpandas._libs.hashtable.PyObjectHashTable.get_item\u001b[1;34m()\u001b[0m\n",
      "\u001b[1;32mpandas\\_libs\\hashtable_class_helper.pxi\u001b[0m in \u001b[0;36mpandas._libs.hashtable.PyObjectHashTable.get_item\u001b[1;34m()\u001b[0m\n",
      "\u001b[1;31mKeyError\u001b[0m: 0"
     ]
    }
   ],
   "source": [
    "usernames[0] # doesn't work with normal indexing"
   ]
  },
  {
   "cell_type": "markdown",
   "metadata": {},
   "source": [
    "## Using location for DataFrame slicing & indexing\n",
    "This type of slicing/indexing depends on positve indexes and column names.  \n",
    "\\* Note that it also accepts named indexes."
   ]
  },
  {
   "cell_type": "code",
   "execution_count": 29,
   "metadata": {},
   "outputs": [
    {
     "data": {
      "text/plain": [
       "username                                                  Lebanon 24\n",
       "date                                                      2020-07-12\n",
       "text               #كورونا يتلف رئة \"أبو عزرائيل\" (صورة) #العراق#...\n",
       "tags                                      #كورونا;#العراق;#lebanon24\n",
       "translated_text    Corona damages the lung of \"Abu Azrael\" (photo...\n",
       "sentiment                                                          0\n",
       "location                                                         صور\n",
       "lat                                                          33.2733\n",
       "long                                                         35.1939\n",
       "sentiment_label                                              Neutral\n",
       "KADAA_ID                                                       83000\n",
       "KADAA_AR                                                         صور\n",
       "KADAA_EN                                                        Sour\n",
       "MOHAFAZA_ID                                                        8\n",
       "MOHAFAZA_AR                                                   الجنوب\n",
       "MOHAFAZA_EN                                                    South\n",
       "Name: 0, dtype: object"
      ]
     },
     "execution_count": 29,
     "metadata": {},
     "output_type": "execute_result"
    }
   ],
   "source": [
    "dataFrame.loc[0] # row 0"
   ]
  },
  {
   "cell_type": "code",
   "execution_count": 30,
   "metadata": {},
   "outputs": [
    {
     "data": {
      "text/html": [
       "<div>\n",
       "<style scoped>\n",
       "    .dataframe tbody tr th:only-of-type {\n",
       "        vertical-align: middle;\n",
       "    }\n",
       "\n",
       "    .dataframe tbody tr th {\n",
       "        vertical-align: top;\n",
       "    }\n",
       "\n",
       "    .dataframe thead th {\n",
       "        text-align: right;\n",
       "    }\n",
       "</style>\n",
       "<table border=\"1\" class=\"dataframe\">\n",
       "  <thead>\n",
       "    <tr style=\"text-align: right;\">\n",
       "      <th></th>\n",
       "      <th>username</th>\n",
       "      <th>date</th>\n",
       "      <th>text</th>\n",
       "      <th>tags</th>\n",
       "      <th>translated_text</th>\n",
       "      <th>sentiment</th>\n",
       "      <th>location</th>\n",
       "      <th>lat</th>\n",
       "      <th>long</th>\n",
       "      <th>sentiment_label</th>\n",
       "      <th>KADAA_ID</th>\n",
       "      <th>KADAA_AR</th>\n",
       "      <th>KADAA_EN</th>\n",
       "      <th>MOHAFAZA_ID</th>\n",
       "      <th>MOHAFAZA_AR</th>\n",
       "      <th>MOHAFAZA_EN</th>\n",
       "    </tr>\n",
       "  </thead>\n",
       "  <tbody>\n",
       "    <tr>\n",
       "      <th>0</th>\n",
       "      <td>Lebanon 24</td>\n",
       "      <td>2020-07-12</td>\n",
       "      <td>#كورونا يتلف رئة \"أبو عزرائيل\" (صورة) #العراق#...</td>\n",
       "      <td>#كورونا;#العراق;#lebanon24</td>\n",
       "      <td>Corona damages the lung of \"Abu Azrael\" (photo...</td>\n",
       "      <td>0.000</td>\n",
       "      <td>صور</td>\n",
       "      <td>33.2733</td>\n",
       "      <td>35.1939</td>\n",
       "      <td>Neutral</td>\n",
       "      <td>83000</td>\n",
       "      <td>صور</td>\n",
       "      <td>Sour</td>\n",
       "      <td>8</td>\n",
       "      <td>الجنوب</td>\n",
       "      <td>South</td>\n",
       "    </tr>\n",
       "    <tr>\n",
       "      <th>1</th>\n",
       "      <td>Sana</td>\n",
       "      <td>2020-07-12</td>\n",
       "      <td>حضرة اساتذة القانون بالجامعة اللبنانية المحترم...</td>\n",
       "      <td>#كورونا;#امتحانات_الموت</td>\n",
       "      <td>Honorable professors of law at the Lebanese Un...</td>\n",
       "      <td>0.325</td>\n",
       "      <td>العربانية</td>\n",
       "      <td>33.8772</td>\n",
       "      <td>35.6786</td>\n",
       "      <td>Positive</td>\n",
       "      <td>51000</td>\n",
       "      <td>بعبدا</td>\n",
       "      <td>Baabda</td>\n",
       "      <td>5</td>\n",
       "      <td>جبل لبنان</td>\n",
       "      <td>Mount Lebanon</td>\n",
       "    </tr>\n",
       "    <tr>\n",
       "      <th>100</th>\n",
       "      <td>آلاء ترشيشي</td>\n",
       "      <td>2020-07-09</td>\n",
       "      <td>السؤال: هل ستتم محاسبة المغترب المستهتر الذي ل...</td>\n",
       "      <td>#كورونا;#الحجر_الصحي</td>\n",
       "      <td>Question: Will the reckless expatriate who did...</td>\n",
       "      <td>0.000</td>\n",
       "      <td>محاربية</td>\n",
       "      <td>33.5270</td>\n",
       "      <td>35.4471</td>\n",
       "      <td>Neutral</td>\n",
       "      <td>82000</td>\n",
       "      <td>جزّين</td>\n",
       "      <td>Jezzine</td>\n",
       "      <td>8</td>\n",
       "      <td>الجنوب</td>\n",
       "      <td>South</td>\n",
       "    </tr>\n",
       "  </tbody>\n",
       "</table>\n",
       "</div>"
      ],
      "text/plain": [
       "        username        date  \\\n",
       "0     Lebanon 24  2020-07-12   \n",
       "1           Sana  2020-07-12   \n",
       "100  آلاء ترشيشي  2020-07-09   \n",
       "\n",
       "                                                  text  \\\n",
       "0    #كورونا يتلف رئة \"أبو عزرائيل\" (صورة) #العراق#...   \n",
       "1    حضرة اساتذة القانون بالجامعة اللبنانية المحترم...   \n",
       "100  السؤال: هل ستتم محاسبة المغترب المستهتر الذي ل...   \n",
       "\n",
       "                           tags  \\\n",
       "0    #كورونا;#العراق;#lebanon24   \n",
       "1       #كورونا;#امتحانات_الموت   \n",
       "100        #كورونا;#الحجر_الصحي   \n",
       "\n",
       "                                       translated_text  sentiment   location  \\\n",
       "0    Corona damages the lung of \"Abu Azrael\" (photo...      0.000        صور   \n",
       "1    Honorable professors of law at the Lebanese Un...      0.325  العربانية   \n",
       "100  Question: Will the reckless expatriate who did...      0.000    محاربية   \n",
       "\n",
       "         lat     long sentiment_label  KADAA_ID KADAA_AR KADAA_EN  \\\n",
       "0    33.2733  35.1939         Neutral     83000      صور     Sour   \n",
       "1    33.8772  35.6786        Positive     51000    بعبدا   Baabda   \n",
       "100  33.5270  35.4471         Neutral     82000    جزّين  Jezzine   \n",
       "\n",
       "     MOHAFAZA_ID MOHAFAZA_AR    MOHAFAZA_EN  \n",
       "0              8      الجنوب          South  \n",
       "1              5   جبل لبنان  Mount Lebanon  \n",
       "100            8      الجنوب          South  "
      ]
     },
     "execution_count": 30,
     "metadata": {},
     "output_type": "execute_result"
    }
   ],
   "source": [
    "dataFrame.loc[[0, 1, 100]] # a list of the row indexs that you want"
   ]
  },
  {
   "cell_type": "code",
   "execution_count": 31,
   "metadata": {},
   "outputs": [
    {
     "ename": "KeyError",
     "evalue": "-1",
     "output_type": "error",
     "traceback": [
      "\u001b[1;31m---------------------------------------------------------------------------\u001b[0m",
      "\u001b[1;31mValueError\u001b[0m                                Traceback (most recent call last)",
      "\u001b[1;32md:\\desktop\\github\\m2-project\\twittervenv\\lib\\site-packages\\pandas\\core\\indexes\\range.py\u001b[0m in \u001b[0;36mget_loc\u001b[1;34m(self, key, method, tolerance)\u001b[0m\n\u001b[0;32m    349\u001b[0m             \u001b[1;32mtry\u001b[0m\u001b[1;33m:\u001b[0m\u001b[1;33m\u001b[0m\u001b[1;33m\u001b[0m\u001b[0m\n\u001b[1;32m--> 350\u001b[1;33m                 \u001b[1;32mreturn\u001b[0m \u001b[0mself\u001b[0m\u001b[1;33m.\u001b[0m\u001b[0m_range\u001b[0m\u001b[1;33m.\u001b[0m\u001b[0mindex\u001b[0m\u001b[1;33m(\u001b[0m\u001b[0mnew_key\u001b[0m\u001b[1;33m)\u001b[0m\u001b[1;33m\u001b[0m\u001b[1;33m\u001b[0m\u001b[0m\n\u001b[0m\u001b[0;32m    351\u001b[0m             \u001b[1;32mexcept\u001b[0m \u001b[0mValueError\u001b[0m\u001b[1;33m:\u001b[0m\u001b[1;33m\u001b[0m\u001b[1;33m\u001b[0m\u001b[0m\n",
      "\u001b[1;31mValueError\u001b[0m: -1 is not in range",
      "\nDuring handling of the above exception, another exception occurred:\n",
      "\u001b[1;31mKeyError\u001b[0m                                  Traceback (most recent call last)",
      "\u001b[1;32m<ipython-input-31-d6cf14d13b03>\u001b[0m in \u001b[0;36m<module>\u001b[1;34m\u001b[0m\n\u001b[1;32m----> 1\u001b[1;33m \u001b[0mdataFrame\u001b[0m\u001b[1;33m.\u001b[0m\u001b[0mloc\u001b[0m\u001b[1;33m[\u001b[0m\u001b[1;33m-\u001b[0m\u001b[1;36m1\u001b[0m\u001b[1;33m]\u001b[0m \u001b[1;31m# doesn't work with negative indexes\u001b[0m\u001b[1;33m\u001b[0m\u001b[1;33m\u001b[0m\u001b[0m\n\u001b[0m",
      "\u001b[1;32md:\\desktop\\github\\m2-project\\twittervenv\\lib\\site-packages\\pandas\\core\\indexing.py\u001b[0m in \u001b[0;36m__getitem__\u001b[1;34m(self, key)\u001b[0m\n\u001b[0;32m   1766\u001b[0m \u001b[1;33m\u001b[0m\u001b[0m\n\u001b[0;32m   1767\u001b[0m             \u001b[0mmaybe_callable\u001b[0m \u001b[1;33m=\u001b[0m \u001b[0mcom\u001b[0m\u001b[1;33m.\u001b[0m\u001b[0mapply_if_callable\u001b[0m\u001b[1;33m(\u001b[0m\u001b[0mkey\u001b[0m\u001b[1;33m,\u001b[0m \u001b[0mself\u001b[0m\u001b[1;33m.\u001b[0m\u001b[0mobj\u001b[0m\u001b[1;33m)\u001b[0m\u001b[1;33m\u001b[0m\u001b[1;33m\u001b[0m\u001b[0m\n\u001b[1;32m-> 1768\u001b[1;33m             \u001b[1;32mreturn\u001b[0m \u001b[0mself\u001b[0m\u001b[1;33m.\u001b[0m\u001b[0m_getitem_axis\u001b[0m\u001b[1;33m(\u001b[0m\u001b[0mmaybe_callable\u001b[0m\u001b[1;33m,\u001b[0m \u001b[0maxis\u001b[0m\u001b[1;33m=\u001b[0m\u001b[0maxis\u001b[0m\u001b[1;33m)\u001b[0m\u001b[1;33m\u001b[0m\u001b[1;33m\u001b[0m\u001b[0m\n\u001b[0m\u001b[0;32m   1769\u001b[0m \u001b[1;33m\u001b[0m\u001b[0m\n\u001b[0;32m   1770\u001b[0m     \u001b[1;32mdef\u001b[0m \u001b[0m_is_scalar_access\u001b[0m\u001b[1;33m(\u001b[0m\u001b[0mself\u001b[0m\u001b[1;33m,\u001b[0m \u001b[0mkey\u001b[0m\u001b[1;33m:\u001b[0m \u001b[0mTuple\u001b[0m\u001b[1;33m)\u001b[0m\u001b[1;33m:\u001b[0m\u001b[1;33m\u001b[0m\u001b[1;33m\u001b[0m\u001b[0m\n",
      "\u001b[1;32md:\\desktop\\github\\m2-project\\twittervenv\\lib\\site-packages\\pandas\\core\\indexing.py\u001b[0m in \u001b[0;36m_getitem_axis\u001b[1;34m(self, key, axis)\u001b[0m\n\u001b[0;32m   1963\u001b[0m         \u001b[1;31m# fall thru to straight lookup\u001b[0m\u001b[1;33m\u001b[0m\u001b[1;33m\u001b[0m\u001b[1;33m\u001b[0m\u001b[0m\n\u001b[0;32m   1964\u001b[0m         \u001b[0mself\u001b[0m\u001b[1;33m.\u001b[0m\u001b[0m_validate_key\u001b[0m\u001b[1;33m(\u001b[0m\u001b[0mkey\u001b[0m\u001b[1;33m,\u001b[0m \u001b[0maxis\u001b[0m\u001b[1;33m)\u001b[0m\u001b[1;33m\u001b[0m\u001b[1;33m\u001b[0m\u001b[0m\n\u001b[1;32m-> 1965\u001b[1;33m         \u001b[1;32mreturn\u001b[0m \u001b[0mself\u001b[0m\u001b[1;33m.\u001b[0m\u001b[0m_get_label\u001b[0m\u001b[1;33m(\u001b[0m\u001b[0mkey\u001b[0m\u001b[1;33m,\u001b[0m \u001b[0maxis\u001b[0m\u001b[1;33m=\u001b[0m\u001b[0maxis\u001b[0m\u001b[1;33m)\u001b[0m\u001b[1;33m\u001b[0m\u001b[1;33m\u001b[0m\u001b[0m\n\u001b[0m\u001b[0;32m   1966\u001b[0m \u001b[1;33m\u001b[0m\u001b[0m\n\u001b[0;32m   1967\u001b[0m \u001b[1;33m\u001b[0m\u001b[0m\n",
      "\u001b[1;32md:\\desktop\\github\\m2-project\\twittervenv\\lib\\site-packages\\pandas\\core\\indexing.py\u001b[0m in \u001b[0;36m_get_label\u001b[1;34m(self, label, axis)\u001b[0m\n\u001b[0;32m    623\u001b[0m             \u001b[1;32mraise\u001b[0m \u001b[0mIndexingError\u001b[0m\u001b[1;33m(\u001b[0m\u001b[1;34m\"no slices here, handle elsewhere\"\u001b[0m\u001b[1;33m)\u001b[0m\u001b[1;33m\u001b[0m\u001b[1;33m\u001b[0m\u001b[0m\n\u001b[0;32m    624\u001b[0m \u001b[1;33m\u001b[0m\u001b[0m\n\u001b[1;32m--> 625\u001b[1;33m         \u001b[1;32mreturn\u001b[0m \u001b[0mself\u001b[0m\u001b[1;33m.\u001b[0m\u001b[0mobj\u001b[0m\u001b[1;33m.\u001b[0m\u001b[0m_xs\u001b[0m\u001b[1;33m(\u001b[0m\u001b[0mlabel\u001b[0m\u001b[1;33m,\u001b[0m \u001b[0maxis\u001b[0m\u001b[1;33m=\u001b[0m\u001b[0maxis\u001b[0m\u001b[1;33m)\u001b[0m\u001b[1;33m\u001b[0m\u001b[1;33m\u001b[0m\u001b[0m\n\u001b[0m\u001b[0;32m    626\u001b[0m \u001b[1;33m\u001b[0m\u001b[0m\n\u001b[0;32m    627\u001b[0m     \u001b[1;32mdef\u001b[0m \u001b[0m_get_loc\u001b[0m\u001b[1;33m(\u001b[0m\u001b[0mself\u001b[0m\u001b[1;33m,\u001b[0m \u001b[0mkey\u001b[0m\u001b[1;33m:\u001b[0m \u001b[0mint\u001b[0m\u001b[1;33m,\u001b[0m \u001b[0maxis\u001b[0m\u001b[1;33m:\u001b[0m \u001b[0mint\u001b[0m\u001b[1;33m)\u001b[0m\u001b[1;33m:\u001b[0m\u001b[1;33m\u001b[0m\u001b[1;33m\u001b[0m\u001b[0m\n",
      "\u001b[1;32md:\\desktop\\github\\m2-project\\twittervenv\\lib\\site-packages\\pandas\\core\\generic.py\u001b[0m in \u001b[0;36mxs\u001b[1;34m(self, key, axis, level, drop_level)\u001b[0m\n\u001b[0;32m   3535\u001b[0m             \u001b[0mloc\u001b[0m\u001b[1;33m,\u001b[0m \u001b[0mnew_index\u001b[0m \u001b[1;33m=\u001b[0m \u001b[0mself\u001b[0m\u001b[1;33m.\u001b[0m\u001b[0mindex\u001b[0m\u001b[1;33m.\u001b[0m\u001b[0mget_loc_level\u001b[0m\u001b[1;33m(\u001b[0m\u001b[0mkey\u001b[0m\u001b[1;33m,\u001b[0m \u001b[0mdrop_level\u001b[0m\u001b[1;33m=\u001b[0m\u001b[0mdrop_level\u001b[0m\u001b[1;33m)\u001b[0m\u001b[1;33m\u001b[0m\u001b[1;33m\u001b[0m\u001b[0m\n\u001b[0;32m   3536\u001b[0m         \u001b[1;32melse\u001b[0m\u001b[1;33m:\u001b[0m\u001b[1;33m\u001b[0m\u001b[1;33m\u001b[0m\u001b[0m\n\u001b[1;32m-> 3537\u001b[1;33m             \u001b[0mloc\u001b[0m \u001b[1;33m=\u001b[0m \u001b[0mself\u001b[0m\u001b[1;33m.\u001b[0m\u001b[0mindex\u001b[0m\u001b[1;33m.\u001b[0m\u001b[0mget_loc\u001b[0m\u001b[1;33m(\u001b[0m\u001b[0mkey\u001b[0m\u001b[1;33m)\u001b[0m\u001b[1;33m\u001b[0m\u001b[1;33m\u001b[0m\u001b[0m\n\u001b[0m\u001b[0;32m   3538\u001b[0m \u001b[1;33m\u001b[0m\u001b[0m\n\u001b[0;32m   3539\u001b[0m             \u001b[1;32mif\u001b[0m \u001b[0misinstance\u001b[0m\u001b[1;33m(\u001b[0m\u001b[0mloc\u001b[0m\u001b[1;33m,\u001b[0m \u001b[0mnp\u001b[0m\u001b[1;33m.\u001b[0m\u001b[0mndarray\u001b[0m\u001b[1;33m)\u001b[0m\u001b[1;33m:\u001b[0m\u001b[1;33m\u001b[0m\u001b[1;33m\u001b[0m\u001b[0m\n",
      "\u001b[1;32md:\\desktop\\github\\m2-project\\twittervenv\\lib\\site-packages\\pandas\\core\\indexes\\range.py\u001b[0m in \u001b[0;36mget_loc\u001b[1;34m(self, key, method, tolerance)\u001b[0m\n\u001b[0;32m    350\u001b[0m                 \u001b[1;32mreturn\u001b[0m \u001b[0mself\u001b[0m\u001b[1;33m.\u001b[0m\u001b[0m_range\u001b[0m\u001b[1;33m.\u001b[0m\u001b[0mindex\u001b[0m\u001b[1;33m(\u001b[0m\u001b[0mnew_key\u001b[0m\u001b[1;33m)\u001b[0m\u001b[1;33m\u001b[0m\u001b[1;33m\u001b[0m\u001b[0m\n\u001b[0;32m    351\u001b[0m             \u001b[1;32mexcept\u001b[0m \u001b[0mValueError\u001b[0m\u001b[1;33m:\u001b[0m\u001b[1;33m\u001b[0m\u001b[1;33m\u001b[0m\u001b[0m\n\u001b[1;32m--> 352\u001b[1;33m                 \u001b[1;32mraise\u001b[0m \u001b[0mKeyError\u001b[0m\u001b[1;33m(\u001b[0m\u001b[0mkey\u001b[0m\u001b[1;33m)\u001b[0m\u001b[1;33m\u001b[0m\u001b[1;33m\u001b[0m\u001b[0m\n\u001b[0m\u001b[0;32m    353\u001b[0m         \u001b[1;32mreturn\u001b[0m \u001b[0msuper\u001b[0m\u001b[1;33m(\u001b[0m\u001b[1;33m)\u001b[0m\u001b[1;33m.\u001b[0m\u001b[0mget_loc\u001b[0m\u001b[1;33m(\u001b[0m\u001b[0mkey\u001b[0m\u001b[1;33m,\u001b[0m \u001b[0mmethod\u001b[0m\u001b[1;33m=\u001b[0m\u001b[0mmethod\u001b[0m\u001b[1;33m,\u001b[0m \u001b[0mtolerance\u001b[0m\u001b[1;33m=\u001b[0m\u001b[0mtolerance\u001b[0m\u001b[1;33m)\u001b[0m\u001b[1;33m\u001b[0m\u001b[1;33m\u001b[0m\u001b[0m\n\u001b[0;32m    354\u001b[0m \u001b[1;33m\u001b[0m\u001b[0m\n",
      "\u001b[1;31mKeyError\u001b[0m: -1"
     ]
    }
   ],
   "source": [
    "dataFrame.loc[-1] # doesn't work with negative indexes"
   ]
  },
  {
   "cell_type": "code",
   "execution_count": 32,
   "metadata": {},
   "outputs": [
    {
     "data": {
      "text/html": [
       "<div>\n",
       "<style scoped>\n",
       "    .dataframe tbody tr th:only-of-type {\n",
       "        vertical-align: middle;\n",
       "    }\n",
       "\n",
       "    .dataframe tbody tr th {\n",
       "        vertical-align: top;\n",
       "    }\n",
       "\n",
       "    .dataframe thead th {\n",
       "        text-align: right;\n",
       "    }\n",
       "</style>\n",
       "<table border=\"1\" class=\"dataframe\">\n",
       "  <thead>\n",
       "    <tr style=\"text-align: right;\">\n",
       "      <th></th>\n",
       "      <th>username</th>\n",
       "      <th>date</th>\n",
       "    </tr>\n",
       "  </thead>\n",
       "  <tbody>\n",
       "    <tr>\n",
       "      <th>0</th>\n",
       "      <td>Lebanon 24</td>\n",
       "      <td>2020-07-12</td>\n",
       "    </tr>\n",
       "    <tr>\n",
       "      <th>1</th>\n",
       "      <td>Sana</td>\n",
       "      <td>2020-07-12</td>\n",
       "    </tr>\n",
       "    <tr>\n",
       "      <th>2</th>\n",
       "      <td>Jaras Scoop FM</td>\n",
       "      <td>2020-07-12</td>\n",
       "    </tr>\n",
       "    <tr>\n",
       "      <th>3</th>\n",
       "      <td>Lebanon Debate</td>\n",
       "      <td>2020-07-12</td>\n",
       "    </tr>\n",
       "    <tr>\n",
       "      <th>4</th>\n",
       "      <td>عاجل - قناة فلسطين اليوم</td>\n",
       "      <td>2020-07-12</td>\n",
       "    </tr>\n",
       "    <tr>\n",
       "      <th>5</th>\n",
       "      <td>قناة فلسطين اليوم</td>\n",
       "      <td>2020-07-12</td>\n",
       "    </tr>\n",
       "  </tbody>\n",
       "</table>\n",
       "</div>"
      ],
      "text/plain": [
       "                   username        date\n",
       "0                Lebanon 24  2020-07-12\n",
       "1                      Sana  2020-07-12\n",
       "2            Jaras Scoop FM  2020-07-12\n",
       "3            Lebanon Debate  2020-07-12\n",
       "4  عاجل - قناة فلسطين اليوم  2020-07-12\n",
       "5         قناة فلسطين اليوم  2020-07-12"
      ]
     },
     "execution_count": 32,
     "metadata": {},
     "output_type": "execute_result"
    }
   ],
   "source": [
    "dataFrame.loc[:5, ['username', 'date']] # provide column names to get their respective data"
   ]
  },
  {
   "cell_type": "code",
   "execution_count": 33,
   "metadata": {},
   "outputs": [
    {
     "ename": "KeyError",
     "evalue": "\"None of [Int64Index([1, 2], dtype='int64')] are in the [columns]\"",
     "output_type": "error",
     "traceback": [
      "\u001b[1;31m---------------------------------------------------------------------------\u001b[0m",
      "\u001b[1;31mKeyError\u001b[0m                                  Traceback (most recent call last)",
      "\u001b[1;32m<ipython-input-33-eba9272293a0>\u001b[0m in \u001b[0;36m<module>\u001b[1;34m\u001b[0m\n\u001b[1;32m----> 1\u001b[1;33m \u001b[0mdataFrame\u001b[0m\u001b[1;33m.\u001b[0m\u001b[0mloc\u001b[0m\u001b[1;33m[\u001b[0m\u001b[1;33m:\u001b[0m\u001b[1;36m5\u001b[0m\u001b[1;33m,\u001b[0m \u001b[1;33m[\u001b[0m\u001b[1;36m1\u001b[0m\u001b[1;33m,\u001b[0m \u001b[1;36m2\u001b[0m\u001b[1;33m]\u001b[0m\u001b[1;33m]\u001b[0m \u001b[1;31m# doesn't work with column indexes\u001b[0m\u001b[1;33m\u001b[0m\u001b[1;33m\u001b[0m\u001b[0m\n\u001b[0m",
      "\u001b[1;32md:\\desktop\\github\\m2-project\\twittervenv\\lib\\site-packages\\pandas\\core\\indexing.py\u001b[0m in \u001b[0;36m__getitem__\u001b[1;34m(self, key)\u001b[0m\n\u001b[0;32m   1760\u001b[0m                 \u001b[1;32mexcept\u001b[0m \u001b[1;33m(\u001b[0m\u001b[0mKeyError\u001b[0m\u001b[1;33m,\u001b[0m \u001b[0mIndexError\u001b[0m\u001b[1;33m,\u001b[0m \u001b[0mAttributeError\u001b[0m\u001b[1;33m)\u001b[0m\u001b[1;33m:\u001b[0m\u001b[1;33m\u001b[0m\u001b[1;33m\u001b[0m\u001b[0m\n\u001b[0;32m   1761\u001b[0m                     \u001b[1;32mpass\u001b[0m\u001b[1;33m\u001b[0m\u001b[1;33m\u001b[0m\u001b[0m\n\u001b[1;32m-> 1762\u001b[1;33m             \u001b[1;32mreturn\u001b[0m \u001b[0mself\u001b[0m\u001b[1;33m.\u001b[0m\u001b[0m_getitem_tuple\u001b[0m\u001b[1;33m(\u001b[0m\u001b[0mkey\u001b[0m\u001b[1;33m)\u001b[0m\u001b[1;33m\u001b[0m\u001b[1;33m\u001b[0m\u001b[0m\n\u001b[0m\u001b[0;32m   1763\u001b[0m         \u001b[1;32melse\u001b[0m\u001b[1;33m:\u001b[0m\u001b[1;33m\u001b[0m\u001b[1;33m\u001b[0m\u001b[0m\n\u001b[0;32m   1764\u001b[0m             \u001b[1;31m# we by definition only have the 0th axis\u001b[0m\u001b[1;33m\u001b[0m\u001b[1;33m\u001b[0m\u001b[1;33m\u001b[0m\u001b[0m\n",
      "\u001b[1;32md:\\desktop\\github\\m2-project\\twittervenv\\lib\\site-packages\\pandas\\core\\indexing.py\u001b[0m in \u001b[0;36m_getitem_tuple\u001b[1;34m(self, tup)\u001b[0m\n\u001b[0;32m   1287\u001b[0m                 \u001b[1;32mcontinue\u001b[0m\u001b[1;33m\u001b[0m\u001b[1;33m\u001b[0m\u001b[0m\n\u001b[0;32m   1288\u001b[0m \u001b[1;33m\u001b[0m\u001b[0m\n\u001b[1;32m-> 1289\u001b[1;33m             \u001b[0mretval\u001b[0m \u001b[1;33m=\u001b[0m \u001b[0mgetattr\u001b[0m\u001b[1;33m(\u001b[0m\u001b[0mretval\u001b[0m\u001b[1;33m,\u001b[0m \u001b[0mself\u001b[0m\u001b[1;33m.\u001b[0m\u001b[0mname\u001b[0m\u001b[1;33m)\u001b[0m\u001b[1;33m.\u001b[0m\u001b[0m_getitem_axis\u001b[0m\u001b[1;33m(\u001b[0m\u001b[0mkey\u001b[0m\u001b[1;33m,\u001b[0m \u001b[0maxis\u001b[0m\u001b[1;33m=\u001b[0m\u001b[0mi\u001b[0m\u001b[1;33m)\u001b[0m\u001b[1;33m\u001b[0m\u001b[1;33m\u001b[0m\u001b[0m\n\u001b[0m\u001b[0;32m   1290\u001b[0m \u001b[1;33m\u001b[0m\u001b[0m\n\u001b[0;32m   1291\u001b[0m         \u001b[1;32mreturn\u001b[0m \u001b[0mretval\u001b[0m\u001b[1;33m\u001b[0m\u001b[1;33m\u001b[0m\u001b[0m\n",
      "\u001b[1;32md:\\desktop\\github\\m2-project\\twittervenv\\lib\\site-packages\\pandas\\core\\indexing.py\u001b[0m in \u001b[0;36m_getitem_axis\u001b[1;34m(self, key, axis)\u001b[0m\n\u001b[0;32m   1952\u001b[0m                     \u001b[1;32mraise\u001b[0m \u001b[0mValueError\u001b[0m\u001b[1;33m(\u001b[0m\u001b[1;34m\"Cannot index with multidimensional key\"\u001b[0m\u001b[1;33m)\u001b[0m\u001b[1;33m\u001b[0m\u001b[1;33m\u001b[0m\u001b[0m\n\u001b[0;32m   1953\u001b[0m \u001b[1;33m\u001b[0m\u001b[0m\n\u001b[1;32m-> 1954\u001b[1;33m                 \u001b[1;32mreturn\u001b[0m \u001b[0mself\u001b[0m\u001b[1;33m.\u001b[0m\u001b[0m_getitem_iterable\u001b[0m\u001b[1;33m(\u001b[0m\u001b[0mkey\u001b[0m\u001b[1;33m,\u001b[0m \u001b[0maxis\u001b[0m\u001b[1;33m=\u001b[0m\u001b[0maxis\u001b[0m\u001b[1;33m)\u001b[0m\u001b[1;33m\u001b[0m\u001b[1;33m\u001b[0m\u001b[0m\n\u001b[0m\u001b[0;32m   1955\u001b[0m \u001b[1;33m\u001b[0m\u001b[0m\n\u001b[0;32m   1956\u001b[0m             \u001b[1;31m# nested tuple slicing\u001b[0m\u001b[1;33m\u001b[0m\u001b[1;33m\u001b[0m\u001b[1;33m\u001b[0m\u001b[0m\n",
      "\u001b[1;32md:\\desktop\\github\\m2-project\\twittervenv\\lib\\site-packages\\pandas\\core\\indexing.py\u001b[0m in \u001b[0;36m_getitem_iterable\u001b[1;34m(self, key, axis)\u001b[0m\n\u001b[0;32m   1593\u001b[0m         \u001b[1;32melse\u001b[0m\u001b[1;33m:\u001b[0m\u001b[1;33m\u001b[0m\u001b[1;33m\u001b[0m\u001b[0m\n\u001b[0;32m   1594\u001b[0m             \u001b[1;31m# A collection of keys\u001b[0m\u001b[1;33m\u001b[0m\u001b[1;33m\u001b[0m\u001b[1;33m\u001b[0m\u001b[0m\n\u001b[1;32m-> 1595\u001b[1;33m             \u001b[0mkeyarr\u001b[0m\u001b[1;33m,\u001b[0m \u001b[0mindexer\u001b[0m \u001b[1;33m=\u001b[0m \u001b[0mself\u001b[0m\u001b[1;33m.\u001b[0m\u001b[0m_get_listlike_indexer\u001b[0m\u001b[1;33m(\u001b[0m\u001b[0mkey\u001b[0m\u001b[1;33m,\u001b[0m \u001b[0maxis\u001b[0m\u001b[1;33m,\u001b[0m \u001b[0mraise_missing\u001b[0m\u001b[1;33m=\u001b[0m\u001b[1;32mFalse\u001b[0m\u001b[1;33m)\u001b[0m\u001b[1;33m\u001b[0m\u001b[1;33m\u001b[0m\u001b[0m\n\u001b[0m\u001b[0;32m   1596\u001b[0m             return self.obj._reindex_with_indexers(\n\u001b[0;32m   1597\u001b[0m                 \u001b[1;33m{\u001b[0m\u001b[0maxis\u001b[0m\u001b[1;33m:\u001b[0m \u001b[1;33m[\u001b[0m\u001b[0mkeyarr\u001b[0m\u001b[1;33m,\u001b[0m \u001b[0mindexer\u001b[0m\u001b[1;33m]\u001b[0m\u001b[1;33m}\u001b[0m\u001b[1;33m,\u001b[0m \u001b[0mcopy\u001b[0m\u001b[1;33m=\u001b[0m\u001b[1;32mTrue\u001b[0m\u001b[1;33m,\u001b[0m \u001b[0mallow_dups\u001b[0m\u001b[1;33m=\u001b[0m\u001b[1;32mTrue\u001b[0m\u001b[1;33m\u001b[0m\u001b[1;33m\u001b[0m\u001b[0m\n",
      "\u001b[1;32md:\\desktop\\github\\m2-project\\twittervenv\\lib\\site-packages\\pandas\\core\\indexing.py\u001b[0m in \u001b[0;36m_get_listlike_indexer\u001b[1;34m(self, key, axis, raise_missing)\u001b[0m\n\u001b[0;32m   1551\u001b[0m \u001b[1;33m\u001b[0m\u001b[0m\n\u001b[0;32m   1552\u001b[0m         self._validate_read_indexer(\n\u001b[1;32m-> 1553\u001b[1;33m             \u001b[0mkeyarr\u001b[0m\u001b[1;33m,\u001b[0m \u001b[0mindexer\u001b[0m\u001b[1;33m,\u001b[0m \u001b[0mo\u001b[0m\u001b[1;33m.\u001b[0m\u001b[0m_get_axis_number\u001b[0m\u001b[1;33m(\u001b[0m\u001b[0maxis\u001b[0m\u001b[1;33m)\u001b[0m\u001b[1;33m,\u001b[0m \u001b[0mraise_missing\u001b[0m\u001b[1;33m=\u001b[0m\u001b[0mraise_missing\u001b[0m\u001b[1;33m\u001b[0m\u001b[1;33m\u001b[0m\u001b[0m\n\u001b[0m\u001b[0;32m   1554\u001b[0m         )\n\u001b[0;32m   1555\u001b[0m         \u001b[1;32mreturn\u001b[0m \u001b[0mkeyarr\u001b[0m\u001b[1;33m,\u001b[0m \u001b[0mindexer\u001b[0m\u001b[1;33m\u001b[0m\u001b[1;33m\u001b[0m\u001b[0m\n",
      "\u001b[1;32md:\\desktop\\github\\m2-project\\twittervenv\\lib\\site-packages\\pandas\\core\\indexing.py\u001b[0m in \u001b[0;36m_validate_read_indexer\u001b[1;34m(self, key, indexer, axis, raise_missing)\u001b[0m\n\u001b[0;32m   1638\u001b[0m             \u001b[1;32mif\u001b[0m \u001b[0mmissing\u001b[0m \u001b[1;33m==\u001b[0m \u001b[0mlen\u001b[0m\u001b[1;33m(\u001b[0m\u001b[0mindexer\u001b[0m\u001b[1;33m)\u001b[0m\u001b[1;33m:\u001b[0m\u001b[1;33m\u001b[0m\u001b[1;33m\u001b[0m\u001b[0m\n\u001b[0;32m   1639\u001b[0m                 \u001b[0maxis_name\u001b[0m \u001b[1;33m=\u001b[0m \u001b[0mself\u001b[0m\u001b[1;33m.\u001b[0m\u001b[0mobj\u001b[0m\u001b[1;33m.\u001b[0m\u001b[0m_get_axis_name\u001b[0m\u001b[1;33m(\u001b[0m\u001b[0maxis\u001b[0m\u001b[1;33m)\u001b[0m\u001b[1;33m\u001b[0m\u001b[1;33m\u001b[0m\u001b[0m\n\u001b[1;32m-> 1640\u001b[1;33m                 \u001b[1;32mraise\u001b[0m \u001b[0mKeyError\u001b[0m\u001b[1;33m(\u001b[0m\u001b[1;34mf\"None of [{key}] are in the [{axis_name}]\"\u001b[0m\u001b[1;33m)\u001b[0m\u001b[1;33m\u001b[0m\u001b[1;33m\u001b[0m\u001b[0m\n\u001b[0m\u001b[0;32m   1641\u001b[0m \u001b[1;33m\u001b[0m\u001b[0m\n\u001b[0;32m   1642\u001b[0m             \u001b[1;31m# We (temporarily) allow for some missing keys with .loc, except in\u001b[0m\u001b[1;33m\u001b[0m\u001b[1;33m\u001b[0m\u001b[1;33m\u001b[0m\u001b[0m\n",
      "\u001b[1;31mKeyError\u001b[0m: \"None of [Int64Index([1, 2], dtype='int64')] are in the [columns]\""
     ]
    }
   ],
   "source": [
    "dataFrame.loc[:5, [1, 2]] # doesn't work with column indexes"
   ]
  },
  {
   "cell_type": "markdown",
   "metadata": {},
   "source": [
    "## Using integer-location for DataFrame slicing & Indexing\n",
    "This type of slicing/indexing depends on positve/negative indexes like a normal python array"
   ]
  },
  {
   "cell_type": "code",
   "execution_count": 34,
   "metadata": {},
   "outputs": [
    {
     "data": {
      "text/plain": [
       "username                                                  Lebanon 24\n",
       "date                                                      2020-07-12\n",
       "text               #كورونا يتلف رئة \"أبو عزرائيل\" (صورة) #العراق#...\n",
       "tags                                      #كورونا;#العراق;#lebanon24\n",
       "translated_text    Corona damages the lung of \"Abu Azrael\" (photo...\n",
       "sentiment                                                          0\n",
       "location                                                         صور\n",
       "lat                                                          33.2733\n",
       "long                                                         35.1939\n",
       "sentiment_label                                              Neutral\n",
       "KADAA_ID                                                       83000\n",
       "KADAA_AR                                                         صور\n",
       "KADAA_EN                                                        Sour\n",
       "MOHAFAZA_ID                                                        8\n",
       "MOHAFAZA_AR                                                   الجنوب\n",
       "MOHAFAZA_EN                                                    South\n",
       "Name: 0, dtype: object"
      ]
     },
     "execution_count": 34,
     "metadata": {},
     "output_type": "execute_result"
    }
   ],
   "source": [
    "dataFrame.iloc[0] # row 0"
   ]
  },
  {
   "cell_type": "code",
   "execution_count": 35,
   "metadata": {},
   "outputs": [
    {
     "data": {
      "text/plain": [
       "username                                                    aklfahed\n",
       "date                                                      2020-01-01\n",
       "text               Nice reflections on medical innovation in the ...\n",
       "tags                                                             NaN\n",
       "translated_text    Nice reflections on medical innovation in the ...\n",
       "sentiment                                                   0.350521\n",
       "location                                                    دير زنون\n",
       "lat                                                          33.7569\n",
       "long                                                         35.9117\n",
       "sentiment_label                                             Positive\n",
       "KADAA_ID                                                       41000\n",
       "KADAA_AR                                                        زحلة\n",
       "KADAA_EN                                                       Zahle\n",
       "MOHAFAZA_ID                                                        4\n",
       "MOHAFAZA_AR                                                   البقاع\n",
       "MOHAFAZA_EN                                                    Bekaa\n",
       "Name: 51682, dtype: object"
      ]
     },
     "execution_count": 35,
     "metadata": {},
     "output_type": "execute_result"
    }
   ],
   "source": [
    "dataFrame.iloc[-1] # last row"
   ]
  },
  {
   "cell_type": "code",
   "execution_count": 36,
   "metadata": {},
   "outputs": [
    {
     "data": {
      "text/html": [
       "<div>\n",
       "<style scoped>\n",
       "    .dataframe tbody tr th:only-of-type {\n",
       "        vertical-align: middle;\n",
       "    }\n",
       "\n",
       "    .dataframe tbody tr th {\n",
       "        vertical-align: top;\n",
       "    }\n",
       "\n",
       "    .dataframe thead th {\n",
       "        text-align: right;\n",
       "    }\n",
       "</style>\n",
       "<table border=\"1\" class=\"dataframe\">\n",
       "  <thead>\n",
       "    <tr style=\"text-align: right;\">\n",
       "      <th></th>\n",
       "      <th>username</th>\n",
       "      <th>date</th>\n",
       "      <th>text</th>\n",
       "      <th>tags</th>\n",
       "      <th>translated_text</th>\n",
       "      <th>sentiment</th>\n",
       "      <th>location</th>\n",
       "      <th>lat</th>\n",
       "      <th>long</th>\n",
       "      <th>sentiment_label</th>\n",
       "      <th>KADAA_ID</th>\n",
       "      <th>KADAA_AR</th>\n",
       "      <th>KADAA_EN</th>\n",
       "      <th>MOHAFAZA_ID</th>\n",
       "      <th>MOHAFAZA_AR</th>\n",
       "      <th>MOHAFAZA_EN</th>\n",
       "    </tr>\n",
       "  </thead>\n",
       "  <tbody>\n",
       "    <tr>\n",
       "      <th>1</th>\n",
       "      <td>Sana</td>\n",
       "      <td>2020-07-12</td>\n",
       "      <td>حضرة اساتذة القانون بالجامعة اللبنانية المحترم...</td>\n",
       "      <td>#كورونا;#امتحانات_الموت</td>\n",
       "      <td>Honorable professors of law at the Lebanese Un...</td>\n",
       "      <td>0.325</td>\n",
       "      <td>العربانية</td>\n",
       "      <td>33.8772</td>\n",
       "      <td>35.6786</td>\n",
       "      <td>Positive</td>\n",
       "      <td>51000</td>\n",
       "      <td>بعبدا</td>\n",
       "      <td>Baabda</td>\n",
       "      <td>5</td>\n",
       "      <td>جبل لبنان</td>\n",
       "      <td>Mount Lebanon</td>\n",
       "    </tr>\n",
       "    <tr>\n",
       "      <th>2</th>\n",
       "      <td>Jaras Scoop FM</td>\n",
       "      <td>2020-07-12</td>\n",
       "      <td>كشفت \"رابطة طلاب الجامعة اللبنانية\" عبر تويتر ...</td>\n",
       "      <td>#كورونا</td>\n",
       "      <td>The \"Lebanese University Students Association\"...</td>\n",
       "      <td>-0.300</td>\n",
       "      <td>طلصا</td>\n",
       "      <td>33.4833</td>\n",
       "      <td>35.3471</td>\n",
       "      <td>Negative</td>\n",
       "      <td>81000</td>\n",
       "      <td>صيدا</td>\n",
       "      <td>Saida</td>\n",
       "      <td>8</td>\n",
       "      <td>الجنوب</td>\n",
       "      <td>South</td>\n",
       "    </tr>\n",
       "    <tr>\n",
       "      <th>100</th>\n",
       "      <td>آلاء ترشيشي</td>\n",
       "      <td>2020-07-09</td>\n",
       "      <td>السؤال: هل ستتم محاسبة المغترب المستهتر الذي ل...</td>\n",
       "      <td>#كورونا;#الحجر_الصحي</td>\n",
       "      <td>Question: Will the reckless expatriate who did...</td>\n",
       "      <td>0.000</td>\n",
       "      <td>محاربية</td>\n",
       "      <td>33.5270</td>\n",
       "      <td>35.4471</td>\n",
       "      <td>Neutral</td>\n",
       "      <td>82000</td>\n",
       "      <td>جزّين</td>\n",
       "      <td>Jezzine</td>\n",
       "      <td>8</td>\n",
       "      <td>الجنوب</td>\n",
       "      <td>South</td>\n",
       "    </tr>\n",
       "  </tbody>\n",
       "</table>\n",
       "</div>"
      ],
      "text/plain": [
       "           username        date  \\\n",
       "1              Sana  2020-07-12   \n",
       "2    Jaras Scoop FM  2020-07-12   \n",
       "100     آلاء ترشيشي  2020-07-09   \n",
       "\n",
       "                                                  text  \\\n",
       "1    حضرة اساتذة القانون بالجامعة اللبنانية المحترم...   \n",
       "2    كشفت \"رابطة طلاب الجامعة اللبنانية\" عبر تويتر ...   \n",
       "100  السؤال: هل ستتم محاسبة المغترب المستهتر الذي ل...   \n",
       "\n",
       "                        tags  \\\n",
       "1    #كورونا;#امتحانات_الموت   \n",
       "2                    #كورونا   \n",
       "100     #كورونا;#الحجر_الصحي   \n",
       "\n",
       "                                       translated_text  sentiment   location  \\\n",
       "1    Honorable professors of law at the Lebanese Un...      0.325  العربانية   \n",
       "2    The \"Lebanese University Students Association\"...     -0.300       طلصا   \n",
       "100  Question: Will the reckless expatriate who did...      0.000    محاربية   \n",
       "\n",
       "         lat     long sentiment_label  KADAA_ID KADAA_AR KADAA_EN  \\\n",
       "1    33.8772  35.6786        Positive     51000    بعبدا   Baabda   \n",
       "2    33.4833  35.3471        Negative     81000     صيدا    Saida   \n",
       "100  33.5270  35.4471         Neutral     82000    جزّين  Jezzine   \n",
       "\n",
       "     MOHAFAZA_ID MOHAFAZA_AR    MOHAFAZA_EN  \n",
       "1              5   جبل لبنان  Mount Lebanon  \n",
       "2              8      الجنوب          South  \n",
       "100            8      الجنوب          South  "
      ]
     },
     "execution_count": 36,
     "metadata": {},
     "output_type": "execute_result"
    }
   ],
   "source": [
    "dataFrame.iloc[[1, 2, 100]] # list of rows indexes"
   ]
  },
  {
   "cell_type": "code",
   "execution_count": 37,
   "metadata": {},
   "outputs": [
    {
     "data": {
      "text/html": [
       "<div>\n",
       "<style scoped>\n",
       "    .dataframe tbody tr th:only-of-type {\n",
       "        vertical-align: middle;\n",
       "    }\n",
       "\n",
       "    .dataframe tbody tr th {\n",
       "        vertical-align: top;\n",
       "    }\n",
       "\n",
       "    .dataframe thead th {\n",
       "        text-align: right;\n",
       "    }\n",
       "</style>\n",
       "<table border=\"1\" class=\"dataframe\">\n",
       "  <thead>\n",
       "    <tr style=\"text-align: right;\">\n",
       "      <th></th>\n",
       "      <th>username</th>\n",
       "      <th>date</th>\n",
       "    </tr>\n",
       "  </thead>\n",
       "  <tbody>\n",
       "    <tr>\n",
       "      <th>0</th>\n",
       "      <td>Lebanon 24</td>\n",
       "      <td>2020-07-12</td>\n",
       "    </tr>\n",
       "    <tr>\n",
       "      <th>1</th>\n",
       "      <td>Sana</td>\n",
       "      <td>2020-07-12</td>\n",
       "    </tr>\n",
       "    <tr>\n",
       "      <th>2</th>\n",
       "      <td>Jaras Scoop FM</td>\n",
       "      <td>2020-07-12</td>\n",
       "    </tr>\n",
       "    <tr>\n",
       "      <th>3</th>\n",
       "      <td>Lebanon Debate</td>\n",
       "      <td>2020-07-12</td>\n",
       "    </tr>\n",
       "    <tr>\n",
       "      <th>4</th>\n",
       "      <td>عاجل - قناة فلسطين اليوم</td>\n",
       "      <td>2020-07-12</td>\n",
       "    </tr>\n",
       "  </tbody>\n",
       "</table>\n",
       "</div>"
      ],
      "text/plain": [
       "                   username        date\n",
       "0                Lebanon 24  2020-07-12\n",
       "1                      Sana  2020-07-12\n",
       "2            Jaras Scoop FM  2020-07-12\n",
       "3            Lebanon Debate  2020-07-12\n",
       "4  عاجل - قناة فلسطين اليوم  2020-07-12"
      ]
     },
     "execution_count": 37,
     "metadata": {},
     "output_type": "execute_result"
    }
   ],
   "source": [
    "dataFrame.iloc[:5, [0, 1]] # list of columns indexes"
   ]
  },
  {
   "cell_type": "code",
   "execution_count": 38,
   "metadata": {},
   "outputs": [
    {
     "ename": "IndexError",
     "evalue": ".iloc requires numeric indexers, got ['username' 'date']",
     "output_type": "error",
     "traceback": [
      "\u001b[1;31m---------------------------------------------------------------------------\u001b[0m",
      "\u001b[1;31mIndexError\u001b[0m                                Traceback (most recent call last)",
      "\u001b[1;32m<ipython-input-38-c9b9ff484b9c>\u001b[0m in \u001b[0;36m<module>\u001b[1;34m\u001b[0m\n\u001b[1;32m----> 1\u001b[1;33m \u001b[0mdataFrame\u001b[0m\u001b[1;33m.\u001b[0m\u001b[0miloc\u001b[0m\u001b[1;33m[\u001b[0m\u001b[1;33m:\u001b[0m\u001b[1;36m5\u001b[0m\u001b[1;33m,\u001b[0m \u001b[1;33m[\u001b[0m\u001b[1;34m'username'\u001b[0m\u001b[1;33m,\u001b[0m \u001b[1;34m'date'\u001b[0m\u001b[1;33m]\u001b[0m\u001b[1;33m]\u001b[0m \u001b[1;31m# doesn't work since it only accepts column indexes\u001b[0m\u001b[1;33m\u001b[0m\u001b[1;33m\u001b[0m\u001b[0m\n\u001b[0m",
      "\u001b[1;32md:\\desktop\\github\\m2-project\\twittervenv\\lib\\site-packages\\pandas\\core\\indexing.py\u001b[0m in \u001b[0;36m__getitem__\u001b[1;34m(self, key)\u001b[0m\n\u001b[0;32m   1760\u001b[0m                 \u001b[1;32mexcept\u001b[0m \u001b[1;33m(\u001b[0m\u001b[0mKeyError\u001b[0m\u001b[1;33m,\u001b[0m \u001b[0mIndexError\u001b[0m\u001b[1;33m,\u001b[0m \u001b[0mAttributeError\u001b[0m\u001b[1;33m)\u001b[0m\u001b[1;33m:\u001b[0m\u001b[1;33m\u001b[0m\u001b[1;33m\u001b[0m\u001b[0m\n\u001b[0;32m   1761\u001b[0m                     \u001b[1;32mpass\u001b[0m\u001b[1;33m\u001b[0m\u001b[1;33m\u001b[0m\u001b[0m\n\u001b[1;32m-> 1762\u001b[1;33m             \u001b[1;32mreturn\u001b[0m \u001b[0mself\u001b[0m\u001b[1;33m.\u001b[0m\u001b[0m_getitem_tuple\u001b[0m\u001b[1;33m(\u001b[0m\u001b[0mkey\u001b[0m\u001b[1;33m)\u001b[0m\u001b[1;33m\u001b[0m\u001b[1;33m\u001b[0m\u001b[0m\n\u001b[0m\u001b[0;32m   1763\u001b[0m         \u001b[1;32melse\u001b[0m\u001b[1;33m:\u001b[0m\u001b[1;33m\u001b[0m\u001b[1;33m\u001b[0m\u001b[0m\n\u001b[0;32m   1764\u001b[0m             \u001b[1;31m# we by definition only have the 0th axis\u001b[0m\u001b[1;33m\u001b[0m\u001b[1;33m\u001b[0m\u001b[1;33m\u001b[0m\u001b[0m\n",
      "\u001b[1;32md:\\desktop\\github\\m2-project\\twittervenv\\lib\\site-packages\\pandas\\core\\indexing.py\u001b[0m in \u001b[0;36m_getitem_tuple\u001b[1;34m(self, tup)\u001b[0m\n\u001b[0;32m   2065\u001b[0m     \u001b[1;32mdef\u001b[0m \u001b[0m_getitem_tuple\u001b[0m\u001b[1;33m(\u001b[0m\u001b[0mself\u001b[0m\u001b[1;33m,\u001b[0m \u001b[0mtup\u001b[0m\u001b[1;33m:\u001b[0m \u001b[0mTuple\u001b[0m\u001b[1;33m)\u001b[0m\u001b[1;33m:\u001b[0m\u001b[1;33m\u001b[0m\u001b[1;33m\u001b[0m\u001b[0m\n\u001b[0;32m   2066\u001b[0m \u001b[1;33m\u001b[0m\u001b[0m\n\u001b[1;32m-> 2067\u001b[1;33m         \u001b[0mself\u001b[0m\u001b[1;33m.\u001b[0m\u001b[0m_has_valid_tuple\u001b[0m\u001b[1;33m(\u001b[0m\u001b[0mtup\u001b[0m\u001b[1;33m)\u001b[0m\u001b[1;33m\u001b[0m\u001b[1;33m\u001b[0m\u001b[0m\n\u001b[0m\u001b[0;32m   2068\u001b[0m         \u001b[1;32mtry\u001b[0m\u001b[1;33m:\u001b[0m\u001b[1;33m\u001b[0m\u001b[1;33m\u001b[0m\u001b[0m\n\u001b[0;32m   2069\u001b[0m             \u001b[1;32mreturn\u001b[0m \u001b[0mself\u001b[0m\u001b[1;33m.\u001b[0m\u001b[0m_getitem_lowerdim\u001b[0m\u001b[1;33m(\u001b[0m\u001b[0mtup\u001b[0m\u001b[1;33m)\u001b[0m\u001b[1;33m\u001b[0m\u001b[1;33m\u001b[0m\u001b[0m\n",
      "\u001b[1;32md:\\desktop\\github\\m2-project\\twittervenv\\lib\\site-packages\\pandas\\core\\indexing.py\u001b[0m in \u001b[0;36m_has_valid_tuple\u001b[1;34m(self, key)\u001b[0m\n\u001b[0;32m    701\u001b[0m                 \u001b[1;32mraise\u001b[0m \u001b[0mIndexingError\u001b[0m\u001b[1;33m(\u001b[0m\u001b[1;34m\"Too many indexers\"\u001b[0m\u001b[1;33m)\u001b[0m\u001b[1;33m\u001b[0m\u001b[1;33m\u001b[0m\u001b[0m\n\u001b[0;32m    702\u001b[0m             \u001b[1;32mtry\u001b[0m\u001b[1;33m:\u001b[0m\u001b[1;33m\u001b[0m\u001b[1;33m\u001b[0m\u001b[0m\n\u001b[1;32m--> 703\u001b[1;33m                 \u001b[0mself\u001b[0m\u001b[1;33m.\u001b[0m\u001b[0m_validate_key\u001b[0m\u001b[1;33m(\u001b[0m\u001b[0mk\u001b[0m\u001b[1;33m,\u001b[0m \u001b[0mi\u001b[0m\u001b[1;33m)\u001b[0m\u001b[1;33m\u001b[0m\u001b[1;33m\u001b[0m\u001b[0m\n\u001b[0m\u001b[0;32m    704\u001b[0m             \u001b[1;32mexcept\u001b[0m \u001b[0mValueError\u001b[0m\u001b[1;33m:\u001b[0m\u001b[1;33m\u001b[0m\u001b[1;33m\u001b[0m\u001b[0m\n\u001b[0;32m    705\u001b[0m                 raise ValueError(\n",
      "\u001b[1;32md:\\desktop\\github\\m2-project\\twittervenv\\lib\\site-packages\\pandas\\core\\indexing.py\u001b[0m in \u001b[0;36m_validate_key\u001b[1;34m(self, key, axis)\u001b[0m\n\u001b[0;32m   2003\u001b[0m             \u001b[1;31m# check that the key has a numeric dtype\u001b[0m\u001b[1;33m\u001b[0m\u001b[1;33m\u001b[0m\u001b[1;33m\u001b[0m\u001b[0m\n\u001b[0;32m   2004\u001b[0m             \u001b[1;32mif\u001b[0m \u001b[1;32mnot\u001b[0m \u001b[0mis_numeric_dtype\u001b[0m\u001b[1;33m(\u001b[0m\u001b[0marr\u001b[0m\u001b[1;33m.\u001b[0m\u001b[0mdtype\u001b[0m\u001b[1;33m)\u001b[0m\u001b[1;33m:\u001b[0m\u001b[1;33m\u001b[0m\u001b[1;33m\u001b[0m\u001b[0m\n\u001b[1;32m-> 2005\u001b[1;33m                 \u001b[1;32mraise\u001b[0m \u001b[0mIndexError\u001b[0m\u001b[1;33m(\u001b[0m\u001b[1;34mf\".iloc requires numeric indexers, got {arr}\"\u001b[0m\u001b[1;33m)\u001b[0m\u001b[1;33m\u001b[0m\u001b[1;33m\u001b[0m\u001b[0m\n\u001b[0m\u001b[0;32m   2006\u001b[0m \u001b[1;33m\u001b[0m\u001b[0m\n\u001b[0;32m   2007\u001b[0m             \u001b[1;31m# check that the key does not exceed the maximum size of the index\u001b[0m\u001b[1;33m\u001b[0m\u001b[1;33m\u001b[0m\u001b[1;33m\u001b[0m\u001b[0m\n",
      "\u001b[1;31mIndexError\u001b[0m: .iloc requires numeric indexers, got ['username' 'date']"
     ]
    }
   ],
   "source": [
    "dataFrame.iloc[:5, ['username', 'date']] # doesn't work since it only accepts column indexes"
   ]
  },
  {
   "cell_type": "markdown",
   "metadata": {},
   "source": [
    "## Conditional Splicing"
   ]
  },
  {
   "cell_type": "markdown",
   "metadata": {},
   "source": [
    "### Using a Mask\n",
    "A `mask` is a Series of True/False values for each row reflecting the truth of the conditional rule specified.  \n",
    "This `mask` is then used to get the True values from the data frame."
   ]
  },
  {
   "cell_type": "code",
   "execution_count": 39,
   "metadata": {},
   "outputs": [
    {
     "data": {
      "text/plain": [
       "0        False\n",
       "1         True\n",
       "2        False\n",
       "3         True\n",
       "4        False\n",
       "         ...  \n",
       "51678     True\n",
       "51679     True\n",
       "51680    False\n",
       "51681    False\n",
       "51682     True\n",
       "Name: sentiment, Length: 51683, dtype: bool"
      ]
     },
     "execution_count": 39,
     "metadata": {},
     "output_type": "execute_result"
    }
   ],
   "source": [
    "mask = dataFrame.sentiment > 0\n",
    "mask"
   ]
  },
  {
   "cell_type": "code",
   "execution_count": 40,
   "metadata": {
    "scrolled": true
   },
   "outputs": [
    {
     "data": {
      "text/html": [
       "<div>\n",
       "<style scoped>\n",
       "    .dataframe tbody tr th:only-of-type {\n",
       "        vertical-align: middle;\n",
       "    }\n",
       "\n",
       "    .dataframe tbody tr th {\n",
       "        vertical-align: top;\n",
       "    }\n",
       "\n",
       "    .dataframe thead th {\n",
       "        text-align: right;\n",
       "    }\n",
       "</style>\n",
       "<table border=\"1\" class=\"dataframe\">\n",
       "  <thead>\n",
       "    <tr style=\"text-align: right;\">\n",
       "      <th></th>\n",
       "      <th>username</th>\n",
       "      <th>date</th>\n",
       "      <th>text</th>\n",
       "      <th>tags</th>\n",
       "      <th>translated_text</th>\n",
       "      <th>sentiment</th>\n",
       "      <th>location</th>\n",
       "      <th>lat</th>\n",
       "      <th>long</th>\n",
       "      <th>sentiment_label</th>\n",
       "      <th>KADAA_ID</th>\n",
       "      <th>KADAA_AR</th>\n",
       "      <th>KADAA_EN</th>\n",
       "      <th>MOHAFAZA_ID</th>\n",
       "      <th>MOHAFAZA_AR</th>\n",
       "      <th>MOHAFAZA_EN</th>\n",
       "    </tr>\n",
       "  </thead>\n",
       "  <tbody>\n",
       "    <tr>\n",
       "      <th>1</th>\n",
       "      <td>Sana</td>\n",
       "      <td>2020-07-12</td>\n",
       "      <td>حضرة اساتذة القانون بالجامعة اللبنانية المحترم...</td>\n",
       "      <td>#كورونا;#امتحانات_الموت</td>\n",
       "      <td>Honorable professors of law at the Lebanese Un...</td>\n",
       "      <td>0.325000</td>\n",
       "      <td>العربانية</td>\n",
       "      <td>33.8772</td>\n",
       "      <td>35.6786</td>\n",
       "      <td>Positive</td>\n",
       "      <td>51000</td>\n",
       "      <td>بعبدا</td>\n",
       "      <td>Baabda</td>\n",
       "      <td>5</td>\n",
       "      <td>جبل لبنان</td>\n",
       "      <td>Mount Lebanon</td>\n",
       "    </tr>\n",
       "    <tr>\n",
       "      <th>3</th>\n",
       "      <td>Lebanon Debate</td>\n",
       "      <td>2020-07-12</td>\n",
       "      <td>حالة \"#كورونا\" جديدة في الجامعة اللبنانية - ال...</td>\n",
       "      <td>#كورونا</td>\n",
       "      <td>New \"# Corona\" case at the Lebanese University...</td>\n",
       "      <td>0.136364</td>\n",
       "      <td>حاقل</td>\n",
       "      <td>34.1705</td>\n",
       "      <td>35.7501</td>\n",
       "      <td>Positive</td>\n",
       "      <td>56000</td>\n",
       "      <td>جبيل</td>\n",
       "      <td>Jbeil</td>\n",
       "      <td>5</td>\n",
       "      <td>جبل لبنان</td>\n",
       "      <td>Mount Lebanon</td>\n",
       "    </tr>\n",
       "    <tr>\n",
       "      <th>7</th>\n",
       "      <td>LBCI Lebanon News</td>\n",
       "      <td>2020-07-12</td>\n",
       "      <td>6615 إصابة جديدة بفيروس #كورونا في #روسيا</td>\n",
       "      <td>#كورونا;#روسيا</td>\n",
       "      <td>6615 A new infection with the Coruna virus in ...</td>\n",
       "      <td>0.136364</td>\n",
       "      <td>فيع</td>\n",
       "      <td>34.3484</td>\n",
       "      <td>35.7883</td>\n",
       "      <td>Positive</td>\n",
       "      <td>72000</td>\n",
       "      <td>الكورة</td>\n",
       "      <td>El Koura</td>\n",
       "      <td>7</td>\n",
       "      <td>الشمال</td>\n",
       "      <td>North</td>\n",
       "    </tr>\n",
       "    <tr>\n",
       "      <th>9</th>\n",
       "      <td>Yara Sreij</td>\n",
       "      <td>2020-07-12</td>\n",
       "      <td>اقاويل عن اغلاق تام و تعبئة عامة لتفادي موجة ت...</td>\n",
       "      <td>#لبنان;#كورونا</td>\n",
       "      <td>There are reports of complete closure and gene...</td>\n",
       "      <td>0.066815</td>\n",
       "      <td>اغا</td>\n",
       "      <td>34.5267</td>\n",
       "      <td>36.1319</td>\n",
       "      <td>Positive</td>\n",
       "      <td>11000</td>\n",
       "      <td>عكّار</td>\n",
       "      <td>Akkar</td>\n",
       "      <td>1</td>\n",
       "      <td>عكار</td>\n",
       "      <td>Akkar</td>\n",
       "    </tr>\n",
       "    <tr>\n",
       "      <th>13</th>\n",
       "      <td>Al Joumhouria</td>\n",
       "      <td>2020-07-12</td>\n",
       "      <td>موعد موجة \"فيروس #كورونا\" الثانية... ومتى يبدأ...</td>\n",
       "      <td>#كورونا</td>\n",
       "      <td>When is the second Corona virus wave coming .....</td>\n",
       "      <td>0.100000</td>\n",
       "      <td>موليد</td>\n",
       "      <td>34.3950</td>\n",
       "      <td>35.9758</td>\n",
       "      <td>Positive</td>\n",
       "      <td>77000</td>\n",
       "      <td>المنية-الضنّية</td>\n",
       "      <td>El Minieh-Dennieh</td>\n",
       "      <td>7</td>\n",
       "      <td>الشمال</td>\n",
       "      <td>North</td>\n",
       "    </tr>\n",
       "  </tbody>\n",
       "</table>\n",
       "</div>"
      ],
      "text/plain": [
       "             username        date  \\\n",
       "1                Sana  2020-07-12   \n",
       "3      Lebanon Debate  2020-07-12   \n",
       "7   LBCI Lebanon News  2020-07-12   \n",
       "9          Yara Sreij  2020-07-12   \n",
       "13      Al Joumhouria  2020-07-12   \n",
       "\n",
       "                                                 text  \\\n",
       "1   حضرة اساتذة القانون بالجامعة اللبنانية المحترم...   \n",
       "3   حالة \"#كورونا\" جديدة في الجامعة اللبنانية - ال...   \n",
       "7           6615 إصابة جديدة بفيروس #كورونا في #روسيا   \n",
       "9   اقاويل عن اغلاق تام و تعبئة عامة لتفادي موجة ت...   \n",
       "13  موعد موجة \"فيروس #كورونا\" الثانية... ومتى يبدأ...   \n",
       "\n",
       "                       tags  \\\n",
       "1   #كورونا;#امتحانات_الموت   \n",
       "3                   #كورونا   \n",
       "7            #كورونا;#روسيا   \n",
       "9            #لبنان;#كورونا   \n",
       "13                  #كورونا   \n",
       "\n",
       "                                      translated_text  sentiment   location  \\\n",
       "1   Honorable professors of law at the Lebanese Un...   0.325000  العربانية   \n",
       "3   New \"# Corona\" case at the Lebanese University...   0.136364       حاقل   \n",
       "7   6615 A new infection with the Coruna virus in ...   0.136364        فيع   \n",
       "9   There are reports of complete closure and gene...   0.066815        اغا   \n",
       "13  When is the second Corona virus wave coming .....   0.100000      موليد   \n",
       "\n",
       "        lat     long sentiment_label  KADAA_ID        KADAA_AR  \\\n",
       "1   33.8772  35.6786        Positive     51000           بعبدا   \n",
       "3   34.1705  35.7501        Positive     56000            جبيل   \n",
       "7   34.3484  35.7883        Positive     72000          الكورة   \n",
       "9   34.5267  36.1319        Positive     11000           عكّار   \n",
       "13  34.3950  35.9758        Positive     77000  المنية-الضنّية   \n",
       "\n",
       "             KADAA_EN  MOHAFAZA_ID MOHAFAZA_AR    MOHAFAZA_EN  \n",
       "1              Baabda            5   جبل لبنان  Mount Lebanon  \n",
       "3               Jbeil            5   جبل لبنان  Mount Lebanon  \n",
       "7            El Koura            7      الشمال          North  \n",
       "9               Akkar            1        عكار          Akkar  \n",
       "13  El Minieh-Dennieh            7      الشمال          North  "
      ]
     },
     "execution_count": 40,
     "metadata": {},
     "output_type": "execute_result"
    }
   ],
   "source": [
    "positive_sentiments = dataFrame[mask]\n",
    "positive_sentiments.head()"
   ]
  },
  {
   "cell_type": "markdown",
   "metadata": {},
   "source": [
    "### Using dataFrame.loc[ mask, ... ]\n",
    "Allows more control on what columns to get"
   ]
  },
  {
   "cell_type": "code",
   "execution_count": 41,
   "metadata": {},
   "outputs": [
    {
     "data": {
      "text/html": [
       "<div>\n",
       "<style scoped>\n",
       "    .dataframe tbody tr th:only-of-type {\n",
       "        vertical-align: middle;\n",
       "    }\n",
       "\n",
       "    .dataframe tbody tr th {\n",
       "        vertical-align: top;\n",
       "    }\n",
       "\n",
       "    .dataframe thead th {\n",
       "        text-align: right;\n",
       "    }\n",
       "</style>\n",
       "<table border=\"1\" class=\"dataframe\">\n",
       "  <thead>\n",
       "    <tr style=\"text-align: right;\">\n",
       "      <th></th>\n",
       "      <th>username</th>\n",
       "      <th>date</th>\n",
       "      <th>text</th>\n",
       "      <th>tags</th>\n",
       "      <th>translated_text</th>\n",
       "      <th>sentiment</th>\n",
       "      <th>location</th>\n",
       "      <th>lat</th>\n",
       "      <th>long</th>\n",
       "      <th>sentiment_label</th>\n",
       "      <th>KADAA_ID</th>\n",
       "      <th>KADAA_AR</th>\n",
       "      <th>KADAA_EN</th>\n",
       "      <th>MOHAFAZA_ID</th>\n",
       "      <th>MOHAFAZA_AR</th>\n",
       "      <th>MOHAFAZA_EN</th>\n",
       "    </tr>\n",
       "  </thead>\n",
       "  <tbody>\n",
       "    <tr>\n",
       "      <th>1</th>\n",
       "      <td>Sana</td>\n",
       "      <td>2020-07-12</td>\n",
       "      <td>حضرة اساتذة القانون بالجامعة اللبنانية المحترم...</td>\n",
       "      <td>#كورونا;#امتحانات_الموت</td>\n",
       "      <td>Honorable professors of law at the Lebanese Un...</td>\n",
       "      <td>0.325000</td>\n",
       "      <td>العربانية</td>\n",
       "      <td>33.8772</td>\n",
       "      <td>35.6786</td>\n",
       "      <td>Positive</td>\n",
       "      <td>51000</td>\n",
       "      <td>بعبدا</td>\n",
       "      <td>Baabda</td>\n",
       "      <td>5</td>\n",
       "      <td>جبل لبنان</td>\n",
       "      <td>Mount Lebanon</td>\n",
       "    </tr>\n",
       "    <tr>\n",
       "      <th>3</th>\n",
       "      <td>Lebanon Debate</td>\n",
       "      <td>2020-07-12</td>\n",
       "      <td>حالة \"#كورونا\" جديدة في الجامعة اللبنانية - ال...</td>\n",
       "      <td>#كورونا</td>\n",
       "      <td>New \"# Corona\" case at the Lebanese University...</td>\n",
       "      <td>0.136364</td>\n",
       "      <td>حاقل</td>\n",
       "      <td>34.1705</td>\n",
       "      <td>35.7501</td>\n",
       "      <td>Positive</td>\n",
       "      <td>56000</td>\n",
       "      <td>جبيل</td>\n",
       "      <td>Jbeil</td>\n",
       "      <td>5</td>\n",
       "      <td>جبل لبنان</td>\n",
       "      <td>Mount Lebanon</td>\n",
       "    </tr>\n",
       "    <tr>\n",
       "      <th>7</th>\n",
       "      <td>LBCI Lebanon News</td>\n",
       "      <td>2020-07-12</td>\n",
       "      <td>6615 إصابة جديدة بفيروس #كورونا في #روسيا</td>\n",
       "      <td>#كورونا;#روسيا</td>\n",
       "      <td>6615 A new infection with the Coruna virus in ...</td>\n",
       "      <td>0.136364</td>\n",
       "      <td>فيع</td>\n",
       "      <td>34.3484</td>\n",
       "      <td>35.7883</td>\n",
       "      <td>Positive</td>\n",
       "      <td>72000</td>\n",
       "      <td>الكورة</td>\n",
       "      <td>El Koura</td>\n",
       "      <td>7</td>\n",
       "      <td>الشمال</td>\n",
       "      <td>North</td>\n",
       "    </tr>\n",
       "    <tr>\n",
       "      <th>9</th>\n",
       "      <td>Yara Sreij</td>\n",
       "      <td>2020-07-12</td>\n",
       "      <td>اقاويل عن اغلاق تام و تعبئة عامة لتفادي موجة ت...</td>\n",
       "      <td>#لبنان;#كورونا</td>\n",
       "      <td>There are reports of complete closure and gene...</td>\n",
       "      <td>0.066815</td>\n",
       "      <td>اغا</td>\n",
       "      <td>34.5267</td>\n",
       "      <td>36.1319</td>\n",
       "      <td>Positive</td>\n",
       "      <td>11000</td>\n",
       "      <td>عكّار</td>\n",
       "      <td>Akkar</td>\n",
       "      <td>1</td>\n",
       "      <td>عكار</td>\n",
       "      <td>Akkar</td>\n",
       "    </tr>\n",
       "    <tr>\n",
       "      <th>13</th>\n",
       "      <td>Al Joumhouria</td>\n",
       "      <td>2020-07-12</td>\n",
       "      <td>موعد موجة \"فيروس #كورونا\" الثانية... ومتى يبدأ...</td>\n",
       "      <td>#كورونا</td>\n",
       "      <td>When is the second Corona virus wave coming .....</td>\n",
       "      <td>0.100000</td>\n",
       "      <td>موليد</td>\n",
       "      <td>34.3950</td>\n",
       "      <td>35.9758</td>\n",
       "      <td>Positive</td>\n",
       "      <td>77000</td>\n",
       "      <td>المنية-الضنّية</td>\n",
       "      <td>El Minieh-Dennieh</td>\n",
       "      <td>7</td>\n",
       "      <td>الشمال</td>\n",
       "      <td>North</td>\n",
       "    </tr>\n",
       "  </tbody>\n",
       "</table>\n",
       "</div>"
      ],
      "text/plain": [
       "             username        date  \\\n",
       "1                Sana  2020-07-12   \n",
       "3      Lebanon Debate  2020-07-12   \n",
       "7   LBCI Lebanon News  2020-07-12   \n",
       "9          Yara Sreij  2020-07-12   \n",
       "13      Al Joumhouria  2020-07-12   \n",
       "\n",
       "                                                 text  \\\n",
       "1   حضرة اساتذة القانون بالجامعة اللبنانية المحترم...   \n",
       "3   حالة \"#كورونا\" جديدة في الجامعة اللبنانية - ال...   \n",
       "7           6615 إصابة جديدة بفيروس #كورونا في #روسيا   \n",
       "9   اقاويل عن اغلاق تام و تعبئة عامة لتفادي موجة ت...   \n",
       "13  موعد موجة \"فيروس #كورونا\" الثانية... ومتى يبدأ...   \n",
       "\n",
       "                       tags  \\\n",
       "1   #كورونا;#امتحانات_الموت   \n",
       "3                   #كورونا   \n",
       "7            #كورونا;#روسيا   \n",
       "9            #لبنان;#كورونا   \n",
       "13                  #كورونا   \n",
       "\n",
       "                                      translated_text  sentiment   location  \\\n",
       "1   Honorable professors of law at the Lebanese Un...   0.325000  العربانية   \n",
       "3   New \"# Corona\" case at the Lebanese University...   0.136364       حاقل   \n",
       "7   6615 A new infection with the Coruna virus in ...   0.136364        فيع   \n",
       "9   There are reports of complete closure and gene...   0.066815        اغا   \n",
       "13  When is the second Corona virus wave coming .....   0.100000      موليد   \n",
       "\n",
       "        lat     long sentiment_label  KADAA_ID        KADAA_AR  \\\n",
       "1   33.8772  35.6786        Positive     51000           بعبدا   \n",
       "3   34.1705  35.7501        Positive     56000            جبيل   \n",
       "7   34.3484  35.7883        Positive     72000          الكورة   \n",
       "9   34.5267  36.1319        Positive     11000           عكّار   \n",
       "13  34.3950  35.9758        Positive     77000  المنية-الضنّية   \n",
       "\n",
       "             KADAA_EN  MOHAFAZA_ID MOHAFAZA_AR    MOHAFAZA_EN  \n",
       "1              Baabda            5   جبل لبنان  Mount Lebanon  \n",
       "3               Jbeil            5   جبل لبنان  Mount Lebanon  \n",
       "7            El Koura            7      الشمال          North  \n",
       "9               Akkar            1        عكار          Akkar  \n",
       "13  El Minieh-Dennieh            7      الشمال          North  "
      ]
     },
     "execution_count": 41,
     "metadata": {},
     "output_type": "execute_result"
    }
   ],
   "source": [
    "positive_sentiment = dataFrame.loc[dataFrame.sentiment > 0]\n",
    "positive_sentiment.head()"
   ]
  },
  {
   "cell_type": "code",
   "execution_count": 42,
   "metadata": {},
   "outputs": [
    {
     "data": {
      "text/plain": [
       "1                  Sana\n",
       "3        Lebanon Debate\n",
       "7     LBCI Lebanon News\n",
       "9            Yara Sreij\n",
       "13        Al Joumhouria\n",
       "Name: username, dtype: object"
      ]
     },
     "execution_count": 42,
     "metadata": {},
     "output_type": "execute_result"
    }
   ],
   "source": [
    "positive_sentiment = dataFrame.loc[dataFrame.sentiment > 0, 'username']\n",
    "positive_sentiment.head()"
   ]
  },
  {
   "cell_type": "code",
   "execution_count": 43,
   "metadata": {},
   "outputs": [
    {
     "data": {
      "text/html": [
       "<div>\n",
       "<style scoped>\n",
       "    .dataframe tbody tr th:only-of-type {\n",
       "        vertical-align: middle;\n",
       "    }\n",
       "\n",
       "    .dataframe tbody tr th {\n",
       "        vertical-align: top;\n",
       "    }\n",
       "\n",
       "    .dataframe thead th {\n",
       "        text-align: right;\n",
       "    }\n",
       "</style>\n",
       "<table border=\"1\" class=\"dataframe\">\n",
       "  <thead>\n",
       "    <tr style=\"text-align: right;\">\n",
       "      <th></th>\n",
       "      <th>username</th>\n",
       "      <th>date</th>\n",
       "    </tr>\n",
       "  </thead>\n",
       "  <tbody>\n",
       "    <tr>\n",
       "      <th>1</th>\n",
       "      <td>Sana</td>\n",
       "      <td>2020-07-12</td>\n",
       "    </tr>\n",
       "    <tr>\n",
       "      <th>3</th>\n",
       "      <td>Lebanon Debate</td>\n",
       "      <td>2020-07-12</td>\n",
       "    </tr>\n",
       "    <tr>\n",
       "      <th>7</th>\n",
       "      <td>LBCI Lebanon News</td>\n",
       "      <td>2020-07-12</td>\n",
       "    </tr>\n",
       "    <tr>\n",
       "      <th>9</th>\n",
       "      <td>Yara Sreij</td>\n",
       "      <td>2020-07-12</td>\n",
       "    </tr>\n",
       "    <tr>\n",
       "      <th>13</th>\n",
       "      <td>Al Joumhouria</td>\n",
       "      <td>2020-07-12</td>\n",
       "    </tr>\n",
       "  </tbody>\n",
       "</table>\n",
       "</div>"
      ],
      "text/plain": [
       "             username        date\n",
       "1                Sana  2020-07-12\n",
       "3      Lebanon Debate  2020-07-12\n",
       "7   LBCI Lebanon News  2020-07-12\n",
       "9          Yara Sreij  2020-07-12\n",
       "13      Al Joumhouria  2020-07-12"
      ]
     },
     "execution_count": 43,
     "metadata": {},
     "output_type": "execute_result"
    }
   ],
   "source": [
    "positive_sentiment = dataFrame.loc[dataFrame.sentiment > 0, ['username', 'date']]\n",
    "positive_sentiment.head()"
   ]
  },
  {
   "cell_type": "markdown",
   "metadata": {},
   "source": [
    "### Use () to separate conditions, & for AND, | for OR"
   ]
  },
  {
   "cell_type": "code",
   "execution_count": 44,
   "metadata": {},
   "outputs": [
    {
     "data": {
      "text/html": [
       "<div>\n",
       "<style scoped>\n",
       "    .dataframe tbody tr th:only-of-type {\n",
       "        vertical-align: middle;\n",
       "    }\n",
       "\n",
       "    .dataframe tbody tr th {\n",
       "        vertical-align: top;\n",
       "    }\n",
       "\n",
       "    .dataframe thead th {\n",
       "        text-align: right;\n",
       "    }\n",
       "</style>\n",
       "<table border=\"1\" class=\"dataframe\">\n",
       "  <thead>\n",
       "    <tr style=\"text-align: right;\">\n",
       "      <th></th>\n",
       "      <th>username</th>\n",
       "      <th>date</th>\n",
       "      <th>text</th>\n",
       "      <th>tags</th>\n",
       "      <th>translated_text</th>\n",
       "      <th>sentiment</th>\n",
       "      <th>location</th>\n",
       "      <th>lat</th>\n",
       "      <th>long</th>\n",
       "      <th>sentiment_label</th>\n",
       "      <th>KADAA_ID</th>\n",
       "      <th>KADAA_AR</th>\n",
       "      <th>KADAA_EN</th>\n",
       "      <th>MOHAFAZA_ID</th>\n",
       "      <th>MOHAFAZA_AR</th>\n",
       "      <th>MOHAFAZA_EN</th>\n",
       "    </tr>\n",
       "  </thead>\n",
       "  <tbody>\n",
       "    <tr>\n",
       "      <th>17</th>\n",
       "      <td>Lebanon 24</td>\n",
       "      <td>2020-07-12</td>\n",
       "      <td>#لبنان يواجه تحدي عودة المغتربين وارتفاع عدد ا...</td>\n",
       "      <td>#لبنان;#كورونا;#Lebanon24</td>\n",
       "      <td># Lebanon faces the challenge of the return of...</td>\n",
       "      <td>0.205000</td>\n",
       "      <td>صور</td>\n",
       "      <td>33.2733</td>\n",
       "      <td>35.1939</td>\n",
       "      <td>Positive</td>\n",
       "      <td>83000</td>\n",
       "      <td>صور</td>\n",
       "      <td>Sour</td>\n",
       "      <td>8</td>\n",
       "      <td>الجنوب</td>\n",
       "      <td>South</td>\n",
       "    </tr>\n",
       "    <tr>\n",
       "      <th>25</th>\n",
       "      <td>Lebanon 24</td>\n",
       "      <td>2020-07-12</td>\n",
       "      <td>سويسرا تسجل 108 إصابات جديدة بفيروس #كورونا ال...</td>\n",
       "      <td>#كورونا;#lebanon24</td>\n",
       "      <td>Switzerland records 108 new infections with th...</td>\n",
       "      <td>0.136364</td>\n",
       "      <td>صور</td>\n",
       "      <td>33.2733</td>\n",
       "      <td>35.1939</td>\n",
       "      <td>Positive</td>\n",
       "      <td>83000</td>\n",
       "      <td>صور</td>\n",
       "      <td>Sour</td>\n",
       "      <td>8</td>\n",
       "      <td>الجنوب</td>\n",
       "      <td>South</td>\n",
       "    </tr>\n",
       "    <tr>\n",
       "      <th>54</th>\n",
       "      <td>Lebanon 24</td>\n",
       "      <td>2020-07-11</td>\n",
       "      <td>عدّاد \" #كورونا \" يُسجّل أرقاماً مرتفعة.. هل ب...</td>\n",
       "      <td>#لبنان;#كورونا;#lebanon24</td>\n",
       "      <td>The \"Corona\" counter records high numbers. Has...</td>\n",
       "      <td>0.080000</td>\n",
       "      <td>صور</td>\n",
       "      <td>33.2733</td>\n",
       "      <td>35.1939</td>\n",
       "      <td>Positive</td>\n",
       "      <td>83000</td>\n",
       "      <td>صور</td>\n",
       "      <td>Sour</td>\n",
       "      <td>8</td>\n",
       "      <td>الجنوب</td>\n",
       "      <td>South</td>\n",
       "    </tr>\n",
       "    <tr>\n",
       "      <th>199</th>\n",
       "      <td>Lebanon 24</td>\n",
       "      <td>2020-07-05</td>\n",
       "      <td>#أميركا تسجّل أكثر من 43 ألف إصابة جديدة بـ\"#ك...</td>\n",
       "      <td>#كورونا;#أميركا;#lebanon24</td>\n",
       "      <td># America records more than 43 thousand new in...</td>\n",
       "      <td>0.335227</td>\n",
       "      <td>صور</td>\n",
       "      <td>33.2733</td>\n",
       "      <td>35.1939</td>\n",
       "      <td>Positive</td>\n",
       "      <td>83000</td>\n",
       "      <td>صور</td>\n",
       "      <td>Sour</td>\n",
       "      <td>8</td>\n",
       "      <td>الجنوب</td>\n",
       "      <td>South</td>\n",
       "    </tr>\n",
       "    <tr>\n",
       "      <th>205</th>\n",
       "      <td>Lebanon 24</td>\n",
       "      <td>2020-07-04</td>\n",
       "      <td>\"البلد بأسره في خطر\".. #أميركا تسجل أعلى أرقام...</td>\n",
       "      <td>#كورونا;#أميركا;#lebanon24</td>\n",
       "      <td>\"The whole country is in danger\" he said# leba...</td>\n",
       "      <td>0.200000</td>\n",
       "      <td>صور</td>\n",
       "      <td>33.2733</td>\n",
       "      <td>35.1939</td>\n",
       "      <td>Positive</td>\n",
       "      <td>83000</td>\n",
       "      <td>صور</td>\n",
       "      <td>Sour</td>\n",
       "      <td>8</td>\n",
       "      <td>الجنوب</td>\n",
       "      <td>South</td>\n",
       "    </tr>\n",
       "  </tbody>\n",
       "</table>\n",
       "</div>"
      ],
      "text/plain": [
       "       username        date  \\\n",
       "17   Lebanon 24  2020-07-12   \n",
       "25   Lebanon 24  2020-07-12   \n",
       "54   Lebanon 24  2020-07-11   \n",
       "199  Lebanon 24  2020-07-05   \n",
       "205  Lebanon 24  2020-07-04   \n",
       "\n",
       "                                                  text  \\\n",
       "17   #لبنان يواجه تحدي عودة المغتربين وارتفاع عدد ا...   \n",
       "25   سويسرا تسجل 108 إصابات جديدة بفيروس #كورونا ال...   \n",
       "54   عدّاد \" #كورونا \" يُسجّل أرقاماً مرتفعة.. هل ب...   \n",
       "199  #أميركا تسجّل أكثر من 43 ألف إصابة جديدة بـ\"#ك...   \n",
       "205  \"البلد بأسره في خطر\".. #أميركا تسجل أعلى أرقام...   \n",
       "\n",
       "                           tags  \\\n",
       "17    #لبنان;#كورونا;#Lebanon24   \n",
       "25           #كورونا;#lebanon24   \n",
       "54    #لبنان;#كورونا;#lebanon24   \n",
       "199  #كورونا;#أميركا;#lebanon24   \n",
       "205  #كورونا;#أميركا;#lebanon24   \n",
       "\n",
       "                                       translated_text  sentiment location  \\\n",
       "17   # Lebanon faces the challenge of the return of...   0.205000      صور   \n",
       "25   Switzerland records 108 new infections with th...   0.136364      صور   \n",
       "54   The \"Corona\" counter records high numbers. Has...   0.080000      صور   \n",
       "199  # America records more than 43 thousand new in...   0.335227      صور   \n",
       "205  \"The whole country is in danger\" he said# leba...   0.200000      صور   \n",
       "\n",
       "         lat     long sentiment_label  KADAA_ID KADAA_AR KADAA_EN  \\\n",
       "17   33.2733  35.1939        Positive     83000      صور     Sour   \n",
       "25   33.2733  35.1939        Positive     83000      صور     Sour   \n",
       "54   33.2733  35.1939        Positive     83000      صور     Sour   \n",
       "199  33.2733  35.1939        Positive     83000      صور     Sour   \n",
       "205  33.2733  35.1939        Positive     83000      صور     Sour   \n",
       "\n",
       "     MOHAFAZA_ID MOHAFAZA_AR MOHAFAZA_EN  \n",
       "17             8      الجنوب       South  \n",
       "25             8      الجنوب       South  \n",
       "54             8      الجنوب       South  \n",
       "199            8      الجنوب       South  \n",
       "205            8      الجنوب       South  "
      ]
     },
     "execution_count": 44,
     "metadata": {},
     "output_type": "execute_result"
    }
   ],
   "source": [
    "positive_lebanon24_sentiment = dataFrame.loc[(dataFrame.sentiment > 0) & (dataFrame.username == 'Lebanon 24')]\n",
    "positive_lebanon24_sentiment.head()"
   ]
  },
  {
   "cell_type": "markdown",
   "metadata": {},
   "source": [
    "# 4 - Grouping Data using GroupBy"
   ]
  },
  {
   "cell_type": "markdown",
   "metadata": {},
   "source": [
    "## GroupBy a column"
   ]
  },
  {
   "cell_type": "code",
   "execution_count": 45,
   "metadata": {},
   "outputs": [
    {
     "data": {
      "text/plain": [
       "pandas.core.groupby.generic.DataFrameGroupBy"
      ]
     },
     "execution_count": 45,
     "metadata": {},
     "output_type": "execute_result"
    }
   ],
   "source": [
    "username_groups = dataFrame.groupby('username')\n",
    "type(username_groups)"
   ]
  },
  {
   "cell_type": "markdown",
   "metadata": {},
   "source": [
    "## Check the resulted groups"
   ]
  },
  {
   "cell_type": "code",
   "execution_count": 86,
   "metadata": {},
   "outputs": [
    {
     "name": "stdout",
     "output_type": "stream",
     "text": [
      "!! its me !!  ==>  Int64Index([6703], dtype='int64')\n",
      "\"El Baron\"  ==>  Int64Index([18817, 26503], dtype='int64')\n",
      "\"El Soueidy Charbel\" ''السويدي شربل\"  ==>  Int64Index([3840, 4589, 6032, 10486, 10789, 11149, 14947, 15271, 16671, 17619], dtype='int64')\n",
      "#  ==>  Int64Index([22478, 34249], dtype='int64')\n",
      "#AceBreakingNews  ==>  Int64Index([31045], dtype='int64')\n"
     ]
    }
   ],
   "source": [
    "group_dict = username_groups.groups\n",
    "\n",
    "count = 0\n",
    "for k, v in group_dict.items():\n",
    "    if count == 5:\n",
    "        break\n",
    "    count += 1\n",
    "    print(k, ' ==> ', v)"
   ]
  },
  {
   "cell_type": "markdown",
   "metadata": {},
   "source": [
    "## Get a specifc group"
   ]
  },
  {
   "cell_type": "code",
   "execution_count": 47,
   "metadata": {},
   "outputs": [
    {
     "data": {
      "text/html": [
       "<div>\n",
       "<style scoped>\n",
       "    .dataframe tbody tr th:only-of-type {\n",
       "        vertical-align: middle;\n",
       "    }\n",
       "\n",
       "    .dataframe tbody tr th {\n",
       "        vertical-align: top;\n",
       "    }\n",
       "\n",
       "    .dataframe thead th {\n",
       "        text-align: right;\n",
       "    }\n",
       "</style>\n",
       "<table border=\"1\" class=\"dataframe\">\n",
       "  <thead>\n",
       "    <tr style=\"text-align: right;\">\n",
       "      <th></th>\n",
       "      <th>username</th>\n",
       "      <th>date</th>\n",
       "      <th>text</th>\n",
       "      <th>tags</th>\n",
       "      <th>translated_text</th>\n",
       "      <th>sentiment</th>\n",
       "      <th>location</th>\n",
       "      <th>lat</th>\n",
       "      <th>long</th>\n",
       "      <th>sentiment_label</th>\n",
       "      <th>KADAA_ID</th>\n",
       "      <th>KADAA_AR</th>\n",
       "      <th>KADAA_EN</th>\n",
       "      <th>MOHAFAZA_ID</th>\n",
       "      <th>MOHAFAZA_AR</th>\n",
       "      <th>MOHAFAZA_EN</th>\n",
       "    </tr>\n",
       "  </thead>\n",
       "  <tbody>\n",
       "    <tr>\n",
       "      <th>0</th>\n",
       "      <td>Lebanon 24</td>\n",
       "      <td>2020-07-12</td>\n",
       "      <td>#كورونا يتلف رئة \"أبو عزرائيل\" (صورة) #العراق#...</td>\n",
       "      <td>#كورونا;#العراق;#lebanon24</td>\n",
       "      <td>Corona damages the lung of \"Abu Azrael\" (photo...</td>\n",
       "      <td>0.000000</td>\n",
       "      <td>صور</td>\n",
       "      <td>33.2733</td>\n",
       "      <td>35.1939</td>\n",
       "      <td>Neutral</td>\n",
       "      <td>83000</td>\n",
       "      <td>صور</td>\n",
       "      <td>Sour</td>\n",
       "      <td>8</td>\n",
       "      <td>الجنوب</td>\n",
       "      <td>South</td>\n",
       "    </tr>\n",
       "    <tr>\n",
       "      <th>10</th>\n",
       "      <td>Lebanon 24</td>\n",
       "      <td>2020-07-12</td>\n",
       "      <td>حالة \"#كورونا\" بكلية الصحة - مجمّع الحدث #leba...</td>\n",
       "      <td>#كورونا;#lebanon24</td>\n",
       "      <td>\"Corona\" case at the Faculty of Health - event...</td>\n",
       "      <td>0.000000</td>\n",
       "      <td>صور</td>\n",
       "      <td>33.2733</td>\n",
       "      <td>35.1939</td>\n",
       "      <td>Neutral</td>\n",
       "      <td>83000</td>\n",
       "      <td>صور</td>\n",
       "      <td>Sour</td>\n",
       "      <td>8</td>\n",
       "      <td>الجنوب</td>\n",
       "      <td>South</td>\n",
       "    </tr>\n",
       "    <tr>\n",
       "      <th>14</th>\n",
       "      <td>Lebanon 24</td>\n",
       "      <td>2020-07-12</td>\n",
       "      <td>إصابات #كورونا ترتفع.. هذا ما كشفته مصادر \"الد...</td>\n",
       "      <td>#لبنان;#كورونا;#lebanon24</td>\n",
       "      <td>Corona's injuries rise .. This is what the Int...</td>\n",
       "      <td>0.000000</td>\n",
       "      <td>صور</td>\n",
       "      <td>33.2733</td>\n",
       "      <td>35.1939</td>\n",
       "      <td>Neutral</td>\n",
       "      <td>83000</td>\n",
       "      <td>صور</td>\n",
       "      <td>Sour</td>\n",
       "      <td>8</td>\n",
       "      <td>الجنوب</td>\n",
       "      <td>South</td>\n",
       "    </tr>\n",
       "    <tr>\n",
       "      <th>17</th>\n",
       "      <td>Lebanon 24</td>\n",
       "      <td>2020-07-12</td>\n",
       "      <td>#لبنان يواجه تحدي عودة المغتربين وارتفاع عدد ا...</td>\n",
       "      <td>#لبنان;#كورونا;#Lebanon24</td>\n",
       "      <td># Lebanon faces the challenge of the return of...</td>\n",
       "      <td>0.205000</td>\n",
       "      <td>صور</td>\n",
       "      <td>33.2733</td>\n",
       "      <td>35.1939</td>\n",
       "      <td>Positive</td>\n",
       "      <td>83000</td>\n",
       "      <td>صور</td>\n",
       "      <td>Sour</td>\n",
       "      <td>8</td>\n",
       "      <td>الجنوب</td>\n",
       "      <td>South</td>\n",
       "    </tr>\n",
       "    <tr>\n",
       "      <th>25</th>\n",
       "      <td>Lebanon 24</td>\n",
       "      <td>2020-07-12</td>\n",
       "      <td>سويسرا تسجل 108 إصابات جديدة بفيروس #كورونا ال...</td>\n",
       "      <td>#كورونا;#lebanon24</td>\n",
       "      <td>Switzerland records 108 new infections with th...</td>\n",
       "      <td>0.136364</td>\n",
       "      <td>صور</td>\n",
       "      <td>33.2733</td>\n",
       "      <td>35.1939</td>\n",
       "      <td>Positive</td>\n",
       "      <td>83000</td>\n",
       "      <td>صور</td>\n",
       "      <td>Sour</td>\n",
       "      <td>8</td>\n",
       "      <td>الجنوب</td>\n",
       "      <td>South</td>\n",
       "    </tr>\n",
       "  </tbody>\n",
       "</table>\n",
       "</div>"
      ],
      "text/plain": [
       "      username        date                                               text  \\\n",
       "0   Lebanon 24  2020-07-12  #كورونا يتلف رئة \"أبو عزرائيل\" (صورة) #العراق#...   \n",
       "10  Lebanon 24  2020-07-12  حالة \"#كورونا\" بكلية الصحة - مجمّع الحدث #leba...   \n",
       "14  Lebanon 24  2020-07-12  إصابات #كورونا ترتفع.. هذا ما كشفته مصادر \"الد...   \n",
       "17  Lebanon 24  2020-07-12  #لبنان يواجه تحدي عودة المغتربين وارتفاع عدد ا...   \n",
       "25  Lebanon 24  2020-07-12  سويسرا تسجل 108 إصابات جديدة بفيروس #كورونا ال...   \n",
       "\n",
       "                          tags  \\\n",
       "0   #كورونا;#العراق;#lebanon24   \n",
       "10          #كورونا;#lebanon24   \n",
       "14   #لبنان;#كورونا;#lebanon24   \n",
       "17   #لبنان;#كورونا;#Lebanon24   \n",
       "25          #كورونا;#lebanon24   \n",
       "\n",
       "                                      translated_text  sentiment location  \\\n",
       "0   Corona damages the lung of \"Abu Azrael\" (photo...   0.000000      صور   \n",
       "10  \"Corona\" case at the Faculty of Health - event...   0.000000      صور   \n",
       "14  Corona's injuries rise .. This is what the Int...   0.000000      صور   \n",
       "17  # Lebanon faces the challenge of the return of...   0.205000      صور   \n",
       "25  Switzerland records 108 new infections with th...   0.136364      صور   \n",
       "\n",
       "        lat     long sentiment_label  KADAA_ID KADAA_AR KADAA_EN  MOHAFAZA_ID  \\\n",
       "0   33.2733  35.1939         Neutral     83000      صور     Sour            8   \n",
       "10  33.2733  35.1939         Neutral     83000      صور     Sour            8   \n",
       "14  33.2733  35.1939         Neutral     83000      صور     Sour            8   \n",
       "17  33.2733  35.1939        Positive     83000      صور     Sour            8   \n",
       "25  33.2733  35.1939        Positive     83000      صور     Sour            8   \n",
       "\n",
       "   MOHAFAZA_AR MOHAFAZA_EN  \n",
       "0       الجنوب       South  \n",
       "10      الجنوب       South  \n",
       "14      الجنوب       South  \n",
       "17      الجنوب       South  \n",
       "25      الجنوب       South  "
      ]
     },
     "execution_count": 47,
     "metadata": {},
     "output_type": "execute_result"
    }
   ],
   "source": [
    "lebanon24_group = username_groups.get_group('Lebanon 24')\n",
    "lebanon24_group.head()"
   ]
  },
  {
   "cell_type": "markdown",
   "metadata": {},
   "source": [
    "## Iterate Groups"
   ]
  },
  {
   "cell_type": "code",
   "execution_count": 85,
   "metadata": {},
   "outputs": [
    {
     "name": "stdout",
     "output_type": "stream",
     "text": [
      "!! its me !!  ==> count:  1\n",
      "\"El Baron\"  ==> count:  2\n",
      "\"El Soueidy Charbel\" ''السويدي شربل\"  ==> count:  10\n",
      "#  ==> count:  2\n",
      "#AceBreakingNews  ==> count:  1\n"
     ]
    }
   ],
   "source": [
    "count = 0\n",
    "for group_name, group_dataFrame in username_groups:\n",
    "    if count == 5:\n",
    "        break\n",
    "    count += 1\n",
    "    print(group_name, ' ==> count: ', len(group_dataFrame))"
   ]
  },
  {
   "cell_type": "markdown",
   "metadata": {},
   "source": [
    "## GroupBy multiple columns"
   ]
  },
  {
   "cell_type": "code",
   "execution_count": 49,
   "metadata": {},
   "outputs": [],
   "source": [
    "username_location_groups = dataFrame.groupby(['username', 'location'])"
   ]
  },
  {
   "cell_type": "code",
   "execution_count": 83,
   "metadata": {},
   "outputs": [
    {
     "name": "stdout",
     "output_type": "stream",
     "text": [
      "('!! its me !!', 'الشعب')  ==>  Int64Index([6703], dtype='int64')\n",
      "('\"El Baron\"', 'بيروت')  ==>  Int64Index([18817, 26503], dtype='int64')\n",
      "('\"El Soueidy Charbel\" \\'\\'السويدي شربل\"', 'بسوج')  ==>  Int64Index([3840, 4589, 6032, 10486, 10789, 11149, 14947, 15271, 16671, 17619], dtype='int64')\n",
      "('#', 'بيروت')  ==>  Int64Index([22478, 34249], dtype='int64')\n",
      "('#AceBreakingNews', 'كلش')  ==>  Int64Index([31045], dtype='int64')\n"
     ]
    }
   ],
   "source": [
    "group_dict = username_location_groups.groups\n",
    "\n",
    "count = 0\n",
    "for k, v in group_dict.items():\n",
    "    if count == 5:\n",
    "        break\n",
    "    count += 1\n",
    "    print(k, ' ==> ', v)"
   ]
  },
  {
   "cell_type": "markdown",
   "metadata": {},
   "source": [
    "## Get a specific group from a multiple column groupBy"
   ]
  },
  {
   "cell_type": "code",
   "execution_count": 51,
   "metadata": {},
   "outputs": [
    {
     "data": {
      "text/html": [
       "<div>\n",
       "<style scoped>\n",
       "    .dataframe tbody tr th:only-of-type {\n",
       "        vertical-align: middle;\n",
       "    }\n",
       "\n",
       "    .dataframe tbody tr th {\n",
       "        vertical-align: top;\n",
       "    }\n",
       "\n",
       "    .dataframe thead th {\n",
       "        text-align: right;\n",
       "    }\n",
       "</style>\n",
       "<table border=\"1\" class=\"dataframe\">\n",
       "  <thead>\n",
       "    <tr style=\"text-align: right;\">\n",
       "      <th></th>\n",
       "      <th>username</th>\n",
       "      <th>date</th>\n",
       "      <th>text</th>\n",
       "      <th>tags</th>\n",
       "      <th>translated_text</th>\n",
       "      <th>sentiment</th>\n",
       "      <th>location</th>\n",
       "      <th>lat</th>\n",
       "      <th>long</th>\n",
       "      <th>sentiment_label</th>\n",
       "      <th>KADAA_ID</th>\n",
       "      <th>KADAA_AR</th>\n",
       "      <th>KADAA_EN</th>\n",
       "      <th>MOHAFAZA_ID</th>\n",
       "      <th>MOHAFAZA_AR</th>\n",
       "      <th>MOHAFAZA_EN</th>\n",
       "    </tr>\n",
       "  </thead>\n",
       "  <tbody>\n",
       "    <tr>\n",
       "      <th>0</th>\n",
       "      <td>Lebanon 24</td>\n",
       "      <td>2020-07-12</td>\n",
       "      <td>#كورونا يتلف رئة \"أبو عزرائيل\" (صورة) #العراق#...</td>\n",
       "      <td>#كورونا;#العراق;#lebanon24</td>\n",
       "      <td>Corona damages the lung of \"Abu Azrael\" (photo...</td>\n",
       "      <td>0.000000</td>\n",
       "      <td>صور</td>\n",
       "      <td>33.2733</td>\n",
       "      <td>35.1939</td>\n",
       "      <td>Neutral</td>\n",
       "      <td>83000</td>\n",
       "      <td>صور</td>\n",
       "      <td>Sour</td>\n",
       "      <td>8</td>\n",
       "      <td>الجنوب</td>\n",
       "      <td>South</td>\n",
       "    </tr>\n",
       "    <tr>\n",
       "      <th>10</th>\n",
       "      <td>Lebanon 24</td>\n",
       "      <td>2020-07-12</td>\n",
       "      <td>حالة \"#كورونا\" بكلية الصحة - مجمّع الحدث #leba...</td>\n",
       "      <td>#كورونا;#lebanon24</td>\n",
       "      <td>\"Corona\" case at the Faculty of Health - event...</td>\n",
       "      <td>0.000000</td>\n",
       "      <td>صور</td>\n",
       "      <td>33.2733</td>\n",
       "      <td>35.1939</td>\n",
       "      <td>Neutral</td>\n",
       "      <td>83000</td>\n",
       "      <td>صور</td>\n",
       "      <td>Sour</td>\n",
       "      <td>8</td>\n",
       "      <td>الجنوب</td>\n",
       "      <td>South</td>\n",
       "    </tr>\n",
       "    <tr>\n",
       "      <th>14</th>\n",
       "      <td>Lebanon 24</td>\n",
       "      <td>2020-07-12</td>\n",
       "      <td>إصابات #كورونا ترتفع.. هذا ما كشفته مصادر \"الد...</td>\n",
       "      <td>#لبنان;#كورونا;#lebanon24</td>\n",
       "      <td>Corona's injuries rise .. This is what the Int...</td>\n",
       "      <td>0.000000</td>\n",
       "      <td>صور</td>\n",
       "      <td>33.2733</td>\n",
       "      <td>35.1939</td>\n",
       "      <td>Neutral</td>\n",
       "      <td>83000</td>\n",
       "      <td>صور</td>\n",
       "      <td>Sour</td>\n",
       "      <td>8</td>\n",
       "      <td>الجنوب</td>\n",
       "      <td>South</td>\n",
       "    </tr>\n",
       "    <tr>\n",
       "      <th>17</th>\n",
       "      <td>Lebanon 24</td>\n",
       "      <td>2020-07-12</td>\n",
       "      <td>#لبنان يواجه تحدي عودة المغتربين وارتفاع عدد ا...</td>\n",
       "      <td>#لبنان;#كورونا;#Lebanon24</td>\n",
       "      <td># Lebanon faces the challenge of the return of...</td>\n",
       "      <td>0.205000</td>\n",
       "      <td>صور</td>\n",
       "      <td>33.2733</td>\n",
       "      <td>35.1939</td>\n",
       "      <td>Positive</td>\n",
       "      <td>83000</td>\n",
       "      <td>صور</td>\n",
       "      <td>Sour</td>\n",
       "      <td>8</td>\n",
       "      <td>الجنوب</td>\n",
       "      <td>South</td>\n",
       "    </tr>\n",
       "    <tr>\n",
       "      <th>25</th>\n",
       "      <td>Lebanon 24</td>\n",
       "      <td>2020-07-12</td>\n",
       "      <td>سويسرا تسجل 108 إصابات جديدة بفيروس #كورونا ال...</td>\n",
       "      <td>#كورونا;#lebanon24</td>\n",
       "      <td>Switzerland records 108 new infections with th...</td>\n",
       "      <td>0.136364</td>\n",
       "      <td>صور</td>\n",
       "      <td>33.2733</td>\n",
       "      <td>35.1939</td>\n",
       "      <td>Positive</td>\n",
       "      <td>83000</td>\n",
       "      <td>صور</td>\n",
       "      <td>Sour</td>\n",
       "      <td>8</td>\n",
       "      <td>الجنوب</td>\n",
       "      <td>South</td>\n",
       "    </tr>\n",
       "  </tbody>\n",
       "</table>\n",
       "</div>"
      ],
      "text/plain": [
       "      username        date                                               text  \\\n",
       "0   Lebanon 24  2020-07-12  #كورونا يتلف رئة \"أبو عزرائيل\" (صورة) #العراق#...   \n",
       "10  Lebanon 24  2020-07-12  حالة \"#كورونا\" بكلية الصحة - مجمّع الحدث #leba...   \n",
       "14  Lebanon 24  2020-07-12  إصابات #كورونا ترتفع.. هذا ما كشفته مصادر \"الد...   \n",
       "17  Lebanon 24  2020-07-12  #لبنان يواجه تحدي عودة المغتربين وارتفاع عدد ا...   \n",
       "25  Lebanon 24  2020-07-12  سويسرا تسجل 108 إصابات جديدة بفيروس #كورونا ال...   \n",
       "\n",
       "                          tags  \\\n",
       "0   #كورونا;#العراق;#lebanon24   \n",
       "10          #كورونا;#lebanon24   \n",
       "14   #لبنان;#كورونا;#lebanon24   \n",
       "17   #لبنان;#كورونا;#Lebanon24   \n",
       "25          #كورونا;#lebanon24   \n",
       "\n",
       "                                      translated_text  sentiment location  \\\n",
       "0   Corona damages the lung of \"Abu Azrael\" (photo...   0.000000      صور   \n",
       "10  \"Corona\" case at the Faculty of Health - event...   0.000000      صور   \n",
       "14  Corona's injuries rise .. This is what the Int...   0.000000      صور   \n",
       "17  # Lebanon faces the challenge of the return of...   0.205000      صور   \n",
       "25  Switzerland records 108 new infections with th...   0.136364      صور   \n",
       "\n",
       "        lat     long sentiment_label  KADAA_ID KADAA_AR KADAA_EN  MOHAFAZA_ID  \\\n",
       "0   33.2733  35.1939         Neutral     83000      صور     Sour            8   \n",
       "10  33.2733  35.1939         Neutral     83000      صور     Sour            8   \n",
       "14  33.2733  35.1939         Neutral     83000      صور     Sour            8   \n",
       "17  33.2733  35.1939        Positive     83000      صور     Sour            8   \n",
       "25  33.2733  35.1939        Positive     83000      صور     Sour            8   \n",
       "\n",
       "   MOHAFAZA_AR MOHAFAZA_EN  \n",
       "0       الجنوب       South  \n",
       "10      الجنوب       South  \n",
       "14      الجنوب       South  \n",
       "17      الجنوب       South  \n",
       "25      الجنوب       South  "
      ]
     },
     "execution_count": 51,
     "metadata": {},
     "output_type": "execute_result"
    }
   ],
   "source": [
    "lebanon24_group = username_location_groups.get_group(('Lebanon 24', 'صور')) # provide a typle of key data to search for\n",
    "lebanon24_group.head()"
   ]
  },
  {
   "cell_type": "markdown",
   "metadata": {},
   "source": [
    "## Apply some function on the grouped data"
   ]
  },
  {
   "cell_type": "markdown",
   "metadata": {},
   "source": [
    "### Series"
   ]
  },
  {
   "cell_type": "code",
   "execution_count": 52,
   "metadata": {},
   "outputs": [
    {
     "data": {
      "text/plain": [
       "username\n",
       "!! its me !!                            0.000000\n",
       "\"El Baron\"                              0.170000\n",
       "\"El Soueidy Charbel\" ''السويدي شربل\"   -0.005937\n",
       "#                                       0.200000\n",
       "#AceBreakingNews                        0.000000\n",
       "                                          ...   \n",
       "🅔.🅑🅤 🅩🅘🅐🅓                               0.000000\n",
       "🅘🅢🅢🅐                                    0.000000\n",
       "🅜🅐🅗🅜🅞🅤🅓                                 0.000000\n",
       "🅵🅴                                      0.017824\n",
       "🅼                                       0.125000\n",
       "Name: sentiment, Length: 15648, dtype: float64"
      ]
     },
     "execution_count": 52,
     "metadata": {},
     "output_type": "execute_result"
    }
   ],
   "source": [
    "username_mean_sentiment = dataFrame.groupby(['username'])['sentiment'].mean()\n",
    "username_mean_sentiment # Series index: username, Series value: mean sentiment"
   ]
  },
  {
   "cell_type": "markdown",
   "metadata": {},
   "source": [
    "### DataFrame - using reset_index()"
   ]
  },
  {
   "cell_type": "code",
   "execution_count": 53,
   "metadata": {},
   "outputs": [
    {
     "data": {
      "text/html": [
       "<div>\n",
       "<style scoped>\n",
       "    .dataframe tbody tr th:only-of-type {\n",
       "        vertical-align: middle;\n",
       "    }\n",
       "\n",
       "    .dataframe tbody tr th {\n",
       "        vertical-align: top;\n",
       "    }\n",
       "\n",
       "    .dataframe thead th {\n",
       "        text-align: right;\n",
       "    }\n",
       "</style>\n",
       "<table border=\"1\" class=\"dataframe\">\n",
       "  <thead>\n",
       "    <tr style=\"text-align: right;\">\n",
       "      <th></th>\n",
       "      <th>username</th>\n",
       "      <th>sentiment</th>\n",
       "    </tr>\n",
       "  </thead>\n",
       "  <tbody>\n",
       "    <tr>\n",
       "      <th>0</th>\n",
       "      <td>!! its me !!</td>\n",
       "      <td>0.000000</td>\n",
       "    </tr>\n",
       "    <tr>\n",
       "      <th>1</th>\n",
       "      <td>\"El Baron\"</td>\n",
       "      <td>0.170000</td>\n",
       "    </tr>\n",
       "    <tr>\n",
       "      <th>2</th>\n",
       "      <td>\"El Soueidy Charbel\" ''السويدي شربل\"</td>\n",
       "      <td>-0.005937</td>\n",
       "    </tr>\n",
       "    <tr>\n",
       "      <th>3</th>\n",
       "      <td>#</td>\n",
       "      <td>0.200000</td>\n",
       "    </tr>\n",
       "    <tr>\n",
       "      <th>4</th>\n",
       "      <td>#AceBreakingNews</td>\n",
       "      <td>0.000000</td>\n",
       "    </tr>\n",
       "    <tr>\n",
       "      <th>...</th>\n",
       "      <td>...</td>\n",
       "      <td>...</td>\n",
       "    </tr>\n",
       "    <tr>\n",
       "      <th>15643</th>\n",
       "      <td>🅔.🅑🅤 🅩🅘🅐🅓</td>\n",
       "      <td>0.000000</td>\n",
       "    </tr>\n",
       "    <tr>\n",
       "      <th>15644</th>\n",
       "      <td>🅘🅢🅢🅐</td>\n",
       "      <td>0.000000</td>\n",
       "    </tr>\n",
       "    <tr>\n",
       "      <th>15645</th>\n",
       "      <td>🅜🅐🅗🅜🅞🅤🅓</td>\n",
       "      <td>0.000000</td>\n",
       "    </tr>\n",
       "    <tr>\n",
       "      <th>15646</th>\n",
       "      <td>🅵🅴</td>\n",
       "      <td>0.017824</td>\n",
       "    </tr>\n",
       "    <tr>\n",
       "      <th>15647</th>\n",
       "      <td>🅼</td>\n",
       "      <td>0.125000</td>\n",
       "    </tr>\n",
       "  </tbody>\n",
       "</table>\n",
       "<p>15648 rows × 2 columns</p>\n",
       "</div>"
      ],
      "text/plain": [
       "                                   username  sentiment\n",
       "0                              !! its me !!   0.000000\n",
       "1                                \"El Baron\"   0.170000\n",
       "2      \"El Soueidy Charbel\" ''السويدي شربل\"  -0.005937\n",
       "3                                         #   0.200000\n",
       "4                          #AceBreakingNews   0.000000\n",
       "...                                     ...        ...\n",
       "15643                             🅔.🅑🅤 🅩🅘🅐🅓   0.000000\n",
       "15644                                  🅘🅢🅢🅐   0.000000\n",
       "15645                               🅜🅐🅗🅜🅞🅤🅓   0.000000\n",
       "15646                                    🅵🅴   0.017824\n",
       "15647                                     🅼   0.125000\n",
       "\n",
       "[15648 rows x 2 columns]"
      ]
     },
     "execution_count": 53,
     "metadata": {},
     "output_type": "execute_result"
    }
   ],
   "source": [
    "username_mean_sentiment = dataFrame.groupby(['username'])['sentiment'].mean().reset_index()\n",
    "username_mean_sentiment"
   ]
  },
  {
   "cell_type": "markdown",
   "metadata": {},
   "source": [
    "### using external functions - agg()\n",
    "Aggregate functions are functions that return only one result at the end"
   ]
  },
  {
   "cell_type": "code",
   "execution_count": 54,
   "metadata": {},
   "outputs": [
    {
     "data": {
      "text/html": [
       "<div>\n",
       "<style scoped>\n",
       "    .dataframe tbody tr th:only-of-type {\n",
       "        vertical-align: middle;\n",
       "    }\n",
       "\n",
       "    .dataframe tbody tr th {\n",
       "        vertical-align: top;\n",
       "    }\n",
       "\n",
       "    .dataframe thead th {\n",
       "        text-align: right;\n",
       "    }\n",
       "</style>\n",
       "<table border=\"1\" class=\"dataframe\">\n",
       "  <thead>\n",
       "    <tr style=\"text-align: right;\">\n",
       "      <th></th>\n",
       "      <th>username</th>\n",
       "      <th>sentiment</th>\n",
       "    </tr>\n",
       "  </thead>\n",
       "  <tbody>\n",
       "    <tr>\n",
       "      <th>0</th>\n",
       "      <td>!! its me !!</td>\n",
       "      <td>0.000000</td>\n",
       "    </tr>\n",
       "    <tr>\n",
       "      <th>1</th>\n",
       "      <td>\"El Baron\"</td>\n",
       "      <td>0.170000</td>\n",
       "    </tr>\n",
       "    <tr>\n",
       "      <th>2</th>\n",
       "      <td>\"El Soueidy Charbel\" ''السويدي شربل\"</td>\n",
       "      <td>-0.005937</td>\n",
       "    </tr>\n",
       "    <tr>\n",
       "      <th>3</th>\n",
       "      <td>#</td>\n",
       "      <td>0.200000</td>\n",
       "    </tr>\n",
       "    <tr>\n",
       "      <th>4</th>\n",
       "      <td>#AceBreakingNews</td>\n",
       "      <td>0.000000</td>\n",
       "    </tr>\n",
       "    <tr>\n",
       "      <th>...</th>\n",
       "      <td>...</td>\n",
       "      <td>...</td>\n",
       "    </tr>\n",
       "    <tr>\n",
       "      <th>15643</th>\n",
       "      <td>🅔.🅑🅤 🅩🅘🅐🅓</td>\n",
       "      <td>0.000000</td>\n",
       "    </tr>\n",
       "    <tr>\n",
       "      <th>15644</th>\n",
       "      <td>🅘🅢🅢🅐</td>\n",
       "      <td>0.000000</td>\n",
       "    </tr>\n",
       "    <tr>\n",
       "      <th>15645</th>\n",
       "      <td>🅜🅐🅗🅜🅞🅤🅓</td>\n",
       "      <td>0.000000</td>\n",
       "    </tr>\n",
       "    <tr>\n",
       "      <th>15646</th>\n",
       "      <td>🅵🅴</td>\n",
       "      <td>0.017824</td>\n",
       "    </tr>\n",
       "    <tr>\n",
       "      <th>15647</th>\n",
       "      <td>🅼</td>\n",
       "      <td>0.125000</td>\n",
       "    </tr>\n",
       "  </tbody>\n",
       "</table>\n",
       "<p>15648 rows × 2 columns</p>\n",
       "</div>"
      ],
      "text/plain": [
       "                                   username  sentiment\n",
       "0                              !! its me !!   0.000000\n",
       "1                                \"El Baron\"   0.170000\n",
       "2      \"El Soueidy Charbel\" ''السويدي شربل\"  -0.005937\n",
       "3                                         #   0.200000\n",
       "4                          #AceBreakingNews   0.000000\n",
       "...                                     ...        ...\n",
       "15643                             🅔.🅑🅤 🅩🅘🅐🅓   0.000000\n",
       "15644                                  🅘🅢🅢🅐   0.000000\n",
       "15645                               🅜🅐🅗🅜🅞🅤🅓   0.000000\n",
       "15646                                    🅵🅴   0.017824\n",
       "15647                                     🅼   0.125000\n",
       "\n",
       "[15648 rows x 2 columns]"
      ]
     },
     "execution_count": 54,
     "metadata": {},
     "output_type": "execute_result"
    }
   ],
   "source": [
    "username_mean_sentiment = dataFrame.groupby(['username'])['sentiment'].agg(np.mean).reset_index()\n",
    "username_mean_sentiment"
   ]
  },
  {
   "cell_type": "markdown",
   "metadata": {},
   "source": [
    "### using external functions - apply()"
   ]
  },
  {
   "cell_type": "code",
   "execution_count": 55,
   "metadata": {},
   "outputs": [
    {
     "data": {
      "text/html": [
       "<div>\n",
       "<style scoped>\n",
       "    .dataframe tbody tr th:only-of-type {\n",
       "        vertical-align: middle;\n",
       "    }\n",
       "\n",
       "    .dataframe tbody tr th {\n",
       "        vertical-align: top;\n",
       "    }\n",
       "\n",
       "    .dataframe thead th {\n",
       "        text-align: right;\n",
       "    }\n",
       "</style>\n",
       "<table border=\"1\" class=\"dataframe\">\n",
       "  <thead>\n",
       "    <tr style=\"text-align: right;\">\n",
       "      <th></th>\n",
       "      <th>username</th>\n",
       "      <th>sentiment</th>\n",
       "    </tr>\n",
       "  </thead>\n",
       "  <tbody>\n",
       "    <tr>\n",
       "      <th>0</th>\n",
       "      <td>!! its me !!</td>\n",
       "      <td>0.000000</td>\n",
       "    </tr>\n",
       "    <tr>\n",
       "      <th>1</th>\n",
       "      <td>\"El Baron\"</td>\n",
       "      <td>0.170000</td>\n",
       "    </tr>\n",
       "    <tr>\n",
       "      <th>2</th>\n",
       "      <td>\"El Soueidy Charbel\" ''السويدي شربل\"</td>\n",
       "      <td>-0.005937</td>\n",
       "    </tr>\n",
       "    <tr>\n",
       "      <th>3</th>\n",
       "      <td>#</td>\n",
       "      <td>0.200000</td>\n",
       "    </tr>\n",
       "    <tr>\n",
       "      <th>4</th>\n",
       "      <td>#AceBreakingNews</td>\n",
       "      <td>0.000000</td>\n",
       "    </tr>\n",
       "    <tr>\n",
       "      <th>...</th>\n",
       "      <td>...</td>\n",
       "      <td>...</td>\n",
       "    </tr>\n",
       "    <tr>\n",
       "      <th>15643</th>\n",
       "      <td>🅔.🅑🅤 🅩🅘🅐🅓</td>\n",
       "      <td>0.000000</td>\n",
       "    </tr>\n",
       "    <tr>\n",
       "      <th>15644</th>\n",
       "      <td>🅘🅢🅢🅐</td>\n",
       "      <td>0.000000</td>\n",
       "    </tr>\n",
       "    <tr>\n",
       "      <th>15645</th>\n",
       "      <td>🅜🅐🅗🅜🅞🅤🅓</td>\n",
       "      <td>0.000000</td>\n",
       "    </tr>\n",
       "    <tr>\n",
       "      <th>15646</th>\n",
       "      <td>🅵🅴</td>\n",
       "      <td>0.017824</td>\n",
       "    </tr>\n",
       "    <tr>\n",
       "      <th>15647</th>\n",
       "      <td>🅼</td>\n",
       "      <td>0.125000</td>\n",
       "    </tr>\n",
       "  </tbody>\n",
       "</table>\n",
       "<p>15648 rows × 2 columns</p>\n",
       "</div>"
      ],
      "text/plain": [
       "                                   username  sentiment\n",
       "0                              !! its me !!   0.000000\n",
       "1                                \"El Baron\"   0.170000\n",
       "2      \"El Soueidy Charbel\" ''السويدي شربل\"  -0.005937\n",
       "3                                         #   0.200000\n",
       "4                          #AceBreakingNews   0.000000\n",
       "...                                     ...        ...\n",
       "15643                             🅔.🅑🅤 🅩🅘🅐🅓   0.000000\n",
       "15644                                  🅘🅢🅢🅐   0.000000\n",
       "15645                               🅜🅐🅗🅜🅞🅤🅓   0.000000\n",
       "15646                                    🅵🅴   0.017824\n",
       "15647                                     🅼   0.125000\n",
       "\n",
       "[15648 rows x 2 columns]"
      ]
     },
     "execution_count": 55,
     "metadata": {},
     "output_type": "execute_result"
    }
   ],
   "source": [
    "username_mean_sentiment = dataFrame.groupby(['username'])['sentiment'].apply(np.mean).reset_index()\n",
    "username_mean_sentiment"
   ]
  },
  {
   "cell_type": "markdown",
   "metadata": {},
   "source": [
    "# 5 -  Transforming the DataFrame"
   ]
  },
  {
   "cell_type": "code",
   "execution_count": 56,
   "metadata": {},
   "outputs": [],
   "source": [
    "df_row_to_col = (dataFrame[['username', 'sentiment']]).copy()\n",
    "df_row_to_col['label'] = dataFrame.sentiment.apply(lambda s: 'Positive' if s > 0 else 'Neutral' if s == 0 else 'Negative')"
   ]
  },
  {
   "cell_type": "markdown",
   "metadata": {},
   "source": [
    "## Rows To Columns - pivot_table(index=[ ], columns=[ ], values=[ ])\n",
    "- index = columns to keep\n",
    "- columns = columns that provide the labels of the new columns\n",
    "- values = columns that provide the values for the new columns"
   ]
  },
  {
   "cell_type": "code",
   "execution_count": 57,
   "metadata": {},
   "outputs": [
    {
     "data": {
      "text/html": [
       "<div>\n",
       "<style scoped>\n",
       "    .dataframe tbody tr th:only-of-type {\n",
       "        vertical-align: middle;\n",
       "    }\n",
       "\n",
       "    .dataframe tbody tr th {\n",
       "        vertical-align: top;\n",
       "    }\n",
       "\n",
       "    .dataframe thead th {\n",
       "        text-align: right;\n",
       "    }\n",
       "</style>\n",
       "<table border=\"1\" class=\"dataframe\">\n",
       "  <thead>\n",
       "    <tr style=\"text-align: right;\">\n",
       "      <th></th>\n",
       "      <th>username</th>\n",
       "      <th>sentiment</th>\n",
       "      <th>label</th>\n",
       "    </tr>\n",
       "  </thead>\n",
       "  <tbody>\n",
       "    <tr>\n",
       "      <th>0</th>\n",
       "      <td>Lebanon 24</td>\n",
       "      <td>0.000000</td>\n",
       "      <td>Neutral</td>\n",
       "    </tr>\n",
       "    <tr>\n",
       "      <th>1</th>\n",
       "      <td>Sana</td>\n",
       "      <td>0.325000</td>\n",
       "      <td>Positive</td>\n",
       "    </tr>\n",
       "    <tr>\n",
       "      <th>2</th>\n",
       "      <td>Jaras Scoop FM</td>\n",
       "      <td>-0.300000</td>\n",
       "      <td>Negative</td>\n",
       "    </tr>\n",
       "    <tr>\n",
       "      <th>3</th>\n",
       "      <td>Lebanon Debate</td>\n",
       "      <td>0.136364</td>\n",
       "      <td>Positive</td>\n",
       "    </tr>\n",
       "    <tr>\n",
       "      <th>4</th>\n",
       "      <td>عاجل - قناة فلسطين اليوم</td>\n",
       "      <td>-0.283333</td>\n",
       "      <td>Negative</td>\n",
       "    </tr>\n",
       "  </tbody>\n",
       "</table>\n",
       "</div>"
      ],
      "text/plain": [
       "                   username  sentiment     label\n",
       "0                Lebanon 24   0.000000   Neutral\n",
       "1                      Sana   0.325000  Positive\n",
       "2            Jaras Scoop FM  -0.300000  Negative\n",
       "3            Lebanon Debate   0.136364  Positive\n",
       "4  عاجل - قناة فلسطين اليوم  -0.283333  Negative"
      ]
     },
     "execution_count": 57,
     "metadata": {},
     "output_type": "execute_result"
    }
   ],
   "source": [
    "df_row_to_col.head()"
   ]
  },
  {
   "cell_type": "code",
   "execution_count": 58,
   "metadata": {},
   "outputs": [
    {
     "data": {
      "text/html": [
       "<div>\n",
       "<style scoped>\n",
       "    .dataframe tbody tr th:only-of-type {\n",
       "        vertical-align: middle;\n",
       "    }\n",
       "\n",
       "    .dataframe tbody tr th {\n",
       "        vertical-align: top;\n",
       "    }\n",
       "\n",
       "    .dataframe thead th {\n",
       "        text-align: right;\n",
       "    }\n",
       "</style>\n",
       "<table border=\"1\" class=\"dataframe\">\n",
       "  <thead>\n",
       "    <tr style=\"text-align: right;\">\n",
       "      <th>label</th>\n",
       "      <th>username</th>\n",
       "      <th>Negative</th>\n",
       "      <th>Neutral</th>\n",
       "      <th>Positive</th>\n",
       "    </tr>\n",
       "  </thead>\n",
       "  <tbody>\n",
       "    <tr>\n",
       "      <th>0</th>\n",
       "      <td>!! its me !!</td>\n",
       "      <td>NaN</td>\n",
       "      <td>0.0</td>\n",
       "      <td>NaN</td>\n",
       "    </tr>\n",
       "    <tr>\n",
       "      <th>1</th>\n",
       "      <td>\"El Baron\"</td>\n",
       "      <td>NaN</td>\n",
       "      <td>NaN</td>\n",
       "      <td>0.170000</td>\n",
       "    </tr>\n",
       "    <tr>\n",
       "      <th>2</th>\n",
       "      <td>\"El Soueidy Charbel\" ''السويدي شربل\"</td>\n",
       "      <td>-0.220529</td>\n",
       "      <td>0.0</td>\n",
       "      <td>0.150556</td>\n",
       "    </tr>\n",
       "    <tr>\n",
       "      <th>3</th>\n",
       "      <td>#</td>\n",
       "      <td>NaN</td>\n",
       "      <td>0.0</td>\n",
       "      <td>0.400000</td>\n",
       "    </tr>\n",
       "    <tr>\n",
       "      <th>4</th>\n",
       "      <td>#AceBreakingNews</td>\n",
       "      <td>NaN</td>\n",
       "      <td>0.0</td>\n",
       "      <td>NaN</td>\n",
       "    </tr>\n",
       "  </tbody>\n",
       "</table>\n",
       "</div>"
      ],
      "text/plain": [
       "label                              username  Negative  Neutral  Positive\n",
       "0                              !! its me !!       NaN      0.0       NaN\n",
       "1                                \"El Baron\"       NaN      NaN  0.170000\n",
       "2      \"El Soueidy Charbel\" ''السويدي شربل\" -0.220529      0.0  0.150556\n",
       "3                                         #       NaN      0.0  0.400000\n",
       "4                          #AceBreakingNews       NaN      0.0       NaN"
      ]
     },
     "execution_count": 58,
     "metadata": {},
     "output_type": "execute_result"
    }
   ],
   "source": [
    "pivot_table = df_row_to_col.pivot_table(index=['username'], columns='label', values='sentiment').reset_index()\n",
    "pivot_table.head()"
   ]
  },
  {
   "cell_type": "markdown",
   "metadata": {},
   "source": [
    "## Columns To Rows - melt(id_vars=[ ], var_name=' ', value_name=' ')\n",
    "- id_vars = Columns to keep\n",
    "- var_name = Name of the new variables column\n",
    "- value_name = Name of the new value column"
   ]
  },
  {
   "cell_type": "code",
   "execution_count": 59,
   "metadata": {},
   "outputs": [],
   "source": [
    "df_col_to_row = pivot_table.copy()"
   ]
  },
  {
   "cell_type": "code",
   "execution_count": 60,
   "metadata": {},
   "outputs": [
    {
     "data": {
      "text/html": [
       "<div>\n",
       "<style scoped>\n",
       "    .dataframe tbody tr th:only-of-type {\n",
       "        vertical-align: middle;\n",
       "    }\n",
       "\n",
       "    .dataframe tbody tr th {\n",
       "        vertical-align: top;\n",
       "    }\n",
       "\n",
       "    .dataframe thead th {\n",
       "        text-align: right;\n",
       "    }\n",
       "</style>\n",
       "<table border=\"1\" class=\"dataframe\">\n",
       "  <thead>\n",
       "    <tr style=\"text-align: right;\">\n",
       "      <th></th>\n",
       "      <th>username</th>\n",
       "      <th>label</th>\n",
       "      <th>sentiment</th>\n",
       "    </tr>\n",
       "  </thead>\n",
       "  <tbody>\n",
       "    <tr>\n",
       "      <th>0</th>\n",
       "      <td>!! its me !!</td>\n",
       "      <td>Negative</td>\n",
       "      <td>NaN</td>\n",
       "    </tr>\n",
       "    <tr>\n",
       "      <th>1</th>\n",
       "      <td>\"El Baron\"</td>\n",
       "      <td>Negative</td>\n",
       "      <td>NaN</td>\n",
       "    </tr>\n",
       "    <tr>\n",
       "      <th>2</th>\n",
       "      <td>\"El Soueidy Charbel\" ''السويدي شربل\"</td>\n",
       "      <td>Negative</td>\n",
       "      <td>-0.220529</td>\n",
       "    </tr>\n",
       "    <tr>\n",
       "      <th>3</th>\n",
       "      <td>#</td>\n",
       "      <td>Negative</td>\n",
       "      <td>NaN</td>\n",
       "    </tr>\n",
       "    <tr>\n",
       "      <th>4</th>\n",
       "      <td>#AceBreakingNews</td>\n",
       "      <td>Negative</td>\n",
       "      <td>NaN</td>\n",
       "    </tr>\n",
       "  </tbody>\n",
       "</table>\n",
       "</div>"
      ],
      "text/plain": [
       "                               username     label  sentiment\n",
       "0                          !! its me !!  Negative        NaN\n",
       "1                            \"El Baron\"  Negative        NaN\n",
       "2  \"El Soueidy Charbel\" ''السويدي شربل\"  Negative  -0.220529\n",
       "3                                     #  Negative        NaN\n",
       "4                      #AceBreakingNews  Negative        NaN"
      ]
     },
     "execution_count": 60,
     "metadata": {},
     "output_type": "execute_result"
    }
   ],
   "source": [
    "df_col_to_row.melt(id_vars='username', var_name=\"label\", value_name=\"sentiment\").head()"
   ]
  },
  {
   "cell_type": "markdown",
   "metadata": {},
   "source": [
    "## Splitting dataFrame column data - dataFrame.str.split()"
   ]
  },
  {
   "cell_type": "code",
   "execution_count": 61,
   "metadata": {},
   "outputs": [
    {
     "data": {
      "text/plain": [
       "0    2020-07-12\n",
       "1    2020-07-12\n",
       "2    2020-07-12\n",
       "3    2020-07-12\n",
       "4    2020-07-12\n",
       "Name: date, dtype: object"
      ]
     },
     "execution_count": 61,
     "metadata": {},
     "output_type": "execute_result"
    }
   ],
   "source": [
    "dataFrame.date.head()"
   ]
  },
  {
   "cell_type": "markdown",
   "metadata": {},
   "source": [
    "### Series"
   ]
  },
  {
   "cell_type": "code",
   "execution_count": 62,
   "metadata": {},
   "outputs": [
    {
     "data": {
      "text/plain": [
       "0    [2020, 07, 12]\n",
       "1    [2020, 07, 12]\n",
       "2    [2020, 07, 12]\n",
       "3    [2020, 07, 12]\n",
       "4    [2020, 07, 12]\n",
       "Name: date, dtype: object"
      ]
     },
     "execution_count": 62,
     "metadata": {},
     "output_type": "execute_result"
    }
   ],
   "source": [
    "splitted_data = dataFrame.date.str.split('-')\n",
    "splitted_data.head()"
   ]
  },
  {
   "cell_type": "markdown",
   "metadata": {},
   "source": [
    "### DataFrame - expand=True"
   ]
  },
  {
   "cell_type": "code",
   "execution_count": 63,
   "metadata": {},
   "outputs": [
    {
     "data": {
      "text/html": [
       "<div>\n",
       "<style scoped>\n",
       "    .dataframe tbody tr th:only-of-type {\n",
       "        vertical-align: middle;\n",
       "    }\n",
       "\n",
       "    .dataframe tbody tr th {\n",
       "        vertical-align: top;\n",
       "    }\n",
       "\n",
       "    .dataframe thead th {\n",
       "        text-align: right;\n",
       "    }\n",
       "</style>\n",
       "<table border=\"1\" class=\"dataframe\">\n",
       "  <thead>\n",
       "    <tr style=\"text-align: right;\">\n",
       "      <th></th>\n",
       "      <th>0</th>\n",
       "      <th>1</th>\n",
       "      <th>2</th>\n",
       "    </tr>\n",
       "  </thead>\n",
       "  <tbody>\n",
       "    <tr>\n",
       "      <th>0</th>\n",
       "      <td>2020</td>\n",
       "      <td>07</td>\n",
       "      <td>12</td>\n",
       "    </tr>\n",
       "    <tr>\n",
       "      <th>1</th>\n",
       "      <td>2020</td>\n",
       "      <td>07</td>\n",
       "      <td>12</td>\n",
       "    </tr>\n",
       "    <tr>\n",
       "      <th>2</th>\n",
       "      <td>2020</td>\n",
       "      <td>07</td>\n",
       "      <td>12</td>\n",
       "    </tr>\n",
       "    <tr>\n",
       "      <th>3</th>\n",
       "      <td>2020</td>\n",
       "      <td>07</td>\n",
       "      <td>12</td>\n",
       "    </tr>\n",
       "    <tr>\n",
       "      <th>4</th>\n",
       "      <td>2020</td>\n",
       "      <td>07</td>\n",
       "      <td>12</td>\n",
       "    </tr>\n",
       "  </tbody>\n",
       "</table>\n",
       "</div>"
      ],
      "text/plain": [
       "      0   1   2\n",
       "0  2020  07  12\n",
       "1  2020  07  12\n",
       "2  2020  07  12\n",
       "3  2020  07  12\n",
       "4  2020  07  12"
      ]
     },
     "execution_count": 63,
     "metadata": {},
     "output_type": "execute_result"
    }
   ],
   "source": [
    "splitted_data = dataFrame.date.str.split('-', expand=True)\n",
    "splitted_data.head()"
   ]
  },
  {
   "cell_type": "markdown",
   "metadata": {},
   "source": [
    "## Dropping a Column - doesn't change original DataFrame"
   ]
  },
  {
   "cell_type": "code",
   "execution_count": 64,
   "metadata": {},
   "outputs": [
    {
     "data": {
      "text/plain": [
       "Index(['date', 'text', 'tags', 'translated_text', 'sentiment', 'location',\n",
       "       'lat', 'long', 'sentiment_label', 'KADAA_ID', 'KADAA_AR', 'KADAA_EN',\n",
       "       'MOHAFAZA_ID', 'MOHAFAZA_AR', 'MOHAFAZA_EN'],\n",
       "      dtype='object')"
      ]
     },
     "execution_count": 64,
     "metadata": {},
     "output_type": "execute_result"
    }
   ],
   "source": [
    "df_after_drop = dataFrame.drop(columns=['username']) # or dataFrame.drop('username', axis='columns')\n",
    "df_after_drop.columns"
   ]
  },
  {
   "cell_type": "markdown",
   "metadata": {},
   "source": [
    "## Adding a Column"
   ]
  },
  {
   "cell_type": "code",
   "execution_count": 65,
   "metadata": {},
   "outputs": [
    {
     "data": {
      "text/plain": [
       "'sentiment_label'"
      ]
     },
     "execution_count": 65,
     "metadata": {},
     "output_type": "execute_result"
    }
   ],
   "source": [
    "dataFrame['sentiment_label'] = dataFrame.sentiment.apply(lambda s: 'Positive' if s > 0 else 'Neutral' if s == 0 else 'Negative')\n",
    "dataFrame.columns[9]"
   ]
  },
  {
   "cell_type": "markdown",
   "metadata": {},
   "source": [
    "# 6 - External Functions - apply()"
   ]
  },
  {
   "cell_type": "markdown",
   "metadata": {},
   "source": [
    "## Examples"
   ]
  },
  {
   "cell_type": "markdown",
   "metadata": {},
   "source": [
    "### 1. print_cols(col)\n",
    "- Prints all data for each column\n",
    "- col = dataFrame column"
   ]
  },
  {
   "cell_type": "code",
   "execution_count": 70,
   "metadata": {},
   "outputs": [
    {
     "name": "stdout",
     "output_type": "stream",
     "text": [
      "Data for Column [username]\n",
      "0                      Lebanon 24\n",
      "1                            Sana\n",
      "2                  Jaras Scoop FM\n",
      "3                  Lebanon Debate\n",
      "4        عاجل - قناة فلسطين اليوم\n",
      "                   ...           \n",
      "51678                lamsalebanon\n",
      "51679             cristinesalloum\n",
      "51680                alihashem_tv\n",
      "51681                 mariosemaan\n",
      "51682                    aklfahed\n",
      "Name: username, Length: 51683, dtype: object\n",
      "-----------\n",
      "\n",
      "Data for Column [date]\n",
      "0        2020-07-12\n",
      "1        2020-07-12\n",
      "2        2020-07-12\n",
      "3        2020-07-12\n",
      "4        2020-07-12\n",
      "            ...    \n",
      "51678    2020-01-08\n",
      "51679    2020-01-07\n",
      "51680    2020-01-04\n",
      "51681    2020-01-03\n",
      "51682    2020-01-01\n",
      "Name: date, Length: 51683, dtype: object\n",
      "-----------\n",
      "\n",
      "Data for Column [text]\n",
      "0        #كورونا يتلف رئة \"أبو عزرائيل\" (صورة) #العراق#...\n",
      "1        حضرة اساتذة القانون بالجامعة اللبنانية المحترم...\n",
      "2        كشفت \"رابطة طلاب الجامعة اللبنانية\" عبر تويتر ...\n",
      "3        حالة \"#كورونا\" جديدة في الجامعة اللبنانية - ال...\n",
      "4        #عاجلمدير مكتب إعلام الأسرى ناهد الفاخوري: حذر...\n",
      "                               ...                        \n",
      "51678    Take home message from #hcsmdxb19 :social medi...\n",
      "51679    A call for adoption\\nGender : Male Husky\\nAge ...\n",
      "51680    An official statement by the #PMU denied repor...\n",
      "51681                   W by3mlo medical treatment kamen 😁\n",
      "51682    Nice reflections on medical innovation in the ...\n",
      "Name: text, Length: 51683, dtype: object\n",
      "-----------\n",
      "\n",
      "Data for Column [tags]\n",
      "0                    #كورونا;#العراق;#lebanon24\n",
      "1                       #كورونا;#امتحانات_الموت\n",
      "2                                       #كورونا\n",
      "3                                       #كورونا\n",
      "4                                 #كورونا;#عاجل\n",
      "                          ...                  \n",
      "51678    #hcsmdxb19;#medtwitter;#bloggers;#some\n",
      "51679                                       NaN\n",
      "51680                                      #pmu\n",
      "51681                                       NaN\n",
      "51682                                       NaN\n",
      "Name: tags, Length: 51683, dtype: object\n",
      "-----------\n",
      "\n",
      "Data for Column [translated_text]\n",
      "0        Corona damages the lung of \"Abu Azrael\" (photo...\n",
      "1        Honorable professors of law at the Lebanese Un...\n",
      "2        The \"Lebanese University Students Association\"...\n",
      "3        New \"# Corona\" case at the Lebanese University...\n",
      "4        #UrgentThe director of the Prisoners' Informat...\n",
      "                               ...                        \n",
      "51678    Take home message from #hcsmdxb19 :social medi...\n",
      "51679    A call for adoption\\nGender : Male Husky\\nAge ...\n",
      "51680    An official statement by the #PMU denied repor...\n",
      "51681                   W by3mlo medical treatment kamen 😁\n",
      "51682    Nice reflections on medical innovation in the ...\n",
      "Name: translated_text, Length: 51683, dtype: object\n",
      "-----------\n",
      "\n"
     ]
    },
    {
     "data": {
      "text/plain": [
       "username           None\n",
       "date               None\n",
       "text               None\n",
       "tags               None\n",
       "translated_text    None\n",
       "sentiment          None\n",
       "location           None\n",
       "lat                None\n",
       "long               None\n",
       "sentiment_label    None\n",
       "KADAA_ID           None\n",
       "KADAA_AR           None\n",
       "KADAA_EN           None\n",
       "MOHAFAZA_ID        None\n",
       "MOHAFAZA_AR        None\n",
       "MOHAFAZA_EN        None\n",
       "dtype: object"
      ]
     },
     "execution_count": 70,
     "metadata": {},
     "output_type": "execute_result"
    }
   ],
   "source": [
    "count = 0\n",
    "\n",
    "def print_cols(col):\n",
    "    global count \n",
    "    \n",
    "    if count == 5:\n",
    "        return\n",
    "    \n",
    "    count += 1\n",
    "    \n",
    "    print('Data for Column [{}]'.format(col.name) )\n",
    "    print(col) # Series\n",
    "    print('-----------\\n')\n",
    "    \n",
    "dataFrame.apply(print_cols)"
   ]
  },
  {
   "cell_type": "markdown",
   "metadata": {},
   "source": [
    "### 2. print_rows(row, column_names=None)\n",
    "- prints all rows and all of their columns or specified columns\n",
    "- row = dataFrame row\n",
    "- columns_names = names of the column we want to show"
   ]
  },
  {
   "cell_type": "code",
   "execution_count": 71,
   "metadata": {
    "scrolled": false
   },
   "outputs": [
    {
     "name": "stdout",
     "output_type": "stream",
     "text": [
      "username    Lebanon 24\n",
      "date        2020-07-12\n",
      "Name: 0, dtype: object\n",
      "-----------\n",
      "\n",
      "username          Sana\n",
      "date        2020-07-12\n",
      "Name: 1, dtype: object\n",
      "-----------\n",
      "\n",
      "username    Jaras Scoop FM\n",
      "date            2020-07-12\n",
      "Name: 2, dtype: object\n",
      "-----------\n",
      "\n",
      "username    Lebanon Debate\n",
      "date            2020-07-12\n",
      "Name: 3, dtype: object\n",
      "-----------\n",
      "\n",
      "username    عاجل - قناة فلسطين اليوم\n",
      "date                      2020-07-12\n",
      "Name: 4, dtype: object\n",
      "-----------\n",
      "\n"
     ]
    },
    {
     "data": {
      "text/plain": [
       "0        None\n",
       "1        None\n",
       "2        None\n",
       "3        None\n",
       "4        None\n",
       "         ... \n",
       "51678    None\n",
       "51679    None\n",
       "51680    None\n",
       "51681    None\n",
       "51682    None\n",
       "Length: 51683, dtype: object"
      ]
     },
     "execution_count": 71,
     "metadata": {},
     "output_type": "execute_result"
    }
   ],
   "source": [
    "count = 0\n",
    "\n",
    "def print_rows(row, column_names=None):\n",
    "    global count\n",
    "    \n",
    "    if count == 5:\n",
    "        return\n",
    "    \n",
    "    count += 1\n",
    "    \n",
    "    if column_names:\n",
    "        print(row[column_names])\n",
    "    else:\n",
    "        print(row)\n",
    "    print('-----------\\n')\n",
    "    \n",
    "dataFrame.apply(print_rows, column_names=['username', 'date'], axis='columns')"
   ]
  },
  {
   "cell_type": "markdown",
   "metadata": {},
   "source": [
    "### 3. vectorized_print(x, y)\n",
    "- Vectorize the function so that it accepts lists of data and not just individual data\n",
    "- x = a dataFrame column value\n",
    "- y = another dataFrame column value"
   ]
  },
  {
   "cell_type": "code",
   "execution_count": 74,
   "metadata": {},
   "outputs": [
    {
     "name": "stdout",
     "output_type": "stream",
     "text": [
      "Lebanon 24  ==>  2020-07-12\n",
      "-----------\n",
      "Lebanon 24  ==>  2020-07-12\n",
      "-----------\n",
      "Sana  ==>  2020-07-12\n",
      "-----------\n",
      "Jaras Scoop FM  ==>  2020-07-12\n",
      "-----------\n",
      "Lebanon Debate  ==>  2020-07-12\n",
      "-----------\n"
     ]
    },
    {
     "data": {
      "text/plain": [
       "array([None, None, None, ..., None, None, None], dtype=object)"
      ]
     },
     "execution_count": 74,
     "metadata": {},
     "output_type": "execute_result"
    }
   ],
   "source": [
    "count = 0\n",
    "\n",
    "@np.vectorize    \n",
    "def vectorized_print(x, y):\n",
    "    global count\n",
    "    \n",
    "    if count == 5:\n",
    "        return\n",
    "    \n",
    "    count += 1\n",
    "    \n",
    "    print(x, ' ==> ', y)\n",
    "    print('-----------')\n",
    "    \n",
    "vectorized_print(dataFrame['username'], dataFrame['date'])"
   ]
  }
 ],
 "metadata": {
  "kernelspec": {
   "display_name": "Python 3",
   "language": "python",
   "name": "python3"
  },
  "language_info": {
   "codemirror_mode": {
    "name": "ipython",
    "version": 3
   },
   "file_extension": ".py",
   "mimetype": "text/x-python",
   "name": "python",
   "nbconvert_exporter": "python",
   "pygments_lexer": "ipython3",
   "version": "3.7.5"
  }
 },
 "nbformat": 4,
 "nbformat_minor": 2
}
