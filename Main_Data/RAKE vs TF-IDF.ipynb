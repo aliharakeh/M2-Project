{
 "cells": [
  {
   "cell_type": "markdown",
   "metadata": {},
   "source": [
    "# Pros of RAKE\n",
    "- This can be done context free per document\n",
    "- Can generate more complicated phrases that might be have more meaning than individual words.\n",
    "\n",
    "# Pros of TF-IDF\n",
    "- This is good for choosing actual keywords rather than phrases\n",
    "- Seems to be better at finding the words that are actually relevant (at least for my project) and getting rid of everyday speech fluff.\n",
    "- This might be a lot better for matching domain specific keywords because it doesn’t flag every day common words as being important.\n",
    "\n",
    "# Cons of RAKE\n",
    "- It doesn’t have the context of outside word usage so can’t tell as easily what is most important to this specific document\n",
    "- If you don’t have a comprehensive list of stop words the phrases can get quite long and less useful.\n",
    "- It ends up with a lot more filler words and adverbs which is not a good thing in my case but could be quite useful in some cases\n",
    "\n",
    "# Cons of TF-IDF\n",
    "- You need a lot of other documents and examples of text for this to even work\n",
    "- It’s not as good for finding multi-word phrases and matching up common co-occurrences"
   ]
  }
 ],
 "metadata": {
  "kernelspec": {
   "display_name": "Python 3",
   "language": "python",
   "name": "python3"
  },
  "language_info": {
   "codemirror_mode": {
    "name": "ipython",
    "version": 3
   },
   "file_extension": ".py",
   "mimetype": "text/x-python",
   "name": "python",
   "nbconvert_exporter": "python",
   "pygments_lexer": "ipython3",
   "version": "3.7.5"
  }
 },
 "nbformat": 4,
 "nbformat_minor": 4
}
