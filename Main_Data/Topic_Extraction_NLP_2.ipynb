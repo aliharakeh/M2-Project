{
 "cells": [
  {
   "cell_type": "code",
   "execution_count": 73,
   "metadata": {},
   "outputs": [],
   "source": [
    "import pandas as pd\n",
    "from sklearn.feature_extraction.text import TfidfVectorizer"
   ]
  },
  {
   "cell_type": "code",
   "execution_count": 74,
   "metadata": {},
   "outputs": [],
   "source": [
    "df = pd.read_csv('all.csv', header=0)"
   ]
  },
  {
   "cell_type": "code",
   "execution_count": 75,
   "metadata": {},
   "outputs": [],
   "source": [
    "stopwords = []"
   ]
  },
  {
   "cell_type": "code",
   "execution_count": 86,
   "metadata": {},
   "outputs": [],
   "source": [
    "def tf_idf(stopwords=None, start=0, end=1000, ngram=(1, 1), features_only=True):\n",
    "    tf_Idf = TfidfVectorizer(stop_words=stopwords, ngram_range=ngram)\n",
    "    tf_Idf_fit = tf_Idf.fit_transform(df.text.loc[start:end])\n",
    "    feature_names = tf_Idf.get_feature_names()\n",
    "    \n",
    "    print('Features Count: ', len(feature_names))\n",
    "        \n",
    "    if not features_only:\n",
    "        dense = tf_Idf_fit.todense()\n",
    "        denselist = dense.tolist()\n",
    "\n",
    "        tf_idf_table = pd.DataFrame(denselist, columns=feature_names)\n",
    "\n",
    "        tf_idf_result = pd.DataFrame()\n",
    "        tf_idf_result[['topic', 'score']] = tf_idf_table.mean().reset_index()\n",
    "        tf_idf_result = tf_idf_result.sort_values('score', ascending=False).reset_index(drop=True)"
   ]
  },
  {
   "cell_type": "code",
   "execution_count": 87,
   "metadata": {},
   "outputs": [
    {
     "name": "stdout",
     "output_type": "stream",
     "text": [
      "Features Count:  8736\n"
     ]
    }
   ],
   "source": [
    "tf_idf(features_only=False)"
   ]
  },
  {
   "cell_type": "code",
   "execution_count": 89,
   "metadata": {},
   "outputs": [],
   "source": [
    "wrods = tf_idf_result.topic # pd.Series(feature_names)"
   ]
  },
  {
   "cell_type": "code",
   "execution_count": 90,
   "metadata": {},
   "outputs": [
    {
     "data": {
      "text/plain": [
       "668"
      ]
     },
     "execution_count": 90,
     "metadata": {},
     "output_type": "execute_result"
    }
   ],
   "source": [
    "stopwords += list(words[words.str.len() == 2])\n",
    "\n",
    "def is_number(w):\n",
    "    try:\n",
    "        float(w) if '.' in w else int(w)\n",
    "        return True\n",
    "    except:\n",
    "        return False\n",
    "\n",
    "stopwords += list(words[words.apply(lambda w: is_number(w))])\n",
    "len(stopwords)"
   ]
  },
  {
   "cell_type": "code",
   "execution_count": 81,
   "metadata": {},
   "outputs": [
    {
     "ename": "SyntaxError",
     "evalue": "EOL while scanning string literal (<ipython-input-81-ed124454f9df>, line 1)",
     "output_type": "error",
     "traceback": [
      "\u001b[1;36m  File \u001b[1;32m\"<ipython-input-81-ed124454f9df>\"\u001b[1;36m, line \u001b[1;32m1\u001b[0m\n\u001b[1;33m    stopwords.append(\"0ds8d5xghvxjezkqsjehdd)\u001b[0m\n\u001b[1;37m                                             ^\u001b[0m\n\u001b[1;31mSyntaxError\u001b[0m\u001b[1;31m:\u001b[0m EOL while scanning string literal\n"
     ]
    }
   ],
   "source": [
    "stopwords.append(\"0ds8d5xghvxjezkqsjehdd\")"
   ]
  },
  {
   "cell_type": "code",
   "execution_count": 91,
   "metadata": {},
   "outputs": [
    {
     "name": "stdout",
     "output_type": "stream",
     "text": [
      "Features Count:  8166\n"
     ]
    },
    {
     "data": {
      "text/plain": [
       "0                           00\n",
       "1                          000\n",
       "2                           04\n",
       "3                           05\n",
       "4       0ds8d5xghvxjezkqsjehdd\n",
       "                 ...          \n",
       "8731                        ٩٣\n",
       "8732                        ٩٤\n",
       "8733                       ٩٥٤\n",
       "8734                       ٩٩٥\n",
       "8735                        番茄\n",
       "Length: 8736, dtype: object"
      ]
     },
     "execution_count": 91,
     "metadata": {},
     "output_type": "execute_result"
    }
   ],
   "source": [
    "tf_idf(stopwords=stopwords)\n",
    "words = pd.Series(feature_names)\n",
    "words"
   ]
  },
  {
   "cell_type": "code",
   "execution_count": null,
   "metadata": {},
   "outputs": [],
   "source": []
  }
 ],
 "metadata": {
  "kernelspec": {
   "display_name": "Python 3",
   "language": "python",
   "name": "python3"
  },
  "language_info": {
   "codemirror_mode": {
    "name": "ipython",
    "version": 3
   },
   "file_extension": ".py",
   "mimetype": "text/x-python",
   "name": "python",
   "nbconvert_exporter": "python",
   "pygments_lexer": "ipython3",
   "version": "3.7.5"
  }
 },
 "nbformat": 4,
 "nbformat_minor": 1
}
