{
 "cells": [
  {
   "cell_type": "markdown",
   "metadata": {},
   "source": [
    "# Imports"
   ]
  },
  {
   "cell_type": "code",
   "execution_count": 22,
   "metadata": {},
   "outputs": [],
   "source": [
    "import pandas as pd\n",
    "from sklearn.feature_extraction.text import TfidfVectorizer\n",
    "import re"
   ]
  },
  {
   "cell_type": "markdown",
   "metadata": {},
   "source": [
    "# Data"
   ]
  },
  {
   "cell_type": "code",
   "execution_count": 39,
   "metadata": {},
   "outputs": [],
   "source": [
    "df = pd.read_csv('all.csv', header=0)"
   ]
  },
  {
   "cell_type": "markdown",
   "metadata": {},
   "source": [
    "# Functions"
   ]
  },
  {
   "cell_type": "code",
   "execution_count": 89,
   "metadata": {},
   "outputs": [],
   "source": [
    "def tf_idf(data, stopwords=None, start=0, end=3000, ngram=(1, 1), features_only=True):\n",
    "    tf_Idf = TfidfVectorizer(stop_words=stopwords, ngram_range=ngram)\n",
    "    tf_Idf_fit = tf_Idf.fit_transform(data.loc[start:end])\n",
    "    feature_names = tf_Idf.get_feature_names()\n",
    "    \n",
    "    print('Features Count: ', len(feature_names))\n",
    "        \n",
    "    if not features_only:\n",
    "        dense = tf_Idf_fit.todense()\n",
    "        denselist = dense.tolist()\n",
    "\n",
    "        tf_idf_table = pd.DataFrame(denselist, columns=feature_names)\n",
    "\n",
    "        tf_idf_result = pd.DataFrame()\n",
    "        tf_idf_result[['topic', 'score']] = tf_idf_table.mean().reset_index()\n",
    "        tf_idf_result = tf_idf_result.sort_values('score', ascending=False).reset_index(drop=True)\n",
    "        return tf_idf_result\n",
    "    \n",
    "    return feature_names\n",
    "        \n",
    "numeric = re.compile(r'\\w*\\d+\\w*')\n",
    "def accepted_word(w):\n",
    "    return len(w) > 2 and re.search(numeric, w) is None\n",
    "\n",
    "def get_word_count_diff(a, b):\n",
    "    len_a = len(\" \".join(a).split())\n",
    "    len_b = len(\" \".join(b).split())\n",
    "    \n",
    "    print(f'a size is {len_a:,}')\n",
    "    print(f'b size is {len_b:,}')\n",
    "    \n",
    "    result = '<=' if len_a <= len_b else '>='\n",
    "    print(f'a {result} b by {abs(len_a - len_b):,} words')\n",
    "    \n",
    "\n",
    "def print_series(s):\n",
    "    for x in s:\n",
    "        print(x)"
   ]
  },
  {
   "cell_type": "markdown",
   "metadata": {},
   "source": [
    "# Filter Data"
   ]
  },
  {
   "cell_type": "code",
   "execution_count": 64,
   "metadata": {},
   "outputs": [],
   "source": [
    "data = df.text"
   ]
  },
  {
   "cell_type": "code",
   "execution_count": 72,
   "metadata": {},
   "outputs": [],
   "source": [
    "data_removed = data.apply(lambda s: \" \".join([w for w in s.split() if not accepted_word(w)]))\n",
    "stopwords = \" \".join(data_removed).split()"
   ]
  },
  {
   "cell_type": "code",
   "execution_count": 67,
   "metadata": {},
   "outputs": [
    {
     "name": "stdout",
     "output_type": "stream",
     "text": [
      "a size is 1,083,676\n",
      "b size is 214,561\n",
      "a >= b by 869,115 words\n"
     ]
    }
   ],
   "source": [
    "get_word_count_diff(data, data_removed)"
   ]
  },
  {
   "cell_type": "markdown",
   "metadata": {},
   "source": [
    "# Observe Results"
   ]
  },
  {
   "cell_type": "code",
   "execution_count": 98,
   "metadata": {},
   "outputs": [
    {
     "name": "stdout",
     "output_type": "stream",
     "text": [
      "Features Count:  53690\n"
     ]
    }
   ],
   "source": [
    "a = tf_idf(data, features_only=False, ngram=(3, 3)).topic.loc[:100]"
   ]
  },
  {
   "cell_type": "code",
   "execution_count": 99,
   "metadata": {},
   "outputs": [
    {
     "name": "stdout",
     "output_type": "stream",
     "text": [
      "جديدة بفيروس كورونا\n",
      "فيروس_كورونا في لبنان\n",
      "في لبنان ليرتفع\n",
      "لبنان ليرتفع عدد\n",
      "عدد هذه الإصابات\n",
      "هذه الإصابات إلى\n",
      "ليرتفع عدد هذه\n",
      "جديدة فيروس_كورونا في\n",
      "إصابة جديدة بفيروس\n",
      "إصابات جديدة فيروس_كورونا\n",
      "تسجيل إصابات جديدة\n",
      "كورونا في لبنان\n",
      "إصابة جديدة فيروس_كورونا\n",
      "وزارة_الصحة تسجيل إصابات\n",
      "اصابة جديدة بفيروس\n",
      "lebanondebate com news\n",
      "بفيروس كورونا في\n",
      "في زمن كورونا\n",
      "كورونا رفعت العدد\n",
      "بفيروس كورونا رفعت\n",
      "https instagram com\n",
      "twitter sharing thewall\n",
      "بين الوافدين ليرتفع\n",
      "leb2day in playstore\n",
      "for leb2day in\n",
      "search for leb2day\n",
      "الوافدين ليرتفع اجمالي\n",
      "ليرتفع اجمالي الإصابات\n",
      "بفيروس كورونا لبنان\n",
      "لا داعي للهلع\n",
      "كورونا لبنان الجرس\n",
      "http lebanondebate com\n",
      "إصابات جديدة بفيروس\n",
      "كورونا فيروس_كورونا لبنان\n",
      "خليك_بالبيت كورونا لبنان\n",
      "in playstore كورونا\n",
      "كورونا_فايروس مدينة_صور جنوب_لبنان\n",
      "كورونا كورونا_فايروس مدينة_صور\n",
      "كورونا لبنان خليك_بالبيت\n",
      "التقرير اليومي لفيروس\n",
      "كوفيد 19 التاريخ\n",
      "اليومي لفيروس كورونا\n",
      "2020 حركة_أمل كورونا_لبنان\n",
      "كورونا_لبنان خليك_بالبيت وطنك_بيتك\n",
      "خليك_بالبيت وطنك_بيتك كورونا\n",
      "لفيروس كورونا كوفيد\n",
      "كورونا كوفيد 19\n",
      "حركة_أمل كورونا_لبنان خليك_بالبيت\n",
      "المقيمين بين الوافدين\n",
      "بين المقيمين بين\n",
      "من فيروس كورونا\n",
      "بفيروس كورونا المستجد\n",
      "منظمة الصحة العالمية\n",
      "الإصابات بفيروس كورونا\n",
      "كورونا_لبنان كورونا خليك_بالبيت\n",
      "tayyar org news\n",
      "https tayyar org\n",
      "org news lebanon\n",
      "مدينة_صور جنوب_لبنان لبنانcredits\n",
      "بفيروس كورونا بين\n",
      "cases in lebanon\n",
      "وزارة الصحة اللبنانية\n",
      "تموز 2020 حركة_أمل\n",
      "covid19 كورونا لبنان\n",
      "في مواجهة كورونا\n",
      "كورونا بين المقيمين\n",
      "اجمالي الإصابات الى\n",
      "aljoumhouria com ar\n",
      "com ar news\n",
      "لبنان كيف توزعت\n",
      "مستشفى رفيق الحريري\n",
      "ما_تستهتر كورونا كورونا_فايروس\n",
      "d8 a7 d9\n",
      "وزارة الصحة تسجيل\n",
      "بفيروس كورونا الى\n",
      "the total number\n",
      "سنموت بعد قليل\n",
      "المصابين بفيروس كورونا\n",
      "فيروس_كورونا_المستجد في لبنان\n",
      "خليك_بالبيت ما_تستهتر كورونا\n",
      "مستجدات فيروس كورونا\n",
      "اصابات جديدة بفيروس\n",
      "لبنان جنوبية janoubia\n",
      "كورونا لبنان جنوبية\n",
      "إصابة بفيروس كورونا\n",
      "خلال 24 ساعة\n",
      "https aljoumhouria com\n",
      "كورونا لبنان كيف\n",
      "ليرتفع اجمالي الاصابات\n",
      "كورونا لبنان_الجديدhttps bit\n",
      "لبنان_الجديدhttps bit ly\n",
      "total number of\n",
      "آخر مستجدات فيروس\n",
      "coronavirus covid19 كورونا\n",
      "كورونا خليك_بالبيت لبنان\n",
      "اجمالي الاصابات الى\n",
      "جديدة فيروس_كورونا_المستجد في\n",
      "corona كورونا لبنان\n",
      "increasing the total\n",
      "كورونا لبنان كورونا\n",
      "لنقضي على كورونا\n"
     ]
    }
   ],
   "source": [
    "print_series(a)"
   ]
  },
  {
   "cell_type": "code",
   "execution_count": 100,
   "metadata": {},
   "outputs": [
    {
     "name": "stdout",
     "output_type": "stream",
     "text": [
      "Features Count:  45271\n"
     ]
    }
   ],
   "source": [
    "b = tf_idf(data, stopwords=stopwords, features_only=False, ngram=(3, 3)).topic.loc[:100]"
   ]
  },
  {
   "cell_type": "code",
   "execution_count": 101,
   "metadata": {},
   "outputs": [
    {
     "name": "stdout",
     "output_type": "stream",
     "text": [
      "لبنان ليرتفع عدد\n",
      "هذه الإصابات إلى\n",
      "عدد هذه الإصابات\n",
      "ليرتفع عدد هذه\n",
      "جديدة بفيروس كورونا\n",
      "جديدة فيروس_كورونا لبنان\n",
      "فيروس_كورونا لبنان ليرتفع\n",
      "تسجيل إصابة جديدة\n",
      "الإصابات إلى كورونا\n",
      "تسجيل إصابات جديدة\n",
      "وزارة_الصحة تسجيل إصابة\n",
      "وزارة_الصحة تسجيل إصابات\n",
      "إصابة جديدة بفيروس\n",
      "إصابة جديدة فيروس_كورونا\n",
      "إصابات جديدة فيروس_كورونا\n",
      "إلى كورونا خليك_بالبيت\n",
      "اصابة جديدة بفيروس\n",
      "بفيروس كورونا لبنان\n",
      "lebanondebate com news\n",
      "كورونا رفعت العدد\n",
      "بفيروس كورونا رفعت\n",
      "بفيروس كورونا بين\n",
      "كورونا بين المقيمين\n",
      "بين الوافدين ليرتفع\n",
      "بين المقيمين بين\n",
      "المقيمين بين الوافدين\n",
      "الوافدين ليرتفع اجمالي\n",
      "https instagram com\n",
      "for leb2day playstore\n",
      "search for leb2day\n",
      "ليرتفع اجمالي الإصابات\n",
      "إلى كورونا covidー19\n",
      "رفعت العدد كورونا\n",
      "twitter sharing thewall\n",
      "إصابات جديدة بفيروس\n",
      "العدد كورونا لبنان\n",
      "كورونا لبنان الجرس\n",
      "http lebanondebate com\n",
      "leb2day playstore كورونا\n",
      "كورونا فيروس_كورونا لبنان\n",
      "خليك_بالبيت كورونا لبنان\n",
      "كورونا_لبنان خليك_بالبيت وطنك_بيتك\n",
      "خليك_بالبيت وطنك_بيتك كورونا\n",
      "اليومي لفيروس كورونا\n",
      "لفيروس كورونا كوفيد\n",
      "كورونا كوفيد التاريخ\n",
      "التقرير اليومي لفيروس\n",
      "حركة_أمل كورونا_لبنان خليك_بالبيت\n",
      "بفيروس كورونا المستجد\n",
      "كورونا كورونا_فايروس مدينة_صور\n",
      "كورونا_فايروس مدينة_صور جنوب_لبنان\n",
      "كورونا لبنان خليك_بالبيت\n",
      "منظمة الصحة العالمية\n",
      "الإصابات بفيروس كورونا\n",
      "كورونا_لبنان كورونا خليك_بالبيت\n",
      "tayyar org news\n",
      "org news lebanon\n",
      "https tayyar org\n",
      "corona كورونا لبنان\n",
      "مدينة_صور جنوب_لبنان لبنانcredits\n",
      "the total number\n",
      "اجمالي الإصابات الى\n",
      "وزارة الصحة تسجيل\n",
      "الصحة إصابة جديدة\n",
      "وزارة الصحة اللبنانية\n",
      "وزارة الصحة إصابة\n",
      "تموز حركة_أمل كورونا_لبنان\n",
      "مستشفى رفيق الحريري\n",
      "d8 a7 d9\n",
      "ليرتفع اجمالي الاصابات\n",
      "لبنان كيف توزعت\n",
      "كورونا لبنان كيف\n",
      "بفيروس كورونا الى\n",
      "com ar news\n",
      "aljoumhouria com ar\n",
      "اصابات جديدة بفيروس\n",
      "فيروس_كورونا_المستجد لبنان ليرتفع\n",
      "جديدة فيروس_كورونا_المستجد لبنان\n",
      "ما_تستهتر كورونا كورونا_فايروس\n",
      "increasing the total\n",
      "المصابين بفيروس كورونا\n",
      "إصابة بفيروس كورونا\n",
      "مستجدات فيروس كورونا\n",
      "اجمالي الاصابات الى\n",
      "تسجل إصابة جديدة\n",
      "كورونا لبنان كورونا\n",
      "كورونا لبنان جنوبية\n",
      "لبنان جنوبية janoubia\n",
      "لبنان_الجديدhttps bit ly\n",
      "كورونا لبنان_الجديدhttps bit\n",
      "خليك_بالبيت ما_تستهتر كورونا\n",
      "https aljoumhouria com\n",
      "سنموت بعد قليل\n",
      "إلى وعدد الوفيات\n",
      "الوفيات إرتفع إلى\n",
      "الإصابات إلى وعدد\n",
      "وعدد الوفيات إرتفع\n",
      "آخر مستجدات فيروس\n",
      "coronavirus كورونا لبنان\n",
      "جديدة كورونا لبنان\n",
      "اجمالي الإصابات لبنان\n"
     ]
    }
   ],
   "source": [
    "print_series(b)"
   ]
  },
  {
   "cell_type": "code",
   "execution_count": null,
   "metadata": {},
   "outputs": [],
   "source": []
  }
 ],
 "metadata": {
  "kernelspec": {
   "display_name": "Python 3",
   "language": "python",
   "name": "python3"
  },
  "language_info": {
   "codemirror_mode": {
    "name": "ipython",
    "version": 3
   },
   "file_extension": ".py",
   "mimetype": "text/x-python",
   "name": "python",
   "nbconvert_exporter": "python",
   "pygments_lexer": "ipython3",
   "version": "3.7.5"
  }
 },
 "nbformat": 4,
 "nbformat_minor": 1
}
