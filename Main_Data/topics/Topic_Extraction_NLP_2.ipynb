{
 "cells": [
  {
   "cell_type": "markdown",
   "metadata": {},
   "source": [
    "# Imports"
   ]
  },
  {
   "cell_type": "code",
   "execution_count": 18,
   "metadata": {},
   "outputs": [],
   "source": [
    "import pandas as pd\n",
    "from sklearn.feature_extraction.text import TfidfVectorizer\n",
    "import re"
   ]
  },
  {
   "cell_type": "markdown",
   "metadata": {},
   "source": [
    "# Data"
   ]
  },
  {
   "cell_type": "code",
   "execution_count": 19,
   "metadata": {},
   "outputs": [],
   "source": [
    "df = pd.read_csv('../tweets.csv', header=0)"
   ]
  },
  {
   "cell_type": "markdown",
   "metadata": {},
   "source": [
    "# Functions"
   ]
  },
  {
   "cell_type": "code",
   "execution_count": 20,
   "metadata": {},
   "outputs": [],
   "source": [
    "def tf_idf(data, stopwords=None, max_features=1000, ngram=(1, 1), features_only=True):\n",
    "    tf_Idf = TfidfVectorizer(stop_words=stopwords, max_features=max_features, ngram_range=ngram)\n",
    "    tf_Idf_fit = tf_Idf.fit_transform(data)\n",
    "    feature_names = tf_Idf.get_feature_names()\n",
    "    \n",
    "    print('Features Count: ', len(feature_names))\n",
    "        \n",
    "    if not features_only:\n",
    "        dense = tf_Idf_fit.todense()\n",
    "        denselist = dense.tolist()\n",
    "\n",
    "        tf_idf_table = pd.DataFrame(denselist, columns=feature_names)\n",
    "\n",
    "        tf_idf_result = pd.DataFrame()\n",
    "        tf_idf_result[['topic', 'score']] = tf_idf_table.mean().reset_index()\n",
    "        tf_idf_result = tf_idf_result.sort_values('score', ascending=False).reset_index(drop=True)\n",
    "        return tf_idf_result\n",
    "    \n",
    "    return feature_names\n",
    "        \n",
    "numeric = re.compile(r'\\w*\\d+\\w*')\n",
    "def accepted_word(w):\n",
    "    return len(w) > 2 and re.search(numeric, w) is None\n",
    "\n",
    "def get_word_count_diff(a, b):\n",
    "    len_a = len(\" \".join(a).split())\n",
    "    len_b = len(\" \".join(b).split())\n",
    "    \n",
    "    print(f'a size is {len_a:,}')\n",
    "    print(f'b size is {len_b:,}')\n",
    "    \n",
    "    result = '<=' if len_a <= len_b else '>='\n",
    "    print(f'a {result} b by {abs(len_a - len_b):,} words')\n",
    "    \n",
    "\n",
    "def print_series(s):\n",
    "    for x in s:\n",
    "        print(x)"
   ]
  },
  {
   "cell_type": "markdown",
   "metadata": {},
   "source": [
    "# Filter Data"
   ]
  },
  {
   "cell_type": "code",
   "execution_count": 21,
   "metadata": {},
   "outputs": [],
   "source": [
    "data = df.text"
   ]
  },
  {
   "cell_type": "code",
   "execution_count": 22,
   "metadata": {},
   "outputs": [],
   "source": [
    "data_removed = data.apply(lambda s: \" \".join([w for w in s.split() if not accepted_word(w)]))\n",
    "stopwords = \" \".join(data_removed).split()"
   ]
  },
  {
   "cell_type": "code",
   "execution_count": 23,
   "metadata": {},
   "outputs": [
    {
     "name": "stdout",
     "output_type": "stream",
     "text": [
      "a size is 944,847\n",
      "b size is 185,412\n",
      "a >= b by 759,435 words\n"
     ]
    }
   ],
   "source": [
    "get_word_count_diff(data, data_removed)"
   ]
  },
  {
   "cell_type": "markdown",
   "metadata": {},
   "source": [
    "# Observe Results"
   ]
  },
  {
   "cell_type": "code",
   "execution_count": 24,
   "metadata": {},
   "outputs": [
    {
     "name": "stdout",
     "output_type": "stream",
     "text": [
      "Features Count:  1000\n"
     ]
    }
   ],
   "source": [
    "a = tf_idf(data, features_only=False, ngram=(2, 3)).topic.loc[:100]"
   ]
  },
  {
   "cell_type": "code",
   "execution_count": 25,
   "metadata": {},
   "outputs": [
    {
     "name": "stdout",
     "output_type": "stream",
     "text": [
      "كورونا لبنان\n",
      "twitter com\n",
      "pic twitter com\n",
      "pic twitter\n",
      "in lebanon\n",
      "https twitter\n",
      "https twitter com\n",
      "كورونا كورونا_لبنان\n",
      "كورونا_لبنان كورونا\n",
      "في لبنان\n",
      "خليك_بالبيت كورونا_لبنان\n",
      "فيروس كورونا\n",
      "كورونا_لبنان خليك_بالبيت\n",
      "بفيروس كورونا\n",
      "covid 19\n",
      "bit ly\n",
      "لبنان كورونا_لبنان\n",
      "http bit\n",
      "http bit ly\n",
      "لبنان كورونا\n",
      "من كورونا\n",
      "كورونا في\n",
      "in the\n",
      "of the\n",
      "وزارة الصحة\n",
      "medical center\n",
      "ما في\n",
      "فيروس_كورونا لبنان\n",
      "كورونا لبنان_ينتفض\n",
      "وزير الصحة\n",
      "https www\n",
      "medical marijuana\n",
      "كورونا_لبنان لبنان\n",
      "خليك_بالبيت كورونا\n",
      "to the\n",
      "كورونا pic\n",
      "كورونا pic twitter\n",
      "إصابة جديدة\n",
      "healthcare lebanon\n",
      "كورونا https\n",
      "في كورونا\n",
      "كورونا_لبنان pic\n",
      "كورونا_لبنان pic twitter\n",
      "كورونا خليك_بالبيت\n",
      "lebanon nh\n",
      "التعبئة العامة\n",
      "com news\n",
      "for medical\n",
      "for the\n",
      "لبنان_ينتفض كورونا_لبنان\n",
      "on the\n",
      "فايروس كورونا\n",
      "كورونا_الجديد كورونا_لبنان\n",
      "جديدة بفيروس\n",
      "جديدة بفيروس كورونا\n",
      "كورونا_لبنان covid_19\n",
      "وباء كورونا\n",
      "كورونا_لبنان لبنان_ينتفض\n",
      "lebanon pa\n",
      "lebanon http\n",
      "of medical\n",
      "dlvr it\n",
      "http dlvr\n",
      "http dlvr it\n",
      "covid_19 كورونا_لبنان\n",
      "كورونا_لبنان كورونا_الجديد\n",
      "كورونا في لبنان\n",
      "ما حدا\n",
      "في زمن\n",
      "حالة كورونا\n",
      "covidー19 كورونا_لبنان\n",
      "syrian refugees\n",
      "the medical\n",
      "corona virus\n",
      "الشعب اللبناني\n",
      "at the\n",
      "to be\n",
      "كل يوم\n",
      "في ظل\n",
      "يا رب\n",
      "كورونا فيروس_كورونا\n",
      "with the\n",
      "to lebanon\n",
      "will be\n",
      "كورونا_لبنان covidー19\n",
      "we are\n",
      "بسبب كورونا\n",
      "إصابات جديدة\n",
      "لبنان لبنان_ينتفض\n",
      "الحجر المنزلي\n",
      "خليك_بالبيت خليك_في_البيت\n",
      "instagram com\n",
      "من قبل\n",
      "كورونا_لبنان خليك_في_البيت\n",
      "the world\n",
      "beirut lebanon\n",
      "and the\n",
      "this is\n",
      "ما عم\n",
      "lebanon and\n",
      "refugees in\n"
     ]
    }
   ],
   "source": [
    "print_series(a)"
   ]
  },
  {
   "cell_type": "code",
   "execution_count": 26,
   "metadata": {},
   "outputs": [
    {
     "name": "stdout",
     "output_type": "stream",
     "text": [
      "Features Count:  1000\n"
     ]
    }
   ],
   "source": [
    "b = tf_idf(data, stopwords=stopwords, features_only=False, ngram=(2, 3)).topic.loc[:100]"
   ]
  },
  {
   "cell_type": "code",
   "execution_count": 27,
   "metadata": {},
   "outputs": [
    {
     "name": "stdout",
     "output_type": "stream",
     "text": [
      "كورونا لبنان\n",
      "twitter com\n",
      "pic twitter\n",
      "pic twitter com\n",
      "https twitter com\n",
      "https twitter\n",
      "كورونا كورونا_لبنان\n",
      "فيروس كورونا\n",
      "كورونا_لبنان كورونا\n",
      "خليك_بالبيت كورونا_لبنان\n",
      "كورونا_لبنان خليك_بالبيت\n",
      "بفيروس كورونا\n",
      "bit ly\n",
      "لبنان كورونا_لبنان\n",
      "http bit\n",
      "http bit ly\n",
      "لبنان كورونا\n",
      "lebanon http\n",
      "فيروس_كورونا لبنان\n",
      "medical center\n",
      "وزارة الصحة\n",
      "https www\n",
      "كورونا لبنان_ينتفض\n",
      "وزير الصحة\n",
      "healthcare lebanon\n",
      "medical marijuana\n",
      "خليك_بالبيت كورونا\n",
      "كورونا_لبنان لبنان\n",
      "كورونا pic\n",
      "كورونا pic twitter\n",
      "for the\n",
      "lebanon medical\n",
      "كورونا https\n",
      "إصابة جديدة\n",
      "http dlvr\n",
      "التعبئة العامة\n",
      "for medical\n",
      "فايروس كورونا\n",
      "لبنان_ينتفض كورونا_لبنان\n",
      "كورونا_لبنان pic twitter\n",
      "كورونا_لبنان pic\n",
      "كورونا خليك_بالبيت\n",
      "وباء كورونا\n",
      "كورونا_الجديد كورونا_لبنان\n",
      "كورونا_لبنان covid_19\n",
      "كورونا_لبنان لبنان_ينتفض\n",
      "the medical\n",
      "جديدة بفيروس\n",
      "com news\n",
      "جديدة بفيروس كورونا\n",
      "syrian refugees\n",
      "covid_19 كورونا_لبنان\n",
      "corona virus\n",
      "حالة كورونا\n",
      "with the\n",
      "الشعب اللبناني\n",
      "covidー19 كورونا_لبنان\n",
      "http fb\n",
      "lebanon and\n",
      "كورونا_لبنان كورونا_الجديد\n",
      "and the\n",
      "the world\n",
      "medical supplies\n",
      "بسبب كورونا\n",
      "lebanon https\n",
      "كورونا_لبنان covidー19\n",
      "lebanon http bit\n",
      "medical care\n",
      "instagram com\n",
      "كورونا فيروس_كورونا\n",
      "الحجر المنزلي\n",
      "beirut lebanon\n",
      "إصابات جديدة\n",
      "كورونا_لبنان خليك_في_البيت\n",
      "بعد كورونا\n",
      "كورونا https twitter\n",
      "حزب الله\n",
      "الحجر الصحي\n",
      "covid_19 كورونا\n",
      "كورونا_لبنان فيروس_كورونا\n",
      "refugees lebanon\n",
      "https youtu\n",
      "from the\n",
      "healthcare system\n",
      "لبنان لبنان_ينتفض\n",
      "فيروس_كورونا كورونا_لبنان\n",
      "كورونا_لبنان https\n",
      "medical cannabis\n",
      "خليك_بالبيت خليك_في_البيت\n",
      "كورونا covid_19\n",
      "لبنان خليك_بالبيت\n",
      "حالة وفاة\n",
      "thank you\n",
      "ow ly\n",
      "رفيق الحريري\n",
      "لبنان pic twitter\n",
      "لبنان pic\n",
      "corona كورونا\n",
      "lebanon healthcare\n",
      "lebanon medical center\n",
      "زمن كورونا\n"
     ]
    }
   ],
   "source": [
    "print_series(b)"
   ]
  },
  {
   "cell_type": "code",
   "execution_count": null,
   "metadata": {},
   "outputs": [],
   "source": []
  }
 ],
 "metadata": {
  "kernelspec": {
   "display_name": "Python 3",
   "language": "python",
   "name": "python3"
  },
  "language_info": {
   "codemirror_mode": {
    "name": "ipython",
    "version": 3
   },
   "file_extension": ".py",
   "mimetype": "text/x-python",
   "name": "python",
   "nbconvert_exporter": "python",
   "pygments_lexer": "ipython3",
   "version": "3.7.5"
  }
 },
 "nbformat": 4,
 "nbformat_minor": 1
}
