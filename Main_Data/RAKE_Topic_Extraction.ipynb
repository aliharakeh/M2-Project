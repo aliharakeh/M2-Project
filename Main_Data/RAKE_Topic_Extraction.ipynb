{
 "cells": [
  {
   "cell_type": "code",
   "execution_count": 1,
   "metadata": {},
   "outputs": [],
   "source": [
    "from rake_nltk import Rake"
   ]
  },
  {
   "cell_type": "code",
   "execution_count": 12,
   "metadata": {},
   "outputs": [],
   "source": [
    "r = Rake(min_length=1, max_length=3)  "
   ]
  },
  {
   "cell_type": "code",
   "execution_count": 13,
   "metadata": {},
   "outputs": [],
   "source": [
    "text = \"\"\"\n",
    "The Wandering Earth, described as China’s first big-budget science fiction thriller, quietly made it onto screens at AMC theaters in North America this weekend, and it shows a new side of Chinese filmmaking — one focused toward futuristic spectacles rather than China’s traditionally grand, massive historical epics. At the same time, The Wandering Earth feels like a throwback to a few familiar eras of American filmmaking. While the film’s cast, setting, and tone are all Chinese, longtime science fiction fans are going to see a lot on the screen that reminds them of other movies, for better or worse.\n",
    "\"\"\""
   ]
  },
  {
   "cell_type": "code",
   "execution_count": 14,
   "metadata": {},
   "outputs": [],
   "source": [
    "r.extract_keywords_from_text(text)"
   ]
  },
  {
   "cell_type": "code",
   "execution_count": 15,
   "metadata": {},
   "outputs": [],
   "source": [
    "data = r.get_ranked_phrases_with_scores()"
   ]
  },
  {
   "cell_type": "code",
   "execution_count": 16,
   "metadata": {},
   "outputs": [
    {
     "data": {
      "text/plain": [
       "[(9.0, 'massive historical epics'),\n",
       " (4.0, 'wandering earth'),\n",
       " (4.0, 'traditionally grand'),\n",
       " (4.0, 'quietly made'),\n",
       " (4.0, 'onto screens'),\n",
       " (4.0, 'north america'),\n",
       " (4.0, 'new side'),\n",
       " (4.0, 'first big'),\n",
       " (4.0, 'film ’'),\n",
       " (4.0, 'familiar eras'),\n",
       " (4.0, 'china ’'),\n",
       " (4.0, 'american filmmaking'),\n",
       " (4.0, 'amc theaters'),\n",
       " (1.0, 'worse'),\n",
       " (1.0, 'weekend'),\n",
       " (1.0, 'tone'),\n",
       " (1.0, 'time'),\n",
       " (1.0, 'throwback'),\n",
       " (1.0, 'shows'),\n",
       " (1.0, 'setting'),\n",
       " (1.0, 'see'),\n",
       " (1.0, 'screen'),\n",
       " (1.0, 'reminds'),\n",
       " (1.0, 'movies'),\n",
       " (1.0, 'lot'),\n",
       " (1.0, 'going'),\n",
       " (1.0, 'described'),\n",
       " (1.0, 'chinese'),\n",
       " (1.0, 'cast'),\n",
       " (1.0, 'better')]"
      ]
     },
     "execution_count": 16,
     "metadata": {},
     "output_type": "execute_result"
    }
   ],
   "source": [
    "data"
   ]
  },
  {
   "cell_type": "code",
   "execution_count": null,
   "metadata": {},
   "outputs": [],
   "source": []
  }
 ],
 "metadata": {
  "kernelspec": {
   "display_name": "Python 3",
   "language": "python",
   "name": "python3"
  },
  "language_info": {
   "codemirror_mode": {
    "name": "ipython",
    "version": 3
   },
   "file_extension": ".py",
   "mimetype": "text/x-python",
   "name": "python",
   "nbconvert_exporter": "python",
   "pygments_lexer": "ipython3",
   "version": "3.7.5"
  }
 },
 "nbformat": 4,
 "nbformat_minor": 4
}
