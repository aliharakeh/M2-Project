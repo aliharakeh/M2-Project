{
 "cells": [
  {
   "cell_type": "code",
   "execution_count": 77,
   "metadata": {},
   "outputs": [],
   "source": [
    "import pandas as pd"
   ]
  },
  {
   "cell_type": "code",
   "execution_count": null,
   "metadata": {},
   "outputs": [],
   "source": [
    "df = pd.read_csv('all.csv', header=0, encoding='utf-8')"
   ]
  },
  {
   "cell_type": "code",
   "execution_count": null,
   "metadata": {},
   "outputs": [],
   "source": [
    "df.head()"
   ]
  },
  {
   "cell_type": "code",
   "execution_count": null,
   "metadata": {},
   "outputs": [],
   "source": [
    "import json\n",
    "\n",
    "df['tag_type'] = df['tags'].apply(lambda x: 'list' if '[' in x else 'str')\n",
    "df['tag_type'].value_counts()"
   ]
  },
  {
   "cell_type": "code",
   "execution_count": null,
   "metadata": {},
   "outputs": [],
   "source": [
    "df[df['tag_type'] == 'list'].head()"
   ]
  },
  {
   "cell_type": "code",
   "execution_count": null,
   "metadata": {},
   "outputs": [],
   "source": [
    "df.loc[(df.tag_type == 'list'), 'tags'] = df.loc[(df.tag_type == 'list'), 'tags'].apply(lambda x: \";\".join(json.loads(x.replace('\\'', '\"'))))"
   ]
  },
  {
   "cell_type": "code",
   "execution_count": null,
   "metadata": {},
   "outputs": [],
   "source": [
    "df.loc[(df.tag_type == 'list'), 'tags']"
   ]
  },
  {
   "cell_type": "code",
   "execution_count": null,
   "metadata": {},
   "outputs": [],
   "source": [
    "df = df.drop(columns=['tag_type'])\n",
    "df.to_csv('all_v2.csv', index=False)"
   ]
  },
  {
   "cell_type": "code",
   "execution_count": null,
   "metadata": {},
   "outputs": [],
   "source": [
    "df = pd.read_csv('all_v2.csv', header=0, encoding='utf-8')"
   ]
  },
  {
   "cell_type": "code",
   "execution_count": null,
   "metadata": {},
   "outputs": [],
   "source": [
    "df.head()"
   ]
  },
  {
   "cell_type": "code",
   "execution_count": null,
   "metadata": {},
   "outputs": [],
   "source": [
    "freq = pd.Series((\" \".join(df.loc[df.tags.notnull(), 'tags'].str.replace(';', ' '))).split()).value_counts()\n",
    "freq.to_csv('freq.csv')"
   ]
  },
  {
   "cell_type": "code",
   "execution_count": null,
   "metadata": {},
   "outputs": [],
   "source": [
    "df.tags.apply(lambda x: 'str' if isinstance(x, str) else 'non_str').value_counts()"
   ]
  },
  {
   "cell_type": "code",
   "execution_count": null,
   "metadata": {},
   "outputs": [],
   "source": [
    "df.tags.isna()"
   ]
  },
  {
   "cell_type": "code",
   "execution_count": null,
   "metadata": {},
   "outputs": [],
   "source": [
    "freq = pd.read_csv('freq.csv', header=0)"
   ]
  },
  {
   "cell_type": "code",
   "execution_count": null,
   "metadata": {},
   "outputs": [],
   "source": [
    "freq.loc[:50,]"
   ]
  },
  {
   "cell_type": "code",
   "execution_count": null,
   "metadata": {},
   "outputs": [],
   "source": [
    "with open('freq.json', 'w', encoding='utf-8') as f:\n",
    "    freq.to_json(f, orient=\"index\", force_ascii=False, indent=2)"
   ]
  },
  {
   "cell_type": "code",
   "execution_count": null,
   "metadata": {},
   "outputs": [],
   "source": [
    "def get_freq(df):\n",
    "    return pd.Series((\" \".join(df.loc[df.tags.notnull(), 'tags'].str.replace(';', ' '))).split()).value_counts()[:50]\n",
    "\n",
    "grps = df.groupby(['KADAA_ID', 'KADAA_AR', 'KADAA_EN'])\n",
    "res = {}\n",
    "for name, group_df in grps:\n",
    "    _id, ar, en = name\n",
    "    res[int(_id)] = {\n",
    "        'KADAA_AR': ar,\n",
    "        'KADAA_EN': en,\n",
    "        'trending': list(get_freq(group_df).index)\n",
    "    }"
   ]
  },
  {
   "cell_type": "code",
   "execution_count": null,
   "metadata": {},
   "outputs": [],
   "source": [
    "import json\n",
    "with open('kaddaas_trending.json', 'w', encoding='utf-8') as f:\n",
    "    f.write(json.dumps(res, indent=2, ensure_ascii=False))"
   ]
  },
  {
   "cell_type": "code",
   "execution_count": null,
   "metadata": {},
   "outputs": [],
   "source": [
    "topics = df[['text', 'date', 'KADAA_ID', 'KADAA_AR', 'KADAA_EN', 'MOHAFAZA_ID', 'MOHAFAZA_AR', 'MOHAFAZA_EN']].copy()\n",
    "topics"
   ]
  },
  {
   "cell_type": "code",
   "execution_count": null,
   "metadata": {},
   "outputs": [],
   "source": [
    "def n_grams(s, n_range):\n",
    "    ngrams = []\n",
    "    words = s.split()\n",
    "    length = len(words)\n",
    "    for n in n_range:\n",
    "        for i in range(length):\n",
    "            if i + n <= length:\n",
    "                ngrams.append(\" \".join(words[i: i + n]))\n",
    "    return ngrams\n"
   ]
  },
  {
   "cell_type": "code",
   "execution_count": null,
   "metadata": {},
   "outputs": [],
   "source": [
    "s = topics['text'].apply(lambda x: n_grams(x, [2, 3])).apply(pd.Series, 1).stack()\n",
    "s.index = s.index.droplevel(-1) # to line up with df's index\n",
    "s.name = 'text' # needs a name to join\n",
    "del topics['text']\n",
    "topics = topics.join(s).reset_index()\n",
    "topics"
   ]
  },
  {
   "cell_type": "code",
   "execution_count": null,
   "metadata": {},
   "outputs": [],
   "source": [
    "topics = topics.drop(columns=['index'])\n",
    "topics.columns"
   ]
  },
  {
   "cell_type": "code",
   "execution_count": null,
   "metadata": {},
   "outputs": [],
   "source": [
    "topics"
   ]
  },
  {
   "cell_type": "code",
   "execution_count": null,
   "metadata": {},
   "outputs": [],
   "source": [
    "topics.to_csv('topics.csv', index=False)"
   ]
  },
  {
   "cell_type": "code",
   "execution_count": null,
   "metadata": {},
   "outputs": [],
   "source": [
    "topics.text.value_counts().reset_index()"
   ]
  },
  {
   "cell_type": "code",
   "execution_count": 79,
   "metadata": {},
   "outputs": [
    {
     "data": {
      "text/html": [
       "<div>\n",
       "<style scoped>\n",
       "    .dataframe tbody tr th:only-of-type {\n",
       "        vertical-align: middle;\n",
       "    }\n",
       "\n",
       "    .dataframe tbody tr th {\n",
       "        vertical-align: top;\n",
       "    }\n",
       "\n",
       "    .dataframe thead th {\n",
       "        text-align: right;\n",
       "    }\n",
       "</style>\n",
       "<table border=\"1\" class=\"dataframe\">\n",
       "  <thead>\n",
       "    <tr style=\"text-align: right;\">\n",
       "      <th></th>\n",
       "      <th>date</th>\n",
       "      <th>KADAA_ID</th>\n",
       "      <th>KADAA_AR</th>\n",
       "      <th>KADAA_EN</th>\n",
       "      <th>MOHAFAZA_ID</th>\n",
       "      <th>MOHAFAZA_AR</th>\n",
       "      <th>MOHAFAZA_EN</th>\n",
       "      <th>text</th>\n",
       "      <th>year</th>\n",
       "      <th>month</th>\n",
       "      <th>day</th>\n",
       "    </tr>\n",
       "  </thead>\n",
       "  <tbody>\n",
       "    <tr>\n",
       "      <th>0</th>\n",
       "      <td>2020-07-12</td>\n",
       "      <td>83000</td>\n",
       "      <td>صور</td>\n",
       "      <td>Sour</td>\n",
       "      <td>8</td>\n",
       "      <td>الجنوب</td>\n",
       "      <td>South</td>\n",
       "      <td>#كورونا يتلف</td>\n",
       "      <td>2020</td>\n",
       "      <td>7</td>\n",
       "      <td>12</td>\n",
       "    </tr>\n",
       "    <tr>\n",
       "      <th>1</th>\n",
       "      <td>2020-07-12</td>\n",
       "      <td>83000</td>\n",
       "      <td>صور</td>\n",
       "      <td>Sour</td>\n",
       "      <td>8</td>\n",
       "      <td>الجنوب</td>\n",
       "      <td>South</td>\n",
       "      <td>يتلف رئة</td>\n",
       "      <td>2020</td>\n",
       "      <td>7</td>\n",
       "      <td>12</td>\n",
       "    </tr>\n",
       "    <tr>\n",
       "      <th>2</th>\n",
       "      <td>2020-07-12</td>\n",
       "      <td>83000</td>\n",
       "      <td>صور</td>\n",
       "      <td>Sour</td>\n",
       "      <td>8</td>\n",
       "      <td>الجنوب</td>\n",
       "      <td>South</td>\n",
       "      <td>رئة \"أبو</td>\n",
       "      <td>2020</td>\n",
       "      <td>7</td>\n",
       "      <td>12</td>\n",
       "    </tr>\n",
       "    <tr>\n",
       "      <th>3</th>\n",
       "      <td>2020-07-12</td>\n",
       "      <td>83000</td>\n",
       "      <td>صور</td>\n",
       "      <td>Sour</td>\n",
       "      <td>8</td>\n",
       "      <td>الجنوب</td>\n",
       "      <td>South</td>\n",
       "      <td>\"أبو عزرائيل\"</td>\n",
       "      <td>2020</td>\n",
       "      <td>7</td>\n",
       "      <td>12</td>\n",
       "    </tr>\n",
       "    <tr>\n",
       "      <th>4</th>\n",
       "      <td>2020-07-12</td>\n",
       "      <td>83000</td>\n",
       "      <td>صور</td>\n",
       "      <td>Sour</td>\n",
       "      <td>8</td>\n",
       "      <td>الجنوب</td>\n",
       "      <td>South</td>\n",
       "      <td>عزرائيل\" (صورة)</td>\n",
       "      <td>2020</td>\n",
       "      <td>7</td>\n",
       "      <td>12</td>\n",
       "    </tr>\n",
       "    <tr>\n",
       "      <th>...</th>\n",
       "      <td>...</td>\n",
       "      <td>...</td>\n",
       "      <td>...</td>\n",
       "      <td>...</td>\n",
       "      <td>...</td>\n",
       "      <td>...</td>\n",
       "      <td>...</td>\n",
       "      <td>...</td>\n",
       "      <td>...</td>\n",
       "      <td>...</td>\n",
       "      <td>...</td>\n",
       "    </tr>\n",
       "    <tr>\n",
       "      <th>2013306</th>\n",
       "      <td>2020-01-01</td>\n",
       "      <td>41000</td>\n",
       "      <td>زحلة</td>\n",
       "      <td>Zahle</td>\n",
       "      <td>4</td>\n",
       "      <td>البقاع</td>\n",
       "      <td>Bekaa</td>\n",
       "      <td>upcoming transformation of</td>\n",
       "      <td>2020</td>\n",
       "      <td>1</td>\n",
       "      <td>1</td>\n",
       "    </tr>\n",
       "    <tr>\n",
       "      <th>2013307</th>\n",
       "      <td>2020-01-01</td>\n",
       "      <td>41000</td>\n",
       "      <td>زحلة</td>\n",
       "      <td>Zahle</td>\n",
       "      <td>4</td>\n",
       "      <td>البقاع</td>\n",
       "      <td>Bekaa</td>\n",
       "      <td>transformation of the</td>\n",
       "      <td>2020</td>\n",
       "      <td>1</td>\n",
       "      <td>1</td>\n",
       "    </tr>\n",
       "    <tr>\n",
       "      <th>2013308</th>\n",
       "      <td>2020-01-01</td>\n",
       "      <td>41000</td>\n",
       "      <td>زحلة</td>\n",
       "      <td>Zahle</td>\n",
       "      <td>4</td>\n",
       "      <td>البقاع</td>\n",
       "      <td>Bekaa</td>\n",
       "      <td>of the 20s!</td>\n",
       "      <td>2020</td>\n",
       "      <td>1</td>\n",
       "      <td>1</td>\n",
       "    </tr>\n",
       "    <tr>\n",
       "      <th>2013309</th>\n",
       "      <td>2020-01-01</td>\n",
       "      <td>41000</td>\n",
       "      <td>زحلة</td>\n",
       "      <td>Zahle</td>\n",
       "      <td>4</td>\n",
       "      <td>البقاع</td>\n",
       "      <td>Bekaa</td>\n",
       "      <td>the 20s! https://twitter.com/SeanShirvaniMD/st...</td>\n",
       "      <td>2020</td>\n",
       "      <td>1</td>\n",
       "      <td>1</td>\n",
       "    </tr>\n",
       "    <tr>\n",
       "      <th>2013310</th>\n",
       "      <td>2020-01-01</td>\n",
       "      <td>41000</td>\n",
       "      <td>زحلة</td>\n",
       "      <td>Zahle</td>\n",
       "      <td>4</td>\n",
       "      <td>البقاع</td>\n",
       "      <td>Bekaa</td>\n",
       "      <td>20s! https://twitter.com/SeanShirvaniMD/status...</td>\n",
       "      <td>2020</td>\n",
       "      <td>1</td>\n",
       "      <td>1</td>\n",
       "    </tr>\n",
       "  </tbody>\n",
       "</table>\n",
       "<p>2013311 rows × 11 columns</p>\n",
       "</div>"
      ],
      "text/plain": [
       "               date  KADAA_ID KADAA_AR KADAA_EN  MOHAFAZA_ID MOHAFAZA_AR  \\\n",
       "0        2020-07-12     83000      صور     Sour            8      الجنوب   \n",
       "1        2020-07-12     83000      صور     Sour            8      الجنوب   \n",
       "2        2020-07-12     83000      صور     Sour            8      الجنوب   \n",
       "3        2020-07-12     83000      صور     Sour            8      الجنوب   \n",
       "4        2020-07-12     83000      صور     Sour            8      الجنوب   \n",
       "...             ...       ...      ...      ...          ...         ...   \n",
       "2013306  2020-01-01     41000     زحلة    Zahle            4      البقاع   \n",
       "2013307  2020-01-01     41000     زحلة    Zahle            4      البقاع   \n",
       "2013308  2020-01-01     41000     زحلة    Zahle            4      البقاع   \n",
       "2013309  2020-01-01     41000     زحلة    Zahle            4      البقاع   \n",
       "2013310  2020-01-01     41000     زحلة    Zahle            4      البقاع   \n",
       "\n",
       "        MOHAFAZA_EN                                               text  year  \\\n",
       "0             South                                       #كورونا يتلف  2020   \n",
       "1             South                                           يتلف رئة  2020   \n",
       "2             South                                           رئة \"أبو  2020   \n",
       "3             South                                      \"أبو عزرائيل\"  2020   \n",
       "4             South                                    عزرائيل\" (صورة)  2020   \n",
       "...             ...                                                ...   ...   \n",
       "2013306       Bekaa                         upcoming transformation of  2020   \n",
       "2013307       Bekaa                              transformation of the  2020   \n",
       "2013308       Bekaa                                        of the 20s!  2020   \n",
       "2013309       Bekaa  the 20s! https://twitter.com/SeanShirvaniMD/st...  2020   \n",
       "2013310       Bekaa  20s! https://twitter.com/SeanShirvaniMD/status...  2020   \n",
       "\n",
       "         month  day  \n",
       "0            7   12  \n",
       "1            7   12  \n",
       "2            7   12  \n",
       "3            7   12  \n",
       "4            7   12  \n",
       "...        ...  ...  \n",
       "2013306      1    1  \n",
       "2013307      1    1  \n",
       "2013308      1    1  \n",
       "2013309      1    1  \n",
       "2013310      1    1  \n",
       "\n",
       "[2013311 rows x 11 columns]"
      ]
     },
     "execution_count": 79,
     "metadata": {},
     "output_type": "execute_result"
    }
   ],
   "source": [
    "topics = pd.read_csv('topics.csv', header=0)\n",
    "# topics[['year', 'month', 'day']] = topics['date'].str.split('-', expand=True)\n",
    "topics"
   ]
  },
  {
   "cell_type": "code",
   "execution_count": null,
   "metadata": {},
   "outputs": [],
   "source": [
    "topics.to_csv('topics.csv', index=False)"
   ]
  },
  {
   "cell_type": "code",
   "execution_count": 93,
   "metadata": {},
   "outputs": [],
   "source": [
    "import json\n",
    "res = {}\n",
    "grp = topics.groupby(['year', 'month', 'KADAA_ID', 'KADAA_AR', 'KADAA_EN'])\n",
    "for name, group in grp:\n",
    "    df = group.reset_index().drop(columns=['index'])\n",
    "    y,  m, _id, ar, en = name\n",
    "    key = str(y) + '_' + str(m) + '_' + str(_id) + '_' + str(ar) + '_' + str(en)\n",
    "    res[key] = list(df.text.value_counts()[:50].index)\n",
    "\n",
    "with open('kadaas_topics.json', 'w', encoding='utf-8') as f:\n",
    "    f.write(json.dumps(res, indent=2, ensure_ascii=False))"
   ]
  },
  {
   "cell_type": "code",
   "execution_count": null,
   "metadata": {},
   "outputs": [],
   "source": []
  }
 ],
 "metadata": {
  "kernelspec": {
   "display_name": "Python 3",
   "language": "python",
   "name": "python3"
  },
  "language_info": {
   "codemirror_mode": {
    "name": "ipython",
    "version": 3
   },
   "file_extension": ".py",
   "mimetype": "text/x-python",
   "name": "python",
   "nbconvert_exporter": "python",
   "pygments_lexer": "ipython3",
   "version": "3.7.5"
  }
 },
 "nbformat": 4,
 "nbformat_minor": 4
}
